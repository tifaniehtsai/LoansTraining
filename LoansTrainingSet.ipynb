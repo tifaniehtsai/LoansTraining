{
 "cells": [
  {
   "cell_type": "markdown",
   "metadata": {},
   "source": [
    "# Basic Information"
   ]
  },
  {
   "cell_type": "code",
   "execution_count": 19,
   "metadata": {},
   "outputs": [],
   "source": [
    "#modules\n",
    "import pandas as pd\n",
    "import numpy as np\n",
    "import datetime as dt\n",
    "import itertools\n",
    "\n",
    "#plotting\n",
    "import seaborn as sns\n",
    "import matplotlib.pyplot as plt\n",
    "\n",
    "#encoding\n",
    "import category_encoders as ce\n",
    "\n",
    "#transforming\n",
    "from scipy import stats\n",
    "from scipy.stats import boxcox, skew\n",
    "from scipy.special import inv_boxcox\n",
    "\n",
    "#scaling\n",
    "from sklearn.preprocessing import StandardScaler, MaxAbsScaler, RobustScaler, MinMaxScaler, Normalizer\n",
    "\n",
    "#train and test\n",
    "from sklearn.model_selection import train_test_split\n",
    "from sklearn import linear_model\n",
    "from sklearn.metrics import mean_squared_error, r2_score"
   ]
  },
  {
   "cell_type": "code",
   "execution_count": 20,
   "metadata": {},
   "outputs": [],
   "source": [
    "df = pd.read_csv(r'D:\\Vscode\\Module 1\\Data\\LoansTrainingSet.csv', low_memory=False)"
   ]
  },
  {
   "cell_type": "markdown",
   "metadata": {},
   "source": [
    "# EDA"
   ]
  },
  {
   "cell_type": "code",
   "execution_count": 21,
   "metadata": {},
   "outputs": [
    {
     "name": "stdout",
     "output_type": "stream",
     "text": [
      "<class 'pandas.core.frame.DataFrame'>\n",
      "RangeIndex: 256984 entries, 0 to 256983\n",
      "Data columns (total 19 columns):\n",
      " #   Column                        Non-Null Count   Dtype  \n",
      "---  ------                        --------------   -----  \n",
      " 0   Loan ID                       256984 non-null  object \n",
      " 1   Customer ID                   256984 non-null  object \n",
      " 2   Loan Status                   256984 non-null  object \n",
      " 3   Current Loan Amount           256984 non-null  int64  \n",
      " 4   Term                          256984 non-null  object \n",
      " 5   Credit Score                  195308 non-null  float64\n",
      " 6   Years in current job          245508 non-null  object \n",
      " 7   Home Ownership                256984 non-null  object \n",
      " 8   Annual Income                 195308 non-null  float64\n",
      " 9   Purpose                       256984 non-null  object \n",
      " 10  Monthly Debt                  256984 non-null  object \n",
      " 11  Years of Credit History       256984 non-null  float64\n",
      " 12  Months since last delinquent  116601 non-null  float64\n",
      " 13  Number of Open Accounts       256984 non-null  int64  \n",
      " 14  Number of Credit Problems     256984 non-null  int64  \n",
      " 15  Current Credit Balance        256984 non-null  int64  \n",
      " 16  Maximum Open Credit           256984 non-null  object \n",
      " 17  Bankruptcies                  256455 non-null  float64\n",
      " 18  Tax Liens                     256961 non-null  float64\n",
      "dtypes: float64(6), int64(4), object(9)\n",
      "memory usage: 37.3+ MB\n"
     ]
    }
   ],
   "source": [
    "df.info()"
   ]
  },
  {
   "cell_type": "code",
   "execution_count": 22,
   "metadata": {},
   "outputs": [
    {
     "data": {
      "text/plain": [
       "Loan ID                              0\n",
       "Customer ID                          0\n",
       "Loan Status                          0\n",
       "Current Loan Amount                  0\n",
       "Term                                 0\n",
       "Credit Score                     61676\n",
       "Years in current job             11476\n",
       "Home Ownership                       0\n",
       "Annual Income                    61676\n",
       "Purpose                              0\n",
       "Monthly Debt                         0\n",
       "Years of Credit History              0\n",
       "Months since last delinquent    140383\n",
       "Number of Open Accounts              0\n",
       "Number of Credit Problems            0\n",
       "Current Credit Balance               0\n",
       "Maximum Open Credit                  0\n",
       "Bankruptcies                       529\n",
       "Tax Liens                           23\n",
       "dtype: int64"
      ]
     },
     "execution_count": 22,
     "metadata": {},
     "output_type": "execute_result"
    }
   ],
   "source": [
    "df.isnull().sum()\n",
    "# Credit Score and Annual Income have same number of nulls"
   ]
  },
  {
   "cell_type": "code",
   "execution_count": 23,
   "metadata": {},
   "outputs": [
    {
     "data": {
      "text/html": [
       "<div>\n",
       "<style scoped>\n",
       "    .dataframe tbody tr th:only-of-type {\n",
       "        vertical-align: middle;\n",
       "    }\n",
       "\n",
       "    .dataframe tbody tr th {\n",
       "        vertical-align: top;\n",
       "    }\n",
       "\n",
       "    .dataframe thead th {\n",
       "        text-align: right;\n",
       "    }\n",
       "</style>\n",
       "<table border=\"1\" class=\"dataframe\">\n",
       "  <thead>\n",
       "    <tr style=\"text-align: right;\">\n",
       "      <th></th>\n",
       "      <th>Loan ID</th>\n",
       "      <th>Customer ID</th>\n",
       "      <th>Loan Status</th>\n",
       "      <th>Current Loan Amount</th>\n",
       "      <th>Term</th>\n",
       "      <th>Credit Score</th>\n",
       "      <th>Years in current job</th>\n",
       "      <th>Home Ownership</th>\n",
       "      <th>Annual Income</th>\n",
       "      <th>Purpose</th>\n",
       "      <th>Monthly Debt</th>\n",
       "      <th>Years of Credit History</th>\n",
       "      <th>Months since last delinquent</th>\n",
       "      <th>Number of Open Accounts</th>\n",
       "      <th>Number of Credit Problems</th>\n",
       "      <th>Current Credit Balance</th>\n",
       "      <th>Maximum Open Credit</th>\n",
       "      <th>Bankruptcies</th>\n",
       "      <th>Tax Liens</th>\n",
       "    </tr>\n",
       "  </thead>\n",
       "  <tbody>\n",
       "    <tr>\n",
       "      <th>0</th>\n",
       "      <td>000025bb-5694-4cff-b17d-192b1a98ba44</td>\n",
       "      <td>5ebc8bb1-5eb9-4404-b11b-a6eebc401a19</td>\n",
       "      <td>Fully Paid</td>\n",
       "      <td>11520</td>\n",
       "      <td>Short Term</td>\n",
       "      <td>741.0</td>\n",
       "      <td>10+ years</td>\n",
       "      <td>Home Mortgage</td>\n",
       "      <td>33694.0</td>\n",
       "      <td>Debt Consolidation</td>\n",
       "      <td>$584.03</td>\n",
       "      <td>12.3</td>\n",
       "      <td>41.0</td>\n",
       "      <td>10</td>\n",
       "      <td>0</td>\n",
       "      <td>6760</td>\n",
       "      <td>16056</td>\n",
       "      <td>0.0</td>\n",
       "      <td>0.0</td>\n",
       "    </tr>\n",
       "    <tr>\n",
       "      <th>1</th>\n",
       "      <td>00002c49-3a29-4bd4-8f67-c8f8fbc1048c</td>\n",
       "      <td>927b388d-2e01-423f-a8dc-f7e42d668f46</td>\n",
       "      <td>Fully Paid</td>\n",
       "      <td>3441</td>\n",
       "      <td>Short Term</td>\n",
       "      <td>734.0</td>\n",
       "      <td>4 years</td>\n",
       "      <td>Home Mortgage</td>\n",
       "      <td>42269.0</td>\n",
       "      <td>other</td>\n",
       "      <td>$1,106.04</td>\n",
       "      <td>26.3</td>\n",
       "      <td>NaN</td>\n",
       "      <td>17</td>\n",
       "      <td>0</td>\n",
       "      <td>6262</td>\n",
       "      <td>19149</td>\n",
       "      <td>0.0</td>\n",
       "      <td>0.0</td>\n",
       "    </tr>\n",
       "    <tr>\n",
       "      <th>2</th>\n",
       "      <td>00002d89-27f3-409b-aa76-90834f359a65</td>\n",
       "      <td>defce609-c631-447d-aad6-1270615e89c4</td>\n",
       "      <td>Fully Paid</td>\n",
       "      <td>21029</td>\n",
       "      <td>Short Term</td>\n",
       "      <td>747.0</td>\n",
       "      <td>10+ years</td>\n",
       "      <td>Home Mortgage</td>\n",
       "      <td>90126.0</td>\n",
       "      <td>Debt Consolidation</td>\n",
       "      <td>$1,321.85</td>\n",
       "      <td>28.8</td>\n",
       "      <td>NaN</td>\n",
       "      <td>5</td>\n",
       "      <td>0</td>\n",
       "      <td>20967</td>\n",
       "      <td>28335</td>\n",
       "      <td>0.0</td>\n",
       "      <td>0.0</td>\n",
       "    </tr>\n",
       "    <tr>\n",
       "      <th>3</th>\n",
       "      <td>00005222-b4d8-45a4-ad8c-186057e24233</td>\n",
       "      <td>070bcecb-aae7-4485-a26a-e0403e7bb6c5</td>\n",
       "      <td>Fully Paid</td>\n",
       "      <td>18743</td>\n",
       "      <td>Short Term</td>\n",
       "      <td>747.0</td>\n",
       "      <td>10+ years</td>\n",
       "      <td>Own Home</td>\n",
       "      <td>38072.0</td>\n",
       "      <td>Debt Consolidation</td>\n",
       "      <td>$751.92</td>\n",
       "      <td>26.2</td>\n",
       "      <td>NaN</td>\n",
       "      <td>9</td>\n",
       "      <td>0</td>\n",
       "      <td>22529</td>\n",
       "      <td>43915</td>\n",
       "      <td>0.0</td>\n",
       "      <td>0.0</td>\n",
       "    </tr>\n",
       "    <tr>\n",
       "      <th>4</th>\n",
       "      <td>0000757f-a121-41ed-b17b-162e76647c1f</td>\n",
       "      <td>dde79588-12f0-4811-bab0-e2b07f633fcd</td>\n",
       "      <td>Fully Paid</td>\n",
       "      <td>11731</td>\n",
       "      <td>Short Term</td>\n",
       "      <td>746.0</td>\n",
       "      <td>4 years</td>\n",
       "      <td>Rent</td>\n",
       "      <td>50025.0</td>\n",
       "      <td>Debt Consolidation</td>\n",
       "      <td>$355.18</td>\n",
       "      <td>11.5</td>\n",
       "      <td>NaN</td>\n",
       "      <td>12</td>\n",
       "      <td>0</td>\n",
       "      <td>17391</td>\n",
       "      <td>37081</td>\n",
       "      <td>0.0</td>\n",
       "      <td>0.0</td>\n",
       "    </tr>\n",
       "  </tbody>\n",
       "</table>\n",
       "</div>"
      ],
      "text/plain": [
       "                                Loan ID                           Customer ID  \\\n",
       "0  000025bb-5694-4cff-b17d-192b1a98ba44  5ebc8bb1-5eb9-4404-b11b-a6eebc401a19   \n",
       "1  00002c49-3a29-4bd4-8f67-c8f8fbc1048c  927b388d-2e01-423f-a8dc-f7e42d668f46   \n",
       "2  00002d89-27f3-409b-aa76-90834f359a65  defce609-c631-447d-aad6-1270615e89c4   \n",
       "3  00005222-b4d8-45a4-ad8c-186057e24233  070bcecb-aae7-4485-a26a-e0403e7bb6c5   \n",
       "4  0000757f-a121-41ed-b17b-162e76647c1f  dde79588-12f0-4811-bab0-e2b07f633fcd   \n",
       "\n",
       "  Loan Status  Current Loan Amount        Term  Credit Score  \\\n",
       "0  Fully Paid                11520  Short Term         741.0   \n",
       "1  Fully Paid                 3441  Short Term         734.0   \n",
       "2  Fully Paid                21029  Short Term         747.0   \n",
       "3  Fully Paid                18743  Short Term         747.0   \n",
       "4  Fully Paid                11731  Short Term         746.0   \n",
       "\n",
       "  Years in current job Home Ownership  Annual Income             Purpose  \\\n",
       "0            10+ years  Home Mortgage        33694.0  Debt Consolidation   \n",
       "1              4 years  Home Mortgage        42269.0               other   \n",
       "2            10+ years  Home Mortgage        90126.0  Debt Consolidation   \n",
       "3            10+ years       Own Home        38072.0  Debt Consolidation   \n",
       "4              4 years           Rent        50025.0  Debt Consolidation   \n",
       "\n",
       "  Monthly Debt  Years of Credit History  Months since last delinquent  \\\n",
       "0      $584.03                     12.3                          41.0   \n",
       "1   $1,106.04                      26.3                           NaN   \n",
       "2   $1,321.85                      28.8                           NaN   \n",
       "3      $751.92                     26.2                           NaN   \n",
       "4      $355.18                     11.5                           NaN   \n",
       "\n",
       "   Number of Open Accounts  Number of Credit Problems  Current Credit Balance  \\\n",
       "0                       10                          0                    6760   \n",
       "1                       17                          0                    6262   \n",
       "2                        5                          0                   20967   \n",
       "3                        9                          0                   22529   \n",
       "4                       12                          0                   17391   \n",
       "\n",
       "  Maximum Open Credit  Bankruptcies  Tax Liens  \n",
       "0               16056           0.0        0.0  \n",
       "1               19149           0.0        0.0  \n",
       "2               28335           0.0        0.0  \n",
       "3               43915           0.0        0.0  \n",
       "4               37081           0.0        0.0  "
      ]
     },
     "execution_count": 23,
     "metadata": {},
     "output_type": "execute_result"
    }
   ],
   "source": [
    "df.head(5)"
   ]
  },
  {
   "cell_type": "code",
   "execution_count": 24,
   "metadata": {},
   "outputs": [
    {
     "data": {
      "text/plain": [
       "Loan ID\n",
       "3f6bd37a-b0bc-4d85-93c7-eea53df601fb    4\n",
       "65b03871-1531-46ed-b805-a5df41477f03    4\n",
       "744f26f5-685b-4c1d-89cc-8f32fef69373    4\n",
       "7902a3ce-5054-4192-bf2f-bb597f3f870c    4\n",
       "71121052-b403-4ec8-b3fc-25bb3223ed0d    4\n",
       "                                       ..\n",
       "5e122f17-d56f-4785-9912-a1a717b180e1    1\n",
       "5e127563-cd0b-408c-9fc2-8066c4a3e965    1\n",
       "5e12efa6-0bec-4b0d-bcea-454fa1ebc9f4    1\n",
       "5e12f797-9600-4f00-965f-b76be5108331    1\n",
       "ffffe32e-ed17-459f-9cfd-7b9ee7972933    1\n",
       "Name: count, Length: 215700, dtype: int64"
      ]
     },
     "execution_count": 24,
     "metadata": {},
     "output_type": "execute_result"
    }
   ],
   "source": [
    "df['Loan ID'].value_counts()"
   ]
  },
  {
   "cell_type": "code",
   "execution_count": 25,
   "metadata": {},
   "outputs": [
    {
     "data": {
      "text/plain": [
       "array(['Debt Consolidation', 'other', 'Business Loan',\n",
       "       'Home Improvements', 'Buy House', 'Other', 'Buy a Car',\n",
       "       'Medical Bills', 'Take a Trip', 'Educational Expenses'],\n",
       "      dtype=object)"
      ]
     },
     "execution_count": 25,
     "metadata": {},
     "output_type": "execute_result"
    }
   ],
   "source": [
    "df['Purpose'].unique()"
   ]
  },
  {
   "cell_type": "code",
   "execution_count": 26,
   "metadata": {},
   "outputs": [
    {
     "data": {
      "text/plain": [
       "array(['Home Mortgage', 'Own Home', 'Rent', 'HaveMortgage'], dtype=object)"
      ]
     },
     "execution_count": 26,
     "metadata": {},
     "output_type": "execute_result"
    }
   ],
   "source": [
    "df['Home Ownership'].unique()"
   ]
  },
  {
   "cell_type": "markdown",
   "metadata": {},
   "source": [
    " Problems in the DF (13):\n",
    " - 'Term' one hot encoding?  not sure if needed / Ordinal Encoding Loan Status\n",
    " - 'Credit Score' to int\n",
    " - Dictionary says 'Home Ownership' values are 'Rent','Home Mortgage', and 'Own' but that's not case in dataset\n",
    " - 'Annual Income' seems to have no cents, should be int\n",
    " - 'Purpose' has two others: 'Other' and 'other'\n",
    " - 'Monthly Debt' is listed as an object with $, should be flt\n",
    " - 'Maximum Open Credit' is listed as an object, should be int\n",
    " - Many null values in 'Months since last delinquent','Years in current job','Credit Score','Annual Income'\n",
    " - 'Maximum Open Credit' has mixed dtypes, convert to int\n",
    " - 'Bankruptcies' and 'Tax Liens' should be int\n",
    " - Drop people with insane 'Current Loan Amount' 999999\n",
    " - 'Number of Open Accounts' change to int and drop outliers\n",
    " - Duplicated Loan IDs\n",
    " - 'Credit Score' and 'Annual Incomes' have same null values\n",
    " -  Possible outliers listed below\n",
    "\n",
    " \n",
    " Current Loan Amt/Credit Score/Annual Income Problems:\n",
    " - large range between min and max\n",
    " - disparity between mean and 50%, mean way larger than median --> some people taking out very large loans / high credit scores / high incomes\n",
    " - potential outliers\n",
    " - will check Monthly Debt once converted to correct dtype"
   ]
  },
  {
   "cell_type": "markdown",
   "metadata": {},
   "source": [
    "# Duplicated Loan IDS"
   ]
  },
  {
   "cell_type": "code",
   "execution_count": 27,
   "metadata": {},
   "outputs": [
    {
     "data": {
      "text/plain": [
       "Loan ID\n",
       "3f6bd37a-b0bc-4d85-93c7-eea53df601fb    4\n",
       "65b03871-1531-46ed-b805-a5df41477f03    4\n",
       "744f26f5-685b-4c1d-89cc-8f32fef69373    4\n",
       "7902a3ce-5054-4192-bf2f-bb597f3f870c    4\n",
       "71121052-b403-4ec8-b3fc-25bb3223ed0d    4\n",
       "                                       ..\n",
       "5e122f17-d56f-4785-9912-a1a717b180e1    1\n",
       "5e127563-cd0b-408c-9fc2-8066c4a3e965    1\n",
       "5e12efa6-0bec-4b0d-bcea-454fa1ebc9f4    1\n",
       "5e12f797-9600-4f00-965f-b76be5108331    1\n",
       "ffffe32e-ed17-459f-9cfd-7b9ee7972933    1\n",
       "Name: count, Length: 215700, dtype: int64"
      ]
     },
     "execution_count": 27,
     "metadata": {},
     "output_type": "execute_result"
    }
   ],
   "source": [
    "df['Loan ID'].value_counts()"
   ]
  },
  {
   "cell_type": "code",
   "execution_count": 28,
   "metadata": {},
   "outputs": [
    {
     "data": {
      "text/html": [
       "<div>\n",
       "<style scoped>\n",
       "    .dataframe tbody tr th:only-of-type {\n",
       "        vertical-align: middle;\n",
       "    }\n",
       "\n",
       "    .dataframe tbody tr th {\n",
       "        vertical-align: top;\n",
       "    }\n",
       "\n",
       "    .dataframe thead th {\n",
       "        text-align: right;\n",
       "    }\n",
       "</style>\n",
       "<table border=\"1\" class=\"dataframe\">\n",
       "  <thead>\n",
       "    <tr style=\"text-align: right;\">\n",
       "      <th></th>\n",
       "      <th>Loan ID</th>\n",
       "      <th>Customer ID</th>\n",
       "      <th>Loan Status</th>\n",
       "      <th>Current Loan Amount</th>\n",
       "      <th>Term</th>\n",
       "      <th>Credit Score</th>\n",
       "      <th>Years in current job</th>\n",
       "      <th>Home Ownership</th>\n",
       "      <th>Annual Income</th>\n",
       "      <th>Purpose</th>\n",
       "      <th>Monthly Debt</th>\n",
       "      <th>Years of Credit History</th>\n",
       "      <th>Months since last delinquent</th>\n",
       "      <th>Number of Open Accounts</th>\n",
       "      <th>Number of Credit Problems</th>\n",
       "      <th>Current Credit Balance</th>\n",
       "      <th>Maximum Open Credit</th>\n",
       "      <th>Bankruptcies</th>\n",
       "      <th>Tax Liens</th>\n",
       "    </tr>\n",
       "  </thead>\n",
       "  <tbody>\n",
       "    <tr>\n",
       "      <th>117035</th>\n",
       "      <td>744f26f5-685b-4c1d-89cc-8f32fef69373</td>\n",
       "      <td>0d1af0aa-9442-48ee-aa88-19bc3b5f2513</td>\n",
       "      <td>Charged Off</td>\n",
       "      <td>25128</td>\n",
       "      <td>Short Term</td>\n",
       "      <td>7330.0</td>\n",
       "      <td>10+ years</td>\n",
       "      <td>Own Home</td>\n",
       "      <td>150765.0</td>\n",
       "      <td>Debt Consolidation</td>\n",
       "      <td>$3,304.27</td>\n",
       "      <td>32.5</td>\n",
       "      <td>NaN</td>\n",
       "      <td>16</td>\n",
       "      <td>0</td>\n",
       "      <td>53590</td>\n",
       "      <td>76667</td>\n",
       "      <td>0.0</td>\n",
       "      <td>0.0</td>\n",
       "    </tr>\n",
       "    <tr>\n",
       "      <th>117036</th>\n",
       "      <td>744f26f5-685b-4c1d-89cc-8f32fef69373</td>\n",
       "      <td>0d1af0aa-9442-48ee-aa88-19bc3b5f2513</td>\n",
       "      <td>Charged Off</td>\n",
       "      <td>25255</td>\n",
       "      <td>Short Term</td>\n",
       "      <td>7330.0</td>\n",
       "      <td>10+ years</td>\n",
       "      <td>Own Home</td>\n",
       "      <td>151530.0</td>\n",
       "      <td>Debt Consolidation</td>\n",
       "      <td>$3,321.03</td>\n",
       "      <td>32.5</td>\n",
       "      <td>NaN</td>\n",
       "      <td>16</td>\n",
       "      <td>0</td>\n",
       "      <td>53862</td>\n",
       "      <td>77056</td>\n",
       "      <td>0.0</td>\n",
       "      <td>0.0</td>\n",
       "    </tr>\n",
       "    <tr>\n",
       "      <th>117037</th>\n",
       "      <td>744f26f5-685b-4c1d-89cc-8f32fef69373</td>\n",
       "      <td>0d1af0aa-9442-48ee-aa88-19bc3b5f2513</td>\n",
       "      <td>Charged Off</td>\n",
       "      <td>25255</td>\n",
       "      <td>Short Term</td>\n",
       "      <td>NaN</td>\n",
       "      <td>10+ years</td>\n",
       "      <td>Own Home</td>\n",
       "      <td>NaN</td>\n",
       "      <td>Debt Consolidation</td>\n",
       "      <td>$3,321.03</td>\n",
       "      <td>32.5</td>\n",
       "      <td>NaN</td>\n",
       "      <td>16</td>\n",
       "      <td>0</td>\n",
       "      <td>53862</td>\n",
       "      <td>77056</td>\n",
       "      <td>0.0</td>\n",
       "      <td>0.0</td>\n",
       "    </tr>\n",
       "    <tr>\n",
       "      <th>117038</th>\n",
       "      <td>744f26f5-685b-4c1d-89cc-8f32fef69373</td>\n",
       "      <td>0d1af0aa-9442-48ee-aa88-19bc3b5f2513</td>\n",
       "      <td>Charged Off</td>\n",
       "      <td>25128</td>\n",
       "      <td>Short Term</td>\n",
       "      <td>733.0</td>\n",
       "      <td>10+ years</td>\n",
       "      <td>Own Home</td>\n",
       "      <td>150765.0</td>\n",
       "      <td>Debt Consolidation</td>\n",
       "      <td>$3,304.27</td>\n",
       "      <td>32.5</td>\n",
       "      <td>NaN</td>\n",
       "      <td>16</td>\n",
       "      <td>0</td>\n",
       "      <td>53590</td>\n",
       "      <td>76667</td>\n",
       "      <td>0.0</td>\n",
       "      <td>0.0</td>\n",
       "    </tr>\n",
       "  </tbody>\n",
       "</table>\n",
       "</div>"
      ],
      "text/plain": [
       "                                     Loan ID  \\\n",
       "117035  744f26f5-685b-4c1d-89cc-8f32fef69373   \n",
       "117036  744f26f5-685b-4c1d-89cc-8f32fef69373   \n",
       "117037  744f26f5-685b-4c1d-89cc-8f32fef69373   \n",
       "117038  744f26f5-685b-4c1d-89cc-8f32fef69373   \n",
       "\n",
       "                                 Customer ID  Loan Status  \\\n",
       "117035  0d1af0aa-9442-48ee-aa88-19bc3b5f2513  Charged Off   \n",
       "117036  0d1af0aa-9442-48ee-aa88-19bc3b5f2513  Charged Off   \n",
       "117037  0d1af0aa-9442-48ee-aa88-19bc3b5f2513  Charged Off   \n",
       "117038  0d1af0aa-9442-48ee-aa88-19bc3b5f2513  Charged Off   \n",
       "\n",
       "        Current Loan Amount        Term  Credit Score Years in current job  \\\n",
       "117035                25128  Short Term        7330.0            10+ years   \n",
       "117036                25255  Short Term        7330.0            10+ years   \n",
       "117037                25255  Short Term           NaN            10+ years   \n",
       "117038                25128  Short Term         733.0            10+ years   \n",
       "\n",
       "       Home Ownership  Annual Income             Purpose Monthly Debt  \\\n",
       "117035       Own Home       150765.0  Debt Consolidation   $3,304.27    \n",
       "117036       Own Home       151530.0  Debt Consolidation   $3,321.03    \n",
       "117037       Own Home            NaN  Debt Consolidation   $3,321.03    \n",
       "117038       Own Home       150765.0  Debt Consolidation   $3,304.27    \n",
       "\n",
       "        Years of Credit History  Months since last delinquent  \\\n",
       "117035                     32.5                           NaN   \n",
       "117036                     32.5                           NaN   \n",
       "117037                     32.5                           NaN   \n",
       "117038                     32.5                           NaN   \n",
       "\n",
       "        Number of Open Accounts  Number of Credit Problems  \\\n",
       "117035                       16                          0   \n",
       "117036                       16                          0   \n",
       "117037                       16                          0   \n",
       "117038                       16                          0   \n",
       "\n",
       "        Current Credit Balance Maximum Open Credit  Bankruptcies  Tax Liens  \n",
       "117035                   53590               76667           0.0        0.0  \n",
       "117036                   53862               77056           0.0        0.0  \n",
       "117037                   53862               77056           0.0        0.0  \n",
       "117038                   53590               76667           0.0        0.0  "
      ]
     },
     "execution_count": 28,
     "metadata": {},
     "output_type": "execute_result"
    }
   ],
   "source": [
    "df[df['Loan ID'] == '744f26f5-685b-4c1d-89cc-8f32fef69373']\n",
    "#Looking at Duplicated Loan ID, same customer has different credit scores, annual incomes, \n",
    "#monthly debt, current credit balance, maximum open credit"
   ]
  },
  {
   "cell_type": "code",
   "execution_count": 29,
   "metadata": {},
   "outputs": [],
   "source": [
    "duplicated_loan_ids = df[df.duplicated(subset = ['Loan ID'])]['Loan ID'].unique()"
   ]
  },
  {
   "cell_type": "code",
   "execution_count": 30,
   "metadata": {},
   "outputs": [
    {
     "data": {
      "text/plain": [
       "Loan ID                          object\n",
       "Customer ID                      object\n",
       "Loan Status                      object\n",
       "Current Loan Amount               int64\n",
       "Term                             object\n",
       "Credit Score                    float64\n",
       "Years in current job             object\n",
       "Home Ownership                   object\n",
       "Annual Income                   float64\n",
       "Purpose                          object\n",
       "Monthly Debt                     object\n",
       "Years of Credit History         float64\n",
       "Months since last delinquent    float64\n",
       "Number of Open Accounts           int64\n",
       "Number of Credit Problems         int64\n",
       "Current Credit Balance            int64\n",
       "Maximum Open Credit              object\n",
       "Bankruptcies                    float64\n",
       "Tax Liens                       float64\n",
       "dtype: object"
      ]
     },
     "execution_count": 30,
     "metadata": {},
     "output_type": "execute_result"
    }
   ],
   "source": [
    "#dropping and imputing duplicates(zias way)\n",
    "df.dtypes"
   ]
  },
  {
   "cell_type": "code",
   "execution_count": 31,
   "metadata": {},
   "outputs": [],
   "source": [
    "# #convert everything to a numeric field that needs to be converted\n",
    "# cat_df = df.select_dtypes(include='object')\n",
    "# numeric_df = df.select_dtypes(exclude='object') #problem with this dataframe is that there is no loan id\n",
    "# numeric_df['Loan ID'] = df['Loan ID'] #adding loan id\n",
    "# num = numeric_df.groupby('Loan ID').agg({\"Credit Score\":\"min\",\"Annual Income\":'min',\"Number of Open Accounts\":\"max\"}).reset_index()\n",
    "# cat = cat_df.groupby('Loan ID').first().reset_index()\n",
    "\n",
    "# #merge cat and num\n",
    "# num.merge(cat)"
   ]
  },
  {
   "cell_type": "code",
   "execution_count": 32,
   "metadata": {},
   "outputs": [
    {
     "data": {
      "text/html": [
       "<div>\n",
       "<style scoped>\n",
       "    .dataframe tbody tr th:only-of-type {\n",
       "        vertical-align: middle;\n",
       "    }\n",
       "\n",
       "    .dataframe tbody tr th {\n",
       "        vertical-align: top;\n",
       "    }\n",
       "\n",
       "    .dataframe thead th {\n",
       "        text-align: right;\n",
       "    }\n",
       "</style>\n",
       "<table border=\"1\" class=\"dataframe\">\n",
       "  <thead>\n",
       "    <tr style=\"text-align: right;\">\n",
       "      <th></th>\n",
       "      <th>Loan ID</th>\n",
       "      <th>Customer ID</th>\n",
       "      <th>Loan Status</th>\n",
       "      <th>Current Loan Amount</th>\n",
       "      <th>Term</th>\n",
       "      <th>Credit Score</th>\n",
       "      <th>Years in current job</th>\n",
       "      <th>Home Ownership</th>\n",
       "      <th>Annual Income</th>\n",
       "      <th>Purpose</th>\n",
       "      <th>Monthly Debt</th>\n",
       "      <th>Years of Credit History</th>\n",
       "      <th>Months since last delinquent</th>\n",
       "      <th>Number of Open Accounts</th>\n",
       "      <th>Number of Credit Problems</th>\n",
       "      <th>Current Credit Balance</th>\n",
       "      <th>Maximum Open Credit</th>\n",
       "      <th>Bankruptcies</th>\n",
       "      <th>Tax Liens</th>\n",
       "    </tr>\n",
       "  </thead>\n",
       "  <tbody>\n",
       "    <tr>\n",
       "      <th>0</th>\n",
       "      <td>000025bb-5694-4cff-b17d-192b1a98ba44</td>\n",
       "      <td>5ebc8bb1-5eb9-4404-b11b-a6eebc401a19</td>\n",
       "      <td>Fully Paid</td>\n",
       "      <td>11520</td>\n",
       "      <td>Short Term</td>\n",
       "      <td>741.0</td>\n",
       "      <td>10+ years</td>\n",
       "      <td>Home Mortgage</td>\n",
       "      <td>33694.0</td>\n",
       "      <td>Debt Consolidation</td>\n",
       "      <td>$584.03</td>\n",
       "      <td>12.3</td>\n",
       "      <td>41.0</td>\n",
       "      <td>10</td>\n",
       "      <td>0</td>\n",
       "      <td>6760</td>\n",
       "      <td>16056</td>\n",
       "      <td>0.0</td>\n",
       "      <td>0.0</td>\n",
       "    </tr>\n",
       "    <tr>\n",
       "      <th>1</th>\n",
       "      <td>00002c49-3a29-4bd4-8f67-c8f8fbc1048c</td>\n",
       "      <td>927b388d-2e01-423f-a8dc-f7e42d668f46</td>\n",
       "      <td>Fully Paid</td>\n",
       "      <td>3441</td>\n",
       "      <td>Short Term</td>\n",
       "      <td>734.0</td>\n",
       "      <td>4 years</td>\n",
       "      <td>Home Mortgage</td>\n",
       "      <td>42269.0</td>\n",
       "      <td>other</td>\n",
       "      <td>$1,106.04</td>\n",
       "      <td>26.3</td>\n",
       "      <td>NaN</td>\n",
       "      <td>17</td>\n",
       "      <td>0</td>\n",
       "      <td>6262</td>\n",
       "      <td>19149</td>\n",
       "      <td>0.0</td>\n",
       "      <td>0.0</td>\n",
       "    </tr>\n",
       "    <tr>\n",
       "      <th>2</th>\n",
       "      <td>00002d89-27f3-409b-aa76-90834f359a65</td>\n",
       "      <td>defce609-c631-447d-aad6-1270615e89c4</td>\n",
       "      <td>Fully Paid</td>\n",
       "      <td>21029</td>\n",
       "      <td>Short Term</td>\n",
       "      <td>747.0</td>\n",
       "      <td>10+ years</td>\n",
       "      <td>Home Mortgage</td>\n",
       "      <td>90126.0</td>\n",
       "      <td>Debt Consolidation</td>\n",
       "      <td>$1,321.85</td>\n",
       "      <td>28.8</td>\n",
       "      <td>NaN</td>\n",
       "      <td>5</td>\n",
       "      <td>0</td>\n",
       "      <td>20967</td>\n",
       "      <td>28335</td>\n",
       "      <td>0.0</td>\n",
       "      <td>0.0</td>\n",
       "    </tr>\n",
       "    <tr>\n",
       "      <th>3</th>\n",
       "      <td>00005222-b4d8-45a4-ad8c-186057e24233</td>\n",
       "      <td>070bcecb-aae7-4485-a26a-e0403e7bb6c5</td>\n",
       "      <td>Fully Paid</td>\n",
       "      <td>18743</td>\n",
       "      <td>Short Term</td>\n",
       "      <td>747.0</td>\n",
       "      <td>10+ years</td>\n",
       "      <td>Own Home</td>\n",
       "      <td>38072.0</td>\n",
       "      <td>Debt Consolidation</td>\n",
       "      <td>$751.92</td>\n",
       "      <td>26.2</td>\n",
       "      <td>NaN</td>\n",
       "      <td>9</td>\n",
       "      <td>0</td>\n",
       "      <td>22529</td>\n",
       "      <td>43915</td>\n",
       "      <td>0.0</td>\n",
       "      <td>0.0</td>\n",
       "    </tr>\n",
       "    <tr>\n",
       "      <th>4</th>\n",
       "      <td>0000757f-a121-41ed-b17b-162e76647c1f</td>\n",
       "      <td>dde79588-12f0-4811-bab0-e2b07f633fcd</td>\n",
       "      <td>Fully Paid</td>\n",
       "      <td>11731</td>\n",
       "      <td>Short Term</td>\n",
       "      <td>746.0</td>\n",
       "      <td>4 years</td>\n",
       "      <td>Rent</td>\n",
       "      <td>50025.0</td>\n",
       "      <td>Debt Consolidation</td>\n",
       "      <td>$355.18</td>\n",
       "      <td>11.5</td>\n",
       "      <td>NaN</td>\n",
       "      <td>12</td>\n",
       "      <td>0</td>\n",
       "      <td>17391</td>\n",
       "      <td>37081</td>\n",
       "      <td>0.0</td>\n",
       "      <td>0.0</td>\n",
       "    </tr>\n",
       "    <tr>\n",
       "      <th>...</th>\n",
       "      <td>...</td>\n",
       "      <td>...</td>\n",
       "      <td>...</td>\n",
       "      <td>...</td>\n",
       "      <td>...</td>\n",
       "      <td>...</td>\n",
       "      <td>...</td>\n",
       "      <td>...</td>\n",
       "      <td>...</td>\n",
       "      <td>...</td>\n",
       "      <td>...</td>\n",
       "      <td>...</td>\n",
       "      <td>...</td>\n",
       "      <td>...</td>\n",
       "      <td>...</td>\n",
       "      <td>...</td>\n",
       "      <td>...</td>\n",
       "      <td>...</td>\n",
       "      <td>...</td>\n",
       "    </tr>\n",
       "    <tr>\n",
       "      <th>256979</th>\n",
       "      <td>fffef5b7-be99-4666-ac70-2a397d2ee435</td>\n",
       "      <td>7211a8e3-cba4-4132-b939-222eed8a662c</td>\n",
       "      <td>Fully Paid</td>\n",
       "      <td>3911</td>\n",
       "      <td>Short Term</td>\n",
       "      <td>NaN</td>\n",
       "      <td>2 years</td>\n",
       "      <td>Rent</td>\n",
       "      <td>NaN</td>\n",
       "      <td>Debt Consolidation</td>\n",
       "      <td>$1,706.58</td>\n",
       "      <td>19.9</td>\n",
       "      <td>NaN</td>\n",
       "      <td>16</td>\n",
       "      <td>0</td>\n",
       "      <td>43992</td>\n",
       "      <td>44080</td>\n",
       "      <td>0.0</td>\n",
       "      <td>0.0</td>\n",
       "    </tr>\n",
       "    <tr>\n",
       "      <th>256980</th>\n",
       "      <td>ffffca93-aa8c-4123-b8ff-7852f6df889a</td>\n",
       "      <td>616fef0c-8f09-4327-9b5c-48fcfaa52934</td>\n",
       "      <td>Fully Paid</td>\n",
       "      <td>5078</td>\n",
       "      <td>Short Term</td>\n",
       "      <td>737.0</td>\n",
       "      <td>10+ years</td>\n",
       "      <td>Own Home</td>\n",
       "      <td>77186.0</td>\n",
       "      <td>Debt Consolidation</td>\n",
       "      <td>$1,376.47</td>\n",
       "      <td>19.1</td>\n",
       "      <td>47.0</td>\n",
       "      <td>9</td>\n",
       "      <td>0</td>\n",
       "      <td>1717</td>\n",
       "      <td>9758</td>\n",
       "      <td>0.0</td>\n",
       "      <td>0.0</td>\n",
       "    </tr>\n",
       "    <tr>\n",
       "      <th>256981</th>\n",
       "      <td>ffffcb2e-e48e-4d2c-a0d6-ed6bce5bfdbe</td>\n",
       "      <td>971a6682-183b-4a52-8bce-1d3429ade295</td>\n",
       "      <td>Charged Off</td>\n",
       "      <td>12116</td>\n",
       "      <td>Short Term</td>\n",
       "      <td>7460.0</td>\n",
       "      <td>9 years</td>\n",
       "      <td>Home Mortgage</td>\n",
       "      <td>52504.0</td>\n",
       "      <td>Debt Consolidation</td>\n",
       "      <td>$297.96</td>\n",
       "      <td>15.1</td>\n",
       "      <td>82.0</td>\n",
       "      <td>8</td>\n",
       "      <td>0</td>\n",
       "      <td>3315</td>\n",
       "      <td>20090</td>\n",
       "      <td>0.0</td>\n",
       "      <td>0.0</td>\n",
       "    </tr>\n",
       "    <tr>\n",
       "      <th>256982</th>\n",
       "      <td>ffffcb2e-e48e-4d2c-a0d6-ed6bce5bfdbe</td>\n",
       "      <td>971a6682-183b-4a52-8bce-1d3429ade295</td>\n",
       "      <td>Charged Off</td>\n",
       "      <td>12116</td>\n",
       "      <td>Short Term</td>\n",
       "      <td>746.0</td>\n",
       "      <td>9 years</td>\n",
       "      <td>Home Mortgage</td>\n",
       "      <td>52504.0</td>\n",
       "      <td>Debt Consolidation</td>\n",
       "      <td>$297.96</td>\n",
       "      <td>15.1</td>\n",
       "      <td>82.0</td>\n",
       "      <td>8</td>\n",
       "      <td>0</td>\n",
       "      <td>3315</td>\n",
       "      <td>20090</td>\n",
       "      <td>0.0</td>\n",
       "      <td>0.0</td>\n",
       "    </tr>\n",
       "    <tr>\n",
       "      <th>256983</th>\n",
       "      <td>ffffe32e-ed17-459f-9cfd-7b9ee7972933</td>\n",
       "      <td>97281336-1e45-41d2-acb2-263ce56a590e</td>\n",
       "      <td>Fully Paid</td>\n",
       "      <td>27902</td>\n",
       "      <td>Long Term</td>\n",
       "      <td>678.0</td>\n",
       "      <td>10+ years</td>\n",
       "      <td>Home Mortgage</td>\n",
       "      <td>117480.0</td>\n",
       "      <td>Debt Consolidation</td>\n",
       "      <td>$2,525.82</td>\n",
       "      <td>18.0</td>\n",
       "      <td>11.0</td>\n",
       "      <td>10</td>\n",
       "      <td>0</td>\n",
       "      <td>28317</td>\n",
       "      <td>62371</td>\n",
       "      <td>0.0</td>\n",
       "      <td>0.0</td>\n",
       "    </tr>\n",
       "  </tbody>\n",
       "</table>\n",
       "<p>256984 rows × 19 columns</p>\n",
       "</div>"
      ],
      "text/plain": [
       "                                     Loan ID  \\\n",
       "0       000025bb-5694-4cff-b17d-192b1a98ba44   \n",
       "1       00002c49-3a29-4bd4-8f67-c8f8fbc1048c   \n",
       "2       00002d89-27f3-409b-aa76-90834f359a65   \n",
       "3       00005222-b4d8-45a4-ad8c-186057e24233   \n",
       "4       0000757f-a121-41ed-b17b-162e76647c1f   \n",
       "...                                      ...   \n",
       "256979  fffef5b7-be99-4666-ac70-2a397d2ee435   \n",
       "256980  ffffca93-aa8c-4123-b8ff-7852f6df889a   \n",
       "256981  ffffcb2e-e48e-4d2c-a0d6-ed6bce5bfdbe   \n",
       "256982  ffffcb2e-e48e-4d2c-a0d6-ed6bce5bfdbe   \n",
       "256983  ffffe32e-ed17-459f-9cfd-7b9ee7972933   \n",
       "\n",
       "                                 Customer ID  Loan Status  \\\n",
       "0       5ebc8bb1-5eb9-4404-b11b-a6eebc401a19   Fully Paid   \n",
       "1       927b388d-2e01-423f-a8dc-f7e42d668f46   Fully Paid   \n",
       "2       defce609-c631-447d-aad6-1270615e89c4   Fully Paid   \n",
       "3       070bcecb-aae7-4485-a26a-e0403e7bb6c5   Fully Paid   \n",
       "4       dde79588-12f0-4811-bab0-e2b07f633fcd   Fully Paid   \n",
       "...                                      ...          ...   \n",
       "256979  7211a8e3-cba4-4132-b939-222eed8a662c   Fully Paid   \n",
       "256980  616fef0c-8f09-4327-9b5c-48fcfaa52934   Fully Paid   \n",
       "256981  971a6682-183b-4a52-8bce-1d3429ade295  Charged Off   \n",
       "256982  971a6682-183b-4a52-8bce-1d3429ade295  Charged Off   \n",
       "256983  97281336-1e45-41d2-acb2-263ce56a590e   Fully Paid   \n",
       "\n",
       "        Current Loan Amount        Term  Credit Score Years in current job  \\\n",
       "0                     11520  Short Term         741.0            10+ years   \n",
       "1                      3441  Short Term         734.0              4 years   \n",
       "2                     21029  Short Term         747.0            10+ years   \n",
       "3                     18743  Short Term         747.0            10+ years   \n",
       "4                     11731  Short Term         746.0              4 years   \n",
       "...                     ...         ...           ...                  ...   \n",
       "256979                 3911  Short Term           NaN              2 years   \n",
       "256980                 5078  Short Term         737.0            10+ years   \n",
       "256981                12116  Short Term        7460.0              9 years   \n",
       "256982                12116  Short Term         746.0              9 years   \n",
       "256983                27902   Long Term         678.0            10+ years   \n",
       "\n",
       "       Home Ownership  Annual Income             Purpose Monthly Debt  \\\n",
       "0       Home Mortgage        33694.0  Debt Consolidation      $584.03   \n",
       "1       Home Mortgage        42269.0               other   $1,106.04    \n",
       "2       Home Mortgage        90126.0  Debt Consolidation   $1,321.85    \n",
       "3            Own Home        38072.0  Debt Consolidation      $751.92   \n",
       "4                Rent        50025.0  Debt Consolidation      $355.18   \n",
       "...               ...            ...                 ...          ...   \n",
       "256979           Rent            NaN  Debt Consolidation   $1,706.58    \n",
       "256980       Own Home        77186.0  Debt Consolidation   $1,376.47    \n",
       "256981  Home Mortgage        52504.0  Debt Consolidation      $297.96   \n",
       "256982  Home Mortgage        52504.0  Debt Consolidation      $297.96   \n",
       "256983  Home Mortgage       117480.0  Debt Consolidation   $2,525.82    \n",
       "\n",
       "        Years of Credit History  Months since last delinquent  \\\n",
       "0                          12.3                          41.0   \n",
       "1                          26.3                           NaN   \n",
       "2                          28.8                           NaN   \n",
       "3                          26.2                           NaN   \n",
       "4                          11.5                           NaN   \n",
       "...                         ...                           ...   \n",
       "256979                     19.9                           NaN   \n",
       "256980                     19.1                          47.0   \n",
       "256981                     15.1                          82.0   \n",
       "256982                     15.1                          82.0   \n",
       "256983                     18.0                          11.0   \n",
       "\n",
       "        Number of Open Accounts  Number of Credit Problems  \\\n",
       "0                            10                          0   \n",
       "1                            17                          0   \n",
       "2                             5                          0   \n",
       "3                             9                          0   \n",
       "4                            12                          0   \n",
       "...                         ...                        ...   \n",
       "256979                       16                          0   \n",
       "256980                        9                          0   \n",
       "256981                        8                          0   \n",
       "256982                        8                          0   \n",
       "256983                       10                          0   \n",
       "\n",
       "        Current Credit Balance Maximum Open Credit  Bankruptcies  Tax Liens  \n",
       "0                         6760               16056           0.0        0.0  \n",
       "1                         6262               19149           0.0        0.0  \n",
       "2                        20967               28335           0.0        0.0  \n",
       "3                        22529               43915           0.0        0.0  \n",
       "4                        17391               37081           0.0        0.0  \n",
       "...                        ...                 ...           ...        ...  \n",
       "256979                   43992               44080           0.0        0.0  \n",
       "256980                    1717                9758           0.0        0.0  \n",
       "256981                    3315               20090           0.0        0.0  \n",
       "256982                    3315               20090           0.0        0.0  \n",
       "256983                   28317               62371           0.0        0.0  \n",
       "\n",
       "[256984 rows x 19 columns]"
      ]
     },
     "execution_count": 32,
     "metadata": {},
     "output_type": "execute_result"
    }
   ],
   "source": [
    "df"
   ]
  },
  {
   "cell_type": "code",
   "execution_count": 17,
   "metadata": {},
   "outputs": [
    {
     "data": {
      "text/html": [
       "<div>\n",
       "<style scoped>\n",
       "    .dataframe tbody tr th:only-of-type {\n",
       "        vertical-align: middle;\n",
       "    }\n",
       "\n",
       "    .dataframe tbody tr th {\n",
       "        vertical-align: top;\n",
       "    }\n",
       "\n",
       "    .dataframe thead th {\n",
       "        text-align: right;\n",
       "    }\n",
       "</style>\n",
       "<table border=\"1\" class=\"dataframe\">\n",
       "  <thead>\n",
       "    <tr style=\"text-align: right;\">\n",
       "      <th></th>\n",
       "      <th>Loan ID</th>\n",
       "      <th>Customer ID</th>\n",
       "      <th>Loan Status</th>\n",
       "      <th>Current Loan Amount</th>\n",
       "      <th>Term</th>\n",
       "      <th>Credit Score</th>\n",
       "      <th>Years in current job</th>\n",
       "      <th>Home Ownership</th>\n",
       "      <th>Annual Income</th>\n",
       "      <th>Purpose</th>\n",
       "      <th>Monthly Debt</th>\n",
       "      <th>Years of Credit History</th>\n",
       "      <th>Months since last delinquent</th>\n",
       "      <th>Number of Open Accounts</th>\n",
       "      <th>Number of Credit Problems</th>\n",
       "      <th>Current Credit Balance</th>\n",
       "      <th>Maximum Open Credit</th>\n",
       "      <th>Bankruptcies</th>\n",
       "      <th>Tax Liens</th>\n",
       "    </tr>\n",
       "  </thead>\n",
       "  <tbody>\n",
       "    <tr>\n",
       "      <th>117035</th>\n",
       "      <td>744f26f5-685b-4c1d-89cc-8f32fef69373</td>\n",
       "      <td>0d1af0aa-9442-48ee-aa88-19bc3b5f2513</td>\n",
       "      <td>Charged Off</td>\n",
       "      <td>25128</td>\n",
       "      <td>Short Term</td>\n",
       "      <td>733.0</td>\n",
       "      <td>10+ years</td>\n",
       "      <td>Own Home</td>\n",
       "      <td>150765.0</td>\n",
       "      <td>Debt Consolidation</td>\n",
       "      <td>$3,304.27</td>\n",
       "      <td>32.5</td>\n",
       "      <td>NaN</td>\n",
       "      <td>16</td>\n",
       "      <td>0</td>\n",
       "      <td>53590</td>\n",
       "      <td>76667</td>\n",
       "      <td>0.0</td>\n",
       "      <td>0.0</td>\n",
       "    </tr>\n",
       "    <tr>\n",
       "      <th>117036</th>\n",
       "      <td>744f26f5-685b-4c1d-89cc-8f32fef69373</td>\n",
       "      <td>0d1af0aa-9442-48ee-aa88-19bc3b5f2513</td>\n",
       "      <td>Charged Off</td>\n",
       "      <td>25255</td>\n",
       "      <td>Short Term</td>\n",
       "      <td>733.0</td>\n",
       "      <td>10+ years</td>\n",
       "      <td>Own Home</td>\n",
       "      <td>150765.0</td>\n",
       "      <td>Debt Consolidation</td>\n",
       "      <td>$3,321.03</td>\n",
       "      <td>32.5</td>\n",
       "      <td>NaN</td>\n",
       "      <td>16</td>\n",
       "      <td>0</td>\n",
       "      <td>53862</td>\n",
       "      <td>77056</td>\n",
       "      <td>0.0</td>\n",
       "      <td>0.0</td>\n",
       "    </tr>\n",
       "    <tr>\n",
       "      <th>117037</th>\n",
       "      <td>744f26f5-685b-4c1d-89cc-8f32fef69373</td>\n",
       "      <td>0d1af0aa-9442-48ee-aa88-19bc3b5f2513</td>\n",
       "      <td>Charged Off</td>\n",
       "      <td>25255</td>\n",
       "      <td>Short Term</td>\n",
       "      <td>733.0</td>\n",
       "      <td>10+ years</td>\n",
       "      <td>Own Home</td>\n",
       "      <td>150765.0</td>\n",
       "      <td>Debt Consolidation</td>\n",
       "      <td>$3,321.03</td>\n",
       "      <td>32.5</td>\n",
       "      <td>NaN</td>\n",
       "      <td>16</td>\n",
       "      <td>0</td>\n",
       "      <td>53862</td>\n",
       "      <td>77056</td>\n",
       "      <td>0.0</td>\n",
       "      <td>0.0</td>\n",
       "    </tr>\n",
       "    <tr>\n",
       "      <th>117038</th>\n",
       "      <td>744f26f5-685b-4c1d-89cc-8f32fef69373</td>\n",
       "      <td>0d1af0aa-9442-48ee-aa88-19bc3b5f2513</td>\n",
       "      <td>Charged Off</td>\n",
       "      <td>25128</td>\n",
       "      <td>Short Term</td>\n",
       "      <td>733.0</td>\n",
       "      <td>10+ years</td>\n",
       "      <td>Own Home</td>\n",
       "      <td>150765.0</td>\n",
       "      <td>Debt Consolidation</td>\n",
       "      <td>$3,304.27</td>\n",
       "      <td>32.5</td>\n",
       "      <td>NaN</td>\n",
       "      <td>16</td>\n",
       "      <td>0</td>\n",
       "      <td>53590</td>\n",
       "      <td>76667</td>\n",
       "      <td>0.0</td>\n",
       "      <td>0.0</td>\n",
       "    </tr>\n",
       "  </tbody>\n",
       "</table>\n",
       "</div>"
      ],
      "text/plain": [
       "                                     Loan ID  \\\n",
       "117035  744f26f5-685b-4c1d-89cc-8f32fef69373   \n",
       "117036  744f26f5-685b-4c1d-89cc-8f32fef69373   \n",
       "117037  744f26f5-685b-4c1d-89cc-8f32fef69373   \n",
       "117038  744f26f5-685b-4c1d-89cc-8f32fef69373   \n",
       "\n",
       "                                 Customer ID  Loan Status  \\\n",
       "117035  0d1af0aa-9442-48ee-aa88-19bc3b5f2513  Charged Off   \n",
       "117036  0d1af0aa-9442-48ee-aa88-19bc3b5f2513  Charged Off   \n",
       "117037  0d1af0aa-9442-48ee-aa88-19bc3b5f2513  Charged Off   \n",
       "117038  0d1af0aa-9442-48ee-aa88-19bc3b5f2513  Charged Off   \n",
       "\n",
       "        Current Loan Amount        Term  Credit Score Years in current job  \\\n",
       "117035                25128  Short Term         733.0            10+ years   \n",
       "117036                25255  Short Term         733.0            10+ years   \n",
       "117037                25255  Short Term         733.0            10+ years   \n",
       "117038                25128  Short Term         733.0            10+ years   \n",
       "\n",
       "       Home Ownership  Annual Income             Purpose Monthly Debt  \\\n",
       "117035       Own Home       150765.0  Debt Consolidation   $3,304.27    \n",
       "117036       Own Home       150765.0  Debt Consolidation   $3,321.03    \n",
       "117037       Own Home       150765.0  Debt Consolidation   $3,321.03    \n",
       "117038       Own Home       150765.0  Debt Consolidation   $3,304.27    \n",
       "\n",
       "        Years of Credit History  Months since last delinquent  \\\n",
       "117035                     32.5                           NaN   \n",
       "117036                     32.5                           NaN   \n",
       "117037                     32.5                           NaN   \n",
       "117038                     32.5                           NaN   \n",
       "\n",
       "        Number of Open Accounts  Number of Credit Problems  \\\n",
       "117035                       16                          0   \n",
       "117036                       16                          0   \n",
       "117037                       16                          0   \n",
       "117038                       16                          0   \n",
       "\n",
       "        Current Credit Balance Maximum Open Credit  Bankruptcies  Tax Liens  \n",
       "117035                   53590               76667           0.0        0.0  \n",
       "117036                   53862               77056           0.0        0.0  \n",
       "117037                   53862               77056           0.0        0.0  \n",
       "117038                   53590               76667           0.0        0.0  "
      ]
     },
     "execution_count": 17,
     "metadata": {},
     "output_type": "execute_result"
    }
   ],
   "source": [
    "#imputing duplicates\n",
    "for loan_id in duplicated_loan_ids:\n",
    "    duplicated_rows = df[df['Loan ID'] == loan_id]\n",
    "    max_current_loan = duplicated_rows['Current Loan Amount'].max()\n",
    "    min_credit_score = duplicated_rows['Credit Score'].min()\n",
    "    min_annual_income = duplicated_rows['Annual Income'].min()\n",
    "    max_bankruptcies = duplicated_rows['Bankruptcies'].max()\n",
    "    max_delinquency = duplicated_rows['Months since last delinquent'].max()\n",
    "    max_cp = duplicated_rows['Number of Credit Problems'].max()\n",
    "    max_month_debt = duplicated_rows['Monthly Debt'].max()\n",
    "    min_credit_history = duplicated_rows['Years of Credit History'].min()\n",
    "    max_number_open_acct = duplicated_rows['Number of Open Accounts'].max()\n",
    "    max_current_credit_balance = duplicated_rows['Current Credit Balance'].max()\n",
    "    if duplicated_rows['Current Loan Amount'].isnull().any():\n",
    "        df.loc[df['Loan ID'] == loan_id, 'Current Loan Amount'] = max_current_loan\n",
    "    if duplicated_rows['Credit Score'].isnull().any():\n",
    "        df.loc[df['Loan ID'] == loan_id, 'Credit Score'] = min_credit_score\n",
    "    if duplicated_rows['Annual Income'].isnull().any():\n",
    "        df.loc[df['Loan ID'] == loan_id, 'Annual Income'] = min_annual_income\n",
    "    if duplicated_rows['Bankruptcies'].isnull().any():\n",
    "        df.loc[df['Loan ID'] == loan_id, 'Bankruptcies'] = max_bankruptcies\n",
    "    if duplicated_rows['Months since last delinquent'].isnull().any():\n",
    "        df.loc[df['Loan ID'] == loan_id, 'Months since last delinquent'] = max_delinquency\n",
    "    if duplicated_rows['Number of Credit Problems'].isnull().any():\n",
    "        df.loc[df['Loan ID'] == loan_id, 'Number of Credit Problems'] = max_cp\n",
    "    if duplicated_rows['Monthly Debt'].isnull().any():\n",
    "        df.loc[df['Loan ID'] == loan_id, 'Monthly Debt'] = max_month_debt\n",
    "    if duplicated_rows['Years of Credit History'].isnull().any():\n",
    "        df.loc[df['Loan ID'] == loan_id, 'Years of Credit History'] = min_credit_history\n",
    "    if duplicated_rows['Number of Open Accounts'].isnull().any():\n",
    "        df.loc[df['Loan ID'] == loan_id, 'Number of Open Accounts'] = max_number_open_acct\n",
    "    if duplicated_rows['Current Credit Balance'].isnull().any():\n",
    "        df.loc[df['Loan ID'] == loan_id, 'Current Credit Balance'] = max_current_credit_balance  \n",
    "\n",
    "#check\n",
    "df[df['Loan ID'] == '744f26f5-685b-4c1d-89cc-8f32fef69373']\n"
   ]
  },
  {
   "cell_type": "code",
   "execution_count": 18,
   "metadata": {},
   "outputs": [],
   "source": [
    "#drop duplicates\n",
    "df.drop_duplicates(subset = ['Loan ID'], inplace = True)\n",
    "#i should set this to a new dataframe name"
   ]
  },
  {
   "cell_type": "code",
   "execution_count": 33,
   "metadata": {},
   "outputs": [
    {
     "data": {
      "text/html": [
       "<div>\n",
       "<style scoped>\n",
       "    .dataframe tbody tr th:only-of-type {\n",
       "        vertical-align: middle;\n",
       "    }\n",
       "\n",
       "    .dataframe tbody tr th {\n",
       "        vertical-align: top;\n",
       "    }\n",
       "\n",
       "    .dataframe thead th {\n",
       "        text-align: right;\n",
       "    }\n",
       "</style>\n",
       "<table border=\"1\" class=\"dataframe\">\n",
       "  <thead>\n",
       "    <tr style=\"text-align: right;\">\n",
       "      <th></th>\n",
       "      <th>Loan ID</th>\n",
       "      <th>Customer ID</th>\n",
       "      <th>Loan Status</th>\n",
       "      <th>Current Loan Amount</th>\n",
       "      <th>Term</th>\n",
       "      <th>Credit Score</th>\n",
       "      <th>Years in current job</th>\n",
       "      <th>Home Ownership</th>\n",
       "      <th>Annual Income</th>\n",
       "      <th>Purpose</th>\n",
       "      <th>Monthly Debt</th>\n",
       "      <th>Years of Credit History</th>\n",
       "      <th>Months since last delinquent</th>\n",
       "      <th>Number of Open Accounts</th>\n",
       "      <th>Number of Credit Problems</th>\n",
       "      <th>Current Credit Balance</th>\n",
       "      <th>Maximum Open Credit</th>\n",
       "      <th>Bankruptcies</th>\n",
       "      <th>Tax Liens</th>\n",
       "    </tr>\n",
       "  </thead>\n",
       "  <tbody>\n",
       "    <tr>\n",
       "      <th>117035</th>\n",
       "      <td>744f26f5-685b-4c1d-89cc-8f32fef69373</td>\n",
       "      <td>0d1af0aa-9442-48ee-aa88-19bc3b5f2513</td>\n",
       "      <td>Charged Off</td>\n",
       "      <td>25128</td>\n",
       "      <td>Short Term</td>\n",
       "      <td>7330.0</td>\n",
       "      <td>10+ years</td>\n",
       "      <td>Own Home</td>\n",
       "      <td>150765.0</td>\n",
       "      <td>Debt Consolidation</td>\n",
       "      <td>$3,304.27</td>\n",
       "      <td>32.5</td>\n",
       "      <td>NaN</td>\n",
       "      <td>16</td>\n",
       "      <td>0</td>\n",
       "      <td>53590</td>\n",
       "      <td>76667</td>\n",
       "      <td>0.0</td>\n",
       "      <td>0.0</td>\n",
       "    </tr>\n",
       "    <tr>\n",
       "      <th>117036</th>\n",
       "      <td>744f26f5-685b-4c1d-89cc-8f32fef69373</td>\n",
       "      <td>0d1af0aa-9442-48ee-aa88-19bc3b5f2513</td>\n",
       "      <td>Charged Off</td>\n",
       "      <td>25255</td>\n",
       "      <td>Short Term</td>\n",
       "      <td>7330.0</td>\n",
       "      <td>10+ years</td>\n",
       "      <td>Own Home</td>\n",
       "      <td>151530.0</td>\n",
       "      <td>Debt Consolidation</td>\n",
       "      <td>$3,321.03</td>\n",
       "      <td>32.5</td>\n",
       "      <td>NaN</td>\n",
       "      <td>16</td>\n",
       "      <td>0</td>\n",
       "      <td>53862</td>\n",
       "      <td>77056</td>\n",
       "      <td>0.0</td>\n",
       "      <td>0.0</td>\n",
       "    </tr>\n",
       "    <tr>\n",
       "      <th>117037</th>\n",
       "      <td>744f26f5-685b-4c1d-89cc-8f32fef69373</td>\n",
       "      <td>0d1af0aa-9442-48ee-aa88-19bc3b5f2513</td>\n",
       "      <td>Charged Off</td>\n",
       "      <td>25255</td>\n",
       "      <td>Short Term</td>\n",
       "      <td>NaN</td>\n",
       "      <td>10+ years</td>\n",
       "      <td>Own Home</td>\n",
       "      <td>NaN</td>\n",
       "      <td>Debt Consolidation</td>\n",
       "      <td>$3,321.03</td>\n",
       "      <td>32.5</td>\n",
       "      <td>NaN</td>\n",
       "      <td>16</td>\n",
       "      <td>0</td>\n",
       "      <td>53862</td>\n",
       "      <td>77056</td>\n",
       "      <td>0.0</td>\n",
       "      <td>0.0</td>\n",
       "    </tr>\n",
       "    <tr>\n",
       "      <th>117038</th>\n",
       "      <td>744f26f5-685b-4c1d-89cc-8f32fef69373</td>\n",
       "      <td>0d1af0aa-9442-48ee-aa88-19bc3b5f2513</td>\n",
       "      <td>Charged Off</td>\n",
       "      <td>25128</td>\n",
       "      <td>Short Term</td>\n",
       "      <td>733.0</td>\n",
       "      <td>10+ years</td>\n",
       "      <td>Own Home</td>\n",
       "      <td>150765.0</td>\n",
       "      <td>Debt Consolidation</td>\n",
       "      <td>$3,304.27</td>\n",
       "      <td>32.5</td>\n",
       "      <td>NaN</td>\n",
       "      <td>16</td>\n",
       "      <td>0</td>\n",
       "      <td>53590</td>\n",
       "      <td>76667</td>\n",
       "      <td>0.0</td>\n",
       "      <td>0.0</td>\n",
       "    </tr>\n",
       "  </tbody>\n",
       "</table>\n",
       "</div>"
      ],
      "text/plain": [
       "                                     Loan ID  \\\n",
       "117035  744f26f5-685b-4c1d-89cc-8f32fef69373   \n",
       "117036  744f26f5-685b-4c1d-89cc-8f32fef69373   \n",
       "117037  744f26f5-685b-4c1d-89cc-8f32fef69373   \n",
       "117038  744f26f5-685b-4c1d-89cc-8f32fef69373   \n",
       "\n",
       "                                 Customer ID  Loan Status  \\\n",
       "117035  0d1af0aa-9442-48ee-aa88-19bc3b5f2513  Charged Off   \n",
       "117036  0d1af0aa-9442-48ee-aa88-19bc3b5f2513  Charged Off   \n",
       "117037  0d1af0aa-9442-48ee-aa88-19bc3b5f2513  Charged Off   \n",
       "117038  0d1af0aa-9442-48ee-aa88-19bc3b5f2513  Charged Off   \n",
       "\n",
       "        Current Loan Amount        Term  Credit Score Years in current job  \\\n",
       "117035                25128  Short Term        7330.0            10+ years   \n",
       "117036                25255  Short Term        7330.0            10+ years   \n",
       "117037                25255  Short Term           NaN            10+ years   \n",
       "117038                25128  Short Term         733.0            10+ years   \n",
       "\n",
       "       Home Ownership  Annual Income             Purpose Monthly Debt  \\\n",
       "117035       Own Home       150765.0  Debt Consolidation   $3,304.27    \n",
       "117036       Own Home       151530.0  Debt Consolidation   $3,321.03    \n",
       "117037       Own Home            NaN  Debt Consolidation   $3,321.03    \n",
       "117038       Own Home       150765.0  Debt Consolidation   $3,304.27    \n",
       "\n",
       "        Years of Credit History  Months since last delinquent  \\\n",
       "117035                     32.5                           NaN   \n",
       "117036                     32.5                           NaN   \n",
       "117037                     32.5                           NaN   \n",
       "117038                     32.5                           NaN   \n",
       "\n",
       "        Number of Open Accounts  Number of Credit Problems  \\\n",
       "117035                       16                          0   \n",
       "117036                       16                          0   \n",
       "117037                       16                          0   \n",
       "117038                       16                          0   \n",
       "\n",
       "        Current Credit Balance Maximum Open Credit  Bankruptcies  Tax Liens  \n",
       "117035                   53590               76667           0.0        0.0  \n",
       "117036                   53862               77056           0.0        0.0  \n",
       "117037                   53862               77056           0.0        0.0  \n",
       "117038                   53590               76667           0.0        0.0  "
      ]
     },
     "execution_count": 33,
     "metadata": {},
     "output_type": "execute_result"
    }
   ],
   "source": [
    "#duplicates check\n",
    "df[df['Loan ID'] == '744f26f5-685b-4c1d-89cc-8f32fef69373']"
   ]
  },
  {
   "cell_type": "markdown",
   "metadata": {},
   "source": [
    "## Credit Score"
   ]
  },
  {
   "cell_type": "code",
   "execution_count": 34,
   "metadata": {},
   "outputs": [
    {
     "data": {
      "text/plain": [
       "count    195308.000000\n",
       "mean       1251.116099\n",
       "std        1762.016848\n",
       "min         585.000000\n",
       "25%         714.000000\n",
       "50%         733.000000\n",
       "75%         744.000000\n",
       "max        7510.000000\n",
       "Name: Credit Score, dtype: float64"
      ]
     },
     "execution_count": 34,
     "metadata": {},
     "output_type": "execute_result"
    }
   ],
   "source": [
    "df['Credit Score'].describe()"
   ]
  },
  {
   "cell_type": "code",
   "execution_count": 35,
   "metadata": {},
   "outputs": [
    {
     "data": {
      "text/plain": [
       "61676"
      ]
     },
     "execution_count": 35,
     "metadata": {},
     "output_type": "execute_result"
    }
   ],
   "source": [
    "df['Credit Score'].isnull().sum()"
   ]
  },
  {
   "cell_type": "code",
   "execution_count": 36,
   "metadata": {},
   "outputs": [
    {
     "data": {
      "text/plain": [
       "7510.0"
      ]
     },
     "execution_count": 36,
     "metadata": {},
     "output_type": "execute_result"
    }
   ],
   "source": [
    "df['Credit Score'].max()"
   ]
  },
  {
   "cell_type": "code",
   "execution_count": 37,
   "metadata": {},
   "outputs": [
    {
     "data": {
      "text/html": [
       "<div>\n",
       "<style scoped>\n",
       "    .dataframe tbody tr th:only-of-type {\n",
       "        vertical-align: middle;\n",
       "    }\n",
       "\n",
       "    .dataframe tbody tr th {\n",
       "        vertical-align: top;\n",
       "    }\n",
       "\n",
       "    .dataframe thead th {\n",
       "        text-align: right;\n",
       "    }\n",
       "</style>\n",
       "<table border=\"1\" class=\"dataframe\">\n",
       "  <thead>\n",
       "    <tr style=\"text-align: right;\">\n",
       "      <th></th>\n",
       "      <th>Loan ID</th>\n",
       "      <th>Customer ID</th>\n",
       "      <th>Loan Status</th>\n",
       "      <th>Current Loan Amount</th>\n",
       "      <th>Term</th>\n",
       "      <th>Credit Score</th>\n",
       "      <th>Years in current job</th>\n",
       "      <th>Home Ownership</th>\n",
       "      <th>Annual Income</th>\n",
       "      <th>Purpose</th>\n",
       "      <th>Monthly Debt</th>\n",
       "      <th>Years of Credit History</th>\n",
       "      <th>Months since last delinquent</th>\n",
       "      <th>Number of Open Accounts</th>\n",
       "      <th>Number of Credit Problems</th>\n",
       "      <th>Current Credit Balance</th>\n",
       "      <th>Maximum Open Credit</th>\n",
       "      <th>Bankruptcies</th>\n",
       "      <th>Tax Liens</th>\n",
       "    </tr>\n",
       "  </thead>\n",
       "  <tbody>\n",
       "    <tr>\n",
       "      <th>6</th>\n",
       "      <td>0000afa6-8902-4f8f-b870-25a8fdad0aeb</td>\n",
       "      <td>e49c1a82-a0f7-45e8-9f46-2f75c43f9fbc</td>\n",
       "      <td>Charged Off</td>\n",
       "      <td>24613</td>\n",
       "      <td>Long Term</td>\n",
       "      <td>6640.0</td>\n",
       "      <td>6 years</td>\n",
       "      <td>Rent</td>\n",
       "      <td>49225.0</td>\n",
       "      <td>Business Loan</td>\n",
       "      <td>$542.29</td>\n",
       "      <td>17.6</td>\n",
       "      <td>73.0</td>\n",
       "      <td>7</td>\n",
       "      <td>0</td>\n",
       "      <td>14123</td>\n",
       "      <td>16954</td>\n",
       "      <td>0.0</td>\n",
       "      <td>0.0</td>\n",
       "    </tr>\n",
       "    <tr>\n",
       "      <th>55</th>\n",
       "      <td>000c0c27-1961-4336-b760-a300e1bce9b0</td>\n",
       "      <td>881edf98-387c-4eef-ab71-317a7a5e70c1</td>\n",
       "      <td>Charged Off</td>\n",
       "      <td>6463</td>\n",
       "      <td>Short Term</td>\n",
       "      <td>7320.0</td>\n",
       "      <td>1 year</td>\n",
       "      <td>Own Home</td>\n",
       "      <td>25248.0</td>\n",
       "      <td>Debt Consolidation</td>\n",
       "      <td>$633.29</td>\n",
       "      <td>19.9</td>\n",
       "      <td>74.0</td>\n",
       "      <td>9</td>\n",
       "      <td>0</td>\n",
       "      <td>8025</td>\n",
       "      <td>24317</td>\n",
       "      <td>0.0</td>\n",
       "      <td>0.0</td>\n",
       "    </tr>\n",
       "    <tr>\n",
       "      <th>71</th>\n",
       "      <td>000f1140-ef9f-42f9-9898-f9b3162bf0da</td>\n",
       "      <td>442c2d9b-3d95-44a9-bcb4-0dc80a941e3c</td>\n",
       "      <td>Charged Off</td>\n",
       "      <td>6007</td>\n",
       "      <td>Short Term</td>\n",
       "      <td>7180.0</td>\n",
       "      <td>10+ years</td>\n",
       "      <td>Home Mortgage</td>\n",
       "      <td>43052.0</td>\n",
       "      <td>Debt Consolidation</td>\n",
       "      <td>$538.15</td>\n",
       "      <td>23.6</td>\n",
       "      <td>13.0</td>\n",
       "      <td>6</td>\n",
       "      <td>0</td>\n",
       "      <td>5077</td>\n",
       "      <td>7811</td>\n",
       "      <td>0.0</td>\n",
       "      <td>0.0</td>\n",
       "    </tr>\n",
       "    <tr>\n",
       "      <th>73</th>\n",
       "      <td>000f5c35-dc3e-415f-9c22-e355ef96d78b</td>\n",
       "      <td>0ecf29b6-93eb-4c13-b853-a9cbdfc7f85b</td>\n",
       "      <td>Charged Off</td>\n",
       "      <td>12899</td>\n",
       "      <td>Long Term</td>\n",
       "      <td>6670.0</td>\n",
       "      <td>2 years</td>\n",
       "      <td>Rent</td>\n",
       "      <td>133947.0</td>\n",
       "      <td>Debt Consolidation</td>\n",
       "      <td>$1,931.07</td>\n",
       "      <td>18.4</td>\n",
       "      <td>7.0</td>\n",
       "      <td>16</td>\n",
       "      <td>0</td>\n",
       "      <td>39417</td>\n",
       "      <td>90199</td>\n",
       "      <td>0.0</td>\n",
       "      <td>0.0</td>\n",
       "    </tr>\n",
       "    <tr>\n",
       "      <th>79</th>\n",
       "      <td>001227a1-4490-47c6-ada7-20faf636e9a3</td>\n",
       "      <td>3d4a8985-0b72-4084-8b20-f441d9868483</td>\n",
       "      <td>Charged Off</td>\n",
       "      <td>5060</td>\n",
       "      <td>Short Term</td>\n",
       "      <td>7270.0</td>\n",
       "      <td>&lt; 1 year</td>\n",
       "      <td>Home Mortgage</td>\n",
       "      <td>62738.0</td>\n",
       "      <td>Other</td>\n",
       "      <td>$711.03</td>\n",
       "      <td>20.4</td>\n",
       "      <td>22.0</td>\n",
       "      <td>6</td>\n",
       "      <td>0</td>\n",
       "      <td>10777</td>\n",
       "      <td>12041</td>\n",
       "      <td>0.0</td>\n",
       "      <td>0.0</td>\n",
       "    </tr>\n",
       "    <tr>\n",
       "      <th>...</th>\n",
       "      <td>...</td>\n",
       "      <td>...</td>\n",
       "      <td>...</td>\n",
       "      <td>...</td>\n",
       "      <td>...</td>\n",
       "      <td>...</td>\n",
       "      <td>...</td>\n",
       "      <td>...</td>\n",
       "      <td>...</td>\n",
       "      <td>...</td>\n",
       "      <td>...</td>\n",
       "      <td>...</td>\n",
       "      <td>...</td>\n",
       "      <td>...</td>\n",
       "      <td>...</td>\n",
       "      <td>...</td>\n",
       "      <td>...</td>\n",
       "      <td>...</td>\n",
       "      <td>...</td>\n",
       "    </tr>\n",
       "    <tr>\n",
       "      <th>256946</th>\n",
       "      <td>fff5f918-967f-4cae-b8e8-0ec41b9d0a69</td>\n",
       "      <td>92093f79-1142-496c-8aef-0bc152ed8dd9</td>\n",
       "      <td>Charged Off</td>\n",
       "      <td>20658</td>\n",
       "      <td>Short Term</td>\n",
       "      <td>7450.0</td>\n",
       "      <td>10+ years</td>\n",
       "      <td>Rent</td>\n",
       "      <td>45963.0</td>\n",
       "      <td>Debt Consolidation</td>\n",
       "      <td>$792.86</td>\n",
       "      <td>17.4</td>\n",
       "      <td>NaN</td>\n",
       "      <td>10</td>\n",
       "      <td>0</td>\n",
       "      <td>13192</td>\n",
       "      <td>36143</td>\n",
       "      <td>0.0</td>\n",
       "      <td>0.0</td>\n",
       "    </tr>\n",
       "    <tr>\n",
       "      <th>256948</th>\n",
       "      <td>fff61503-051a-4bb8-8342-287939fa738a</td>\n",
       "      <td>b36620f7-d086-45c4-bfdc-b14c2187d0c6</td>\n",
       "      <td>Charged Off</td>\n",
       "      <td>20492</td>\n",
       "      <td>Short Term</td>\n",
       "      <td>7220.0</td>\n",
       "      <td>5 years</td>\n",
       "      <td>Rent</td>\n",
       "      <td>52511.0</td>\n",
       "      <td>Debt Consolidation</td>\n",
       "      <td>$1,163.99</td>\n",
       "      <td>19.0</td>\n",
       "      <td>NaN</td>\n",
       "      <td>12</td>\n",
       "      <td>0</td>\n",
       "      <td>18732</td>\n",
       "      <td>24391</td>\n",
       "      <td>0.0</td>\n",
       "      <td>0.0</td>\n",
       "    </tr>\n",
       "    <tr>\n",
       "      <th>256952</th>\n",
       "      <td>fff6748f-e442-4848-9dd6-2252cb7396fd</td>\n",
       "      <td>6a54a6c9-3328-4ee0-bcb9-f4e8af37ff12</td>\n",
       "      <td>Charged Off</td>\n",
       "      <td>12262</td>\n",
       "      <td>Long Term</td>\n",
       "      <td>7410.0</td>\n",
       "      <td>NaN</td>\n",
       "      <td>Home Mortgage</td>\n",
       "      <td>40872.0</td>\n",
       "      <td>Debt Consolidation</td>\n",
       "      <td>$705.04</td>\n",
       "      <td>16.5</td>\n",
       "      <td>NaN</td>\n",
       "      <td>11</td>\n",
       "      <td>0</td>\n",
       "      <td>13892</td>\n",
       "      <td>22775</td>\n",
       "      <td>0.0</td>\n",
       "      <td>0.0</td>\n",
       "    </tr>\n",
       "    <tr>\n",
       "      <th>256977</th>\n",
       "      <td>fffe84cf-67a1-468d-ab7b-cf06a9c4ee14</td>\n",
       "      <td>460c6cf5-4d12-4e3c-a3d0-46dd67c78cce</td>\n",
       "      <td>Charged Off</td>\n",
       "      <td>11953</td>\n",
       "      <td>Short Term</td>\n",
       "      <td>7170.0</td>\n",
       "      <td>10+ years</td>\n",
       "      <td>Home Mortgage</td>\n",
       "      <td>39844.0</td>\n",
       "      <td>Debt Consolidation</td>\n",
       "      <td>$982.82</td>\n",
       "      <td>11.7</td>\n",
       "      <td>NaN</td>\n",
       "      <td>9</td>\n",
       "      <td>1</td>\n",
       "      <td>4176</td>\n",
       "      <td>4783</td>\n",
       "      <td>1.0</td>\n",
       "      <td>0.0</td>\n",
       "    </tr>\n",
       "    <tr>\n",
       "      <th>256981</th>\n",
       "      <td>ffffcb2e-e48e-4d2c-a0d6-ed6bce5bfdbe</td>\n",
       "      <td>971a6682-183b-4a52-8bce-1d3429ade295</td>\n",
       "      <td>Charged Off</td>\n",
       "      <td>12116</td>\n",
       "      <td>Short Term</td>\n",
       "      <td>7460.0</td>\n",
       "      <td>9 years</td>\n",
       "      <td>Home Mortgage</td>\n",
       "      <td>52504.0</td>\n",
       "      <td>Debt Consolidation</td>\n",
       "      <td>$297.96</td>\n",
       "      <td>15.1</td>\n",
       "      <td>82.0</td>\n",
       "      <td>8</td>\n",
       "      <td>0</td>\n",
       "      <td>3315</td>\n",
       "      <td>20090</td>\n",
       "      <td>0.0</td>\n",
       "      <td>0.0</td>\n",
       "    </tr>\n",
       "  </tbody>\n",
       "</table>\n",
       "<p>16187 rows × 19 columns</p>\n",
       "</div>"
      ],
      "text/plain": [
       "                                     Loan ID  \\\n",
       "6       0000afa6-8902-4f8f-b870-25a8fdad0aeb   \n",
       "55      000c0c27-1961-4336-b760-a300e1bce9b0   \n",
       "71      000f1140-ef9f-42f9-9898-f9b3162bf0da   \n",
       "73      000f5c35-dc3e-415f-9c22-e355ef96d78b   \n",
       "79      001227a1-4490-47c6-ada7-20faf636e9a3   \n",
       "...                                      ...   \n",
       "256946  fff5f918-967f-4cae-b8e8-0ec41b9d0a69   \n",
       "256948  fff61503-051a-4bb8-8342-287939fa738a   \n",
       "256952  fff6748f-e442-4848-9dd6-2252cb7396fd   \n",
       "256977  fffe84cf-67a1-468d-ab7b-cf06a9c4ee14   \n",
       "256981  ffffcb2e-e48e-4d2c-a0d6-ed6bce5bfdbe   \n",
       "\n",
       "                                 Customer ID  Loan Status  \\\n",
       "6       e49c1a82-a0f7-45e8-9f46-2f75c43f9fbc  Charged Off   \n",
       "55      881edf98-387c-4eef-ab71-317a7a5e70c1  Charged Off   \n",
       "71      442c2d9b-3d95-44a9-bcb4-0dc80a941e3c  Charged Off   \n",
       "73      0ecf29b6-93eb-4c13-b853-a9cbdfc7f85b  Charged Off   \n",
       "79      3d4a8985-0b72-4084-8b20-f441d9868483  Charged Off   \n",
       "...                                      ...          ...   \n",
       "256946  92093f79-1142-496c-8aef-0bc152ed8dd9  Charged Off   \n",
       "256948  b36620f7-d086-45c4-bfdc-b14c2187d0c6  Charged Off   \n",
       "256952  6a54a6c9-3328-4ee0-bcb9-f4e8af37ff12  Charged Off   \n",
       "256977  460c6cf5-4d12-4e3c-a3d0-46dd67c78cce  Charged Off   \n",
       "256981  971a6682-183b-4a52-8bce-1d3429ade295  Charged Off   \n",
       "\n",
       "        Current Loan Amount        Term  Credit Score Years in current job  \\\n",
       "6                     24613   Long Term        6640.0              6 years   \n",
       "55                     6463  Short Term        7320.0               1 year   \n",
       "71                     6007  Short Term        7180.0            10+ years   \n",
       "73                    12899   Long Term        6670.0              2 years   \n",
       "79                     5060  Short Term        7270.0             < 1 year   \n",
       "...                     ...         ...           ...                  ...   \n",
       "256946                20658  Short Term        7450.0            10+ years   \n",
       "256948                20492  Short Term        7220.0              5 years   \n",
       "256952                12262   Long Term        7410.0                  NaN   \n",
       "256977                11953  Short Term        7170.0            10+ years   \n",
       "256981                12116  Short Term        7460.0              9 years   \n",
       "\n",
       "       Home Ownership  Annual Income             Purpose Monthly Debt  \\\n",
       "6                Rent        49225.0       Business Loan      $542.29   \n",
       "55           Own Home        25248.0  Debt Consolidation      $633.29   \n",
       "71      Home Mortgage        43052.0  Debt Consolidation      $538.15   \n",
       "73               Rent       133947.0  Debt Consolidation   $1,931.07    \n",
       "79      Home Mortgage        62738.0               Other      $711.03   \n",
       "...               ...            ...                 ...          ...   \n",
       "256946           Rent        45963.0  Debt Consolidation      $792.86   \n",
       "256948           Rent        52511.0  Debt Consolidation   $1,163.99    \n",
       "256952  Home Mortgage        40872.0  Debt Consolidation      $705.04   \n",
       "256977  Home Mortgage        39844.0  Debt Consolidation      $982.82   \n",
       "256981  Home Mortgage        52504.0  Debt Consolidation      $297.96   \n",
       "\n",
       "        Years of Credit History  Months since last delinquent  \\\n",
       "6                          17.6                          73.0   \n",
       "55                         19.9                          74.0   \n",
       "71                         23.6                          13.0   \n",
       "73                         18.4                           7.0   \n",
       "79                         20.4                          22.0   \n",
       "...                         ...                           ...   \n",
       "256946                     17.4                           NaN   \n",
       "256948                     19.0                           NaN   \n",
       "256952                     16.5                           NaN   \n",
       "256977                     11.7                           NaN   \n",
       "256981                     15.1                          82.0   \n",
       "\n",
       "        Number of Open Accounts  Number of Credit Problems  \\\n",
       "6                             7                          0   \n",
       "55                            9                          0   \n",
       "71                            6                          0   \n",
       "73                           16                          0   \n",
       "79                            6                          0   \n",
       "...                         ...                        ...   \n",
       "256946                       10                          0   \n",
       "256948                       12                          0   \n",
       "256952                       11                          0   \n",
       "256977                        9                          1   \n",
       "256981                        8                          0   \n",
       "\n",
       "        Current Credit Balance Maximum Open Credit  Bankruptcies  Tax Liens  \n",
       "6                        14123               16954           0.0        0.0  \n",
       "55                        8025               24317           0.0        0.0  \n",
       "71                        5077                7811           0.0        0.0  \n",
       "73                       39417               90199           0.0        0.0  \n",
       "79                       10777               12041           0.0        0.0  \n",
       "...                        ...                 ...           ...        ...  \n",
       "256946                   13192               36143           0.0        0.0  \n",
       "256948                   18732               24391           0.0        0.0  \n",
       "256952                   13892               22775           0.0        0.0  \n",
       "256977                    4176                4783           1.0        0.0  \n",
       "256981                    3315               20090           0.0        0.0  \n",
       "\n",
       "[16187 rows x 19 columns]"
      ]
     },
     "execution_count": 37,
     "metadata": {},
     "output_type": "execute_result"
    }
   ],
   "source": [
    "#filter for where credit score is greater than 800\n",
    "df[df['Credit Score']>800]"
   ]
  },
  {
   "cell_type": "code",
   "execution_count": 38,
   "metadata": {},
   "outputs": [],
   "source": [
    "#choosing all values where credit scores > 800, dividing those values by 10, and then replacing those values in the original df\n",
    "df['Credit Score'] = np.where((df['Credit Score']>800), df['Credit Score']//10, df['Credit Score'])"
   ]
  },
  {
   "cell_type": "code",
   "execution_count": 39,
   "metadata": {},
   "outputs": [
    {
     "data": {
      "image/png": "[encoded data removed]",
      "text/plain": [
       "<Figure size 640x480 with 1 Axes>"
      ]
     },
     "metadata": {},
     "output_type": "display_data"
    }
   ],
   "source": [
    "plt.hist(df['Credit Score'],50);"
   ]
  },
  {
   "cell_type": "code",
   "execution_count": 40,
   "metadata": {},
   "outputs": [
    {
     "data": {
      "text/html": [
       "<div>\n",
       "<style scoped>\n",
       "    .dataframe tbody tr th:only-of-type {\n",
       "        vertical-align: middle;\n",
       "    }\n",
       "\n",
       "    .dataframe tbody tr th {\n",
       "        vertical-align: top;\n",
       "    }\n",
       "\n",
       "    .dataframe thead th {\n",
       "        text-align: right;\n",
       "    }\n",
       "</style>\n",
       "<table border=\"1\" class=\"dataframe\">\n",
       "  <thead>\n",
       "    <tr style=\"text-align: right;\">\n",
       "      <th></th>\n",
       "      <th>Loan ID</th>\n",
       "      <th>Customer ID</th>\n",
       "      <th>Loan Status</th>\n",
       "      <th>Current Loan Amount</th>\n",
       "      <th>Term</th>\n",
       "      <th>Credit Score</th>\n",
       "      <th>Years in current job</th>\n",
       "      <th>Home Ownership</th>\n",
       "      <th>Annual Income</th>\n",
       "      <th>Purpose</th>\n",
       "      <th>Monthly Debt</th>\n",
       "      <th>Years of Credit History</th>\n",
       "      <th>Months since last delinquent</th>\n",
       "      <th>Number of Open Accounts</th>\n",
       "      <th>Number of Credit Problems</th>\n",
       "      <th>Current Credit Balance</th>\n",
       "      <th>Maximum Open Credit</th>\n",
       "      <th>Bankruptcies</th>\n",
       "      <th>Tax Liens</th>\n",
       "    </tr>\n",
       "  </thead>\n",
       "  <tbody>\n",
       "    <tr>\n",
       "      <th>7</th>\n",
       "      <td>0000afa6-8902-4f8f-b870-25a8fdad0aeb</td>\n",
       "      <td>e49c1a82-a0f7-45e8-9f46-2f75c43f9fbc</td>\n",
       "      <td>Charged Off</td>\n",
       "      <td>24613</td>\n",
       "      <td>Long Term</td>\n",
       "      <td>NaN</td>\n",
       "      <td>6 years</td>\n",
       "      <td>Rent</td>\n",
       "      <td>NaN</td>\n",
       "      <td>Business Loan</td>\n",
       "      <td>$542.29</td>\n",
       "      <td>17.6</td>\n",
       "      <td>73.0</td>\n",
       "      <td>7</td>\n",
       "      <td>0</td>\n",
       "      <td>14123</td>\n",
       "      <td>16954</td>\n",
       "      <td>0.0</td>\n",
       "      <td>0.0</td>\n",
       "    </tr>\n",
       "    <tr>\n",
       "      <th>8</th>\n",
       "      <td>00011dfc-31c1-4178-932a-fbeb3f341efb</td>\n",
       "      <td>ef6e098c-6c83-4752-8d00-ff793e476b8c</td>\n",
       "      <td>Fully Paid</td>\n",
       "      <td>10036</td>\n",
       "      <td>Short Term</td>\n",
       "      <td>NaN</td>\n",
       "      <td>5 years</td>\n",
       "      <td>Rent</td>\n",
       "      <td>NaN</td>\n",
       "      <td>Debt Consolidation</td>\n",
       "      <td>$386.36</td>\n",
       "      <td>17.7</td>\n",
       "      <td>NaN</td>\n",
       "      <td>7</td>\n",
       "      <td>0</td>\n",
       "      <td>11970</td>\n",
       "      <td>16579</td>\n",
       "      <td>0.0</td>\n",
       "      <td>0.0</td>\n",
       "    </tr>\n",
       "    <tr>\n",
       "      <th>12</th>\n",
       "      <td>00029f9f-0cc5-4d4e-aabc-ea4a7fe74e12</td>\n",
       "      <td>afbc2fa3-3bad-4d48-b691-829aed78bad5</td>\n",
       "      <td>Charged Off</td>\n",
       "      <td>17980</td>\n",
       "      <td>Short Term</td>\n",
       "      <td>NaN</td>\n",
       "      <td>&lt; 1 year</td>\n",
       "      <td>Own Home</td>\n",
       "      <td>NaN</td>\n",
       "      <td>Debt Consolidation</td>\n",
       "      <td>$597.50</td>\n",
       "      <td>9.9</td>\n",
       "      <td>43.0</td>\n",
       "      <td>7</td>\n",
       "      <td>0</td>\n",
       "      <td>6817</td>\n",
       "      <td>22800</td>\n",
       "      <td>0.0</td>\n",
       "      <td>0.0</td>\n",
       "    </tr>\n",
       "    <tr>\n",
       "      <th>20</th>\n",
       "      <td>00038a08-f058-4add-a8ed-497b91672a9e</td>\n",
       "      <td>727bb429-dfa1-41c4-a347-23230e23949f</td>\n",
       "      <td>Charged Off</td>\n",
       "      <td>16929</td>\n",
       "      <td>Long Term</td>\n",
       "      <td>NaN</td>\n",
       "      <td>3 years</td>\n",
       "      <td>Home Mortgage</td>\n",
       "      <td>NaN</td>\n",
       "      <td>Debt Consolidation</td>\n",
       "      <td>$745.70</td>\n",
       "      <td>14.9</td>\n",
       "      <td>NaN</td>\n",
       "      <td>10</td>\n",
       "      <td>0</td>\n",
       "      <td>28513</td>\n",
       "      <td>101110</td>\n",
       "      <td>0.0</td>\n",
       "      <td>0.0</td>\n",
       "    </tr>\n",
       "    <tr>\n",
       "      <th>22</th>\n",
       "      <td>0003b749-307f-4830-9fb4-9db7ed1b1c48</td>\n",
       "      <td>998dc43c-f9ce-466e-bdaa-7057b0bbb9cd</td>\n",
       "      <td>Fully Paid</td>\n",
       "      <td>7228</td>\n",
       "      <td>Short Term</td>\n",
       "      <td>NaN</td>\n",
       "      <td>3 years</td>\n",
       "      <td>Home Mortgage</td>\n",
       "      <td>NaN</td>\n",
       "      <td>Debt Consolidation</td>\n",
       "      <td>$439.56</td>\n",
       "      <td>17.8</td>\n",
       "      <td>NaN</td>\n",
       "      <td>13</td>\n",
       "      <td>1</td>\n",
       "      <td>8488</td>\n",
       "      <td>15866</td>\n",
       "      <td>1.0</td>\n",
       "      <td>0.0</td>\n",
       "    </tr>\n",
       "    <tr>\n",
       "      <th>...</th>\n",
       "      <td>...</td>\n",
       "      <td>...</td>\n",
       "      <td>...</td>\n",
       "      <td>...</td>\n",
       "      <td>...</td>\n",
       "      <td>...</td>\n",
       "      <td>...</td>\n",
       "      <td>...</td>\n",
       "      <td>...</td>\n",
       "      <td>...</td>\n",
       "      <td>...</td>\n",
       "      <td>...</td>\n",
       "      <td>...</td>\n",
       "      <td>...</td>\n",
       "      <td>...</td>\n",
       "      <td>...</td>\n",
       "      <td>...</td>\n",
       "      <td>...</td>\n",
       "      <td>...</td>\n",
       "    </tr>\n",
       "    <tr>\n",
       "      <th>256959</th>\n",
       "      <td>fff9b38f-9a27-49d0-8d49-6306f41529eb</td>\n",
       "      <td>f8579c88-cbda-48ce-a542-42fbefccd01d</td>\n",
       "      <td>Fully Paid</td>\n",
       "      <td>9753</td>\n",
       "      <td>Short Term</td>\n",
       "      <td>NaN</td>\n",
       "      <td>2 years</td>\n",
       "      <td>Own Home</td>\n",
       "      <td>NaN</td>\n",
       "      <td>Debt Consolidation</td>\n",
       "      <td>$469.35</td>\n",
       "      <td>23.2</td>\n",
       "      <td>80.0</td>\n",
       "      <td>7</td>\n",
       "      <td>1</td>\n",
       "      <td>5022</td>\n",
       "      <td>9248</td>\n",
       "      <td>1.0</td>\n",
       "      <td>0.0</td>\n",
       "    </tr>\n",
       "    <tr>\n",
       "      <th>256962</th>\n",
       "      <td>fffaa912-faa8-4bdf-8ff1-fd5884e51c66</td>\n",
       "      <td>d059bcea-3016-48d3-b7e0-c6e618e1f2c3</td>\n",
       "      <td>Fully Paid</td>\n",
       "      <td>6655</td>\n",
       "      <td>Short Term</td>\n",
       "      <td>NaN</td>\n",
       "      <td>10+ years</td>\n",
       "      <td>Rent</td>\n",
       "      <td>NaN</td>\n",
       "      <td>Debt Consolidation</td>\n",
       "      <td>$620.42</td>\n",
       "      <td>11.1</td>\n",
       "      <td>62.0</td>\n",
       "      <td>15</td>\n",
       "      <td>0</td>\n",
       "      <td>7114</td>\n",
       "      <td>18336</td>\n",
       "      <td>0.0</td>\n",
       "      <td>0.0</td>\n",
       "    </tr>\n",
       "    <tr>\n",
       "      <th>256965</th>\n",
       "      <td>fffc297d-74f0-4d42-ad90-cdea2bd9aac0</td>\n",
       "      <td>b8cae6f0-6c9b-4982-bef2-e3cdf48add59</td>\n",
       "      <td>Charged Off</td>\n",
       "      <td>11524</td>\n",
       "      <td>Short Term</td>\n",
       "      <td>NaN</td>\n",
       "      <td>6 years</td>\n",
       "      <td>Home Mortgage</td>\n",
       "      <td>NaN</td>\n",
       "      <td>Debt Consolidation</td>\n",
       "      <td>$790.35</td>\n",
       "      <td>21.4</td>\n",
       "      <td>NaN</td>\n",
       "      <td>23</td>\n",
       "      <td>0</td>\n",
       "      <td>12818</td>\n",
       "      <td>19160</td>\n",
       "      <td>0.0</td>\n",
       "      <td>0.0</td>\n",
       "    </tr>\n",
       "    <tr>\n",
       "      <th>256973</th>\n",
       "      <td>fffe36ec-97a6-460a-a236-640b7e0669f0</td>\n",
       "      <td>6520de3e-5961-47b1-bced-6a8132acb5cc</td>\n",
       "      <td>Charged Off</td>\n",
       "      <td>10575</td>\n",
       "      <td>Long Term</td>\n",
       "      <td>NaN</td>\n",
       "      <td>&lt; 1 year</td>\n",
       "      <td>Rent</td>\n",
       "      <td>NaN</td>\n",
       "      <td>Debt Consolidation</td>\n",
       "      <td>$707.08</td>\n",
       "      <td>14.8</td>\n",
       "      <td>NaN</td>\n",
       "      <td>18</td>\n",
       "      <td>0</td>\n",
       "      <td>20183</td>\n",
       "      <td>23496</td>\n",
       "      <td>0.0</td>\n",
       "      <td>0.0</td>\n",
       "    </tr>\n",
       "    <tr>\n",
       "      <th>256979</th>\n",
       "      <td>fffef5b7-be99-4666-ac70-2a397d2ee435</td>\n",
       "      <td>7211a8e3-cba4-4132-b939-222eed8a662c</td>\n",
       "      <td>Fully Paid</td>\n",
       "      <td>3911</td>\n",
       "      <td>Short Term</td>\n",
       "      <td>NaN</td>\n",
       "      <td>2 years</td>\n",
       "      <td>Rent</td>\n",
       "      <td>NaN</td>\n",
       "      <td>Debt Consolidation</td>\n",
       "      <td>$1,706.58</td>\n",
       "      <td>19.9</td>\n",
       "      <td>NaN</td>\n",
       "      <td>16</td>\n",
       "      <td>0</td>\n",
       "      <td>43992</td>\n",
       "      <td>44080</td>\n",
       "      <td>0.0</td>\n",
       "      <td>0.0</td>\n",
       "    </tr>\n",
       "  </tbody>\n",
       "</table>\n",
       "<p>61676 rows × 19 columns</p>\n",
       "</div>"
      ],
      "text/plain": [
       "                                     Loan ID  \\\n",
       "7       0000afa6-8902-4f8f-b870-25a8fdad0aeb   \n",
       "8       00011dfc-31c1-4178-932a-fbeb3f341efb   \n",
       "12      00029f9f-0cc5-4d4e-aabc-ea4a7fe74e12   \n",
       "20      00038a08-f058-4add-a8ed-497b91672a9e   \n",
       "22      0003b749-307f-4830-9fb4-9db7ed1b1c48   \n",
       "...                                      ...   \n",
       "256959  fff9b38f-9a27-49d0-8d49-6306f41529eb   \n",
       "256962  fffaa912-faa8-4bdf-8ff1-fd5884e51c66   \n",
       "256965  fffc297d-74f0-4d42-ad90-cdea2bd9aac0   \n",
       "256973  fffe36ec-97a6-460a-a236-640b7e0669f0   \n",
       "256979  fffef5b7-be99-4666-ac70-2a397d2ee435   \n",
       "\n",
       "                                 Customer ID  Loan Status  \\\n",
       "7       e49c1a82-a0f7-45e8-9f46-2f75c43f9fbc  Charged Off   \n",
       "8       ef6e098c-6c83-4752-8d00-ff793e476b8c   Fully Paid   \n",
       "12      afbc2fa3-3bad-4d48-b691-829aed78bad5  Charged Off   \n",
       "20      727bb429-dfa1-41c4-a347-23230e23949f  Charged Off   \n",
       "22      998dc43c-f9ce-466e-bdaa-7057b0bbb9cd   Fully Paid   \n",
       "...                                      ...          ...   \n",
       "256959  f8579c88-cbda-48ce-a542-42fbefccd01d   Fully Paid   \n",
       "256962  d059bcea-3016-48d3-b7e0-c6e618e1f2c3   Fully Paid   \n",
       "256965  b8cae6f0-6c9b-4982-bef2-e3cdf48add59  Charged Off   \n",
       "256973  6520de3e-5961-47b1-bced-6a8132acb5cc  Charged Off   \n",
       "256979  7211a8e3-cba4-4132-b939-222eed8a662c   Fully Paid   \n",
       "\n",
       "        Current Loan Amount        Term  Credit Score Years in current job  \\\n",
       "7                     24613   Long Term           NaN              6 years   \n",
       "8                     10036  Short Term           NaN              5 years   \n",
       "12                    17980  Short Term           NaN             < 1 year   \n",
       "20                    16929   Long Term           NaN              3 years   \n",
       "22                     7228  Short Term           NaN              3 years   \n",
       "...                     ...         ...           ...                  ...   \n",
       "256959                 9753  Short Term           NaN              2 years   \n",
       "256962                 6655  Short Term           NaN            10+ years   \n",
       "256965                11524  Short Term           NaN              6 years   \n",
       "256973                10575   Long Term           NaN             < 1 year   \n",
       "256979                 3911  Short Term           NaN              2 years   \n",
       "\n",
       "       Home Ownership  Annual Income             Purpose Monthly Debt  \\\n",
       "7                Rent            NaN       Business Loan      $542.29   \n",
       "8                Rent            NaN  Debt Consolidation      $386.36   \n",
       "12           Own Home            NaN  Debt Consolidation      $597.50   \n",
       "20      Home Mortgage            NaN  Debt Consolidation      $745.70   \n",
       "22      Home Mortgage            NaN  Debt Consolidation      $439.56   \n",
       "...               ...            ...                 ...          ...   \n",
       "256959       Own Home            NaN  Debt Consolidation      $469.35   \n",
       "256962           Rent            NaN  Debt Consolidation      $620.42   \n",
       "256965  Home Mortgage            NaN  Debt Consolidation      $790.35   \n",
       "256973           Rent            NaN  Debt Consolidation      $707.08   \n",
       "256979           Rent            NaN  Debt Consolidation   $1,706.58    \n",
       "\n",
       "        Years of Credit History  Months since last delinquent  \\\n",
       "7                          17.6                          73.0   \n",
       "8                          17.7                           NaN   \n",
       "12                          9.9                          43.0   \n",
       "20                         14.9                           NaN   \n",
       "22                         17.8                           NaN   \n",
       "...                         ...                           ...   \n",
       "256959                     23.2                          80.0   \n",
       "256962                     11.1                          62.0   \n",
       "256965                     21.4                           NaN   \n",
       "256973                     14.8                           NaN   \n",
       "256979                     19.9                           NaN   \n",
       "\n",
       "        Number of Open Accounts  Number of Credit Problems  \\\n",
       "7                             7                          0   \n",
       "8                             7                          0   \n",
       "12                            7                          0   \n",
       "20                           10                          0   \n",
       "22                           13                          1   \n",
       "...                         ...                        ...   \n",
       "256959                        7                          1   \n",
       "256962                       15                          0   \n",
       "256965                       23                          0   \n",
       "256973                       18                          0   \n",
       "256979                       16                          0   \n",
       "\n",
       "        Current Credit Balance Maximum Open Credit  Bankruptcies  Tax Liens  \n",
       "7                        14123               16954           0.0        0.0  \n",
       "8                        11970               16579           0.0        0.0  \n",
       "12                        6817               22800           0.0        0.0  \n",
       "20                       28513              101110           0.0        0.0  \n",
       "22                        8488               15866           1.0        0.0  \n",
       "...                        ...                 ...           ...        ...  \n",
       "256959                    5022                9248           1.0        0.0  \n",
       "256962                    7114               18336           0.0        0.0  \n",
       "256965                   12818               19160           0.0        0.0  \n",
       "256973                   20183               23496           0.0        0.0  \n",
       "256979                   43992               44080           0.0        0.0  \n",
       "\n",
       "[61676 rows x 19 columns]"
      ]
     },
     "execution_count": 40,
     "metadata": {},
     "output_type": "execute_result"
    }
   ],
   "source": [
    "df[df['Credit Score'].isnull()]"
   ]
  },
  {
   "cell_type": "code",
   "execution_count": 41,
   "metadata": {},
   "outputs": [
    {
     "data": {
      "text/plain": [
       "count    195308.000000\n",
       "mean        721.203197\n",
       "std          27.719518\n",
       "min         585.000000\n",
       "25%         710.000000\n",
       "50%         730.000000\n",
       "75%         741.000000\n",
       "max         751.000000\n",
       "Name: Credit Score, dtype: float64"
      ]
     },
     "execution_count": 41,
     "metadata": {},
     "output_type": "execute_result"
    }
   ],
   "source": [
    "df['Credit Score'].describe()"
   ]
  },
  {
   "cell_type": "code",
   "execution_count": 42,
   "metadata": {},
   "outputs": [
    {
     "data": {
      "text/plain": [
       "721.203197001659"
      ]
     },
     "execution_count": 42,
     "metadata": {},
     "output_type": "execute_result"
    }
   ],
   "source": [
    "df['Credit Score'].mean()"
   ]
  },
  {
   "cell_type": "code",
   "execution_count": 43,
   "metadata": {},
   "outputs": [],
   "source": [
    "df['Credit Score'] = df['Credit Score'].transform(lambda x: x.fillna(x.mean()))"
   ]
  },
  {
   "cell_type": "code",
   "execution_count": 44,
   "metadata": {},
   "outputs": [
    {
     "data": {
      "text/plain": [
       "Current Loan Amount             0.079935\n",
       "Credit Score                    1.000000\n",
       "Annual Income                   0.012355\n",
       "Years of Credit History         0.074643\n",
       "Months since last delinquent    0.040261\n",
       "Number of Open Accounts        -0.037967\n",
       "Number of Credit Problems      -0.050345\n",
       "Current Credit Balance         -0.013993\n",
       "Bankruptcies                   -0.037576\n",
       "Tax Liens                      -0.023956\n",
       "Name: Credit Score, dtype: float64"
      ]
     },
     "execution_count": 44,
     "metadata": {},
     "output_type": "execute_result"
    }
   ],
   "source": [
    "# correlation table of Credit Score with other columns\n",
    "df.corr(numeric_only= True)['Credit Score']\n",
    "#Number of Credit Problems, Years of Credit History have the highest correlation\n",
    "#getting groups with one or two observations because Credit History is continuous \n",
    "#possible solution: group years of credit history by ranges (1-15 years)\n",
    "#1 year, 2 year, 3 year...15 years instead of 3.4 year, 3.5 year so there are more observations in each group\n",
    "#this is called BINNING\n",
    "\n",
    "#another possible solution: look at categorical (and discrete numerical variables) and anova\n",
    "\n",
    "#another solution: linear regression model with target and high correlated values \n",
    "#y = number of credit score + years credit history + current loan amount\n",
    "# need to make sure there is no multicollinearity"
   ]
  },
  {
   "cell_type": "code",
   "execution_count": 46,
   "metadata": {},
   "outputs": [
    {
     "ename": "KeyError",
     "evalue": "'Years of Credit History Binning'",
     "output_type": "error",
     "traceback": [
      "\u001b[1;31m---------------------------------------------------------------------------\u001b[0m",
      "\u001b[1;31mKeyError\u001b[0m                                  Traceback (most recent call last)",
      "Cell \u001b[1;32mIn[46], line 2\u001b[0m\n\u001b[0;32m      1\u001b[0m \u001b[38;5;66;03m#grouping by with highest correlation\u001b[39;00m\n\u001b[1;32m----> 2\u001b[0m \u001b[43mdf\u001b[49m\u001b[38;5;241;43m.\u001b[39;49m\u001b[43mgroupby\u001b[49m\u001b[43m(\u001b[49m\u001b[43m[\u001b[49m\u001b[38;5;124;43m'\u001b[39;49m\u001b[38;5;124;43mYears of Credit History Binning\u001b[39;49m\u001b[38;5;124;43m'\u001b[39;49m\u001b[43m]\u001b[49m\u001b[43m)\u001b[49m[\u001b[38;5;124m'\u001b[39m\u001b[38;5;124mCredit Score\u001b[39m\u001b[38;5;124m'\u001b[39m]\u001b[38;5;241m.\u001b[39mmean()\n\u001b[0;32m      3\u001b[0m \u001b[38;5;66;03m#there are nulls in here so going to have to fill in the nulls still --> can be fixed with binnning\u001b[39;00m\n",
      "File \u001b[1;32mc:\\Users\\Tifanie\\AppData\\Local\\Programs\\Python\\Python312\\Lib\\site-packages\\pandas\\core\\frame.py:9156\u001b[0m, in \u001b[0;36mDataFrame.groupby\u001b[1;34m(self, by, axis, level, as_index, sort, group_keys, observed, dropna)\u001b[0m\n\u001b[0;32m   9153\u001b[0m \u001b[38;5;28;01mif\u001b[39;00m level \u001b[38;5;129;01mis\u001b[39;00m \u001b[38;5;28;01mNone\u001b[39;00m \u001b[38;5;129;01mand\u001b[39;00m by \u001b[38;5;129;01mis\u001b[39;00m \u001b[38;5;28;01mNone\u001b[39;00m:\n\u001b[0;32m   9154\u001b[0m     \u001b[38;5;28;01mraise\u001b[39;00m \u001b[38;5;167;01mTypeError\u001b[39;00m(\u001b[38;5;124m\"\u001b[39m\u001b[38;5;124mYou have to supply one of \u001b[39m\u001b[38;5;124m'\u001b[39m\u001b[38;5;124mby\u001b[39m\u001b[38;5;124m'\u001b[39m\u001b[38;5;124m and \u001b[39m\u001b[38;5;124m'\u001b[39m\u001b[38;5;124mlevel\u001b[39m\u001b[38;5;124m'\u001b[39m\u001b[38;5;124m\"\u001b[39m)\n\u001b[1;32m-> 9156\u001b[0m \u001b[38;5;28;01mreturn\u001b[39;00m \u001b[43mDataFrameGroupBy\u001b[49m\u001b[43m(\u001b[49m\n\u001b[0;32m   9157\u001b[0m \u001b[43m    \u001b[49m\u001b[43mobj\u001b[49m\u001b[38;5;241;43m=\u001b[39;49m\u001b[38;5;28;43mself\u001b[39;49m\u001b[43m,\u001b[49m\n\u001b[0;32m   9158\u001b[0m \u001b[43m    \u001b[49m\u001b[43mkeys\u001b[49m\u001b[38;5;241;43m=\u001b[39;49m\u001b[43mby\u001b[49m\u001b[43m,\u001b[49m\n\u001b[0;32m   9159\u001b[0m \u001b[43m    \u001b[49m\u001b[43maxis\u001b[49m\u001b[38;5;241;43m=\u001b[39;49m\u001b[43maxis\u001b[49m\u001b[43m,\u001b[49m\n\u001b[0;32m   9160\u001b[0m \u001b[43m    \u001b[49m\u001b[43mlevel\u001b[49m\u001b[38;5;241;43m=\u001b[39;49m\u001b[43mlevel\u001b[49m\u001b[43m,\u001b[49m\n\u001b[0;32m   9161\u001b[0m \u001b[43m    \u001b[49m\u001b[43mas_index\u001b[49m\u001b[38;5;241;43m=\u001b[39;49m\u001b[43mas_index\u001b[49m\u001b[43m,\u001b[49m\n\u001b[0;32m   9162\u001b[0m \u001b[43m    \u001b[49m\u001b[43msort\u001b[49m\u001b[38;5;241;43m=\u001b[39;49m\u001b[43msort\u001b[49m\u001b[43m,\u001b[49m\n\u001b[0;32m   9163\u001b[0m \u001b[43m    \u001b[49m\u001b[43mgroup_keys\u001b[49m\u001b[38;5;241;43m=\u001b[39;49m\u001b[43mgroup_keys\u001b[49m\u001b[43m,\u001b[49m\n\u001b[0;32m   9164\u001b[0m \u001b[43m    \u001b[49m\u001b[43mobserved\u001b[49m\u001b[38;5;241;43m=\u001b[39;49m\u001b[43mobserved\u001b[49m\u001b[43m,\u001b[49m\n\u001b[0;32m   9165\u001b[0m \u001b[43m    \u001b[49m\u001b[43mdropna\u001b[49m\u001b[38;5;241;43m=\u001b[39;49m\u001b[43mdropna\u001b[49m\u001b[43m,\u001b[49m\n\u001b[0;32m   9166\u001b[0m \u001b[43m\u001b[49m\u001b[43m)\u001b[49m\n",
      "File \u001b[1;32mc:\\Users\\Tifanie\\AppData\\Local\\Programs\\Python\\Python312\\Lib\\site-packages\\pandas\\core\\groupby\\groupby.py:1329\u001b[0m, in \u001b[0;36mGroupBy.__init__\u001b[1;34m(self, obj, keys, axis, level, grouper, exclusions, selection, as_index, sort, group_keys, observed, dropna)\u001b[0m\n\u001b[0;32m   1326\u001b[0m \u001b[38;5;28mself\u001b[39m\u001b[38;5;241m.\u001b[39mdropna \u001b[38;5;241m=\u001b[39m dropna\n\u001b[0;32m   1328\u001b[0m \u001b[38;5;28;01mif\u001b[39;00m grouper \u001b[38;5;129;01mis\u001b[39;00m \u001b[38;5;28;01mNone\u001b[39;00m:\n\u001b[1;32m-> 1329\u001b[0m     grouper, exclusions, obj \u001b[38;5;241m=\u001b[39m \u001b[43mget_grouper\u001b[49m\u001b[43m(\u001b[49m\n\u001b[0;32m   1330\u001b[0m \u001b[43m        \u001b[49m\u001b[43mobj\u001b[49m\u001b[43m,\u001b[49m\n\u001b[0;32m   1331\u001b[0m \u001b[43m        \u001b[49m\u001b[43mkeys\u001b[49m\u001b[43m,\u001b[49m\n\u001b[0;32m   1332\u001b[0m \u001b[43m        \u001b[49m\u001b[43maxis\u001b[49m\u001b[38;5;241;43m=\u001b[39;49m\u001b[43maxis\u001b[49m\u001b[43m,\u001b[49m\n\u001b[0;32m   1333\u001b[0m \u001b[43m        \u001b[49m\u001b[43mlevel\u001b[49m\u001b[38;5;241;43m=\u001b[39;49m\u001b[43mlevel\u001b[49m\u001b[43m,\u001b[49m\n\u001b[0;32m   1334\u001b[0m \u001b[43m        \u001b[49m\u001b[43msort\u001b[49m\u001b[38;5;241;43m=\u001b[39;49m\u001b[43msort\u001b[49m\u001b[43m,\u001b[49m\n\u001b[0;32m   1335\u001b[0m \u001b[43m        \u001b[49m\u001b[43mobserved\u001b[49m\u001b[38;5;241;43m=\u001b[39;49m\u001b[38;5;28;43;01mFalse\u001b[39;49;00m\u001b[43m \u001b[49m\u001b[38;5;28;43;01mif\u001b[39;49;00m\u001b[43m \u001b[49m\u001b[43mobserved\u001b[49m\u001b[43m \u001b[49m\u001b[38;5;129;43;01mis\u001b[39;49;00m\u001b[43m \u001b[49m\u001b[43mlib\u001b[49m\u001b[38;5;241;43m.\u001b[39;49m\u001b[43mno_default\u001b[49m\u001b[43m \u001b[49m\u001b[38;5;28;43;01melse\u001b[39;49;00m\u001b[43m \u001b[49m\u001b[43mobserved\u001b[49m\u001b[43m,\u001b[49m\n\u001b[0;32m   1336\u001b[0m \u001b[43m        \u001b[49m\u001b[43mdropna\u001b[49m\u001b[38;5;241;43m=\u001b[39;49m\u001b[38;5;28;43mself\u001b[39;49m\u001b[38;5;241;43m.\u001b[39;49m\u001b[43mdropna\u001b[49m\u001b[43m,\u001b[49m\n\u001b[0;32m   1337\u001b[0m \u001b[43m    \u001b[49m\u001b[43m)\u001b[49m\n\u001b[0;32m   1339\u001b[0m \u001b[38;5;28;01mif\u001b[39;00m observed \u001b[38;5;129;01mis\u001b[39;00m lib\u001b[38;5;241m.\u001b[39mno_default:\n\u001b[0;32m   1340\u001b[0m     \u001b[38;5;28;01mif\u001b[39;00m \u001b[38;5;28many\u001b[39m(ping\u001b[38;5;241m.\u001b[39m_passed_categorical \u001b[38;5;28;01mfor\u001b[39;00m ping \u001b[38;5;129;01min\u001b[39;00m grouper\u001b[38;5;241m.\u001b[39mgroupings):\n",
      "File \u001b[1;32mc:\\Users\\Tifanie\\AppData\\Local\\Programs\\Python\\Python312\\Lib\\site-packages\\pandas\\core\\groupby\\grouper.py:1043\u001b[0m, in \u001b[0;36mget_grouper\u001b[1;34m(obj, key, axis, level, sort, observed, validate, dropna)\u001b[0m\n\u001b[0;32m   1041\u001b[0m         in_axis, level, gpr \u001b[38;5;241m=\u001b[39m \u001b[38;5;28;01mFalse\u001b[39;00m, gpr, \u001b[38;5;28;01mNone\u001b[39;00m\n\u001b[0;32m   1042\u001b[0m     \u001b[38;5;28;01melse\u001b[39;00m:\n\u001b[1;32m-> 1043\u001b[0m         \u001b[38;5;28;01mraise\u001b[39;00m \u001b[38;5;167;01mKeyError\u001b[39;00m(gpr)\n\u001b[0;32m   1044\u001b[0m \u001b[38;5;28;01melif\u001b[39;00m \u001b[38;5;28misinstance\u001b[39m(gpr, Grouper) \u001b[38;5;129;01mand\u001b[39;00m gpr\u001b[38;5;241m.\u001b[39mkey \u001b[38;5;129;01mis\u001b[39;00m \u001b[38;5;129;01mnot\u001b[39;00m \u001b[38;5;28;01mNone\u001b[39;00m:\n\u001b[0;32m   1045\u001b[0m     \u001b[38;5;66;03m# Add key to exclusions\u001b[39;00m\n\u001b[0;32m   1046\u001b[0m     exclusions\u001b[38;5;241m.\u001b[39madd(gpr\u001b[38;5;241m.\u001b[39mkey)\n",
      "\u001b[1;31mKeyError\u001b[0m: 'Years of Credit History Binning'"
     ]
    }
   ],
   "source": [
    "#grouping by with highest correlation\n",
    "# df.groupby(['Years of Credit History Binning'])['Credit Score'].mean()\n",
    "#there are nulls in here so going to have to fill in the nulls still --> can be fixed with binnning"
   ]
  },
  {
   "cell_type": "code",
   "execution_count": 47,
   "metadata": {},
   "outputs": [],
   "source": [
    "#dealing with NAN values with mean from each term according to number of credit problems\n",
    "df['Credit Score'] = df.groupby(['Years of Credit History'])['Credit Score'].transform(lambda x: x.fillna(x.mean()))"
   ]
  },
  {
   "cell_type": "code",
   "execution_count": 48,
   "metadata": {},
   "outputs": [
    {
     "data": {
      "text/plain": [
       "count    256984.000000\n",
       "mean        721.203197\n",
       "std          24.165310\n",
       "min         585.000000\n",
       "25%         718.000000\n",
       "50%         721.203197\n",
       "75%         738.000000\n",
       "max         751.000000\n",
       "Name: Credit Score, dtype: float64"
      ]
     },
     "execution_count": 48,
     "metadata": {},
     "output_type": "execute_result"
    }
   ],
   "source": [
    "df['Credit Score'].describe()"
   ]
  },
  {
   "cell_type": "code",
   "execution_count": 49,
   "metadata": {},
   "outputs": [
    {
     "data": {
      "text/plain": [
       "0"
      ]
     },
     "execution_count": 49,
     "metadata": {},
     "output_type": "execute_result"
    }
   ],
   "source": [
    "#checking\n",
    "df['Credit Score'].isnull().sum()"
   ]
  },
  {
   "cell_type": "code",
   "execution_count": 50,
   "metadata": {},
   "outputs": [
    {
     "data": {
      "text/html": [
       "<div>\n",
       "<style scoped>\n",
       "    .dataframe tbody tr th:only-of-type {\n",
       "        vertical-align: middle;\n",
       "    }\n",
       "\n",
       "    .dataframe tbody tr th {\n",
       "        vertical-align: top;\n",
       "    }\n",
       "\n",
       "    .dataframe thead th {\n",
       "        text-align: right;\n",
       "    }\n",
       "</style>\n",
       "<table border=\"1\" class=\"dataframe\">\n",
       "  <thead>\n",
       "    <tr style=\"text-align: right;\">\n",
       "      <th></th>\n",
       "      <th>Loan ID</th>\n",
       "      <th>Customer ID</th>\n",
       "      <th>Loan Status</th>\n",
       "      <th>Current Loan Amount</th>\n",
       "      <th>Term</th>\n",
       "      <th>Credit Score</th>\n",
       "      <th>Years in current job</th>\n",
       "      <th>Home Ownership</th>\n",
       "      <th>Annual Income</th>\n",
       "      <th>Purpose</th>\n",
       "      <th>Monthly Debt</th>\n",
       "      <th>Years of Credit History</th>\n",
       "      <th>Months since last delinquent</th>\n",
       "      <th>Number of Open Accounts</th>\n",
       "      <th>Number of Credit Problems</th>\n",
       "      <th>Current Credit Balance</th>\n",
       "      <th>Maximum Open Credit</th>\n",
       "      <th>Bankruptcies</th>\n",
       "      <th>Tax Liens</th>\n",
       "    </tr>\n",
       "  </thead>\n",
       "  <tbody>\n",
       "  </tbody>\n",
       "</table>\n",
       "</div>"
      ],
      "text/plain": [
       "Empty DataFrame\n",
       "Columns: [Loan ID, Customer ID, Loan Status, Current Loan Amount, Term, Credit Score, Years in current job, Home Ownership, Annual Income, Purpose, Monthly Debt, Years of Credit History, Months since last delinquent, Number of Open Accounts, Number of Credit Problems, Current Credit Balance, Maximum Open Credit, Bankruptcies, Tax Liens]\n",
       "Index: []"
      ]
     },
     "execution_count": 50,
     "metadata": {},
     "output_type": "execute_result"
    }
   ],
   "source": [
    "df[df['Credit Score'].isnull()]"
   ]
  },
  {
   "cell_type": "code",
   "execution_count": 51,
   "metadata": {},
   "outputs": [
    {
     "data": {
      "text/plain": [
       "0"
      ]
     },
     "execution_count": 51,
     "metadata": {},
     "output_type": "execute_result"
    }
   ],
   "source": [
    "df.groupby(['Number of Credit Problems'])['Credit Score'].mean().isnull().sum()"
   ]
  },
  {
   "cell_type": "code",
   "execution_count": 52,
   "metadata": {},
   "outputs": [],
   "source": [
    "df['Credit Score'] = df.groupby(['Number of Credit Problems'])['Credit Score'].transform(lambda x: x.fillna(x.mean()))"
   ]
  },
  {
   "cell_type": "code",
   "execution_count": 53,
   "metadata": {},
   "outputs": [
    {
     "data": {
      "text/plain": [
       "0"
      ]
     },
     "execution_count": 53,
     "metadata": {},
     "output_type": "execute_result"
    }
   ],
   "source": [
    "df['Credit Score'].isnull().sum()"
   ]
  },
  {
   "cell_type": "code",
   "execution_count": 54,
   "metadata": {},
   "outputs": [
    {
     "data": {
      "image/png": "[encoded data removed]",
      "text/plain": [
       "<Figure size 640x480 with 1 Axes>"
      ]
     },
     "metadata": {},
     "output_type": "display_data"
    }
   ],
   "source": [
    "plt.hist(df['Credit Score'],50);"
   ]
  },
  {
   "cell_type": "code",
   "execution_count": 55,
   "metadata": {},
   "outputs": [],
   "source": [
    "df['Credit Score'] = df['Credit Score'].astype(int)"
   ]
  },
  {
   "cell_type": "code",
   "execution_count": 56,
   "metadata": {},
   "outputs": [
    {
     "data": {
      "text/plain": [
       "0         741\n",
       "1         734\n",
       "2         747\n",
       "3         747\n",
       "4         746\n",
       "         ... \n",
       "256979    721\n",
       "256980    737\n",
       "256981    746\n",
       "256982    746\n",
       "256983    678\n",
       "Name: Credit Score, Length: 256984, dtype: int32"
      ]
     },
     "execution_count": 56,
     "metadata": {},
     "output_type": "execute_result"
    }
   ],
   "source": [
    "df['Credit Score']"
   ]
  },
  {
   "cell_type": "markdown",
   "metadata": {},
   "source": [
    "## Years in Current Job"
   ]
  },
  {
   "cell_type": "code",
   "execution_count": 57,
   "metadata": {},
   "outputs": [
    {
     "data": {
      "text/plain": [
       "Years in current job\n",
       "10+ years    78896\n",
       "2 years      23462\n",
       "< 1 year     21012\n",
       "3 years      20659\n",
       "5 years      17864\n",
       "1 year       16746\n",
       "4 years      16166\n",
       "6 years      14597\n",
       "7 years      13968\n",
       "8 years      12206\n",
       "NaN          11476\n",
       "9 years       9932\n",
       "Name: count, dtype: int64"
      ]
     },
     "execution_count": 57,
     "metadata": {},
     "output_type": "execute_result"
    }
   ],
   "source": [
    "df['Years in current job'].value_counts(dropna=False)\n",
    "#nulls can mean don't have a job"
   ]
  },
  {
   "cell_type": "code",
   "execution_count": 58,
   "metadata": {},
   "outputs": [
    {
     "data": {
      "text/html": [
       "<div>\n",
       "<style scoped>\n",
       "    .dataframe tbody tr th:only-of-type {\n",
       "        vertical-align: middle;\n",
       "    }\n",
       "\n",
       "    .dataframe tbody tr th {\n",
       "        vertical-align: top;\n",
       "    }\n",
       "\n",
       "    .dataframe thead th {\n",
       "        text-align: right;\n",
       "    }\n",
       "</style>\n",
       "<table border=\"1\" class=\"dataframe\">\n",
       "  <thead>\n",
       "    <tr style=\"text-align: right;\">\n",
       "      <th></th>\n",
       "      <th>Loan ID</th>\n",
       "      <th>Customer ID</th>\n",
       "      <th>Loan Status</th>\n",
       "      <th>Current Loan Amount</th>\n",
       "      <th>Term</th>\n",
       "      <th>Credit Score</th>\n",
       "      <th>Years in current job</th>\n",
       "      <th>Home Ownership</th>\n",
       "      <th>Annual Income</th>\n",
       "      <th>Purpose</th>\n",
       "      <th>Monthly Debt</th>\n",
       "      <th>Years of Credit History</th>\n",
       "      <th>Months since last delinquent</th>\n",
       "      <th>Number of Open Accounts</th>\n",
       "      <th>Number of Credit Problems</th>\n",
       "      <th>Current Credit Balance</th>\n",
       "      <th>Maximum Open Credit</th>\n",
       "      <th>Bankruptcies</th>\n",
       "      <th>Tax Liens</th>\n",
       "    </tr>\n",
       "  </thead>\n",
       "  <tbody>\n",
       "    <tr>\n",
       "      <th>9</th>\n",
       "      <td>0001cb86-af28-4011-bb86-183786e473ae</td>\n",
       "      <td>4aae67bb-d54b-41ae-8bce-1d62022ed8dd</td>\n",
       "      <td>Fully Paid</td>\n",
       "      <td>2036</td>\n",
       "      <td>Short Term</td>\n",
       "      <td>733</td>\n",
       "      <td>NaN</td>\n",
       "      <td>Home Mortgage</td>\n",
       "      <td>55985.0</td>\n",
       "      <td>Debt Consolidation</td>\n",
       "      <td>$741.79</td>\n",
       "      <td>19.8</td>\n",
       "      <td>29.0</td>\n",
       "      <td>7</td>\n",
       "      <td>0</td>\n",
       "      <td>10926</td>\n",
       "      <td>15676</td>\n",
       "      <td>0.0</td>\n",
       "      <td>0.0</td>\n",
       "    </tr>\n",
       "    <tr>\n",
       "      <th>38</th>\n",
       "      <td>0008255a-402e-4716-9e0a-8bdf55309781</td>\n",
       "      <td>4e25b6bf-9abc-4bbd-841e-c5a8403b68de</td>\n",
       "      <td>Fully Paid</td>\n",
       "      <td>6114</td>\n",
       "      <td>Short Term</td>\n",
       "      <td>721</td>\n",
       "      <td>NaN</td>\n",
       "      <td>Home Mortgage</td>\n",
       "      <td>NaN</td>\n",
       "      <td>Debt Consolidation</td>\n",
       "      <td>$206.97</td>\n",
       "      <td>17.8</td>\n",
       "      <td>21.0</td>\n",
       "      <td>8</td>\n",
       "      <td>1</td>\n",
       "      <td>5772</td>\n",
       "      <td>13975</td>\n",
       "      <td>1.0</td>\n",
       "      <td>0.0</td>\n",
       "    </tr>\n",
       "    <tr>\n",
       "      <th>57</th>\n",
       "      <td>000c16df-c24f-41cf-a90e-60301d131bb9</td>\n",
       "      <td>b07c4262-70bb-41cc-b28a-d87540577fb1</td>\n",
       "      <td>Fully Paid</td>\n",
       "      <td>7068</td>\n",
       "      <td>Short Term</td>\n",
       "      <td>721</td>\n",
       "      <td>NaN</td>\n",
       "      <td>Own Home</td>\n",
       "      <td>NaN</td>\n",
       "      <td>other</td>\n",
       "      <td>$425.68</td>\n",
       "      <td>21.3</td>\n",
       "      <td>NaN</td>\n",
       "      <td>7</td>\n",
       "      <td>1</td>\n",
       "      <td>4178</td>\n",
       "      <td>6850</td>\n",
       "      <td>1.0</td>\n",
       "      <td>0.0</td>\n",
       "    </tr>\n",
       "    <tr>\n",
       "      <th>94</th>\n",
       "      <td>001775be-defd-4c40-bda8-54edb5279848</td>\n",
       "      <td>75cd8e2e-2f86-459a-a719-e9f8384df817</td>\n",
       "      <td>Fully Paid</td>\n",
       "      <td>99999999</td>\n",
       "      <td>Short Term</td>\n",
       "      <td>675</td>\n",
       "      <td>NaN</td>\n",
       "      <td>Own Home</td>\n",
       "      <td>36549.0</td>\n",
       "      <td>Debt Consolidation</td>\n",
       "      <td>$444.68</td>\n",
       "      <td>14.2</td>\n",
       "      <td>NaN</td>\n",
       "      <td>7</td>\n",
       "      <td>0</td>\n",
       "      <td>18193</td>\n",
       "      <td>21329</td>\n",
       "      <td>0.0</td>\n",
       "      <td>0.0</td>\n",
       "    </tr>\n",
       "    <tr>\n",
       "      <th>95</th>\n",
       "      <td>0017ddc4-0232-441e-a01d-6b5bb67d0cc8</td>\n",
       "      <td>7668401c-2bf7-4edd-8233-c910d87fc0ca</td>\n",
       "      <td>Fully Paid</td>\n",
       "      <td>1971</td>\n",
       "      <td>Short Term</td>\n",
       "      <td>746</td>\n",
       "      <td>NaN</td>\n",
       "      <td>Home Mortgage</td>\n",
       "      <td>39420.0</td>\n",
       "      <td>Home Improvements</td>\n",
       "      <td>$768.69</td>\n",
       "      <td>22.0</td>\n",
       "      <td>43.0</td>\n",
       "      <td>7</td>\n",
       "      <td>0</td>\n",
       "      <td>8256</td>\n",
       "      <td>17163</td>\n",
       "      <td>0.0</td>\n",
       "      <td>0.0</td>\n",
       "    </tr>\n",
       "    <tr>\n",
       "      <th>...</th>\n",
       "      <td>...</td>\n",
       "      <td>...</td>\n",
       "      <td>...</td>\n",
       "      <td>...</td>\n",
       "      <td>...</td>\n",
       "      <td>...</td>\n",
       "      <td>...</td>\n",
       "      <td>...</td>\n",
       "      <td>...</td>\n",
       "      <td>...</td>\n",
       "      <td>...</td>\n",
       "      <td>...</td>\n",
       "      <td>...</td>\n",
       "      <td>...</td>\n",
       "      <td>...</td>\n",
       "      <td>...</td>\n",
       "      <td>...</td>\n",
       "      <td>...</td>\n",
       "      <td>...</td>\n",
       "    </tr>\n",
       "    <tr>\n",
       "      <th>256903</th>\n",
       "      <td>ffebec60-7520-43d6-a392-1f5c30b6d07a</td>\n",
       "      <td>9b2098ea-7ac4-4479-a524-ce208004c70f</td>\n",
       "      <td>Charged Off</td>\n",
       "      <td>16201</td>\n",
       "      <td>Long Term</td>\n",
       "      <td>699</td>\n",
       "      <td>NaN</td>\n",
       "      <td>Own Home</td>\n",
       "      <td>35221.0</td>\n",
       "      <td>Debt Consolidation</td>\n",
       "      <td>$1,091.84</td>\n",
       "      <td>32.9</td>\n",
       "      <td>NaN</td>\n",
       "      <td>19</td>\n",
       "      <td>0</td>\n",
       "      <td>31101</td>\n",
       "      <td>88104</td>\n",
       "      <td>0.0</td>\n",
       "      <td>0.0</td>\n",
       "    </tr>\n",
       "    <tr>\n",
       "      <th>256912</th>\n",
       "      <td>ffee9663-e257-46c1-bac8-86efd20d5f48</td>\n",
       "      <td>35a158e8-cf71-48f4-a43c-f33e0b0a25c3</td>\n",
       "      <td>Fully Paid</td>\n",
       "      <td>5676</td>\n",
       "      <td>Short Term</td>\n",
       "      <td>713</td>\n",
       "      <td>NaN</td>\n",
       "      <td>Home Mortgage</td>\n",
       "      <td>24666.0</td>\n",
       "      <td>Debt Consolidation</td>\n",
       "      <td>$138.75</td>\n",
       "      <td>13.0</td>\n",
       "      <td>24.0</td>\n",
       "      <td>9</td>\n",
       "      <td>0</td>\n",
       "      <td>4499</td>\n",
       "      <td>15842</td>\n",
       "      <td>0.0</td>\n",
       "      <td>0.0</td>\n",
       "    </tr>\n",
       "    <tr>\n",
       "      <th>256935</th>\n",
       "      <td>fff246c3-a91c-44d3-80cf-6ed1d65cf20c</td>\n",
       "      <td>b75bf001-64d8-4584-a92a-7511a828f99f</td>\n",
       "      <td>Fully Paid</td>\n",
       "      <td>99999999</td>\n",
       "      <td>Short Term</td>\n",
       "      <td>746</td>\n",
       "      <td>NaN</td>\n",
       "      <td>Rent</td>\n",
       "      <td>70777.0</td>\n",
       "      <td>Debt Consolidation</td>\n",
       "      <td>$1,079.35</td>\n",
       "      <td>16.3</td>\n",
       "      <td>19.0</td>\n",
       "      <td>19</td>\n",
       "      <td>1</td>\n",
       "      <td>4143</td>\n",
       "      <td>27081</td>\n",
       "      <td>1.0</td>\n",
       "      <td>0.0</td>\n",
       "    </tr>\n",
       "    <tr>\n",
       "      <th>256940</th>\n",
       "      <td>fff355eb-8cc0-42c9-84bf-280c6664f785</td>\n",
       "      <td>14eabb7c-22f4-4060-9dce-b90ded55fef2</td>\n",
       "      <td>Fully Paid</td>\n",
       "      <td>8112</td>\n",
       "      <td>Short Term</td>\n",
       "      <td>716</td>\n",
       "      <td>NaN</td>\n",
       "      <td>Rent</td>\n",
       "      <td>30324.0</td>\n",
       "      <td>Debt Consolidation</td>\n",
       "      <td>$255.23</td>\n",
       "      <td>6.0</td>\n",
       "      <td>NaN</td>\n",
       "      <td>5</td>\n",
       "      <td>0</td>\n",
       "      <td>1798</td>\n",
       "      <td>6760</td>\n",
       "      <td>0.0</td>\n",
       "      <td>0.0</td>\n",
       "    </tr>\n",
       "    <tr>\n",
       "      <th>256952</th>\n",
       "      <td>fff6748f-e442-4848-9dd6-2252cb7396fd</td>\n",
       "      <td>6a54a6c9-3328-4ee0-bcb9-f4e8af37ff12</td>\n",
       "      <td>Charged Off</td>\n",
       "      <td>12262</td>\n",
       "      <td>Long Term</td>\n",
       "      <td>741</td>\n",
       "      <td>NaN</td>\n",
       "      <td>Home Mortgage</td>\n",
       "      <td>40872.0</td>\n",
       "      <td>Debt Consolidation</td>\n",
       "      <td>$705.04</td>\n",
       "      <td>16.5</td>\n",
       "      <td>NaN</td>\n",
       "      <td>11</td>\n",
       "      <td>0</td>\n",
       "      <td>13892</td>\n",
       "      <td>22775</td>\n",
       "      <td>0.0</td>\n",
       "      <td>0.0</td>\n",
       "    </tr>\n",
       "  </tbody>\n",
       "</table>\n",
       "<p>11476 rows × 19 columns</p>\n",
       "</div>"
      ],
      "text/plain": [
       "                                     Loan ID  \\\n",
       "9       0001cb86-af28-4011-bb86-183786e473ae   \n",
       "38      0008255a-402e-4716-9e0a-8bdf55309781   \n",
       "57      000c16df-c24f-41cf-a90e-60301d131bb9   \n",
       "94      001775be-defd-4c40-bda8-54edb5279848   \n",
       "95      0017ddc4-0232-441e-a01d-6b5bb67d0cc8   \n",
       "...                                      ...   \n",
       "256903  ffebec60-7520-43d6-a392-1f5c30b6d07a   \n",
       "256912  ffee9663-e257-46c1-bac8-86efd20d5f48   \n",
       "256935  fff246c3-a91c-44d3-80cf-6ed1d65cf20c   \n",
       "256940  fff355eb-8cc0-42c9-84bf-280c6664f785   \n",
       "256952  fff6748f-e442-4848-9dd6-2252cb7396fd   \n",
       "\n",
       "                                 Customer ID  Loan Status  \\\n",
       "9       4aae67bb-d54b-41ae-8bce-1d62022ed8dd   Fully Paid   \n",
       "38      4e25b6bf-9abc-4bbd-841e-c5a8403b68de   Fully Paid   \n",
       "57      b07c4262-70bb-41cc-b28a-d87540577fb1   Fully Paid   \n",
       "94      75cd8e2e-2f86-459a-a719-e9f8384df817   Fully Paid   \n",
       "95      7668401c-2bf7-4edd-8233-c910d87fc0ca   Fully Paid   \n",
       "...                                      ...          ...   \n",
       "256903  9b2098ea-7ac4-4479-a524-ce208004c70f  Charged Off   \n",
       "256912  35a158e8-cf71-48f4-a43c-f33e0b0a25c3   Fully Paid   \n",
       "256935  b75bf001-64d8-4584-a92a-7511a828f99f   Fully Paid   \n",
       "256940  14eabb7c-22f4-4060-9dce-b90ded55fef2   Fully Paid   \n",
       "256952  6a54a6c9-3328-4ee0-bcb9-f4e8af37ff12  Charged Off   \n",
       "\n",
       "        Current Loan Amount        Term  Credit Score Years in current job  \\\n",
       "9                      2036  Short Term           733                  NaN   \n",
       "38                     6114  Short Term           721                  NaN   \n",
       "57                     7068  Short Term           721                  NaN   \n",
       "94                 99999999  Short Term           675                  NaN   \n",
       "95                     1971  Short Term           746                  NaN   \n",
       "...                     ...         ...           ...                  ...   \n",
       "256903                16201   Long Term           699                  NaN   \n",
       "256912                 5676  Short Term           713                  NaN   \n",
       "256935             99999999  Short Term           746                  NaN   \n",
       "256940                 8112  Short Term           716                  NaN   \n",
       "256952                12262   Long Term           741                  NaN   \n",
       "\n",
       "       Home Ownership  Annual Income             Purpose Monthly Debt  \\\n",
       "9       Home Mortgage        55985.0  Debt Consolidation      $741.79   \n",
       "38      Home Mortgage            NaN  Debt Consolidation      $206.97   \n",
       "57           Own Home            NaN               other      $425.68   \n",
       "94           Own Home        36549.0  Debt Consolidation      $444.68   \n",
       "95      Home Mortgage        39420.0   Home Improvements      $768.69   \n",
       "...               ...            ...                 ...          ...   \n",
       "256903       Own Home        35221.0  Debt Consolidation   $1,091.84    \n",
       "256912  Home Mortgage        24666.0  Debt Consolidation      $138.75   \n",
       "256935           Rent        70777.0  Debt Consolidation   $1,079.35    \n",
       "256940           Rent        30324.0  Debt Consolidation      $255.23   \n",
       "256952  Home Mortgage        40872.0  Debt Consolidation      $705.04   \n",
       "\n",
       "        Years of Credit History  Months since last delinquent  \\\n",
       "9                          19.8                          29.0   \n",
       "38                         17.8                          21.0   \n",
       "57                         21.3                           NaN   \n",
       "94                         14.2                           NaN   \n",
       "95                         22.0                          43.0   \n",
       "...                         ...                           ...   \n",
       "256903                     32.9                           NaN   \n",
       "256912                     13.0                          24.0   \n",
       "256935                     16.3                          19.0   \n",
       "256940                      6.0                           NaN   \n",
       "256952                     16.5                           NaN   \n",
       "\n",
       "        Number of Open Accounts  Number of Credit Problems  \\\n",
       "9                             7                          0   \n",
       "38                            8                          1   \n",
       "57                            7                          1   \n",
       "94                            7                          0   \n",
       "95                            7                          0   \n",
       "...                         ...                        ...   \n",
       "256903                       19                          0   \n",
       "256912                        9                          0   \n",
       "256935                       19                          1   \n",
       "256940                        5                          0   \n",
       "256952                       11                          0   \n",
       "\n",
       "        Current Credit Balance Maximum Open Credit  Bankruptcies  Tax Liens  \n",
       "9                        10926               15676           0.0        0.0  \n",
       "38                        5772               13975           1.0        0.0  \n",
       "57                        4178                6850           1.0        0.0  \n",
       "94                       18193               21329           0.0        0.0  \n",
       "95                        8256               17163           0.0        0.0  \n",
       "...                        ...                 ...           ...        ...  \n",
       "256903                   31101               88104           0.0        0.0  \n",
       "256912                    4499               15842           0.0        0.0  \n",
       "256935                    4143               27081           1.0        0.0  \n",
       "256940                    1798                6760           0.0        0.0  \n",
       "256952                   13892               22775           0.0        0.0  \n",
       "\n",
       "[11476 rows x 19 columns]"
      ]
     },
     "execution_count": 58,
     "metadata": {},
     "output_type": "execute_result"
    }
   ],
   "source": [
    "df[df['Years in current job'].isnull()]"
   ]
  },
  {
   "cell_type": "code",
   "execution_count": 59,
   "metadata": {},
   "outputs": [
    {
     "name": "stderr",
     "output_type": "stream",
     "text": [
      "C:\\Users\\Tifanie\\AppData\\Local\\Temp\\ipykernel_7252\\2563658904.py:2: FutureWarning: A value is trying to be set on a copy of a DataFrame or Series through chained assignment using an inplace method.\n",
      "The behavior will change in pandas 3.0. This inplace method will never work because the intermediate object on which we are setting values always behaves as a copy.\n",
      "\n",
      "For example, when doing 'df[col].method(value, inplace=True)', try using 'df.method({col: value}, inplace=True)' or df[col] = df[col].method(value) instead, to perform the operation inplace on the original object.\n",
      "\n",
      "\n",
      "  df['Years in current job'].fillna('No job info', inplace = True)\n"
     ]
    }
   ],
   "source": [
    "#filling in nulls with no job info\n",
    "df['Years in current job'].fillna('No job info', inplace = True)"
   ]
  },
  {
   "cell_type": "code",
   "execution_count": 60,
   "metadata": {},
   "outputs": [
    {
     "data": {
      "text/plain": [
       "Years in current job\n",
       "10+ years      78896\n",
       "2 years        23462\n",
       "< 1 year       21012\n",
       "3 years        20659\n",
       "5 years        17864\n",
       "1 year         16746\n",
       "4 years        16166\n",
       "6 years        14597\n",
       "7 years        13968\n",
       "8 years        12206\n",
       "No job info    11476\n",
       "9 years         9932\n",
       "Name: count, dtype: int64"
      ]
     },
     "execution_count": 60,
     "metadata": {},
     "output_type": "execute_result"
    }
   ],
   "source": [
    "df['Years in current job'].value_counts(dropna=False)"
   ]
  },
  {
   "cell_type": "markdown",
   "metadata": {},
   "source": [
    "## Annual Income"
   ]
  },
  {
   "cell_type": "code",
   "execution_count": 61,
   "metadata": {},
   "outputs": [
    {
     "data": {
      "text/plain": [
       "count    1.953080e+05\n",
       "mean     7.195272e+04\n",
       "std      5.887757e+04\n",
       "min      0.000000e+00\n",
       "25%      4.432100e+04\n",
       "50%      6.124200e+04\n",
       "75%      8.646200e+04\n",
       "max      8.713547e+06\n",
       "Name: Annual Income, dtype: float64"
      ]
     },
     "execution_count": 61,
     "metadata": {},
     "output_type": "execute_result"
    }
   ],
   "source": [
    "df['Annual Income'].describe()"
   ]
  },
  {
   "cell_type": "code",
   "execution_count": 62,
   "metadata": {},
   "outputs": [
    {
     "data": {
      "text/html": [
       "<div>\n",
       "<style scoped>\n",
       "    .dataframe tbody tr th:only-of-type {\n",
       "        vertical-align: middle;\n",
       "    }\n",
       "\n",
       "    .dataframe tbody tr th {\n",
       "        vertical-align: top;\n",
       "    }\n",
       "\n",
       "    .dataframe thead th {\n",
       "        text-align: right;\n",
       "    }\n",
       "</style>\n",
       "<table border=\"1\" class=\"dataframe\">\n",
       "  <thead>\n",
       "    <tr style=\"text-align: right;\">\n",
       "      <th></th>\n",
       "      <th>Loan ID</th>\n",
       "      <th>Customer ID</th>\n",
       "      <th>Loan Status</th>\n",
       "      <th>Current Loan Amount</th>\n",
       "      <th>Term</th>\n",
       "      <th>Credit Score</th>\n",
       "      <th>Years in current job</th>\n",
       "      <th>Home Ownership</th>\n",
       "      <th>Annual Income</th>\n",
       "      <th>Purpose</th>\n",
       "      <th>Monthly Debt</th>\n",
       "      <th>Years of Credit History</th>\n",
       "      <th>Months since last delinquent</th>\n",
       "      <th>Number of Open Accounts</th>\n",
       "      <th>Number of Credit Problems</th>\n",
       "      <th>Current Credit Balance</th>\n",
       "      <th>Maximum Open Credit</th>\n",
       "      <th>Bankruptcies</th>\n",
       "      <th>Tax Liens</th>\n",
       "    </tr>\n",
       "  </thead>\n",
       "  <tbody>\n",
       "    <tr>\n",
       "      <th>110725</th>\n",
       "      <td>6dfd2f9c-b796-4cb3-8f71-04d6ae8a8f92</td>\n",
       "      <td>ceee183a-9b02-4b82-ae53-14ccd5f785fd</td>\n",
       "      <td>Charged Off</td>\n",
       "      <td>8006</td>\n",
       "      <td>Short Term</td>\n",
       "      <td>725</td>\n",
       "      <td>10+ years</td>\n",
       "      <td>Home Mortgage</td>\n",
       "      <td>8713547.0</td>\n",
       "      <td>Debt Consolidation</td>\n",
       "      <td>$798.74</td>\n",
       "      <td>16.0</td>\n",
       "      <td>NaN</td>\n",
       "      <td>11</td>\n",
       "      <td>0</td>\n",
       "      <td>16462</td>\n",
       "      <td>30429</td>\n",
       "      <td>0.0</td>\n",
       "      <td>0.0</td>\n",
       "    </tr>\n",
       "    <tr>\n",
       "      <th>110726</th>\n",
       "      <td>6dfd2f9c-b796-4cb3-8f71-04d6ae8a8f92</td>\n",
       "      <td>ceee183a-9b02-4b82-ae53-14ccd5f785fd</td>\n",
       "      <td>Charged Off</td>\n",
       "      <td>8006</td>\n",
       "      <td>Short Term</td>\n",
       "      <td>725</td>\n",
       "      <td>10+ years</td>\n",
       "      <td>Home Mortgage</td>\n",
       "      <td>8713547.0</td>\n",
       "      <td>Debt Consolidation</td>\n",
       "      <td>$798.74</td>\n",
       "      <td>16.0</td>\n",
       "      <td>NaN</td>\n",
       "      <td>11</td>\n",
       "      <td>0</td>\n",
       "      <td>16462</td>\n",
       "      <td>30429</td>\n",
       "      <td>0.0</td>\n",
       "      <td>0.0</td>\n",
       "    </tr>\n",
       "  </tbody>\n",
       "</table>\n",
       "</div>"
      ],
      "text/plain": [
       "                                     Loan ID  \\\n",
       "110725  6dfd2f9c-b796-4cb3-8f71-04d6ae8a8f92   \n",
       "110726  6dfd2f9c-b796-4cb3-8f71-04d6ae8a8f92   \n",
       "\n",
       "                                 Customer ID  Loan Status  \\\n",
       "110725  ceee183a-9b02-4b82-ae53-14ccd5f785fd  Charged Off   \n",
       "110726  ceee183a-9b02-4b82-ae53-14ccd5f785fd  Charged Off   \n",
       "\n",
       "        Current Loan Amount        Term  Credit Score Years in current job  \\\n",
       "110725                 8006  Short Term           725            10+ years   \n",
       "110726                 8006  Short Term           725            10+ years   \n",
       "\n",
       "       Home Ownership  Annual Income             Purpose Monthly Debt  \\\n",
       "110725  Home Mortgage      8713547.0  Debt Consolidation      $798.74   \n",
       "110726  Home Mortgage      8713547.0  Debt Consolidation      $798.74   \n",
       "\n",
       "        Years of Credit History  Months since last delinquent  \\\n",
       "110725                     16.0                           NaN   \n",
       "110726                     16.0                           NaN   \n",
       "\n",
       "        Number of Open Accounts  Number of Credit Problems  \\\n",
       "110725                       11                          0   \n",
       "110726                       11                          0   \n",
       "\n",
       "        Current Credit Balance Maximum Open Credit  Bankruptcies  Tax Liens  \n",
       "110725                   16462               30429           0.0        0.0  \n",
       "110726                   16462               30429           0.0        0.0  "
      ]
     },
     "execution_count": 62,
     "metadata": {},
     "output_type": "execute_result"
    }
   ],
   "source": [
    "df[df['Annual Income'] == 8.713547e+06]\n",
    "#one person with annual income of 8 million --> keeping"
   ]
  },
  {
   "cell_type": "code",
   "execution_count": 63,
   "metadata": {},
   "outputs": [
    {
     "data": {
      "text/plain": [
       "110726    8713547.0\n",
       "110725    8713547.0\n",
       "169514    7523240.0\n",
       "34065     5879400.0\n",
       "39791     2267570.0\n",
       "            ...    \n",
       "256959          NaN\n",
       "256962          NaN\n",
       "256965          NaN\n",
       "256973          NaN\n",
       "256979          NaN\n",
       "Name: Annual Income, Length: 256984, dtype: float64"
      ]
     },
     "execution_count": 63,
     "metadata": {},
     "output_type": "execute_result"
    }
   ],
   "source": [
    "df['Annual Income'].sort_values(ascending = False)"
   ]
  },
  {
   "cell_type": "code",
   "execution_count": 64,
   "metadata": {},
   "outputs": [
    {
     "data": {
      "text/plain": [
       "61676"
      ]
     },
     "execution_count": 64,
     "metadata": {},
     "output_type": "execute_result"
    }
   ],
   "source": [
    "df['Annual Income'].isnull().sum()"
   ]
  },
  {
   "cell_type": "code",
   "execution_count": 65,
   "metadata": {},
   "outputs": [
    {
     "data": {
      "text/plain": [
       "Current Loan Amount             0.024069\n",
       "Credit Score                    0.012355\n",
       "Annual Income                   1.000000\n",
       "Years of Credit History         0.146859\n",
       "Months since last delinquent   -0.059675\n",
       "Number of Open Accounts         0.140463\n",
       "Number of Credit Problems      -0.013672\n",
       "Current Credit Balance          0.292165\n",
       "Bankruptcies                   -0.044837\n",
       "Tax Liens                       0.038185\n",
       "Name: Annual Income, dtype: float64"
      ]
     },
     "execution_count": 65,
     "metadata": {},
     "output_type": "execute_result"
    }
   ],
   "source": [
    "df.corr(numeric_only=True)['Annual Income']\n",
    "#Current Credit Balance has strongest correlation"
   ]
  },
  {
   "cell_type": "code",
   "execution_count": 66,
   "metadata": {},
   "outputs": [
    {
     "data": {
      "text/plain": [
       "Current Credit Balance\n",
       "0          6.839255e+04\n",
       "1          7.328537e+04\n",
       "2          8.447444e+04\n",
       "3          9.208006e+04\n",
       "4          6.378733e+04\n",
       "               ...     \n",
       "690447     1.988000e+06\n",
       "818209     1.507200e+05\n",
       "854602     2.561260e+05\n",
       "1730472    3.962800e+05\n",
       "1731412             NaN\n",
       "Name: Annual Income, Length: 45704, dtype: float64"
      ]
     },
     "execution_count": 66,
     "metadata": {},
     "output_type": "execute_result"
    }
   ],
   "source": [
    "df.groupby(['Current Credit Balance'])['Annual Income'].mean()"
   ]
  },
  {
   "cell_type": "code",
   "execution_count": 67,
   "metadata": {},
   "outputs": [
    {
     "data": {
      "text/plain": [
       "3167"
      ]
     },
     "execution_count": 67,
     "metadata": {},
     "output_type": "execute_result"
    }
   ],
   "source": [
    "df.groupby('Current Credit Balance')['Annual Income'].mean().isnull().sum()"
   ]
  },
  {
   "cell_type": "code",
   "execution_count": 68,
   "metadata": {},
   "outputs": [],
   "source": [
    "df['Annual Income'] = df.groupby(['Current Credit Balance'])['Annual Income'].transform(lambda x: x.fillna(x.mean()))"
   ]
  },
  {
   "cell_type": "code",
   "execution_count": 69,
   "metadata": {},
   "outputs": [
    {
     "data": {
      "text/plain": [
       "3652"
      ]
     },
     "execution_count": 69,
     "metadata": {},
     "output_type": "execute_result"
    }
   ],
   "source": [
    "df['Annual Income'].isnull().sum()"
   ]
  },
  {
   "cell_type": "code",
   "execution_count": 70,
   "metadata": {},
   "outputs": [
    {
     "data": {
      "image/png": "[encoded data removed]",
      "text/plain": [
       "<Figure size 640x480 with 1 Axes>"
      ]
     },
     "metadata": {},
     "output_type": "display_data"
    }
   ],
   "source": [
    "plt.hist(df['Annual Income'],50);"
   ]
  },
  {
   "cell_type": "code",
   "execution_count": 71,
   "metadata": {},
   "outputs": [
    {
     "data": {
      "text/plain": [
       "Years in current job\n",
       "1 year         67621.147850\n",
       "10+ years      77456.050856\n",
       "2 years        69568.102972\n",
       "3 years        69887.444678\n",
       "4 years        69954.141602\n",
       "5 years        69944.159596\n",
       "6 years        70020.610627\n",
       "7 years        71459.213092\n",
       "8 years        72099.844039\n",
       "9 years        72830.170823\n",
       "< 1 year       67068.863738\n",
       "No job info    51223.609742\n",
       "Name: Annual Income, dtype: float64"
      ]
     },
     "execution_count": 71,
     "metadata": {},
     "output_type": "execute_result"
    }
   ],
   "source": [
    "df.groupby('Years in current job')['Annual Income'].mean()"
   ]
  },
  {
   "cell_type": "code",
   "execution_count": 72,
   "metadata": {},
   "outputs": [],
   "source": [
    "df['Annual Income'] = df.groupby('Years in current job')['Annual Income'].transform(lambda x: x.fillna(x.mean()))"
   ]
  },
  {
   "cell_type": "code",
   "execution_count": 73,
   "metadata": {},
   "outputs": [
    {
     "data": {
      "text/plain": [
       "0"
      ]
     },
     "execution_count": 73,
     "metadata": {},
     "output_type": "execute_result"
    }
   ],
   "source": [
    "df['Annual Income'].isnull().sum()"
   ]
  },
  {
   "cell_type": "code",
   "execution_count": 74,
   "metadata": {},
   "outputs": [
    {
     "data": {
      "text/plain": [
       "count    2.569840e+05\n",
       "mean     7.129026e+04\n",
       "std      5.372824e+04\n",
       "min      0.000000e+00\n",
       "25%      4.763000e+04\n",
       "50%      6.279000e+04\n",
       "75%      8.301200e+04\n",
       "max      8.713547e+06\n",
       "Name: Annual Income, dtype: float64"
      ]
     },
     "execution_count": 74,
     "metadata": {},
     "output_type": "execute_result"
    }
   ],
   "source": [
    "df['Annual Income'].describe()"
   ]
  },
  {
   "cell_type": "code",
   "execution_count": 75,
   "metadata": {},
   "outputs": [
    {
     "data": {
      "image/png": "[encoded data removed]",
      "text/plain": [
       "<Figure size 640x480 with 1 Axes>"
      ]
     },
     "metadata": {},
     "output_type": "display_data"
    }
   ],
   "source": [
    "plt.hist(df['Annual Income'],50);"
   ]
  },
  {
   "cell_type": "code",
   "execution_count": 76,
   "metadata": {},
   "outputs": [],
   "source": [
    "df['Annual Income'] = df['Annual Income'].astype(int)"
   ]
  },
  {
   "cell_type": "markdown",
   "metadata": {},
   "source": [
    "## Home Ownership"
   ]
  },
  {
   "cell_type": "code",
   "execution_count": 77,
   "metadata": {},
   "outputs": [
    {
     "data": {
      "text/plain": [
       "array(['Home Mortgage', 'Own Home', 'Rent', 'HaveMortgage'], dtype=object)"
      ]
     },
     "execution_count": 77,
     "metadata": {},
     "output_type": "execute_result"
    }
   ],
   "source": [
    "df['Home Ownership'].unique()"
   ]
  },
  {
   "cell_type": "code",
   "execution_count": 78,
   "metadata": {},
   "outputs": [
    {
     "data": {
      "text/plain": [
       "Home Ownership\n",
       "Home Mortgage    124477\n",
       "Rent             109010\n",
       "Own Home          22923\n",
       "HaveMortgage        574\n",
       "Name: count, dtype: int64"
      ]
     },
     "execution_count": 78,
     "metadata": {},
     "output_type": "execute_result"
    }
   ],
   "source": [
    "df['Home Ownership'].value_counts()"
   ]
  },
  {
   "cell_type": "code",
   "execution_count": 79,
   "metadata": {},
   "outputs": [],
   "source": [
    "df['Home Ownership'] = df['Home Ownership'].replace('HaveMortgage','Home Mortgage')"
   ]
  },
  {
   "cell_type": "code",
   "execution_count": 80,
   "metadata": {},
   "outputs": [],
   "source": [
    "df['Home Ownership'] = df['Home Ownership'].replace('Own Home','Own')"
   ]
  },
  {
   "cell_type": "code",
   "execution_count": 81,
   "metadata": {},
   "outputs": [
    {
     "data": {
      "text/plain": [
       "Home Ownership\n",
       "Home Mortgage    125051\n",
       "Rent             109010\n",
       "Own               22923\n",
       "Name: count, dtype: int64"
      ]
     },
     "execution_count": 81,
     "metadata": {},
     "output_type": "execute_result"
    }
   ],
   "source": [
    "df['Home Ownership'].value_counts(dropna=False)"
   ]
  },
  {
   "cell_type": "markdown",
   "metadata": {},
   "source": [
    "## Purpose"
   ]
  },
  {
   "cell_type": "code",
   "execution_count": 82,
   "metadata": {},
   "outputs": [
    {
     "data": {
      "text/plain": [
       "Purpose\n",
       "Debt Consolidation      203911\n",
       "Home Improvements        14915\n",
       "other                    14268\n",
       "Other                     9667\n",
       "Business Loan             4712\n",
       "Buy a Car                 3276\n",
       "Medical Bills             2868\n",
       "Take a Trip               1570\n",
       "Buy House                 1530\n",
       "Educational Expenses       267\n",
       "Name: count, dtype: int64"
      ]
     },
     "execution_count": 82,
     "metadata": {},
     "output_type": "execute_result"
    }
   ],
   "source": [
    "df['Purpose'].value_counts(dropna=False)"
   ]
  },
  {
   "cell_type": "code",
   "execution_count": 83,
   "metadata": {},
   "outputs": [],
   "source": [
    "df['Purpose'] = df['Purpose'].replace('other','Other')"
   ]
  },
  {
   "cell_type": "code",
   "execution_count": 84,
   "metadata": {},
   "outputs": [
    {
     "data": {
      "text/plain": [
       "Purpose\n",
       "Debt Consolidation      203911\n",
       "Other                    23935\n",
       "Home Improvements        14915\n",
       "Business Loan             4712\n",
       "Buy a Car                 3276\n",
       "Medical Bills             2868\n",
       "Take a Trip               1570\n",
       "Buy House                 1530\n",
       "Educational Expenses       267\n",
       "Name: count, dtype: int64"
      ]
     },
     "execution_count": 84,
     "metadata": {},
     "output_type": "execute_result"
    }
   ],
   "source": [
    "df['Purpose'].value_counts(dropna=False)"
   ]
  },
  {
   "cell_type": "markdown",
   "metadata": {},
   "source": [
    "## Monthly Debt"
   ]
  },
  {
   "cell_type": "code",
   "execution_count": 85,
   "metadata": {},
   "outputs": [
    {
     "data": {
      "text/plain": [
       "0            $584.03\n",
       "1         $1,106.04 \n",
       "2         $1,321.85 \n",
       "3            $751.92\n",
       "4            $355.18\n",
       "             ...    \n",
       "256979    $1,706.58 \n",
       "256980    $1,376.47 \n",
       "256981       $297.96\n",
       "256982       $297.96\n",
       "256983    $2,525.82 \n",
       "Name: Monthly Debt, Length: 256984, dtype: object"
      ]
     },
     "execution_count": 85,
     "metadata": {},
     "output_type": "execute_result"
    }
   ],
   "source": [
    "df['Monthly Debt']"
   ]
  },
  {
   "cell_type": "code",
   "execution_count": 86,
   "metadata": {},
   "outputs": [
    {
     "data": {
      "text/plain": [
       "0          584.03\n",
       "1         1106.04\n",
       "2         1321.85\n",
       "3          751.92\n",
       "4          355.18\n",
       "           ...   \n",
       "256979    1706.58\n",
       "256980    1376.47\n",
       "256981     297.96\n",
       "256982     297.96\n",
       "256983    2525.82\n",
       "Name: Monthly Debt, Length: 256984, dtype: float64"
      ]
     },
     "execution_count": 86,
     "metadata": {},
     "output_type": "execute_result"
    }
   ],
   "source": [
    "df['Monthly Debt'].str.replace('$','').str.replace(',','').astype(float).round(2)"
   ]
  },
  {
   "cell_type": "code",
   "execution_count": 87,
   "metadata": {},
   "outputs": [],
   "source": [
    "df['Monthly Debt'] = df['Monthly Debt'].str.replace('$','').str.replace(',','').astype(float).round(2)"
   ]
  },
  {
   "cell_type": "code",
   "execution_count": 88,
   "metadata": {},
   "outputs": [
    {
     "data": {
      "text/plain": [
       "dtype('float64')"
      ]
     },
     "execution_count": 88,
     "metadata": {},
     "output_type": "execute_result"
    }
   ],
   "source": [
    "df['Monthly Debt'].dtype"
   ]
  },
  {
   "cell_type": "code",
   "execution_count": 89,
   "metadata": {},
   "outputs": [
    {
     "data": {
      "text/plain": [
       "0"
      ]
     },
     "execution_count": 89,
     "metadata": {},
     "output_type": "execute_result"
    }
   ],
   "source": [
    "df['Monthly Debt'].isnull().sum()"
   ]
  },
  {
   "cell_type": "markdown",
   "metadata": {},
   "source": [
    "## Maximum Open Credit"
   ]
  },
  {
   "cell_type": "code",
   "execution_count": 90,
   "metadata": {},
   "outputs": [
    {
     "data": {
      "text/plain": [
       "count     256984\n",
       "unique     68987\n",
       "top            0\n",
       "freq        1831\n",
       "Name: Maximum Open Credit, dtype: object"
      ]
     },
     "execution_count": 90,
     "metadata": {},
     "output_type": "execute_result"
    }
   ],
   "source": [
    "df['Maximum Open Credit'].describe()"
   ]
  },
  {
   "cell_type": "code",
   "execution_count": 91,
   "metadata": {},
   "outputs": [
    {
     "data": {
      "text/html": [
       "<div>\n",
       "<style scoped>\n",
       "    .dataframe tbody tr th:only-of-type {\n",
       "        vertical-align: middle;\n",
       "    }\n",
       "\n",
       "    .dataframe tbody tr th {\n",
       "        vertical-align: top;\n",
       "    }\n",
       "\n",
       "    .dataframe thead th {\n",
       "        text-align: right;\n",
       "    }\n",
       "</style>\n",
       "<table border=\"1\" class=\"dataframe\">\n",
       "  <thead>\n",
       "    <tr style=\"text-align: right;\">\n",
       "      <th></th>\n",
       "      <th>Loan ID</th>\n",
       "      <th>Customer ID</th>\n",
       "      <th>Loan Status</th>\n",
       "      <th>Current Loan Amount</th>\n",
       "      <th>Term</th>\n",
       "      <th>Credit Score</th>\n",
       "      <th>Years in current job</th>\n",
       "      <th>Home Ownership</th>\n",
       "      <th>Annual Income</th>\n",
       "      <th>Purpose</th>\n",
       "      <th>Monthly Debt</th>\n",
       "      <th>Years of Credit History</th>\n",
       "      <th>Months since last delinquent</th>\n",
       "      <th>Number of Open Accounts</th>\n",
       "      <th>Number of Credit Problems</th>\n",
       "      <th>Current Credit Balance</th>\n",
       "      <th>Maximum Open Credit</th>\n",
       "      <th>Bankruptcies</th>\n",
       "      <th>Tax Liens</th>\n",
       "    </tr>\n",
       "  </thead>\n",
       "  <tbody>\n",
       "    <tr>\n",
       "      <th>184662</th>\n",
       "      <td>b798f46b-e27b-4823-af83-294b1ffc3490</td>\n",
       "      <td>f61890c5-e264-4b0f-a047-9cfa03b9d182</td>\n",
       "      <td>Charged Off</td>\n",
       "      <td>1470</td>\n",
       "      <td>Short Term</td>\n",
       "      <td>721</td>\n",
       "      <td>2 years</td>\n",
       "      <td>Rent</td>\n",
       "      <td>68392</td>\n",
       "      <td>Debt Consolidation</td>\n",
       "      <td>506.34</td>\n",
       "      <td>15.3</td>\n",
       "      <td>26.0</td>\n",
       "      <td>3</td>\n",
       "      <td>0</td>\n",
       "      <td>0</td>\n",
       "      <td>#VALUE!</td>\n",
       "      <td>0.0</td>\n",
       "      <td>0.0</td>\n",
       "    </tr>\n",
       "    <tr>\n",
       "      <th>184663</th>\n",
       "      <td>b798f46b-e27b-4823-af83-294b1ffc3490</td>\n",
       "      <td>f61890c5-e264-4b0f-a047-9cfa03b9d182</td>\n",
       "      <td>Charged Off</td>\n",
       "      <td>1470</td>\n",
       "      <td>Short Term</td>\n",
       "      <td>725</td>\n",
       "      <td>2 years</td>\n",
       "      <td>Rent</td>\n",
       "      <td>39200</td>\n",
       "      <td>Debt Consolidation</td>\n",
       "      <td>506.34</td>\n",
       "      <td>15.3</td>\n",
       "      <td>26.0</td>\n",
       "      <td>3</td>\n",
       "      <td>0</td>\n",
       "      <td>0</td>\n",
       "      <td>#VALUE!</td>\n",
       "      <td>0.0</td>\n",
       "      <td>0.0</td>\n",
       "    </tr>\n",
       "    <tr>\n",
       "      <th>187512</th>\n",
       "      <td>ba8f310d-7688-40e9-aa1c-30237dcaf051</td>\n",
       "      <td>80acb6ec-105f-42e4-bdd0-6c4792b88e71</td>\n",
       "      <td>Charged Off</td>\n",
       "      <td>23897</td>\n",
       "      <td>Long Term</td>\n",
       "      <td>697</td>\n",
       "      <td>7 years</td>\n",
       "      <td>Home Mortgage</td>\n",
       "      <td>49785</td>\n",
       "      <td>Home Improvements</td>\n",
       "      <td>1306.86</td>\n",
       "      <td>13.0</td>\n",
       "      <td>NaN</td>\n",
       "      <td>6</td>\n",
       "      <td>0</td>\n",
       "      <td>0</td>\n",
       "      <td>#VALUE!</td>\n",
       "      <td>0.0</td>\n",
       "      <td>0.0</td>\n",
       "    </tr>\n",
       "    <tr>\n",
       "      <th>187513</th>\n",
       "      <td>ba8f310d-7688-40e9-aa1c-30237dcaf051</td>\n",
       "      <td>80acb6ec-105f-42e4-bdd0-6c4792b88e71</td>\n",
       "      <td>Charged Off</td>\n",
       "      <td>23897</td>\n",
       "      <td>Long Term</td>\n",
       "      <td>697</td>\n",
       "      <td>7 years</td>\n",
       "      <td>Home Mortgage</td>\n",
       "      <td>49785</td>\n",
       "      <td>Home Improvements</td>\n",
       "      <td>1306.86</td>\n",
       "      <td>13.0</td>\n",
       "      <td>NaN</td>\n",
       "      <td>6</td>\n",
       "      <td>0</td>\n",
       "      <td>0</td>\n",
       "      <td>#VALUE!</td>\n",
       "      <td>0.0</td>\n",
       "      <td>0.0</td>\n",
       "    </tr>\n",
       "  </tbody>\n",
       "</table>\n",
       "</div>"
      ],
      "text/plain": [
       "                                     Loan ID  \\\n",
       "184662  b798f46b-e27b-4823-af83-294b1ffc3490   \n",
       "184663  b798f46b-e27b-4823-af83-294b1ffc3490   \n",
       "187512  ba8f310d-7688-40e9-aa1c-30237dcaf051   \n",
       "187513  ba8f310d-7688-40e9-aa1c-30237dcaf051   \n",
       "\n",
       "                                 Customer ID  Loan Status  \\\n",
       "184662  f61890c5-e264-4b0f-a047-9cfa03b9d182  Charged Off   \n",
       "184663  f61890c5-e264-4b0f-a047-9cfa03b9d182  Charged Off   \n",
       "187512  80acb6ec-105f-42e4-bdd0-6c4792b88e71  Charged Off   \n",
       "187513  80acb6ec-105f-42e4-bdd0-6c4792b88e71  Charged Off   \n",
       "\n",
       "        Current Loan Amount        Term  Credit Score Years in current job  \\\n",
       "184662                 1470  Short Term           721              2 years   \n",
       "184663                 1470  Short Term           725              2 years   \n",
       "187512                23897   Long Term           697              7 years   \n",
       "187513                23897   Long Term           697              7 years   \n",
       "\n",
       "       Home Ownership  Annual Income             Purpose  Monthly Debt  \\\n",
       "184662           Rent          68392  Debt Consolidation        506.34   \n",
       "184663           Rent          39200  Debt Consolidation        506.34   \n",
       "187512  Home Mortgage          49785   Home Improvements       1306.86   \n",
       "187513  Home Mortgage          49785   Home Improvements       1306.86   \n",
       "\n",
       "        Years of Credit History  Months since last delinquent  \\\n",
       "184662                     15.3                          26.0   \n",
       "184663                     15.3                          26.0   \n",
       "187512                     13.0                           NaN   \n",
       "187513                     13.0                           NaN   \n",
       "\n",
       "        Number of Open Accounts  Number of Credit Problems  \\\n",
       "184662                        3                          0   \n",
       "184663                        3                          0   \n",
       "187512                        6                          0   \n",
       "187513                        6                          0   \n",
       "\n",
       "        Current Credit Balance Maximum Open Credit  Bankruptcies  Tax Liens  \n",
       "184662                       0             #VALUE!           0.0        0.0  \n",
       "184663                       0             #VALUE!           0.0        0.0  \n",
       "187512                       0             #VALUE!           0.0        0.0  \n",
       "187513                       0             #VALUE!           0.0        0.0  "
      ]
     },
     "execution_count": 91,
     "metadata": {},
     "output_type": "execute_result"
    }
   ],
   "source": [
    "df[df['Maximum Open Credit'] == '#VALUE!']"
   ]
  },
  {
   "cell_type": "code",
   "execution_count": 92,
   "metadata": {},
   "outputs": [],
   "source": [
    "#convert Maximum Open Credit to numeric, non-numeric values to NaN\n",
    "df['Maximum Open Credit'] = pd.to_numeric(df['Maximum Open Credit'], errors= 'coerce')"
   ]
  },
  {
   "cell_type": "code",
   "execution_count": 93,
   "metadata": {},
   "outputs": [
    {
     "data": {
      "text/plain": [
       "4"
      ]
     },
     "execution_count": 93,
     "metadata": {},
     "output_type": "execute_result"
    }
   ],
   "source": [
    "df['Maximum Open Credit'].isnull().sum()"
   ]
  },
  {
   "cell_type": "code",
   "execution_count": 94,
   "metadata": {},
   "outputs": [
    {
     "data": {
      "text/plain": [
       "Current Loan Amount             0.006478\n",
       "Credit Score                    0.010436\n",
       "Annual Income                   0.030824\n",
       "Monthly Debt                    0.026433\n",
       "Years of Credit History         0.021798\n",
       "Months since last delinquent   -0.000541\n",
       "Number of Open Accounts         0.019305\n",
       "Number of Credit Problems      -0.008329\n",
       "Current Credit Balance          0.111659\n",
       "Maximum Open Credit             1.000000\n",
       "Bankruptcies                   -0.009962\n",
       "Tax Liens                      -0.000491\n",
       "Name: Maximum Open Credit, dtype: float64"
      ]
     },
     "execution_count": 94,
     "metadata": {},
     "output_type": "execute_result"
    }
   ],
   "source": [
    "df.corr(numeric_only= True)['Maximum Open Credit']"
   ]
  },
  {
   "cell_type": "code",
   "execution_count": 95,
   "metadata": {},
   "outputs": [
    {
     "data": {
      "text/plain": [
       "Current Credit Balance\n",
       "0          0.000000e+00\n",
       "1          1.875833e+02\n",
       "2          1.006667e+03\n",
       "3          1.022850e+03\n",
       "4          2.204737e+03\n",
       "               ...     \n",
       "690447     0.000000e+00\n",
       "818209     2.235542e+06\n",
       "854602     1.705792e+06\n",
       "1730472    4.483087e+06\n",
       "1731412    5.869192e+06\n",
       "Name: Maximum Open Credit, Length: 45704, dtype: float64"
      ]
     },
     "execution_count": 95,
     "metadata": {},
     "output_type": "execute_result"
    }
   ],
   "source": [
    "df.groupby('Current Credit Balance')['Maximum Open Credit'].mean()"
   ]
  },
  {
   "cell_type": "code",
   "execution_count": 96,
   "metadata": {},
   "outputs": [],
   "source": [
    "df['Maximum Open Credit'] = df.groupby('Current Credit Balance')['Maximum Open Credit'].transform(lambda x: x.fillna(x.mean()))"
   ]
  },
  {
   "cell_type": "code",
   "execution_count": 97,
   "metadata": {},
   "outputs": [
    {
     "data": {
      "text/plain": [
       "0"
      ]
     },
     "execution_count": 97,
     "metadata": {},
     "output_type": "execute_result"
    }
   ],
   "source": [
    "df['Maximum Open Credit'].isnull().sum()"
   ]
  },
  {
   "cell_type": "code",
   "execution_count": 98,
   "metadata": {},
   "outputs": [],
   "source": [
    "df['Maximum Open Credit'] = df['Maximum Open Credit'].astype(int)"
   ]
  },
  {
   "cell_type": "markdown",
   "metadata": {},
   "source": [
    "## Months since last delinquent"
   ]
  },
  {
   "cell_type": "code",
   "execution_count": 99,
   "metadata": {},
   "outputs": [
    {
     "data": {
      "text/plain": [
       "array([ 41.,  nan,  73.,  29.,  43.,  79.,   2.,  15.,  27.,   5.,  55.,\n",
       "        21.,  56.,  25.,  67.,  37.,  74.,  45.,  76.,  46.,  35.,  60.,\n",
       "        28.,  34.,  13.,   7.,  17.,  22.,  42.,  53.,  12.,  39.,  71.,\n",
       "        20.,  38.,   0.,  81.,  78.,  44.,  63.,  77.,  49.,  30.,  70.,\n",
       "        26.,  14.,   8.,  52.,  68.,  75.,  51.,  59.,  40.,   4.,  18.,\n",
       "        47.,  24.,  31.,  69.,  32.,  36.,  16.,  10.,  62.,   9.,  11.,\n",
       "        66.,  58.,  54.,   3.,  50.,  82.,  61.,  72.,  57.,  23.,  19.,\n",
       "        80.,   6.,   1.,  86.,  48.,  33.,  65.,  64.,  84.,  83., 104.,\n",
       "        90., 149.,  96., 110.,  99.,  91.,  95., 152.,  87., 131., 100.,\n",
       "       116., 106., 107.,  85.,  89., 101., 122.,  93., 135., 139.,  88.,\n",
       "       148.,  92.,  94., 114., 143., 115., 108., 140., 130.,  98.,  97.,\n",
       "       120., 102., 176., 151., 118., 109., 134., 112., 113., 133., 119.])"
      ]
     },
     "execution_count": 99,
     "metadata": {},
     "output_type": "execute_result"
    }
   ],
   "source": [
    "df['Months since last delinquent'].unique()\n",
    "#nulls can mean 0 "
   ]
  },
  {
   "cell_type": "code",
   "execution_count": 100,
   "metadata": {},
   "outputs": [
    {
     "data": {
      "text/html": [
       "<div>\n",
       "<style scoped>\n",
       "    .dataframe tbody tr th:only-of-type {\n",
       "        vertical-align: middle;\n",
       "    }\n",
       "\n",
       "    .dataframe tbody tr th {\n",
       "        vertical-align: top;\n",
       "    }\n",
       "\n",
       "    .dataframe thead th {\n",
       "        text-align: right;\n",
       "    }\n",
       "</style>\n",
       "<table border=\"1\" class=\"dataframe\">\n",
       "  <thead>\n",
       "    <tr style=\"text-align: right;\">\n",
       "      <th></th>\n",
       "      <th>Loan ID</th>\n",
       "      <th>Customer ID</th>\n",
       "      <th>Loan Status</th>\n",
       "      <th>Current Loan Amount</th>\n",
       "      <th>Term</th>\n",
       "      <th>Credit Score</th>\n",
       "      <th>Years in current job</th>\n",
       "      <th>Home Ownership</th>\n",
       "      <th>Annual Income</th>\n",
       "      <th>Purpose</th>\n",
       "      <th>Monthly Debt</th>\n",
       "      <th>Years of Credit History</th>\n",
       "      <th>Months since last delinquent</th>\n",
       "      <th>Number of Open Accounts</th>\n",
       "      <th>Number of Credit Problems</th>\n",
       "      <th>Current Credit Balance</th>\n",
       "      <th>Maximum Open Credit</th>\n",
       "      <th>Bankruptcies</th>\n",
       "      <th>Tax Liens</th>\n",
       "    </tr>\n",
       "  </thead>\n",
       "  <tbody>\n",
       "    <tr>\n",
       "      <th>5</th>\n",
       "      <td>0000a149-b055-4a57-b762-280783ccc25e</td>\n",
       "      <td>62ddc017-7023-4ba7-af23-1a7cd16c1ce5</td>\n",
       "      <td>Fully Paid</td>\n",
       "      <td>10208</td>\n",
       "      <td>Short Term</td>\n",
       "      <td>716</td>\n",
       "      <td>10+ years</td>\n",
       "      <td>Rent</td>\n",
       "      <td>41853</td>\n",
       "      <td>Business Loan</td>\n",
       "      <td>561.52</td>\n",
       "      <td>13.2</td>\n",
       "      <td>NaN</td>\n",
       "      <td>4</td>\n",
       "      <td>1</td>\n",
       "      <td>2289</td>\n",
       "      <td>4671</td>\n",
       "      <td>1.0</td>\n",
       "      <td>0.0</td>\n",
       "    </tr>\n",
       "    <tr>\n",
       "      <th>16</th>\n",
       "      <td>0002c691-5314-44ab-b205-3fb1cc4ee6b2</td>\n",
       "      <td>41207d1e-5d13-43ec-9fe9-f222b4da5e0c</td>\n",
       "      <td>Fully Paid</td>\n",
       "      <td>99999999</td>\n",
       "      <td>Short Term</td>\n",
       "      <td>744</td>\n",
       "      <td>6 years</td>\n",
       "      <td>Home Mortgage</td>\n",
       "      <td>65605</td>\n",
       "      <td>Debt Consolidation</td>\n",
       "      <td>984.07</td>\n",
       "      <td>21.0</td>\n",
       "      <td>NaN</td>\n",
       "      <td>5</td>\n",
       "      <td>1</td>\n",
       "      <td>11514</td>\n",
       "      <td>17262</td>\n",
       "      <td>1.0</td>\n",
       "      <td>0.0</td>\n",
       "    </tr>\n",
       "    <tr>\n",
       "      <th>22</th>\n",
       "      <td>0003b749-307f-4830-9fb4-9db7ed1b1c48</td>\n",
       "      <td>998dc43c-f9ce-466e-bdaa-7057b0bbb9cd</td>\n",
       "      <td>Fully Paid</td>\n",
       "      <td>7228</td>\n",
       "      <td>Short Term</td>\n",
       "      <td>721</td>\n",
       "      <td>3 years</td>\n",
       "      <td>Home Mortgage</td>\n",
       "      <td>64679</td>\n",
       "      <td>Debt Consolidation</td>\n",
       "      <td>439.56</td>\n",
       "      <td>17.8</td>\n",
       "      <td>NaN</td>\n",
       "      <td>13</td>\n",
       "      <td>1</td>\n",
       "      <td>8488</td>\n",
       "      <td>15866</td>\n",
       "      <td>1.0</td>\n",
       "      <td>0.0</td>\n",
       "    </tr>\n",
       "    <tr>\n",
       "      <th>57</th>\n",
       "      <td>000c16df-c24f-41cf-a90e-60301d131bb9</td>\n",
       "      <td>b07c4262-70bb-41cc-b28a-d87540577fb1</td>\n",
       "      <td>Fully Paid</td>\n",
       "      <td>7068</td>\n",
       "      <td>Short Term</td>\n",
       "      <td>721</td>\n",
       "      <td>No job info</td>\n",
       "      <td>Own</td>\n",
       "      <td>41614</td>\n",
       "      <td>Other</td>\n",
       "      <td>425.68</td>\n",
       "      <td>21.3</td>\n",
       "      <td>NaN</td>\n",
       "      <td>7</td>\n",
       "      <td>1</td>\n",
       "      <td>4178</td>\n",
       "      <td>6850</td>\n",
       "      <td>1.0</td>\n",
       "      <td>0.0</td>\n",
       "    </tr>\n",
       "    <tr>\n",
       "      <th>59</th>\n",
       "      <td>000c8f86-1e0a-4085-98aa-4f0d247c0884</td>\n",
       "      <td>1b9b21b9-dc97-403f-80bb-e3e667b99851</td>\n",
       "      <td>Fully Paid</td>\n",
       "      <td>99999999</td>\n",
       "      <td>Short Term</td>\n",
       "      <td>727</td>\n",
       "      <td>2 years</td>\n",
       "      <td>Rent</td>\n",
       "      <td>52825</td>\n",
       "      <td>Debt Consolidation</td>\n",
       "      <td>1360.25</td>\n",
       "      <td>14.3</td>\n",
       "      <td>NaN</td>\n",
       "      <td>11</td>\n",
       "      <td>1</td>\n",
       "      <td>34163</td>\n",
       "      <td>43080</td>\n",
       "      <td>1.0</td>\n",
       "      <td>0.0</td>\n",
       "    </tr>\n",
       "    <tr>\n",
       "      <th>...</th>\n",
       "      <td>...</td>\n",
       "      <td>...</td>\n",
       "      <td>...</td>\n",
       "      <td>...</td>\n",
       "      <td>...</td>\n",
       "      <td>...</td>\n",
       "      <td>...</td>\n",
       "      <td>...</td>\n",
       "      <td>...</td>\n",
       "      <td>...</td>\n",
       "      <td>...</td>\n",
       "      <td>...</td>\n",
       "      <td>...</td>\n",
       "      <td>...</td>\n",
       "      <td>...</td>\n",
       "      <td>...</td>\n",
       "      <td>...</td>\n",
       "      <td>...</td>\n",
       "      <td>...</td>\n",
       "    </tr>\n",
       "    <tr>\n",
       "      <th>256926</th>\n",
       "      <td>fff118b9-a83d-4b0b-94ca-a4df96e0fa8f</td>\n",
       "      <td>4ef9be81-6156-46fd-aafd-0d8c0b8af01b</td>\n",
       "      <td>Fully Paid</td>\n",
       "      <td>10393</td>\n",
       "      <td>Short Term</td>\n",
       "      <td>721</td>\n",
       "      <td>10+ years</td>\n",
       "      <td>Rent</td>\n",
       "      <td>46998</td>\n",
       "      <td>Debt Consolidation</td>\n",
       "      <td>647.97</td>\n",
       "      <td>31.3</td>\n",
       "      <td>NaN</td>\n",
       "      <td>8</td>\n",
       "      <td>1</td>\n",
       "      <td>8997</td>\n",
       "      <td>44320</td>\n",
       "      <td>1.0</td>\n",
       "      <td>0.0</td>\n",
       "    </tr>\n",
       "    <tr>\n",
       "      <th>256943</th>\n",
       "      <td>fff4be77-72c2-406e-87cf-ce4b88e958a1</td>\n",
       "      <td>17c0d376-2153-4b04-98d9-a6950f768686</td>\n",
       "      <td>Fully Paid</td>\n",
       "      <td>10157</td>\n",
       "      <td>Short Term</td>\n",
       "      <td>744</td>\n",
       "      <td>10+ years</td>\n",
       "      <td>Home Mortgage</td>\n",
       "      <td>121884</td>\n",
       "      <td>Debt Consolidation</td>\n",
       "      <td>598.25</td>\n",
       "      <td>14.3</td>\n",
       "      <td>NaN</td>\n",
       "      <td>6</td>\n",
       "      <td>1</td>\n",
       "      <td>8738</td>\n",
       "      <td>11682</td>\n",
       "      <td>1.0</td>\n",
       "      <td>0.0</td>\n",
       "    </tr>\n",
       "    <tr>\n",
       "      <th>256961</th>\n",
       "      <td>fffa2dc8-6407-449a-99dc-12f59928d013</td>\n",
       "      <td>1abe52ef-2414-427a-bf9b-068c60e5352a</td>\n",
       "      <td>Fully Paid</td>\n",
       "      <td>8721</td>\n",
       "      <td>Short Term</td>\n",
       "      <td>726</td>\n",
       "      <td>7 years</td>\n",
       "      <td>Home Mortgage</td>\n",
       "      <td>38649</td>\n",
       "      <td>Debt Consolidation</td>\n",
       "      <td>811.63</td>\n",
       "      <td>15.1</td>\n",
       "      <td>NaN</td>\n",
       "      <td>9</td>\n",
       "      <td>1</td>\n",
       "      <td>3860</td>\n",
       "      <td>13592</td>\n",
       "      <td>1.0</td>\n",
       "      <td>0.0</td>\n",
       "    </tr>\n",
       "    <tr>\n",
       "      <th>256977</th>\n",
       "      <td>fffe84cf-67a1-468d-ab7b-cf06a9c4ee14</td>\n",
       "      <td>460c6cf5-4d12-4e3c-a3d0-46dd67c78cce</td>\n",
       "      <td>Charged Off</td>\n",
       "      <td>11953</td>\n",
       "      <td>Short Term</td>\n",
       "      <td>717</td>\n",
       "      <td>10+ years</td>\n",
       "      <td>Home Mortgage</td>\n",
       "      <td>39844</td>\n",
       "      <td>Debt Consolidation</td>\n",
       "      <td>982.82</td>\n",
       "      <td>11.7</td>\n",
       "      <td>NaN</td>\n",
       "      <td>9</td>\n",
       "      <td>1</td>\n",
       "      <td>4176</td>\n",
       "      <td>4783</td>\n",
       "      <td>1.0</td>\n",
       "      <td>0.0</td>\n",
       "    </tr>\n",
       "    <tr>\n",
       "      <th>256978</th>\n",
       "      <td>fffe84cf-67a1-468d-ab7b-cf06a9c4ee14</td>\n",
       "      <td>460c6cf5-4d12-4e3c-a3d0-46dd67c78cce</td>\n",
       "      <td>Charged Off</td>\n",
       "      <td>11953</td>\n",
       "      <td>Short Term</td>\n",
       "      <td>717</td>\n",
       "      <td>10+ years</td>\n",
       "      <td>Home Mortgage</td>\n",
       "      <td>39844</td>\n",
       "      <td>Debt Consolidation</td>\n",
       "      <td>982.82</td>\n",
       "      <td>11.7</td>\n",
       "      <td>NaN</td>\n",
       "      <td>9</td>\n",
       "      <td>1</td>\n",
       "      <td>4176</td>\n",
       "      <td>4783</td>\n",
       "      <td>1.0</td>\n",
       "      <td>0.0</td>\n",
       "    </tr>\n",
       "  </tbody>\n",
       "</table>\n",
       "<p>15075 rows × 19 columns</p>\n",
       "</div>"
      ],
      "text/plain": [
       "                                     Loan ID  \\\n",
       "5       0000a149-b055-4a57-b762-280783ccc25e   \n",
       "16      0002c691-5314-44ab-b205-3fb1cc4ee6b2   \n",
       "22      0003b749-307f-4830-9fb4-9db7ed1b1c48   \n",
       "57      000c16df-c24f-41cf-a90e-60301d131bb9   \n",
       "59      000c8f86-1e0a-4085-98aa-4f0d247c0884   \n",
       "...                                      ...   \n",
       "256926  fff118b9-a83d-4b0b-94ca-a4df96e0fa8f   \n",
       "256943  fff4be77-72c2-406e-87cf-ce4b88e958a1   \n",
       "256961  fffa2dc8-6407-449a-99dc-12f59928d013   \n",
       "256977  fffe84cf-67a1-468d-ab7b-cf06a9c4ee14   \n",
       "256978  fffe84cf-67a1-468d-ab7b-cf06a9c4ee14   \n",
       "\n",
       "                                 Customer ID  Loan Status  \\\n",
       "5       62ddc017-7023-4ba7-af23-1a7cd16c1ce5   Fully Paid   \n",
       "16      41207d1e-5d13-43ec-9fe9-f222b4da5e0c   Fully Paid   \n",
       "22      998dc43c-f9ce-466e-bdaa-7057b0bbb9cd   Fully Paid   \n",
       "57      b07c4262-70bb-41cc-b28a-d87540577fb1   Fully Paid   \n",
       "59      1b9b21b9-dc97-403f-80bb-e3e667b99851   Fully Paid   \n",
       "...                                      ...          ...   \n",
       "256926  4ef9be81-6156-46fd-aafd-0d8c0b8af01b   Fully Paid   \n",
       "256943  17c0d376-2153-4b04-98d9-a6950f768686   Fully Paid   \n",
       "256961  1abe52ef-2414-427a-bf9b-068c60e5352a   Fully Paid   \n",
       "256977  460c6cf5-4d12-4e3c-a3d0-46dd67c78cce  Charged Off   \n",
       "256978  460c6cf5-4d12-4e3c-a3d0-46dd67c78cce  Charged Off   \n",
       "\n",
       "        Current Loan Amount        Term  Credit Score Years in current job  \\\n",
       "5                     10208  Short Term           716            10+ years   \n",
       "16                 99999999  Short Term           744              6 years   \n",
       "22                     7228  Short Term           721              3 years   \n",
       "57                     7068  Short Term           721          No job info   \n",
       "59                 99999999  Short Term           727              2 years   \n",
       "...                     ...         ...           ...                  ...   \n",
       "256926                10393  Short Term           721            10+ years   \n",
       "256943                10157  Short Term           744            10+ years   \n",
       "256961                 8721  Short Term           726              7 years   \n",
       "256977                11953  Short Term           717            10+ years   \n",
       "256978                11953  Short Term           717            10+ years   \n",
       "\n",
       "       Home Ownership  Annual Income             Purpose  Monthly Debt  \\\n",
       "5                Rent          41853       Business Loan        561.52   \n",
       "16      Home Mortgage          65605  Debt Consolidation        984.07   \n",
       "22      Home Mortgage          64679  Debt Consolidation        439.56   \n",
       "57                Own          41614               Other        425.68   \n",
       "59               Rent          52825  Debt Consolidation       1360.25   \n",
       "...               ...            ...                 ...           ...   \n",
       "256926           Rent          46998  Debt Consolidation        647.97   \n",
       "256943  Home Mortgage         121884  Debt Consolidation        598.25   \n",
       "256961  Home Mortgage          38649  Debt Consolidation        811.63   \n",
       "256977  Home Mortgage          39844  Debt Consolidation        982.82   \n",
       "256978  Home Mortgage          39844  Debt Consolidation        982.82   \n",
       "\n",
       "        Years of Credit History  Months since last delinquent  \\\n",
       "5                          13.2                           NaN   \n",
       "16                         21.0                           NaN   \n",
       "22                         17.8                           NaN   \n",
       "57                         21.3                           NaN   \n",
       "59                         14.3                           NaN   \n",
       "...                         ...                           ...   \n",
       "256926                     31.3                           NaN   \n",
       "256943                     14.3                           NaN   \n",
       "256961                     15.1                           NaN   \n",
       "256977                     11.7                           NaN   \n",
       "256978                     11.7                           NaN   \n",
       "\n",
       "        Number of Open Accounts  Number of Credit Problems  \\\n",
       "5                             4                          1   \n",
       "16                            5                          1   \n",
       "22                           13                          1   \n",
       "57                            7                          1   \n",
       "59                           11                          1   \n",
       "...                         ...                        ...   \n",
       "256926                        8                          1   \n",
       "256943                        6                          1   \n",
       "256961                        9                          1   \n",
       "256977                        9                          1   \n",
       "256978                        9                          1   \n",
       "\n",
       "        Current Credit Balance  Maximum Open Credit  Bankruptcies  Tax Liens  \n",
       "5                         2289                 4671           1.0        0.0  \n",
       "16                       11514                17262           1.0        0.0  \n",
       "22                        8488                15866           1.0        0.0  \n",
       "57                        4178                 6850           1.0        0.0  \n",
       "59                       34163                43080           1.0        0.0  \n",
       "...                        ...                  ...           ...        ...  \n",
       "256926                    8997                44320           1.0        0.0  \n",
       "256943                    8738                11682           1.0        0.0  \n",
       "256961                    3860                13592           1.0        0.0  \n",
       "256977                    4176                 4783           1.0        0.0  \n",
       "256978                    4176                 4783           1.0        0.0  \n",
       "\n",
       "[15075 rows x 19 columns]"
      ]
     },
     "execution_count": 100,
     "metadata": {},
     "output_type": "execute_result"
    }
   ],
   "source": [
    "#checking to see if nulls actually mean 0\n",
    "df[(df['Months since last delinquent'].isnull()) & (df['Bankruptcies'] > 0)]\n",
    "#since there are people who null delinquint but have bankruptcy then that means null != 0\n",
    "#can fill in values where months since last delinquent null and bankruptcy = 0"
   ]
  },
  {
   "cell_type": "code",
   "execution_count": 101,
   "metadata": {},
   "outputs": [
    {
     "data": {
      "text/plain": [
       "140383"
      ]
     },
     "execution_count": 101,
     "metadata": {},
     "output_type": "execute_result"
    }
   ],
   "source": [
    "df['Months since last delinquent'].isnull().sum()"
   ]
  },
  {
   "cell_type": "code",
   "execution_count": 102,
   "metadata": {},
   "outputs": [],
   "source": [
    "#fill in null values in months since last delinquent where bankruptcy = 0\n",
    "# fill in bankruptcy with a high number because its months SINCE last delinquent not how many months are delinquent\n",
    "df.loc[(df['Months since last delinquent'].isnull())&(df['Bankruptcies']==0), 'Months since last delinquent'] = 0"
   ]
  },
  {
   "cell_type": "code",
   "execution_count": 103,
   "metadata": {},
   "outputs": [
    {
     "data": {
      "text/plain": [
       "15079"
      ]
     },
     "execution_count": 103,
     "metadata": {},
     "output_type": "execute_result"
    }
   ],
   "source": [
    "df['Months since last delinquent'].isnull().sum()"
   ]
  },
  {
   "cell_type": "code",
   "execution_count": 104,
   "metadata": {},
   "outputs": [
    {
     "data": {
      "text/html": [
       "<div>\n",
       "<style scoped>\n",
       "    .dataframe tbody tr th:only-of-type {\n",
       "        vertical-align: middle;\n",
       "    }\n",
       "\n",
       "    .dataframe tbody tr th {\n",
       "        vertical-align: top;\n",
       "    }\n",
       "\n",
       "    .dataframe thead th {\n",
       "        text-align: right;\n",
       "    }\n",
       "</style>\n",
       "<table border=\"1\" class=\"dataframe\">\n",
       "  <thead>\n",
       "    <tr style=\"text-align: right;\">\n",
       "      <th></th>\n",
       "      <th>Loan ID</th>\n",
       "      <th>Customer ID</th>\n",
       "      <th>Loan Status</th>\n",
       "      <th>Current Loan Amount</th>\n",
       "      <th>Term</th>\n",
       "      <th>Credit Score</th>\n",
       "      <th>Years in current job</th>\n",
       "      <th>Home Ownership</th>\n",
       "      <th>Annual Income</th>\n",
       "      <th>Purpose</th>\n",
       "      <th>Monthly Debt</th>\n",
       "      <th>Years of Credit History</th>\n",
       "      <th>Months since last delinquent</th>\n",
       "      <th>Number of Open Accounts</th>\n",
       "      <th>Number of Credit Problems</th>\n",
       "      <th>Current Credit Balance</th>\n",
       "      <th>Maximum Open Credit</th>\n",
       "      <th>Bankruptcies</th>\n",
       "      <th>Tax Liens</th>\n",
       "    </tr>\n",
       "  </thead>\n",
       "  <tbody>\n",
       "  </tbody>\n",
       "</table>\n",
       "</div>"
      ],
      "text/plain": [
       "Empty DataFrame\n",
       "Columns: [Loan ID, Customer ID, Loan Status, Current Loan Amount, Term, Credit Score, Years in current job, Home Ownership, Annual Income, Purpose, Monthly Debt, Years of Credit History, Months since last delinquent, Number of Open Accounts, Number of Credit Problems, Current Credit Balance, Maximum Open Credit, Bankruptcies, Tax Liens]\n",
       "Index: []"
      ]
     },
     "execution_count": 104,
     "metadata": {},
     "output_type": "execute_result"
    }
   ],
   "source": [
    "df[(df['Months since last delinquent'].isnull())&(df['Bankruptcies']==0)]"
   ]
  },
  {
   "cell_type": "code",
   "execution_count": 105,
   "metadata": {},
   "outputs": [
    {
     "data": {
      "text/html": [
       "<div>\n",
       "<style scoped>\n",
       "    .dataframe tbody tr th:only-of-type {\n",
       "        vertical-align: middle;\n",
       "    }\n",
       "\n",
       "    .dataframe tbody tr th {\n",
       "        vertical-align: top;\n",
       "    }\n",
       "\n",
       "    .dataframe thead th {\n",
       "        text-align: right;\n",
       "    }\n",
       "</style>\n",
       "<table border=\"1\" class=\"dataframe\">\n",
       "  <thead>\n",
       "    <tr style=\"text-align: right;\">\n",
       "      <th></th>\n",
       "      <th>Loan ID</th>\n",
       "      <th>Customer ID</th>\n",
       "      <th>Loan Status</th>\n",
       "      <th>Current Loan Amount</th>\n",
       "      <th>Term</th>\n",
       "      <th>Credit Score</th>\n",
       "      <th>Years in current job</th>\n",
       "      <th>Home Ownership</th>\n",
       "      <th>Annual Income</th>\n",
       "      <th>Purpose</th>\n",
       "      <th>Monthly Debt</th>\n",
       "      <th>Years of Credit History</th>\n",
       "      <th>Months since last delinquent</th>\n",
       "      <th>Number of Open Accounts</th>\n",
       "      <th>Number of Credit Problems</th>\n",
       "      <th>Current Credit Balance</th>\n",
       "      <th>Maximum Open Credit</th>\n",
       "      <th>Bankruptcies</th>\n",
       "      <th>Tax Liens</th>\n",
       "    </tr>\n",
       "  </thead>\n",
       "  <tbody>\n",
       "    <tr>\n",
       "      <th>5</th>\n",
       "      <td>0000a149-b055-4a57-b762-280783ccc25e</td>\n",
       "      <td>62ddc017-7023-4ba7-af23-1a7cd16c1ce5</td>\n",
       "      <td>Fully Paid</td>\n",
       "      <td>10208</td>\n",
       "      <td>Short Term</td>\n",
       "      <td>716</td>\n",
       "      <td>10+ years</td>\n",
       "      <td>Rent</td>\n",
       "      <td>41853</td>\n",
       "      <td>Business Loan</td>\n",
       "      <td>561.52</td>\n",
       "      <td>13.2</td>\n",
       "      <td>NaN</td>\n",
       "      <td>4</td>\n",
       "      <td>1</td>\n",
       "      <td>2289</td>\n",
       "      <td>4671</td>\n",
       "      <td>1.0</td>\n",
       "      <td>0.0</td>\n",
       "    </tr>\n",
       "    <tr>\n",
       "      <th>16</th>\n",
       "      <td>0002c691-5314-44ab-b205-3fb1cc4ee6b2</td>\n",
       "      <td>41207d1e-5d13-43ec-9fe9-f222b4da5e0c</td>\n",
       "      <td>Fully Paid</td>\n",
       "      <td>99999999</td>\n",
       "      <td>Short Term</td>\n",
       "      <td>744</td>\n",
       "      <td>6 years</td>\n",
       "      <td>Home Mortgage</td>\n",
       "      <td>65605</td>\n",
       "      <td>Debt Consolidation</td>\n",
       "      <td>984.07</td>\n",
       "      <td>21.0</td>\n",
       "      <td>NaN</td>\n",
       "      <td>5</td>\n",
       "      <td>1</td>\n",
       "      <td>11514</td>\n",
       "      <td>17262</td>\n",
       "      <td>1.0</td>\n",
       "      <td>0.0</td>\n",
       "    </tr>\n",
       "    <tr>\n",
       "      <th>22</th>\n",
       "      <td>0003b749-307f-4830-9fb4-9db7ed1b1c48</td>\n",
       "      <td>998dc43c-f9ce-466e-bdaa-7057b0bbb9cd</td>\n",
       "      <td>Fully Paid</td>\n",
       "      <td>7228</td>\n",
       "      <td>Short Term</td>\n",
       "      <td>721</td>\n",
       "      <td>3 years</td>\n",
       "      <td>Home Mortgage</td>\n",
       "      <td>64679</td>\n",
       "      <td>Debt Consolidation</td>\n",
       "      <td>439.56</td>\n",
       "      <td>17.8</td>\n",
       "      <td>NaN</td>\n",
       "      <td>13</td>\n",
       "      <td>1</td>\n",
       "      <td>8488</td>\n",
       "      <td>15866</td>\n",
       "      <td>1.0</td>\n",
       "      <td>0.0</td>\n",
       "    </tr>\n",
       "    <tr>\n",
       "      <th>57</th>\n",
       "      <td>000c16df-c24f-41cf-a90e-60301d131bb9</td>\n",
       "      <td>b07c4262-70bb-41cc-b28a-d87540577fb1</td>\n",
       "      <td>Fully Paid</td>\n",
       "      <td>7068</td>\n",
       "      <td>Short Term</td>\n",
       "      <td>721</td>\n",
       "      <td>No job info</td>\n",
       "      <td>Own</td>\n",
       "      <td>41614</td>\n",
       "      <td>Other</td>\n",
       "      <td>425.68</td>\n",
       "      <td>21.3</td>\n",
       "      <td>NaN</td>\n",
       "      <td>7</td>\n",
       "      <td>1</td>\n",
       "      <td>4178</td>\n",
       "      <td>6850</td>\n",
       "      <td>1.0</td>\n",
       "      <td>0.0</td>\n",
       "    </tr>\n",
       "    <tr>\n",
       "      <th>59</th>\n",
       "      <td>000c8f86-1e0a-4085-98aa-4f0d247c0884</td>\n",
       "      <td>1b9b21b9-dc97-403f-80bb-e3e667b99851</td>\n",
       "      <td>Fully Paid</td>\n",
       "      <td>99999999</td>\n",
       "      <td>Short Term</td>\n",
       "      <td>727</td>\n",
       "      <td>2 years</td>\n",
       "      <td>Rent</td>\n",
       "      <td>52825</td>\n",
       "      <td>Debt Consolidation</td>\n",
       "      <td>1360.25</td>\n",
       "      <td>14.3</td>\n",
       "      <td>NaN</td>\n",
       "      <td>11</td>\n",
       "      <td>1</td>\n",
       "      <td>34163</td>\n",
       "      <td>43080</td>\n",
       "      <td>1.0</td>\n",
       "      <td>0.0</td>\n",
       "    </tr>\n",
       "    <tr>\n",
       "      <th>...</th>\n",
       "      <td>...</td>\n",
       "      <td>...</td>\n",
       "      <td>...</td>\n",
       "      <td>...</td>\n",
       "      <td>...</td>\n",
       "      <td>...</td>\n",
       "      <td>...</td>\n",
       "      <td>...</td>\n",
       "      <td>...</td>\n",
       "      <td>...</td>\n",
       "      <td>...</td>\n",
       "      <td>...</td>\n",
       "      <td>...</td>\n",
       "      <td>...</td>\n",
       "      <td>...</td>\n",
       "      <td>...</td>\n",
       "      <td>...</td>\n",
       "      <td>...</td>\n",
       "      <td>...</td>\n",
       "    </tr>\n",
       "    <tr>\n",
       "      <th>256926</th>\n",
       "      <td>fff118b9-a83d-4b0b-94ca-a4df96e0fa8f</td>\n",
       "      <td>4ef9be81-6156-46fd-aafd-0d8c0b8af01b</td>\n",
       "      <td>Fully Paid</td>\n",
       "      <td>10393</td>\n",
       "      <td>Short Term</td>\n",
       "      <td>721</td>\n",
       "      <td>10+ years</td>\n",
       "      <td>Rent</td>\n",
       "      <td>46998</td>\n",
       "      <td>Debt Consolidation</td>\n",
       "      <td>647.97</td>\n",
       "      <td>31.3</td>\n",
       "      <td>NaN</td>\n",
       "      <td>8</td>\n",
       "      <td>1</td>\n",
       "      <td>8997</td>\n",
       "      <td>44320</td>\n",
       "      <td>1.0</td>\n",
       "      <td>0.0</td>\n",
       "    </tr>\n",
       "    <tr>\n",
       "      <th>256943</th>\n",
       "      <td>fff4be77-72c2-406e-87cf-ce4b88e958a1</td>\n",
       "      <td>17c0d376-2153-4b04-98d9-a6950f768686</td>\n",
       "      <td>Fully Paid</td>\n",
       "      <td>10157</td>\n",
       "      <td>Short Term</td>\n",
       "      <td>744</td>\n",
       "      <td>10+ years</td>\n",
       "      <td>Home Mortgage</td>\n",
       "      <td>121884</td>\n",
       "      <td>Debt Consolidation</td>\n",
       "      <td>598.25</td>\n",
       "      <td>14.3</td>\n",
       "      <td>NaN</td>\n",
       "      <td>6</td>\n",
       "      <td>1</td>\n",
       "      <td>8738</td>\n",
       "      <td>11682</td>\n",
       "      <td>1.0</td>\n",
       "      <td>0.0</td>\n",
       "    </tr>\n",
       "    <tr>\n",
       "      <th>256961</th>\n",
       "      <td>fffa2dc8-6407-449a-99dc-12f59928d013</td>\n",
       "      <td>1abe52ef-2414-427a-bf9b-068c60e5352a</td>\n",
       "      <td>Fully Paid</td>\n",
       "      <td>8721</td>\n",
       "      <td>Short Term</td>\n",
       "      <td>726</td>\n",
       "      <td>7 years</td>\n",
       "      <td>Home Mortgage</td>\n",
       "      <td>38649</td>\n",
       "      <td>Debt Consolidation</td>\n",
       "      <td>811.63</td>\n",
       "      <td>15.1</td>\n",
       "      <td>NaN</td>\n",
       "      <td>9</td>\n",
       "      <td>1</td>\n",
       "      <td>3860</td>\n",
       "      <td>13592</td>\n",
       "      <td>1.0</td>\n",
       "      <td>0.0</td>\n",
       "    </tr>\n",
       "    <tr>\n",
       "      <th>256977</th>\n",
       "      <td>fffe84cf-67a1-468d-ab7b-cf06a9c4ee14</td>\n",
       "      <td>460c6cf5-4d12-4e3c-a3d0-46dd67c78cce</td>\n",
       "      <td>Charged Off</td>\n",
       "      <td>11953</td>\n",
       "      <td>Short Term</td>\n",
       "      <td>717</td>\n",
       "      <td>10+ years</td>\n",
       "      <td>Home Mortgage</td>\n",
       "      <td>39844</td>\n",
       "      <td>Debt Consolidation</td>\n",
       "      <td>982.82</td>\n",
       "      <td>11.7</td>\n",
       "      <td>NaN</td>\n",
       "      <td>9</td>\n",
       "      <td>1</td>\n",
       "      <td>4176</td>\n",
       "      <td>4783</td>\n",
       "      <td>1.0</td>\n",
       "      <td>0.0</td>\n",
       "    </tr>\n",
       "    <tr>\n",
       "      <th>256978</th>\n",
       "      <td>fffe84cf-67a1-468d-ab7b-cf06a9c4ee14</td>\n",
       "      <td>460c6cf5-4d12-4e3c-a3d0-46dd67c78cce</td>\n",
       "      <td>Charged Off</td>\n",
       "      <td>11953</td>\n",
       "      <td>Short Term</td>\n",
       "      <td>717</td>\n",
       "      <td>10+ years</td>\n",
       "      <td>Home Mortgage</td>\n",
       "      <td>39844</td>\n",
       "      <td>Debt Consolidation</td>\n",
       "      <td>982.82</td>\n",
       "      <td>11.7</td>\n",
       "      <td>NaN</td>\n",
       "      <td>9</td>\n",
       "      <td>1</td>\n",
       "      <td>4176</td>\n",
       "      <td>4783</td>\n",
       "      <td>1.0</td>\n",
       "      <td>0.0</td>\n",
       "    </tr>\n",
       "  </tbody>\n",
       "</table>\n",
       "<p>15075 rows × 19 columns</p>\n",
       "</div>"
      ],
      "text/plain": [
       "                                     Loan ID  \\\n",
       "5       0000a149-b055-4a57-b762-280783ccc25e   \n",
       "16      0002c691-5314-44ab-b205-3fb1cc4ee6b2   \n",
       "22      0003b749-307f-4830-9fb4-9db7ed1b1c48   \n",
       "57      000c16df-c24f-41cf-a90e-60301d131bb9   \n",
       "59      000c8f86-1e0a-4085-98aa-4f0d247c0884   \n",
       "...                                      ...   \n",
       "256926  fff118b9-a83d-4b0b-94ca-a4df96e0fa8f   \n",
       "256943  fff4be77-72c2-406e-87cf-ce4b88e958a1   \n",
       "256961  fffa2dc8-6407-449a-99dc-12f59928d013   \n",
       "256977  fffe84cf-67a1-468d-ab7b-cf06a9c4ee14   \n",
       "256978  fffe84cf-67a1-468d-ab7b-cf06a9c4ee14   \n",
       "\n",
       "                                 Customer ID  Loan Status  \\\n",
       "5       62ddc017-7023-4ba7-af23-1a7cd16c1ce5   Fully Paid   \n",
       "16      41207d1e-5d13-43ec-9fe9-f222b4da5e0c   Fully Paid   \n",
       "22      998dc43c-f9ce-466e-bdaa-7057b0bbb9cd   Fully Paid   \n",
       "57      b07c4262-70bb-41cc-b28a-d87540577fb1   Fully Paid   \n",
       "59      1b9b21b9-dc97-403f-80bb-e3e667b99851   Fully Paid   \n",
       "...                                      ...          ...   \n",
       "256926  4ef9be81-6156-46fd-aafd-0d8c0b8af01b   Fully Paid   \n",
       "256943  17c0d376-2153-4b04-98d9-a6950f768686   Fully Paid   \n",
       "256961  1abe52ef-2414-427a-bf9b-068c60e5352a   Fully Paid   \n",
       "256977  460c6cf5-4d12-4e3c-a3d0-46dd67c78cce  Charged Off   \n",
       "256978  460c6cf5-4d12-4e3c-a3d0-46dd67c78cce  Charged Off   \n",
       "\n",
       "        Current Loan Amount        Term  Credit Score Years in current job  \\\n",
       "5                     10208  Short Term           716            10+ years   \n",
       "16                 99999999  Short Term           744              6 years   \n",
       "22                     7228  Short Term           721              3 years   \n",
       "57                     7068  Short Term           721          No job info   \n",
       "59                 99999999  Short Term           727              2 years   \n",
       "...                     ...         ...           ...                  ...   \n",
       "256926                10393  Short Term           721            10+ years   \n",
       "256943                10157  Short Term           744            10+ years   \n",
       "256961                 8721  Short Term           726              7 years   \n",
       "256977                11953  Short Term           717            10+ years   \n",
       "256978                11953  Short Term           717            10+ years   \n",
       "\n",
       "       Home Ownership  Annual Income             Purpose  Monthly Debt  \\\n",
       "5                Rent          41853       Business Loan        561.52   \n",
       "16      Home Mortgage          65605  Debt Consolidation        984.07   \n",
       "22      Home Mortgage          64679  Debt Consolidation        439.56   \n",
       "57                Own          41614               Other        425.68   \n",
       "59               Rent          52825  Debt Consolidation       1360.25   \n",
       "...               ...            ...                 ...           ...   \n",
       "256926           Rent          46998  Debt Consolidation        647.97   \n",
       "256943  Home Mortgage         121884  Debt Consolidation        598.25   \n",
       "256961  Home Mortgage          38649  Debt Consolidation        811.63   \n",
       "256977  Home Mortgage          39844  Debt Consolidation        982.82   \n",
       "256978  Home Mortgage          39844  Debt Consolidation        982.82   \n",
       "\n",
       "        Years of Credit History  Months since last delinquent  \\\n",
       "5                          13.2                           NaN   \n",
       "16                         21.0                           NaN   \n",
       "22                         17.8                           NaN   \n",
       "57                         21.3                           NaN   \n",
       "59                         14.3                           NaN   \n",
       "...                         ...                           ...   \n",
       "256926                     31.3                           NaN   \n",
       "256943                     14.3                           NaN   \n",
       "256961                     15.1                           NaN   \n",
       "256977                     11.7                           NaN   \n",
       "256978                     11.7                           NaN   \n",
       "\n",
       "        Number of Open Accounts  Number of Credit Problems  \\\n",
       "5                             4                          1   \n",
       "16                            5                          1   \n",
       "22                           13                          1   \n",
       "57                            7                          1   \n",
       "59                           11                          1   \n",
       "...                         ...                        ...   \n",
       "256926                        8                          1   \n",
       "256943                        6                          1   \n",
       "256961                        9                          1   \n",
       "256977                        9                          1   \n",
       "256978                        9                          1   \n",
       "\n",
       "        Current Credit Balance  Maximum Open Credit  Bankruptcies  Tax Liens  \n",
       "5                         2289                 4671           1.0        0.0  \n",
       "16                       11514                17262           1.0        0.0  \n",
       "22                        8488                15866           1.0        0.0  \n",
       "57                        4178                 6850           1.0        0.0  \n",
       "59                       34163                43080           1.0        0.0  \n",
       "...                        ...                  ...           ...        ...  \n",
       "256926                    8997                44320           1.0        0.0  \n",
       "256943                    8738                11682           1.0        0.0  \n",
       "256961                    3860                13592           1.0        0.0  \n",
       "256977                    4176                 4783           1.0        0.0  \n",
       "256978                    4176                 4783           1.0        0.0  \n",
       "\n",
       "[15075 rows x 19 columns]"
      ]
     },
     "execution_count": 105,
     "metadata": {},
     "output_type": "execute_result"
    }
   ],
   "source": [
    "df[(df['Months since last delinquent'].isnull()) & (df['Bankruptcies'] > 0)]"
   ]
  },
  {
   "cell_type": "code",
   "execution_count": 106,
   "metadata": {},
   "outputs": [
    {
     "data": {
      "text/plain": [
       "Current Loan Amount            -0.002292\n",
       "Credit Score                   -0.050635\n",
       "Annual Income                   0.003420\n",
       "Monthly Debt                    0.001659\n",
       "Years of Credit History         0.098096\n",
       "Months since last delinquent    1.000000\n",
       "Number of Open Accounts         0.031573\n",
       "Number of Credit Problems       0.197860\n",
       "Current Credit Balance         -0.081145\n",
       "Maximum Open Credit            -0.005423\n",
       "Bankruptcies                    0.240126\n",
       "Tax Liens                       0.038553\n",
       "Name: Months since last delinquent, dtype: float64"
      ]
     },
     "execution_count": 106,
     "metadata": {},
     "output_type": "execute_result"
    }
   ],
   "source": [
    "df.corr(numeric_only= True)['Months since last delinquent']"
   ]
  },
  {
   "cell_type": "code",
   "execution_count": 107,
   "metadata": {},
   "outputs": [
    {
     "data": {
      "text/plain": [
       "529"
      ]
     },
     "execution_count": 107,
     "metadata": {},
     "output_type": "execute_result"
    }
   ],
   "source": [
    "df['Bankruptcies'].isnull().sum()"
   ]
  },
  {
   "cell_type": "code",
   "execution_count": 108,
   "metadata": {},
   "outputs": [
    {
     "data": {
      "text/plain": [
       "Bankruptcies\n",
       "0.0    15.528862\n",
       "1.0    41.678092\n",
       "2.0    49.402672\n",
       "3.0    49.480000\n",
       "4.0    57.576923\n",
       "5.0    48.083333\n",
       "6.0    69.333333\n",
       "7.0    63.000000\n",
       "Name: Months since last delinquent, dtype: float64"
      ]
     },
     "execution_count": 108,
     "metadata": {},
     "output_type": "execute_result"
    }
   ],
   "source": [
    "df.groupby('Bankruptcies')['Months since last delinquent'].mean()"
   ]
  },
  {
   "cell_type": "code",
   "execution_count": 109,
   "metadata": {},
   "outputs": [],
   "source": [
    "df['Months since last delinquent'] = df.groupby('Bankruptcies')['Months since last delinquent'].transform(lambda x: x.fillna(x.mean()))"
   ]
  },
  {
   "cell_type": "code",
   "execution_count": 110,
   "metadata": {},
   "outputs": [
    {
     "data": {
      "text/plain": [
       "529"
      ]
     },
     "execution_count": 110,
     "metadata": {},
     "output_type": "execute_result"
    }
   ],
   "source": [
    "df['Months since last delinquent'].isnull().sum()"
   ]
  },
  {
   "cell_type": "code",
   "execution_count": 111,
   "metadata": {},
   "outputs": [
    {
     "data": {
      "text/plain": [
       "Number of Credit Problems\n",
       "0     15.253319\n",
       "1     38.535554\n",
       "2     37.338152\n",
       "3     37.378576\n",
       "4     34.624398\n",
       "5     36.116663\n",
       "6     35.334966\n",
       "7     41.682309\n",
       "8     31.306508\n",
       "9     54.967809\n",
       "10    31.513461\n",
       "11     0.500000\n",
       "Name: Months since last delinquent, dtype: float64"
      ]
     },
     "execution_count": 111,
     "metadata": {},
     "output_type": "execute_result"
    }
   ],
   "source": [
    "df.groupby('Number of Credit Problems')['Months since last delinquent'].mean()"
   ]
  },
  {
   "cell_type": "code",
   "execution_count": 112,
   "metadata": {},
   "outputs": [],
   "source": [
    "df['Months since last delinquent'] = df.groupby('Number of Credit Problems')['Months since last delinquent'].transform(lambda x: x.fillna(x.mean()))"
   ]
  },
  {
   "cell_type": "code",
   "execution_count": 113,
   "metadata": {},
   "outputs": [
    {
     "data": {
      "text/plain": [
       "0"
      ]
     },
     "execution_count": 113,
     "metadata": {},
     "output_type": "execute_result"
    }
   ],
   "source": [
    "df['Months since last delinquent'].isnull().sum()"
   ]
  },
  {
   "cell_type": "code",
   "execution_count": 114,
   "metadata": {},
   "outputs": [],
   "source": [
    "df['Months since last delinquent']= df['Months since last delinquent'].astype(int)"
   ]
  },
  {
   "cell_type": "code",
   "execution_count": 115,
   "metadata": {},
   "outputs": [
    {
     "data": {
      "text/html": [
       "<div>\n",
       "<style scoped>\n",
       "    .dataframe tbody tr th:only-of-type {\n",
       "        vertical-align: middle;\n",
       "    }\n",
       "\n",
       "    .dataframe tbody tr th {\n",
       "        vertical-align: top;\n",
       "    }\n",
       "\n",
       "    .dataframe thead th {\n",
       "        text-align: right;\n",
       "    }\n",
       "</style>\n",
       "<table border=\"1\" class=\"dataframe\">\n",
       "  <thead>\n",
       "    <tr style=\"text-align: right;\">\n",
       "      <th></th>\n",
       "      <th>Loan ID</th>\n",
       "      <th>Customer ID</th>\n",
       "      <th>Loan Status</th>\n",
       "      <th>Current Loan Amount</th>\n",
       "      <th>Term</th>\n",
       "      <th>Credit Score</th>\n",
       "      <th>Years in current job</th>\n",
       "      <th>Home Ownership</th>\n",
       "      <th>Annual Income</th>\n",
       "      <th>Purpose</th>\n",
       "      <th>Monthly Debt</th>\n",
       "      <th>Years of Credit History</th>\n",
       "      <th>Months since last delinquent</th>\n",
       "      <th>Number of Open Accounts</th>\n",
       "      <th>Number of Credit Problems</th>\n",
       "      <th>Current Credit Balance</th>\n",
       "      <th>Maximum Open Credit</th>\n",
       "      <th>Bankruptcies</th>\n",
       "      <th>Tax Liens</th>\n",
       "    </tr>\n",
       "  </thead>\n",
       "  <tbody>\n",
       "    <tr>\n",
       "      <th>0</th>\n",
       "      <td>000025bb-5694-4cff-b17d-192b1a98ba44</td>\n",
       "      <td>5ebc8bb1-5eb9-4404-b11b-a6eebc401a19</td>\n",
       "      <td>Fully Paid</td>\n",
       "      <td>11520</td>\n",
       "      <td>Short Term</td>\n",
       "      <td>741</td>\n",
       "      <td>10+ years</td>\n",
       "      <td>Home Mortgage</td>\n",
       "      <td>33694</td>\n",
       "      <td>Debt Consolidation</td>\n",
       "      <td>584.03</td>\n",
       "      <td>12.3</td>\n",
       "      <td>41</td>\n",
       "      <td>10</td>\n",
       "      <td>0</td>\n",
       "      <td>6760</td>\n",
       "      <td>16056</td>\n",
       "      <td>0.0</td>\n",
       "      <td>0.0</td>\n",
       "    </tr>\n",
       "    <tr>\n",
       "      <th>1</th>\n",
       "      <td>00002c49-3a29-4bd4-8f67-c8f8fbc1048c</td>\n",
       "      <td>927b388d-2e01-423f-a8dc-f7e42d668f46</td>\n",
       "      <td>Fully Paid</td>\n",
       "      <td>3441</td>\n",
       "      <td>Short Term</td>\n",
       "      <td>734</td>\n",
       "      <td>4 years</td>\n",
       "      <td>Home Mortgage</td>\n",
       "      <td>42269</td>\n",
       "      <td>Other</td>\n",
       "      <td>1106.04</td>\n",
       "      <td>26.3</td>\n",
       "      <td>0</td>\n",
       "      <td>17</td>\n",
       "      <td>0</td>\n",
       "      <td>6262</td>\n",
       "      <td>19149</td>\n",
       "      <td>0.0</td>\n",
       "      <td>0.0</td>\n",
       "    </tr>\n",
       "    <tr>\n",
       "      <th>2</th>\n",
       "      <td>00002d89-27f3-409b-aa76-90834f359a65</td>\n",
       "      <td>defce609-c631-447d-aad6-1270615e89c4</td>\n",
       "      <td>Fully Paid</td>\n",
       "      <td>21029</td>\n",
       "      <td>Short Term</td>\n",
       "      <td>747</td>\n",
       "      <td>10+ years</td>\n",
       "      <td>Home Mortgage</td>\n",
       "      <td>90126</td>\n",
       "      <td>Debt Consolidation</td>\n",
       "      <td>1321.85</td>\n",
       "      <td>28.8</td>\n",
       "      <td>0</td>\n",
       "      <td>5</td>\n",
       "      <td>0</td>\n",
       "      <td>20967</td>\n",
       "      <td>28335</td>\n",
       "      <td>0.0</td>\n",
       "      <td>0.0</td>\n",
       "    </tr>\n",
       "    <tr>\n",
       "      <th>3</th>\n",
       "      <td>00005222-b4d8-45a4-ad8c-186057e24233</td>\n",
       "      <td>070bcecb-aae7-4485-a26a-e0403e7bb6c5</td>\n",
       "      <td>Fully Paid</td>\n",
       "      <td>18743</td>\n",
       "      <td>Short Term</td>\n",
       "      <td>747</td>\n",
       "      <td>10+ years</td>\n",
       "      <td>Own</td>\n",
       "      <td>38072</td>\n",
       "      <td>Debt Consolidation</td>\n",
       "      <td>751.92</td>\n",
       "      <td>26.2</td>\n",
       "      <td>0</td>\n",
       "      <td>9</td>\n",
       "      <td>0</td>\n",
       "      <td>22529</td>\n",
       "      <td>43915</td>\n",
       "      <td>0.0</td>\n",
       "      <td>0.0</td>\n",
       "    </tr>\n",
       "    <tr>\n",
       "      <th>4</th>\n",
       "      <td>0000757f-a121-41ed-b17b-162e76647c1f</td>\n",
       "      <td>dde79588-12f0-4811-bab0-e2b07f633fcd</td>\n",
       "      <td>Fully Paid</td>\n",
       "      <td>11731</td>\n",
       "      <td>Short Term</td>\n",
       "      <td>746</td>\n",
       "      <td>4 years</td>\n",
       "      <td>Rent</td>\n",
       "      <td>50025</td>\n",
       "      <td>Debt Consolidation</td>\n",
       "      <td>355.18</td>\n",
       "      <td>11.5</td>\n",
       "      <td>0</td>\n",
       "      <td>12</td>\n",
       "      <td>0</td>\n",
       "      <td>17391</td>\n",
       "      <td>37081</td>\n",
       "      <td>0.0</td>\n",
       "      <td>0.0</td>\n",
       "    </tr>\n",
       "    <tr>\n",
       "      <th>...</th>\n",
       "      <td>...</td>\n",
       "      <td>...</td>\n",
       "      <td>...</td>\n",
       "      <td>...</td>\n",
       "      <td>...</td>\n",
       "      <td>...</td>\n",
       "      <td>...</td>\n",
       "      <td>...</td>\n",
       "      <td>...</td>\n",
       "      <td>...</td>\n",
       "      <td>...</td>\n",
       "      <td>...</td>\n",
       "      <td>...</td>\n",
       "      <td>...</td>\n",
       "      <td>...</td>\n",
       "      <td>...</td>\n",
       "      <td>...</td>\n",
       "      <td>...</td>\n",
       "      <td>...</td>\n",
       "    </tr>\n",
       "    <tr>\n",
       "      <th>256979</th>\n",
       "      <td>fffef5b7-be99-4666-ac70-2a397d2ee435</td>\n",
       "      <td>7211a8e3-cba4-4132-b939-222eed8a662c</td>\n",
       "      <td>Fully Paid</td>\n",
       "      <td>3911</td>\n",
       "      <td>Short Term</td>\n",
       "      <td>721</td>\n",
       "      <td>2 years</td>\n",
       "      <td>Rent</td>\n",
       "      <td>64864</td>\n",
       "      <td>Debt Consolidation</td>\n",
       "      <td>1706.58</td>\n",
       "      <td>19.9</td>\n",
       "      <td>0</td>\n",
       "      <td>16</td>\n",
       "      <td>0</td>\n",
       "      <td>43992</td>\n",
       "      <td>44080</td>\n",
       "      <td>0.0</td>\n",
       "      <td>0.0</td>\n",
       "    </tr>\n",
       "    <tr>\n",
       "      <th>256980</th>\n",
       "      <td>ffffca93-aa8c-4123-b8ff-7852f6df889a</td>\n",
       "      <td>616fef0c-8f09-4327-9b5c-48fcfaa52934</td>\n",
       "      <td>Fully Paid</td>\n",
       "      <td>5078</td>\n",
       "      <td>Short Term</td>\n",
       "      <td>737</td>\n",
       "      <td>10+ years</td>\n",
       "      <td>Own</td>\n",
       "      <td>77186</td>\n",
       "      <td>Debt Consolidation</td>\n",
       "      <td>1376.47</td>\n",
       "      <td>19.1</td>\n",
       "      <td>47</td>\n",
       "      <td>9</td>\n",
       "      <td>0</td>\n",
       "      <td>1717</td>\n",
       "      <td>9758</td>\n",
       "      <td>0.0</td>\n",
       "      <td>0.0</td>\n",
       "    </tr>\n",
       "    <tr>\n",
       "      <th>256981</th>\n",
       "      <td>ffffcb2e-e48e-4d2c-a0d6-ed6bce5bfdbe</td>\n",
       "      <td>971a6682-183b-4a52-8bce-1d3429ade295</td>\n",
       "      <td>Charged Off</td>\n",
       "      <td>12116</td>\n",
       "      <td>Short Term</td>\n",
       "      <td>746</td>\n",
       "      <td>9 years</td>\n",
       "      <td>Home Mortgage</td>\n",
       "      <td>52504</td>\n",
       "      <td>Debt Consolidation</td>\n",
       "      <td>297.96</td>\n",
       "      <td>15.1</td>\n",
       "      <td>82</td>\n",
       "      <td>8</td>\n",
       "      <td>0</td>\n",
       "      <td>3315</td>\n",
       "      <td>20090</td>\n",
       "      <td>0.0</td>\n",
       "      <td>0.0</td>\n",
       "    </tr>\n",
       "    <tr>\n",
       "      <th>256982</th>\n",
       "      <td>ffffcb2e-e48e-4d2c-a0d6-ed6bce5bfdbe</td>\n",
       "      <td>971a6682-183b-4a52-8bce-1d3429ade295</td>\n",
       "      <td>Charged Off</td>\n",
       "      <td>12116</td>\n",
       "      <td>Short Term</td>\n",
       "      <td>746</td>\n",
       "      <td>9 years</td>\n",
       "      <td>Home Mortgage</td>\n",
       "      <td>52504</td>\n",
       "      <td>Debt Consolidation</td>\n",
       "      <td>297.96</td>\n",
       "      <td>15.1</td>\n",
       "      <td>82</td>\n",
       "      <td>8</td>\n",
       "      <td>0</td>\n",
       "      <td>3315</td>\n",
       "      <td>20090</td>\n",
       "      <td>0.0</td>\n",
       "      <td>0.0</td>\n",
       "    </tr>\n",
       "    <tr>\n",
       "      <th>256983</th>\n",
       "      <td>ffffe32e-ed17-459f-9cfd-7b9ee7972933</td>\n",
       "      <td>97281336-1e45-41d2-acb2-263ce56a590e</td>\n",
       "      <td>Fully Paid</td>\n",
       "      <td>27902</td>\n",
       "      <td>Long Term</td>\n",
       "      <td>678</td>\n",
       "      <td>10+ years</td>\n",
       "      <td>Home Mortgage</td>\n",
       "      <td>117480</td>\n",
       "      <td>Debt Consolidation</td>\n",
       "      <td>2525.82</td>\n",
       "      <td>18.0</td>\n",
       "      <td>11</td>\n",
       "      <td>10</td>\n",
       "      <td>0</td>\n",
       "      <td>28317</td>\n",
       "      <td>62371</td>\n",
       "      <td>0.0</td>\n",
       "      <td>0.0</td>\n",
       "    </tr>\n",
       "  </tbody>\n",
       "</table>\n",
       "<p>256984 rows × 19 columns</p>\n",
       "</div>"
      ],
      "text/plain": [
       "                                     Loan ID  \\\n",
       "0       000025bb-5694-4cff-b17d-192b1a98ba44   \n",
       "1       00002c49-3a29-4bd4-8f67-c8f8fbc1048c   \n",
       "2       00002d89-27f3-409b-aa76-90834f359a65   \n",
       "3       00005222-b4d8-45a4-ad8c-186057e24233   \n",
       "4       0000757f-a121-41ed-b17b-162e76647c1f   \n",
       "...                                      ...   \n",
       "256979  fffef5b7-be99-4666-ac70-2a397d2ee435   \n",
       "256980  ffffca93-aa8c-4123-b8ff-7852f6df889a   \n",
       "256981  ffffcb2e-e48e-4d2c-a0d6-ed6bce5bfdbe   \n",
       "256982  ffffcb2e-e48e-4d2c-a0d6-ed6bce5bfdbe   \n",
       "256983  ffffe32e-ed17-459f-9cfd-7b9ee7972933   \n",
       "\n",
       "                                 Customer ID  Loan Status  \\\n",
       "0       5ebc8bb1-5eb9-4404-b11b-a6eebc401a19   Fully Paid   \n",
       "1       927b388d-2e01-423f-a8dc-f7e42d668f46   Fully Paid   \n",
       "2       defce609-c631-447d-aad6-1270615e89c4   Fully Paid   \n",
       "3       070bcecb-aae7-4485-a26a-e0403e7bb6c5   Fully Paid   \n",
       "4       dde79588-12f0-4811-bab0-e2b07f633fcd   Fully Paid   \n",
       "...                                      ...          ...   \n",
       "256979  7211a8e3-cba4-4132-b939-222eed8a662c   Fully Paid   \n",
       "256980  616fef0c-8f09-4327-9b5c-48fcfaa52934   Fully Paid   \n",
       "256981  971a6682-183b-4a52-8bce-1d3429ade295  Charged Off   \n",
       "256982  971a6682-183b-4a52-8bce-1d3429ade295  Charged Off   \n",
       "256983  97281336-1e45-41d2-acb2-263ce56a590e   Fully Paid   \n",
       "\n",
       "        Current Loan Amount        Term  Credit Score Years in current job  \\\n",
       "0                     11520  Short Term           741            10+ years   \n",
       "1                      3441  Short Term           734              4 years   \n",
       "2                     21029  Short Term           747            10+ years   \n",
       "3                     18743  Short Term           747            10+ years   \n",
       "4                     11731  Short Term           746              4 years   \n",
       "...                     ...         ...           ...                  ...   \n",
       "256979                 3911  Short Term           721              2 years   \n",
       "256980                 5078  Short Term           737            10+ years   \n",
       "256981                12116  Short Term           746              9 years   \n",
       "256982                12116  Short Term           746              9 years   \n",
       "256983                27902   Long Term           678            10+ years   \n",
       "\n",
       "       Home Ownership  Annual Income             Purpose  Monthly Debt  \\\n",
       "0       Home Mortgage          33694  Debt Consolidation        584.03   \n",
       "1       Home Mortgage          42269               Other       1106.04   \n",
       "2       Home Mortgage          90126  Debt Consolidation       1321.85   \n",
       "3                 Own          38072  Debt Consolidation        751.92   \n",
       "4                Rent          50025  Debt Consolidation        355.18   \n",
       "...               ...            ...                 ...           ...   \n",
       "256979           Rent          64864  Debt Consolidation       1706.58   \n",
       "256980            Own          77186  Debt Consolidation       1376.47   \n",
       "256981  Home Mortgage          52504  Debt Consolidation        297.96   \n",
       "256982  Home Mortgage          52504  Debt Consolidation        297.96   \n",
       "256983  Home Mortgage         117480  Debt Consolidation       2525.82   \n",
       "\n",
       "        Years of Credit History  Months since last delinquent  \\\n",
       "0                          12.3                            41   \n",
       "1                          26.3                             0   \n",
       "2                          28.8                             0   \n",
       "3                          26.2                             0   \n",
       "4                          11.5                             0   \n",
       "...                         ...                           ...   \n",
       "256979                     19.9                             0   \n",
       "256980                     19.1                            47   \n",
       "256981                     15.1                            82   \n",
       "256982                     15.1                            82   \n",
       "256983                     18.0                            11   \n",
       "\n",
       "        Number of Open Accounts  Number of Credit Problems  \\\n",
       "0                            10                          0   \n",
       "1                            17                          0   \n",
       "2                             5                          0   \n",
       "3                             9                          0   \n",
       "4                            12                          0   \n",
       "...                         ...                        ...   \n",
       "256979                       16                          0   \n",
       "256980                        9                          0   \n",
       "256981                        8                          0   \n",
       "256982                        8                          0   \n",
       "256983                       10                          0   \n",
       "\n",
       "        Current Credit Balance  Maximum Open Credit  Bankruptcies  Tax Liens  \n",
       "0                         6760                16056           0.0        0.0  \n",
       "1                         6262                19149           0.0        0.0  \n",
       "2                        20967                28335           0.0        0.0  \n",
       "3                        22529                43915           0.0        0.0  \n",
       "4                        17391                37081           0.0        0.0  \n",
       "...                        ...                  ...           ...        ...  \n",
       "256979                   43992                44080           0.0        0.0  \n",
       "256980                    1717                 9758           0.0        0.0  \n",
       "256981                    3315                20090           0.0        0.0  \n",
       "256982                    3315                20090           0.0        0.0  \n",
       "256983                   28317                62371           0.0        0.0  \n",
       "\n",
       "[256984 rows x 19 columns]"
      ]
     },
     "execution_count": 115,
     "metadata": {},
     "output_type": "execute_result"
    }
   ],
   "source": [
    "df"
   ]
  },
  {
   "cell_type": "code",
   "execution_count": 116,
   "metadata": {},
   "outputs": [
    {
     "data": {
      "image/png": "[encoded data removed]",
      "text/plain": [
       "<Figure size 640x480 with 1 Axes>"
      ]
     },
     "metadata": {},
     "output_type": "display_data"
    }
   ],
   "source": [
    "plt.hist(df['Months since last delinquent'],50);"
   ]
  },
  {
   "cell_type": "markdown",
   "metadata": {},
   "source": [
    "## Current Loan Amount"
   ]
  },
  {
   "cell_type": "code",
   "execution_count": 117,
   "metadata": {},
   "outputs": [
    {
     "name": "stdout",
     "output_type": "stream",
     "text": [
      "<class 'pandas.core.series.Series'>\n",
      "RangeIndex: 256984 entries, 0 to 256983\n",
      "Series name: Current Loan Amount\n",
      "Non-Null Count   Dtype\n",
      "--------------   -----\n",
      "256984 non-null  int64\n",
      "dtypes: int64(1)\n",
      "memory usage: 2.0 MB\n"
     ]
    }
   ],
   "source": [
    "df['Current Loan Amount'].info()"
   ]
  },
  {
   "cell_type": "code",
   "execution_count": 118,
   "metadata": {},
   "outputs": [
    {
     "data": {
      "text/html": [
       "<div>\n",
       "<style scoped>\n",
       "    .dataframe tbody tr th:only-of-type {\n",
       "        vertical-align: middle;\n",
       "    }\n",
       "\n",
       "    .dataframe tbody tr th {\n",
       "        vertical-align: top;\n",
       "    }\n",
       "\n",
       "    .dataframe thead th {\n",
       "        text-align: right;\n",
       "    }\n",
       "</style>\n",
       "<table border=\"1\" class=\"dataframe\">\n",
       "  <thead>\n",
       "    <tr style=\"text-align: right;\">\n",
       "      <th></th>\n",
       "      <th>Loan ID</th>\n",
       "      <th>Customer ID</th>\n",
       "      <th>Loan Status</th>\n",
       "      <th>Current Loan Amount</th>\n",
       "      <th>Term</th>\n",
       "      <th>Credit Score</th>\n",
       "      <th>Years in current job</th>\n",
       "      <th>Home Ownership</th>\n",
       "      <th>Annual Income</th>\n",
       "      <th>Purpose</th>\n",
       "      <th>Monthly Debt</th>\n",
       "      <th>Years of Credit History</th>\n",
       "      <th>Months since last delinquent</th>\n",
       "      <th>Number of Open Accounts</th>\n",
       "      <th>Number of Credit Problems</th>\n",
       "      <th>Current Credit Balance</th>\n",
       "      <th>Maximum Open Credit</th>\n",
       "      <th>Bankruptcies</th>\n",
       "      <th>Tax Liens</th>\n",
       "    </tr>\n",
       "  </thead>\n",
       "  <tbody>\n",
       "    <tr>\n",
       "      <th>10</th>\n",
       "      <td>00020fb0-6b8a-4b3a-8c72-9c4c847e8cb6</td>\n",
       "      <td>c9decd06-16f7-44c3-b007-8776f2a9233d</td>\n",
       "      <td>Fully Paid</td>\n",
       "      <td>99999999</td>\n",
       "      <td>Short Term</td>\n",
       "      <td>742</td>\n",
       "      <td>3 years</td>\n",
       "      <td>Home Mortgage</td>\n",
       "      <td>64760</td>\n",
       "      <td>Debt Consolidation</td>\n",
       "      <td>582.84</td>\n",
       "      <td>26.8</td>\n",
       "      <td>0</td>\n",
       "      <td>11</td>\n",
       "      <td>0</td>\n",
       "      <td>8880</td>\n",
       "      <td>22711</td>\n",
       "      <td>0.0</td>\n",
       "      <td>0.0</td>\n",
       "    </tr>\n",
       "    <tr>\n",
       "      <th>16</th>\n",
       "      <td>0002c691-5314-44ab-b205-3fb1cc4ee6b2</td>\n",
       "      <td>41207d1e-5d13-43ec-9fe9-f222b4da5e0c</td>\n",
       "      <td>Fully Paid</td>\n",
       "      <td>99999999</td>\n",
       "      <td>Short Term</td>\n",
       "      <td>744</td>\n",
       "      <td>6 years</td>\n",
       "      <td>Home Mortgage</td>\n",
       "      <td>65605</td>\n",
       "      <td>Debt Consolidation</td>\n",
       "      <td>984.07</td>\n",
       "      <td>21.0</td>\n",
       "      <td>41</td>\n",
       "      <td>5</td>\n",
       "      <td>1</td>\n",
       "      <td>11514</td>\n",
       "      <td>17262</td>\n",
       "      <td>1.0</td>\n",
       "      <td>0.0</td>\n",
       "    </tr>\n",
       "    <tr>\n",
       "      <th>23</th>\n",
       "      <td>0003fbfd-33ee-4ae9-8074-b46f6ff59281</td>\n",
       "      <td>c14bbc84-5041-4e70-bd64-3db51f7e80ae</td>\n",
       "      <td>Fully Paid</td>\n",
       "      <td>99999999</td>\n",
       "      <td>Short Term</td>\n",
       "      <td>745</td>\n",
       "      <td>10+ years</td>\n",
       "      <td>Rent</td>\n",
       "      <td>39476</td>\n",
       "      <td>Other</td>\n",
       "      <td>483.58</td>\n",
       "      <td>15.4</td>\n",
       "      <td>79</td>\n",
       "      <td>12</td>\n",
       "      <td>0</td>\n",
       "      <td>4636</td>\n",
       "      <td>21171</td>\n",
       "      <td>0.0</td>\n",
       "      <td>0.0</td>\n",
       "    </tr>\n",
       "    <tr>\n",
       "      <th>28</th>\n",
       "      <td>0004f37b-5859-40f6-98d0-367aa3b3f3f1</td>\n",
       "      <td>f662b062-5fa5-463d-b5c0-4e36d09fcab1</td>\n",
       "      <td>Fully Paid</td>\n",
       "      <td>99999999</td>\n",
       "      <td>Short Term</td>\n",
       "      <td>724</td>\n",
       "      <td>1 year</td>\n",
       "      <td>Own</td>\n",
       "      <td>34297</td>\n",
       "      <td>Home Improvements</td>\n",
       "      <td>777.38</td>\n",
       "      <td>13.6</td>\n",
       "      <td>2</td>\n",
       "      <td>12</td>\n",
       "      <td>0</td>\n",
       "      <td>6720</td>\n",
       "      <td>53335</td>\n",
       "      <td>0.0</td>\n",
       "      <td>0.0</td>\n",
       "    </tr>\n",
       "    <tr>\n",
       "      <th>42</th>\n",
       "      <td>0008cacc-1ea9-4599-b114-12709b13c85d</td>\n",
       "      <td>cd853967-4535-4d36-bf93-269504c74911</td>\n",
       "      <td>Fully Paid</td>\n",
       "      <td>99999999</td>\n",
       "      <td>Short Term</td>\n",
       "      <td>750</td>\n",
       "      <td>10+ years</td>\n",
       "      <td>Own</td>\n",
       "      <td>86785</td>\n",
       "      <td>Other</td>\n",
       "      <td>56.41</td>\n",
       "      <td>22.0</td>\n",
       "      <td>0</td>\n",
       "      <td>7</td>\n",
       "      <td>0</td>\n",
       "      <td>3959</td>\n",
       "      <td>63862</td>\n",
       "      <td>0.0</td>\n",
       "      <td>0.0</td>\n",
       "    </tr>\n",
       "    <tr>\n",
       "      <th>...</th>\n",
       "      <td>...</td>\n",
       "      <td>...</td>\n",
       "      <td>...</td>\n",
       "      <td>...</td>\n",
       "      <td>...</td>\n",
       "      <td>...</td>\n",
       "      <td>...</td>\n",
       "      <td>...</td>\n",
       "      <td>...</td>\n",
       "      <td>...</td>\n",
       "      <td>...</td>\n",
       "      <td>...</td>\n",
       "      <td>...</td>\n",
       "      <td>...</td>\n",
       "      <td>...</td>\n",
       "      <td>...</td>\n",
       "      <td>...</td>\n",
       "      <td>...</td>\n",
       "      <td>...</td>\n",
       "    </tr>\n",
       "    <tr>\n",
       "      <th>256938</th>\n",
       "      <td>fff2ae68-b9ca-4fb2-a53e-32684915bc6e</td>\n",
       "      <td>3a9268d1-a96b-4e7c-a022-8deea10d0b12</td>\n",
       "      <td>Fully Paid</td>\n",
       "      <td>99999999</td>\n",
       "      <td>Short Term</td>\n",
       "      <td>663</td>\n",
       "      <td>8 years</td>\n",
       "      <td>Home Mortgage</td>\n",
       "      <td>108482</td>\n",
       "      <td>Home Improvements</td>\n",
       "      <td>1365.07</td>\n",
       "      <td>20.3</td>\n",
       "      <td>0</td>\n",
       "      <td>13</td>\n",
       "      <td>0</td>\n",
       "      <td>17264</td>\n",
       "      <td>23174</td>\n",
       "      <td>0.0</td>\n",
       "      <td>0.0</td>\n",
       "    </tr>\n",
       "    <tr>\n",
       "      <th>256953</th>\n",
       "      <td>fff72330-5397-4cbd-ad39-4d54bbc0dca9</td>\n",
       "      <td>a901d714-eaa1-4b31-b385-c51c0fa6eabd</td>\n",
       "      <td>Fully Paid</td>\n",
       "      <td>99999999</td>\n",
       "      <td>Short Term</td>\n",
       "      <td>698</td>\n",
       "      <td>7 years</td>\n",
       "      <td>Rent</td>\n",
       "      <td>65941</td>\n",
       "      <td>Debt Consolidation</td>\n",
       "      <td>1364.97</td>\n",
       "      <td>21.5</td>\n",
       "      <td>0</td>\n",
       "      <td>16</td>\n",
       "      <td>0</td>\n",
       "      <td>19104</td>\n",
       "      <td>23556</td>\n",
       "      <td>0.0</td>\n",
       "      <td>0.0</td>\n",
       "    </tr>\n",
       "    <tr>\n",
       "      <th>256954</th>\n",
       "      <td>fff72f03-243b-422c-ab33-cb15e80e4c0d</td>\n",
       "      <td>f5cf8f78-6b65-4805-9b61-46086c441b08</td>\n",
       "      <td>Fully Paid</td>\n",
       "      <td>99999999</td>\n",
       "      <td>Short Term</td>\n",
       "      <td>742</td>\n",
       "      <td>10+ years</td>\n",
       "      <td>Rent</td>\n",
       "      <td>118128</td>\n",
       "      <td>Debt Consolidation</td>\n",
       "      <td>2608.66</td>\n",
       "      <td>17.0</td>\n",
       "      <td>0</td>\n",
       "      <td>17</td>\n",
       "      <td>0</td>\n",
       "      <td>35089</td>\n",
       "      <td>55520</td>\n",
       "      <td>0.0</td>\n",
       "      <td>0.0</td>\n",
       "    </tr>\n",
       "    <tr>\n",
       "      <th>256963</th>\n",
       "      <td>fffb62c8-6149-4746-8b10-e1d2363f3b31</td>\n",
       "      <td>30e19db5-7ffe-4375-a253-f86dc565dfe8</td>\n",
       "      <td>Fully Paid</td>\n",
       "      <td>99999999</td>\n",
       "      <td>Short Term</td>\n",
       "      <td>738</td>\n",
       "      <td>10+ years</td>\n",
       "      <td>Rent</td>\n",
       "      <td>34749</td>\n",
       "      <td>Debt Consolidation</td>\n",
       "      <td>833.98</td>\n",
       "      <td>11.0</td>\n",
       "      <td>25</td>\n",
       "      <td>17</td>\n",
       "      <td>0</td>\n",
       "      <td>3146</td>\n",
       "      <td>16050</td>\n",
       "      <td>0.0</td>\n",
       "      <td>0.0</td>\n",
       "    </tr>\n",
       "    <tr>\n",
       "      <th>256970</th>\n",
       "      <td>fffd06e2-01aa-4e93-8ccc-eb626a38cdac</td>\n",
       "      <td>2b469c36-cb73-4fcc-8525-dbfba2601e2c</td>\n",
       "      <td>Fully Paid</td>\n",
       "      <td>99999999</td>\n",
       "      <td>Short Term</td>\n",
       "      <td>734</td>\n",
       "      <td>10+ years</td>\n",
       "      <td>Home Mortgage</td>\n",
       "      <td>66809</td>\n",
       "      <td>Debt Consolidation</td>\n",
       "      <td>1046.68</td>\n",
       "      <td>12.5</td>\n",
       "      <td>0</td>\n",
       "      <td>10</td>\n",
       "      <td>0</td>\n",
       "      <td>10013</td>\n",
       "      <td>28690</td>\n",
       "      <td>0.0</td>\n",
       "      <td>0.0</td>\n",
       "    </tr>\n",
       "  </tbody>\n",
       "</table>\n",
       "<p>35210 rows × 19 columns</p>\n",
       "</div>"
      ],
      "text/plain": [
       "                                     Loan ID  \\\n",
       "10      00020fb0-6b8a-4b3a-8c72-9c4c847e8cb6   \n",
       "16      0002c691-5314-44ab-b205-3fb1cc4ee6b2   \n",
       "23      0003fbfd-33ee-4ae9-8074-b46f6ff59281   \n",
       "28      0004f37b-5859-40f6-98d0-367aa3b3f3f1   \n",
       "42      0008cacc-1ea9-4599-b114-12709b13c85d   \n",
       "...                                      ...   \n",
       "256938  fff2ae68-b9ca-4fb2-a53e-32684915bc6e   \n",
       "256953  fff72330-5397-4cbd-ad39-4d54bbc0dca9   \n",
       "256954  fff72f03-243b-422c-ab33-cb15e80e4c0d   \n",
       "256963  fffb62c8-6149-4746-8b10-e1d2363f3b31   \n",
       "256970  fffd06e2-01aa-4e93-8ccc-eb626a38cdac   \n",
       "\n",
       "                                 Customer ID Loan Status  Current Loan Amount  \\\n",
       "10      c9decd06-16f7-44c3-b007-8776f2a9233d  Fully Paid             99999999   \n",
       "16      41207d1e-5d13-43ec-9fe9-f222b4da5e0c  Fully Paid             99999999   \n",
       "23      c14bbc84-5041-4e70-bd64-3db51f7e80ae  Fully Paid             99999999   \n",
       "28      f662b062-5fa5-463d-b5c0-4e36d09fcab1  Fully Paid             99999999   \n",
       "42      cd853967-4535-4d36-bf93-269504c74911  Fully Paid             99999999   \n",
       "...                                      ...         ...                  ...   \n",
       "256938  3a9268d1-a96b-4e7c-a022-8deea10d0b12  Fully Paid             99999999   \n",
       "256953  a901d714-eaa1-4b31-b385-c51c0fa6eabd  Fully Paid             99999999   \n",
       "256954  f5cf8f78-6b65-4805-9b61-46086c441b08  Fully Paid             99999999   \n",
       "256963  30e19db5-7ffe-4375-a253-f86dc565dfe8  Fully Paid             99999999   \n",
       "256970  2b469c36-cb73-4fcc-8525-dbfba2601e2c  Fully Paid             99999999   \n",
       "\n",
       "              Term  Credit Score Years in current job Home Ownership  \\\n",
       "10      Short Term           742              3 years  Home Mortgage   \n",
       "16      Short Term           744              6 years  Home Mortgage   \n",
       "23      Short Term           745            10+ years           Rent   \n",
       "28      Short Term           724               1 year            Own   \n",
       "42      Short Term           750            10+ years            Own   \n",
       "...            ...           ...                  ...            ...   \n",
       "256938  Short Term           663              8 years  Home Mortgage   \n",
       "256953  Short Term           698              7 years           Rent   \n",
       "256954  Short Term           742            10+ years           Rent   \n",
       "256963  Short Term           738            10+ years           Rent   \n",
       "256970  Short Term           734            10+ years  Home Mortgage   \n",
       "\n",
       "        Annual Income             Purpose  Monthly Debt  \\\n",
       "10              64760  Debt Consolidation        582.84   \n",
       "16              65605  Debt Consolidation        984.07   \n",
       "23              39476               Other        483.58   \n",
       "28              34297   Home Improvements        777.38   \n",
       "42              86785               Other         56.41   \n",
       "...               ...                 ...           ...   \n",
       "256938         108482   Home Improvements       1365.07   \n",
       "256953          65941  Debt Consolidation       1364.97   \n",
       "256954         118128  Debt Consolidation       2608.66   \n",
       "256963          34749  Debt Consolidation        833.98   \n",
       "256970          66809  Debt Consolidation       1046.68   \n",
       "\n",
       "        Years of Credit History  Months since last delinquent  \\\n",
       "10                         26.8                             0   \n",
       "16                         21.0                            41   \n",
       "23                         15.4                            79   \n",
       "28                         13.6                             2   \n",
       "42                         22.0                             0   \n",
       "...                         ...                           ...   \n",
       "256938                     20.3                             0   \n",
       "256953                     21.5                             0   \n",
       "256954                     17.0                             0   \n",
       "256963                     11.0                            25   \n",
       "256970                     12.5                             0   \n",
       "\n",
       "        Number of Open Accounts  Number of Credit Problems  \\\n",
       "10                           11                          0   \n",
       "16                            5                          1   \n",
       "23                           12                          0   \n",
       "28                           12                          0   \n",
       "42                            7                          0   \n",
       "...                         ...                        ...   \n",
       "256938                       13                          0   \n",
       "256953                       16                          0   \n",
       "256954                       17                          0   \n",
       "256963                       17                          0   \n",
       "256970                       10                          0   \n",
       "\n",
       "        Current Credit Balance  Maximum Open Credit  Bankruptcies  Tax Liens  \n",
       "10                        8880                22711           0.0        0.0  \n",
       "16                       11514                17262           1.0        0.0  \n",
       "23                        4636                21171           0.0        0.0  \n",
       "28                        6720                53335           0.0        0.0  \n",
       "42                        3959                63862           0.0        0.0  \n",
       "...                        ...                  ...           ...        ...  \n",
       "256938                   17264                23174           0.0        0.0  \n",
       "256953                   19104                23556           0.0        0.0  \n",
       "256954                   35089                55520           0.0        0.0  \n",
       "256963                    3146                16050           0.0        0.0  \n",
       "256970                   10013                28690           0.0        0.0  \n",
       "\n",
       "[35210 rows x 19 columns]"
      ]
     },
     "execution_count": 118,
     "metadata": {},
     "output_type": "execute_result"
    }
   ],
   "source": [
    "df[df['Current Loan Amount'] == 99999999] \n",
    "#this means bad value, Databases put dummy value of 99999999"
   ]
  },
  {
   "cell_type": "code",
   "execution_count": 119,
   "metadata": {},
   "outputs": [],
   "source": [
    "df['Current Loan Amount'] = df['Current Loan Amount'].replace(99999999,np.nan)\n",
    "#***could overwrite as NAN and impute "
   ]
  },
  {
   "cell_type": "code",
   "execution_count": 120,
   "metadata": {},
   "outputs": [
    {
     "data": {
      "text/plain": [
       "35210"
      ]
     },
     "execution_count": 120,
     "metadata": {},
     "output_type": "execute_result"
    }
   ],
   "source": [
    "df['Current Loan Amount'].isnull().sum()"
   ]
  },
  {
   "cell_type": "code",
   "execution_count": 121,
   "metadata": {},
   "outputs": [
    {
     "data": {
      "text/plain": [
       "Current Loan Amount             1.000000\n",
       "Credit Score                   -0.198968\n",
       "Annual Income                   0.301577\n",
       "Monthly Debt                    0.434637\n",
       "Years of Credit History         0.151483\n",
       "Months since last delinquent   -0.048753\n",
       "Number of Open Accounts         0.200721\n",
       "Number of Credit Problems      -0.074879\n",
       "Current Credit Balance          0.320556\n",
       "Maximum Open Credit             0.042283\n",
       "Bankruptcies                   -0.097703\n",
       "Tax Liens                       0.012584\n",
       "Name: Current Loan Amount, dtype: float64"
      ]
     },
     "execution_count": 121,
     "metadata": {},
     "output_type": "execute_result"
    }
   ],
   "source": [
    "df.corr(numeric_only=True)['Current Loan Amount']"
   ]
  },
  {
   "cell_type": "code",
   "execution_count": 122,
   "metadata": {},
   "outputs": [
    {
     "data": {
      "text/plain": [
       "Monthly Debt\n",
       "0.00         8939.418919\n",
       "0.39                 NaN\n",
       "0.68         9358.000000\n",
       "0.70         9928.000000\n",
       "0.76        15011.000000\n",
       "                ...     \n",
       "10160.24             NaN\n",
       "10831.65    34675.000000\n",
       "11090.74    34762.000000\n",
       "12645.65             NaN\n",
       "22939.12    15928.000000\n",
       "Name: Current Loan Amount, Length: 129115, dtype: float64"
      ]
     },
     "execution_count": 122,
     "metadata": {},
     "output_type": "execute_result"
    }
   ],
   "source": [
    "df.groupby('Monthly Debt')['Current Loan Amount'].mean()"
   ]
  },
  {
   "cell_type": "code",
   "execution_count": 123,
   "metadata": {},
   "outputs": [],
   "source": [
    "df['Current Loan Amount'] = df.groupby('Monthly Debt')['Current Loan Amount'].transform(lambda x: x.fillna(x.mean()))"
   ]
  },
  {
   "cell_type": "code",
   "execution_count": 124,
   "metadata": {},
   "outputs": [
    {
     "data": {
      "text/plain": [
       "14093"
      ]
     },
     "execution_count": 124,
     "metadata": {},
     "output_type": "execute_result"
    }
   ],
   "source": [
    "df['Current Loan Amount'].isnull().sum()"
   ]
  },
  {
   "cell_type": "code",
   "execution_count": 125,
   "metadata": {},
   "outputs": [
    {
     "data": {
      "text/plain": [
       "Current Credit Balance\n",
       "0          10788.490852\n",
       "1           9943.736842\n",
       "2           5252.000000\n",
       "3          12987.950000\n",
       "4          14167.037037\n",
       "               ...     \n",
       "690447              NaN\n",
       "818209     30144.000000\n",
       "854602     27583.000000\n",
       "1730472    34675.000000\n",
       "1731412    34762.000000\n",
       "Name: Current Loan Amount, Length: 45704, dtype: float64"
      ]
     },
     "execution_count": 125,
     "metadata": {},
     "output_type": "execute_result"
    }
   ],
   "source": [
    "df.groupby('Current Credit Balance')['Current Loan Amount'].mean()"
   ]
  },
  {
   "cell_type": "code",
   "execution_count": 126,
   "metadata": {},
   "outputs": [],
   "source": [
    "df['Current Loan Amount'] = df.groupby('Current Credit Balance')['Current Loan Amount'].transform(lambda x: x.fillna(x.mean()))"
   ]
  },
  {
   "cell_type": "code",
   "execution_count": 127,
   "metadata": {},
   "outputs": [
    {
     "data": {
      "text/plain": [
       "1540"
      ]
     },
     "execution_count": 127,
     "metadata": {},
     "output_type": "execute_result"
    }
   ],
   "source": [
    "df['Current Loan Amount'].isnull().sum()"
   ]
  },
  {
   "cell_type": "code",
   "execution_count": 128,
   "metadata": {},
   "outputs": [
    {
     "data": {
      "text/plain": [
       "Annual Income\n",
       "0           3622.0\n",
       "4033        1384.0\n",
       "4134       20178.0\n",
       "4699        1762.0\n",
       "4704         980.0\n",
       "            ...   \n",
       "2267570        NaN\n",
       "4383243    14679.0\n",
       "5879400    12893.0\n",
       "7523240     9899.0\n",
       "8713547     8006.0\n",
       "Name: Current Loan Amount, Length: 69588, dtype: float64"
      ]
     },
     "execution_count": 128,
     "metadata": {},
     "output_type": "execute_result"
    }
   ],
   "source": [
    "df.groupby('Annual Income')['Current Loan Amount'].mean()"
   ]
  },
  {
   "cell_type": "code",
   "execution_count": 129,
   "metadata": {},
   "outputs": [],
   "source": [
    "df['Current Loan Amount'] = df.groupby('Annual Income')['Current Loan Amount'].transform(lambda x: x.fillna(x.mean()))"
   ]
  },
  {
   "cell_type": "code",
   "execution_count": 130,
   "metadata": {},
   "outputs": [
    {
     "data": {
      "text/plain": [
       "534"
      ]
     },
     "execution_count": 130,
     "metadata": {},
     "output_type": "execute_result"
    }
   ],
   "source": [
    "df['Current Loan Amount'].isnull().sum()"
   ]
  },
  {
   "cell_type": "code",
   "execution_count": 131,
   "metadata": {},
   "outputs": [],
   "source": [
    "df['Current Loan Amount'] = df['Current Loan Amount'].fillna(df['Current Loan Amount'].mean())"
   ]
  },
  {
   "cell_type": "code",
   "execution_count": 132,
   "metadata": {},
   "outputs": [
    {
     "data": {
      "image/png": "[encoded data removed]",
      "text/plain": [
       "<Figure size 640x480 with 1 Axes>"
      ]
     },
     "metadata": {},
     "output_type": "display_data"
    }
   ],
   "source": [
    "plt.hist(df['Current Loan Amount'],50);"
   ]
  },
  {
   "cell_type": "code",
   "execution_count": 133,
   "metadata": {},
   "outputs": [
    {
     "data": {
      "text/plain": [
       "count    256984.000000\n",
       "mean      13910.018123\n",
       "std        8022.446292\n",
       "min         505.000000\n",
       "25%        7947.000000\n",
       "50%       12092.000000\n",
       "75%       18718.000000\n",
       "max       41000.000000\n",
       "Name: Current Loan Amount, dtype: float64"
      ]
     },
     "execution_count": 133,
     "metadata": {},
     "output_type": "execute_result"
    }
   ],
   "source": [
    "df['Current Loan Amount'].describe()"
   ]
  },
  {
   "cell_type": "code",
   "execution_count": 134,
   "metadata": {},
   "outputs": [
    {
     "data": {
      "text/plain": [
       "0"
      ]
     },
     "execution_count": 134,
     "metadata": {},
     "output_type": "execute_result"
    }
   ],
   "source": [
    "df['Current Loan Amount'].isnull().sum()"
   ]
  },
  {
   "cell_type": "code",
   "execution_count": 135,
   "metadata": {},
   "outputs": [],
   "source": [
    "df['Current Loan Amount'] = df['Current Loan Amount'].astype(int)"
   ]
  },
  {
   "cell_type": "markdown",
   "metadata": {},
   "source": [
    "## Bankruptcies"
   ]
  },
  {
   "cell_type": "code",
   "execution_count": 136,
   "metadata": {},
   "outputs": [
    {
     "data": {
      "text/plain": [
       "count    256455.000000\n",
       "mean          0.110316\n",
       "std           0.336229\n",
       "min           0.000000\n",
       "25%           0.000000\n",
       "50%           0.000000\n",
       "75%           0.000000\n",
       "max           7.000000\n",
       "Name: Bankruptcies, dtype: float64"
      ]
     },
     "execution_count": 136,
     "metadata": {},
     "output_type": "execute_result"
    }
   ],
   "source": [
    "df['Bankruptcies'].describe()"
   ]
  },
  {
   "cell_type": "code",
   "execution_count": 137,
   "metadata": {},
   "outputs": [
    {
     "name": "stdout",
     "output_type": "stream",
     "text": [
      "<class 'pandas.core.series.Series'>\n",
      "RangeIndex: 256984 entries, 0 to 256983\n",
      "Series name: Bankruptcies\n",
      "Non-Null Count   Dtype  \n",
      "--------------   -----  \n",
      "256455 non-null  float64\n",
      "dtypes: float64(1)\n",
      "memory usage: 2.0 MB\n"
     ]
    }
   ],
   "source": [
    "df['Bankruptcies'].info()"
   ]
  },
  {
   "cell_type": "code",
   "execution_count": 138,
   "metadata": {},
   "outputs": [
    {
     "data": {
      "image/png": "[encoded data removed]",
      "text/plain": [
       "<Figure size 640x480 with 1 Axes>"
      ]
     },
     "metadata": {},
     "output_type": "display_data"
    }
   ],
   "source": [
    "plt.hist(df['Bankruptcies'],50);"
   ]
  },
  {
   "cell_type": "code",
   "execution_count": 139,
   "metadata": {},
   "outputs": [
    {
     "data": {
      "text/plain": [
       "529"
      ]
     },
     "execution_count": 139,
     "metadata": {},
     "output_type": "execute_result"
    }
   ],
   "source": [
    "df['Bankruptcies'].isnull().sum()"
   ]
  },
  {
   "cell_type": "code",
   "execution_count": 140,
   "metadata": {},
   "outputs": [
    {
     "data": {
      "text/plain": [
       "Current Loan Amount            -0.093157\n",
       "Credit Score                   -0.037567\n",
       "Annual Income                  -0.046581\n",
       "Monthly Debt                   -0.078440\n",
       "Years of Credit History         0.062049\n",
       "Months since last delinquent    0.337853\n",
       "Number of Open Accounts        -0.022805\n",
       "Number of Credit Problems       0.755866\n",
       "Current Credit Balance         -0.117995\n",
       "Maximum Open Credit            -0.009961\n",
       "Bankruptcies                    1.000000\n",
       "Tax Liens                       0.046160\n",
       "Name: Bankruptcies, dtype: float64"
      ]
     },
     "execution_count": 140,
     "metadata": {},
     "output_type": "execute_result"
    }
   ],
   "source": [
    "df.corr(numeric_only=True)['Bankruptcies']"
   ]
  },
  {
   "cell_type": "code",
   "execution_count": 141,
   "metadata": {},
   "outputs": [
    {
     "data": {
      "text/plain": [
       "Number of Credit Problems\n",
       "0     0.000000\n",
       "1     0.822141\n",
       "2     0.900234\n",
       "3     1.039191\n",
       "4     1.058182\n",
       "5     1.008000\n",
       "6     1.214286\n",
       "7     1.187500\n",
       "8     0.916667\n",
       "9     0.100000\n",
       "10    0.666667\n",
       "11    0.000000\n",
       "Name: Bankruptcies, dtype: float64"
      ]
     },
     "execution_count": 141,
     "metadata": {},
     "output_type": "execute_result"
    }
   ],
   "source": [
    "df.groupby('Number of Credit Problems')['Bankruptcies'].mean()"
   ]
  },
  {
   "cell_type": "code",
   "execution_count": 142,
   "metadata": {},
   "outputs": [],
   "source": [
    "df['Bankruptcies'] = df.groupby('Number of Credit Problems')['Bankruptcies'].transform(lambda x: x.fillna(x.mean()))"
   ]
  },
  {
   "cell_type": "code",
   "execution_count": 143,
   "metadata": {},
   "outputs": [
    {
     "data": {
      "text/plain": [
       "0"
      ]
     },
     "execution_count": 143,
     "metadata": {},
     "output_type": "execute_result"
    }
   ],
   "source": [
    "df['Bankruptcies'].isnull().sum()"
   ]
  },
  {
   "cell_type": "code",
   "execution_count": 144,
   "metadata": {},
   "outputs": [],
   "source": [
    "df['Bankruptcies'] = df['Bankruptcies'].astype(int)"
   ]
  },
  {
   "cell_type": "code",
   "execution_count": 145,
   "metadata": {},
   "outputs": [
    {
     "data": {
      "image/png": "[encoded data removed]",
      "text/plain": [
       "<Figure size 640x480 with 1 Axes>"
      ]
     },
     "metadata": {},
     "output_type": "display_data"
    }
   ],
   "source": [
    "plt.hist(df['Bankruptcies'],50);"
   ]
  },
  {
   "cell_type": "markdown",
   "metadata": {},
   "source": [
    "## Tax Liens"
   ]
  },
  {
   "cell_type": "code",
   "execution_count": 146,
   "metadata": {},
   "outputs": [
    {
     "data": {
      "text/plain": [
       "23"
      ]
     },
     "execution_count": 146,
     "metadata": {},
     "output_type": "execute_result"
    }
   ],
   "source": [
    "df['Tax Liens'].isnull().sum()"
   ]
  },
  {
   "cell_type": "code",
   "execution_count": 147,
   "metadata": {},
   "outputs": [
    {
     "data": {
      "text/plain": [
       "count    256961.000000\n",
       "mean          0.027203\n",
       "std           0.245950\n",
       "min           0.000000\n",
       "25%           0.000000\n",
       "50%           0.000000\n",
       "75%           0.000000\n",
       "max          11.000000\n",
       "Name: Tax Liens, dtype: float64"
      ]
     },
     "execution_count": 147,
     "metadata": {},
     "output_type": "execute_result"
    }
   ],
   "source": [
    "df['Tax Liens'].describe()"
   ]
  },
  {
   "cell_type": "code",
   "execution_count": 148,
   "metadata": {},
   "outputs": [
    {
     "data": {
      "text/plain": [
       "Current Loan Amount             0.010789\n",
       "Credit Score                   -0.023950\n",
       "Annual Income                   0.031726\n",
       "Monthly Debt                    0.020557\n",
       "Years of Credit History         0.020915\n",
       "Months since last delinquent    0.041984\n",
       "Number of Open Accounts         0.005754\n",
       "Number of Credit Problems       0.584917\n",
       "Current Credit Balance         -0.011118\n",
       "Maximum Open Credit            -0.000490\n",
       "Bankruptcies                    0.046226\n",
       "Tax Liens                       1.000000\n",
       "Name: Tax Liens, dtype: float64"
      ]
     },
     "execution_count": 148,
     "metadata": {},
     "output_type": "execute_result"
    }
   ],
   "source": [
    "df.corr(numeric_only=True)['Tax Liens']"
   ]
  },
  {
   "cell_type": "code",
   "execution_count": 149,
   "metadata": {},
   "outputs": [
    {
     "data": {
      "text/plain": [
       "Number of Credit Problems\n",
       "0      0.000000\n",
       "1      0.080112\n",
       "2      0.661533\n",
       "3      1.375474\n",
       "4      2.240000\n",
       "5      3.400000\n",
       "6      4.380952\n",
       "7      5.375000\n",
       "8      6.833333\n",
       "9      8.900000\n",
       "10     9.166667\n",
       "11    11.000000\n",
       "Name: Tax Liens, dtype: float64"
      ]
     },
     "execution_count": 149,
     "metadata": {},
     "output_type": "execute_result"
    }
   ],
   "source": [
    "df.groupby('Number of Credit Problems')['Tax Liens'].mean()"
   ]
  },
  {
   "cell_type": "code",
   "execution_count": 150,
   "metadata": {},
   "outputs": [],
   "source": [
    "df['Tax Liens'] = df.groupby('Number of Credit Problems')['Tax Liens'].transform(lambda x: x.fillna(x.mean()))"
   ]
  },
  {
   "cell_type": "code",
   "execution_count": 151,
   "metadata": {},
   "outputs": [
    {
     "data": {
      "text/plain": [
       "0"
      ]
     },
     "execution_count": 151,
     "metadata": {},
     "output_type": "execute_result"
    }
   ],
   "source": [
    "df['Tax Liens'].isnull().sum()"
   ]
  },
  {
   "cell_type": "code",
   "execution_count": 152,
   "metadata": {},
   "outputs": [],
   "source": [
    "df['Tax Liens'] = df['Tax Liens'].astype(int)"
   ]
  },
  {
   "cell_type": "markdown",
   "metadata": {},
   "source": [
    "## Years of Credit History"
   ]
  },
  {
   "cell_type": "code",
   "execution_count": 153,
   "metadata": {},
   "outputs": [
    {
     "data": {
      "text/plain": [
       "0"
      ]
     },
     "execution_count": 153,
     "metadata": {},
     "output_type": "execute_result"
    }
   ],
   "source": [
    "df['Years of Credit History'].isnull().sum()"
   ]
  },
  {
   "cell_type": "code",
   "execution_count": 154,
   "metadata": {},
   "outputs": [
    {
     "data": {
      "text/plain": [
       "count    256984.000000\n",
       "mean         18.290195\n",
       "std           7.075747\n",
       "min           3.400000\n",
       "25%          13.500000\n",
       "50%          17.000000\n",
       "75%          21.700000\n",
       "max          70.500000\n",
       "Name: Years of Credit History, dtype: float64"
      ]
     },
     "execution_count": 154,
     "metadata": {},
     "output_type": "execute_result"
    }
   ],
   "source": [
    "df['Years of Credit History'].describe()"
   ]
  },
  {
   "cell_type": "code",
   "execution_count": 155,
   "metadata": {},
   "outputs": [
    {
     "data": {
      "text/html": [
       "<div>\n",
       "<style scoped>\n",
       "    .dataframe tbody tr th:only-of-type {\n",
       "        vertical-align: middle;\n",
       "    }\n",
       "\n",
       "    .dataframe tbody tr th {\n",
       "        vertical-align: top;\n",
       "    }\n",
       "\n",
       "    .dataframe thead th {\n",
       "        text-align: right;\n",
       "    }\n",
       "</style>\n",
       "<table border=\"1\" class=\"dataframe\">\n",
       "  <thead>\n",
       "    <tr style=\"text-align: right;\">\n",
       "      <th></th>\n",
       "      <th>Loan ID</th>\n",
       "      <th>Customer ID</th>\n",
       "      <th>Loan Status</th>\n",
       "      <th>Current Loan Amount</th>\n",
       "      <th>Term</th>\n",
       "      <th>Credit Score</th>\n",
       "      <th>Years in current job</th>\n",
       "      <th>Home Ownership</th>\n",
       "      <th>Annual Income</th>\n",
       "      <th>Purpose</th>\n",
       "      <th>Monthly Debt</th>\n",
       "      <th>Years of Credit History</th>\n",
       "      <th>Months since last delinquent</th>\n",
       "      <th>Number of Open Accounts</th>\n",
       "      <th>Number of Credit Problems</th>\n",
       "      <th>Current Credit Balance</th>\n",
       "      <th>Maximum Open Credit</th>\n",
       "      <th>Bankruptcies</th>\n",
       "      <th>Tax Liens</th>\n",
       "    </tr>\n",
       "  </thead>\n",
       "  <tbody>\n",
       "    <tr>\n",
       "      <th>126392</th>\n",
       "      <td>7db95e04-1081-43e1-8dab-77d0202145f8</td>\n",
       "      <td>6bb86735-f834-42b3-bd98-360da7094185</td>\n",
       "      <td>Fully Paid</td>\n",
       "      <td>6109</td>\n",
       "      <td>Short Term</td>\n",
       "      <td>743</td>\n",
       "      <td>6 years</td>\n",
       "      <td>Home Mortgage</td>\n",
       "      <td>33964</td>\n",
       "      <td>Home Improvements</td>\n",
       "      <td>0.0</td>\n",
       "      <td>70.5</td>\n",
       "      <td>78</td>\n",
       "      <td>5</td>\n",
       "      <td>2</td>\n",
       "      <td>0</td>\n",
       "      <td>0</td>\n",
       "      <td>0</td>\n",
       "      <td>0</td>\n",
       "    </tr>\n",
       "  </tbody>\n",
       "</table>\n",
       "</div>"
      ],
      "text/plain": [
       "                                     Loan ID  \\\n",
       "126392  7db95e04-1081-43e1-8dab-77d0202145f8   \n",
       "\n",
       "                                 Customer ID Loan Status  Current Loan Amount  \\\n",
       "126392  6bb86735-f834-42b3-bd98-360da7094185  Fully Paid                 6109   \n",
       "\n",
       "              Term  Credit Score Years in current job Home Ownership  \\\n",
       "126392  Short Term           743              6 years  Home Mortgage   \n",
       "\n",
       "        Annual Income            Purpose  Monthly Debt  \\\n",
       "126392          33964  Home Improvements           0.0   \n",
       "\n",
       "        Years of Credit History  Months since last delinquent  \\\n",
       "126392                     70.5                            78   \n",
       "\n",
       "        Number of Open Accounts  Number of Credit Problems  \\\n",
       "126392                        5                          2   \n",
       "\n",
       "        Current Credit Balance  Maximum Open Credit  Bankruptcies  Tax Liens  \n",
       "126392                       0                    0             0          0  "
      ]
     },
     "execution_count": 155,
     "metadata": {},
     "output_type": "execute_result"
    }
   ],
   "source": [
    "df[df['Years of Credit History'] > 70]\n",
    "#transformation"
   ]
  },
  {
   "cell_type": "code",
   "execution_count": 156,
   "metadata": {},
   "outputs": [
    {
     "data": {
      "image/png": "[encoded data removed]",
      "text/plain": [
       "<Figure size 640x480 with 1 Axes>"
      ]
     },
     "metadata": {},
     "output_type": "display_data"
    }
   ],
   "source": [
    "plt.hist(df['Years of Credit History'],50);"
   ]
  },
  {
   "cell_type": "markdown",
   "metadata": {},
   "source": [
    "## Number of Open Accounts"
   ]
  },
  {
   "cell_type": "code",
   "execution_count": 157,
   "metadata": {},
   "outputs": [
    {
     "data": {
      "text/plain": [
       "0"
      ]
     },
     "execution_count": 157,
     "metadata": {},
     "output_type": "execute_result"
    }
   ],
   "source": [
    "df['Number of Open Accounts'].isnull().sum()"
   ]
  },
  {
   "cell_type": "code",
   "execution_count": 158,
   "metadata": {},
   "outputs": [
    {
     "data": {
      "text/plain": [
       "count    256984.000000\n",
       "mean         11.106267\n",
       "std           4.982982\n",
       "min           0.000000\n",
       "25%           8.000000\n",
       "50%          10.000000\n",
       "75%          14.000000\n",
       "max          76.000000\n",
       "Name: Number of Open Accounts, dtype: float64"
      ]
     },
     "execution_count": 158,
     "metadata": {},
     "output_type": "execute_result"
    }
   ],
   "source": [
    "df['Number of Open Accounts'].describe()"
   ]
  },
  {
   "cell_type": "code",
   "execution_count": 159,
   "metadata": {},
   "outputs": [
    {
     "data": {
      "image/png": "[encoded data removed]",
      "text/plain": [
       "<Figure size 640x480 with 1 Axes>"
      ]
     },
     "metadata": {},
     "output_type": "display_data"
    }
   ],
   "source": [
    "plt.hist(df['Number of Open Accounts'],50);"
   ]
  },
  {
   "cell_type": "code",
   "execution_count": 160,
   "metadata": {},
   "outputs": [
    {
     "data": {
      "text/html": [
       "<div>\n",
       "<style scoped>\n",
       "    .dataframe tbody tr th:only-of-type {\n",
       "        vertical-align: middle;\n",
       "    }\n",
       "\n",
       "    .dataframe tbody tr th {\n",
       "        vertical-align: top;\n",
       "    }\n",
       "\n",
       "    .dataframe thead th {\n",
       "        text-align: right;\n",
       "    }\n",
       "</style>\n",
       "<table border=\"1\" class=\"dataframe\">\n",
       "  <thead>\n",
       "    <tr style=\"text-align: right;\">\n",
       "      <th></th>\n",
       "      <th>Loan ID</th>\n",
       "      <th>Customer ID</th>\n",
       "      <th>Loan Status</th>\n",
       "      <th>Current Loan Amount</th>\n",
       "      <th>Term</th>\n",
       "      <th>Credit Score</th>\n",
       "      <th>Years in current job</th>\n",
       "      <th>Home Ownership</th>\n",
       "      <th>Annual Income</th>\n",
       "      <th>Purpose</th>\n",
       "      <th>Monthly Debt</th>\n",
       "      <th>Years of Credit History</th>\n",
       "      <th>Months since last delinquent</th>\n",
       "      <th>Number of Open Accounts</th>\n",
       "      <th>Number of Credit Problems</th>\n",
       "      <th>Current Credit Balance</th>\n",
       "      <th>Maximum Open Credit</th>\n",
       "      <th>Bankruptcies</th>\n",
       "      <th>Tax Liens</th>\n",
       "    </tr>\n",
       "  </thead>\n",
       "  <tbody>\n",
       "    <tr>\n",
       "      <th>8842</th>\n",
       "      <td>08dab131-9db3-4184-a32a-e12e48fd5d6c</td>\n",
       "      <td>907c2a89-76f8-4089-9a47-d410bb885339</td>\n",
       "      <td>Charged Off</td>\n",
       "      <td>18755</td>\n",
       "      <td>Long Term</td>\n",
       "      <td>721</td>\n",
       "      <td>7 years</td>\n",
       "      <td>Rent</td>\n",
       "      <td>68801</td>\n",
       "      <td>Debt Consolidation</td>\n",
       "      <td>1032.06</td>\n",
       "      <td>27.4</td>\n",
       "      <td>0</td>\n",
       "      <td>76</td>\n",
       "      <td>0</td>\n",
       "      <td>22111</td>\n",
       "      <td>28131</td>\n",
       "      <td>0</td>\n",
       "      <td>0</td>\n",
       "    </tr>\n",
       "    <tr>\n",
       "      <th>8843</th>\n",
       "      <td>08dab131-9db3-4184-a32a-e12e48fd5d6c</td>\n",
       "      <td>907c2a89-76f8-4089-9a47-d410bb885339</td>\n",
       "      <td>Charged Off</td>\n",
       "      <td>18755</td>\n",
       "      <td>Long Term</td>\n",
       "      <td>670</td>\n",
       "      <td>7 years</td>\n",
       "      <td>Rent</td>\n",
       "      <td>46912</td>\n",
       "      <td>Debt Consolidation</td>\n",
       "      <td>1032.06</td>\n",
       "      <td>27.4</td>\n",
       "      <td>0</td>\n",
       "      <td>76</td>\n",
       "      <td>0</td>\n",
       "      <td>22111</td>\n",
       "      <td>28131</td>\n",
       "      <td>0</td>\n",
       "      <td>0</td>\n",
       "    </tr>\n",
       "    <tr>\n",
       "      <th>245874</th>\n",
       "      <td>f4e0a453-a5ec-4011-9513-9d203ffe8e3c</td>\n",
       "      <td>3e62a9e2-a61b-472d-8e56-234e30061580</td>\n",
       "      <td>Charged Off</td>\n",
       "      <td>20426</td>\n",
       "      <td>Short Term</td>\n",
       "      <td>721</td>\n",
       "      <td>5 years</td>\n",
       "      <td>Home Mortgage</td>\n",
       "      <td>88949</td>\n",
       "      <td>Debt Consolidation</td>\n",
       "      <td>2195.80</td>\n",
       "      <td>15.7</td>\n",
       "      <td>0</td>\n",
       "      <td>76</td>\n",
       "      <td>0</td>\n",
       "      <td>40606</td>\n",
       "      <td>121575</td>\n",
       "      <td>0</td>\n",
       "      <td>0</td>\n",
       "    </tr>\n",
       "    <tr>\n",
       "      <th>245875</th>\n",
       "      <td>f4e0a453-a5ec-4011-9513-9d203ffe8e3c</td>\n",
       "      <td>3e62a9e2-a61b-472d-8e56-234e30061580</td>\n",
       "      <td>Charged Off</td>\n",
       "      <td>20426</td>\n",
       "      <td>Short Term</td>\n",
       "      <td>721</td>\n",
       "      <td>5 years</td>\n",
       "      <td>Home Mortgage</td>\n",
       "      <td>88949</td>\n",
       "      <td>Debt Consolidation</td>\n",
       "      <td>2195.80</td>\n",
       "      <td>15.7</td>\n",
       "      <td>0</td>\n",
       "      <td>76</td>\n",
       "      <td>0</td>\n",
       "      <td>40606</td>\n",
       "      <td>121575</td>\n",
       "      <td>0</td>\n",
       "      <td>0</td>\n",
       "    </tr>\n",
       "  </tbody>\n",
       "</table>\n",
       "</div>"
      ],
      "text/plain": [
       "                                     Loan ID  \\\n",
       "8842    08dab131-9db3-4184-a32a-e12e48fd5d6c   \n",
       "8843    08dab131-9db3-4184-a32a-e12e48fd5d6c   \n",
       "245874  f4e0a453-a5ec-4011-9513-9d203ffe8e3c   \n",
       "245875  f4e0a453-a5ec-4011-9513-9d203ffe8e3c   \n",
       "\n",
       "                                 Customer ID  Loan Status  \\\n",
       "8842    907c2a89-76f8-4089-9a47-d410bb885339  Charged Off   \n",
       "8843    907c2a89-76f8-4089-9a47-d410bb885339  Charged Off   \n",
       "245874  3e62a9e2-a61b-472d-8e56-234e30061580  Charged Off   \n",
       "245875  3e62a9e2-a61b-472d-8e56-234e30061580  Charged Off   \n",
       "\n",
       "        Current Loan Amount        Term  Credit Score Years in current job  \\\n",
       "8842                  18755   Long Term           721              7 years   \n",
       "8843                  18755   Long Term           670              7 years   \n",
       "245874                20426  Short Term           721              5 years   \n",
       "245875                20426  Short Term           721              5 years   \n",
       "\n",
       "       Home Ownership  Annual Income             Purpose  Monthly Debt  \\\n",
       "8842             Rent          68801  Debt Consolidation       1032.06   \n",
       "8843             Rent          46912  Debt Consolidation       1032.06   \n",
       "245874  Home Mortgage          88949  Debt Consolidation       2195.80   \n",
       "245875  Home Mortgage          88949  Debt Consolidation       2195.80   \n",
       "\n",
       "        Years of Credit History  Months since last delinquent  \\\n",
       "8842                       27.4                             0   \n",
       "8843                       27.4                             0   \n",
       "245874                     15.7                             0   \n",
       "245875                     15.7                             0   \n",
       "\n",
       "        Number of Open Accounts  Number of Credit Problems  \\\n",
       "8842                         76                          0   \n",
       "8843                         76                          0   \n",
       "245874                       76                          0   \n",
       "245875                       76                          0   \n",
       "\n",
       "        Current Credit Balance  Maximum Open Credit  Bankruptcies  Tax Liens  \n",
       "8842                     22111                28131             0          0  \n",
       "8843                     22111                28131             0          0  \n",
       "245874                   40606               121575             0          0  \n",
       "245875                   40606               121575             0          0  "
      ]
     },
     "execution_count": 160,
     "metadata": {},
     "output_type": "execute_result"
    }
   ],
   "source": [
    "df[df['Number of Open Accounts'] > 60]\n",
    "#outliers"
   ]
  },
  {
   "cell_type": "code",
   "execution_count": 161,
   "metadata": {},
   "outputs": [],
   "source": [
    "df['Number of Open Accounts'] = df['Number of Open Accounts'].astype(int)"
   ]
  },
  {
   "cell_type": "markdown",
   "metadata": {},
   "source": [
    "## Number of Credit Problems"
   ]
  },
  {
   "cell_type": "code",
   "execution_count": 162,
   "metadata": {},
   "outputs": [
    {
     "data": {
      "text/plain": [
       "count    256984.000000\n",
       "mean          0.156628\n",
       "std           0.460731\n",
       "min           0.000000\n",
       "25%           0.000000\n",
       "50%           0.000000\n",
       "75%           0.000000\n",
       "max          11.000000\n",
       "Name: Number of Credit Problems, dtype: float64"
      ]
     },
     "execution_count": 162,
     "metadata": {},
     "output_type": "execute_result"
    }
   ],
   "source": [
    "df['Number of Credit Problems'].describe()"
   ]
  },
  {
   "cell_type": "code",
   "execution_count": 163,
   "metadata": {},
   "outputs": [
    {
     "data": {
      "text/html": [
       "<div>\n",
       "<style scoped>\n",
       "    .dataframe tbody tr th:only-of-type {\n",
       "        vertical-align: middle;\n",
       "    }\n",
       "\n",
       "    .dataframe tbody tr th {\n",
       "        vertical-align: top;\n",
       "    }\n",
       "\n",
       "    .dataframe thead th {\n",
       "        text-align: right;\n",
       "    }\n",
       "</style>\n",
       "<table border=\"1\" class=\"dataframe\">\n",
       "  <thead>\n",
       "    <tr style=\"text-align: right;\">\n",
       "      <th></th>\n",
       "      <th>Loan ID</th>\n",
       "      <th>Customer ID</th>\n",
       "      <th>Loan Status</th>\n",
       "      <th>Current Loan Amount</th>\n",
       "      <th>Term</th>\n",
       "      <th>Credit Score</th>\n",
       "      <th>Years in current job</th>\n",
       "      <th>Home Ownership</th>\n",
       "      <th>Annual Income</th>\n",
       "      <th>Purpose</th>\n",
       "      <th>Monthly Debt</th>\n",
       "      <th>Years of Credit History</th>\n",
       "      <th>Months since last delinquent</th>\n",
       "      <th>Number of Open Accounts</th>\n",
       "      <th>Number of Credit Problems</th>\n",
       "      <th>Current Credit Balance</th>\n",
       "      <th>Maximum Open Credit</th>\n",
       "      <th>Bankruptcies</th>\n",
       "      <th>Tax Liens</th>\n",
       "    </tr>\n",
       "  </thead>\n",
       "  <tbody>\n",
       "    <tr>\n",
       "      <th>34698</th>\n",
       "      <td>228ad2c8-58ce-40ea-9045-a78d56b52599</td>\n",
       "      <td>324ac617-9e43-44c0-9a3b-04ab819005bc</td>\n",
       "      <td>Fully Paid</td>\n",
       "      <td>5593</td>\n",
       "      <td>Short Term</td>\n",
       "      <td>743</td>\n",
       "      <td>3 years</td>\n",
       "      <td>Rent</td>\n",
       "      <td>34955</td>\n",
       "      <td>Debt Consolidation</td>\n",
       "      <td>317.51</td>\n",
       "      <td>14.0</td>\n",
       "      <td>72</td>\n",
       "      <td>7</td>\n",
       "      <td>10</td>\n",
       "      <td>5456</td>\n",
       "      <td>14786</td>\n",
       "      <td>1</td>\n",
       "      <td>9</td>\n",
       "    </tr>\n",
       "    <tr>\n",
       "      <th>48127</th>\n",
       "      <td>2fd08273-b85a-4fd5-82d8-599219c15705</td>\n",
       "      <td>d6597681-08f8-46c7-a341-2fd0b3a6cccd</td>\n",
       "      <td>Fully Paid</td>\n",
       "      <td>4789</td>\n",
       "      <td>Short Term</td>\n",
       "      <td>732</td>\n",
       "      <td>8 years</td>\n",
       "      <td>Home Mortgage</td>\n",
       "      <td>57275</td>\n",
       "      <td>Debt Consolidation</td>\n",
       "      <td>1446.19</td>\n",
       "      <td>15.4</td>\n",
       "      <td>9</td>\n",
       "      <td>10</td>\n",
       "      <td>10</td>\n",
       "      <td>8418</td>\n",
       "      <td>21809</td>\n",
       "      <td>0</td>\n",
       "      <td>10</td>\n",
       "    </tr>\n",
       "    <tr>\n",
       "      <th>60359</th>\n",
       "      <td>3c0cd075-74d4-491d-841c-9974e4347339</td>\n",
       "      <td>3bac0231-b309-4e57-a28b-e11af138c341</td>\n",
       "      <td>Fully Paid</td>\n",
       "      <td>25088</td>\n",
       "      <td>Short Term</td>\n",
       "      <td>740</td>\n",
       "      <td>&lt; 1 year</td>\n",
       "      <td>Home Mortgage</td>\n",
       "      <td>250876</td>\n",
       "      <td>Debt Consolidation</td>\n",
       "      <td>1271.10</td>\n",
       "      <td>18.9</td>\n",
       "      <td>49</td>\n",
       "      <td>13</td>\n",
       "      <td>10</td>\n",
       "      <td>14635</td>\n",
       "      <td>16207</td>\n",
       "      <td>2</td>\n",
       "      <td>8</td>\n",
       "    </tr>\n",
       "    <tr>\n",
       "      <th>168693</th>\n",
       "      <td>a7c1978d-5bac-41e5-a259-83cc8e450cca</td>\n",
       "      <td>2ca65a71-5385-4acb-9e79-eabe42d4d6eb</td>\n",
       "      <td>Fully Paid</td>\n",
       "      <td>14526</td>\n",
       "      <td>Long Term</td>\n",
       "      <td>671</td>\n",
       "      <td>4 years</td>\n",
       "      <td>Home Mortgage</td>\n",
       "      <td>59610</td>\n",
       "      <td>Other</td>\n",
       "      <td>1246.84</td>\n",
       "      <td>13.4</td>\n",
       "      <td>41</td>\n",
       "      <td>7</td>\n",
       "      <td>10</td>\n",
       "      <td>4286</td>\n",
       "      <td>8437</td>\n",
       "      <td>1</td>\n",
       "      <td>8</td>\n",
       "    </tr>\n",
       "    <tr>\n",
       "      <th>168963</th>\n",
       "      <td>a8063b53-1097-4d52-86e1-6a65dc8cd151</td>\n",
       "      <td>25fe3810-6b6e-46ac-a57d-ac0be538f103</td>\n",
       "      <td>Fully Paid</td>\n",
       "      <td>11773</td>\n",
       "      <td>Short Term</td>\n",
       "      <td>721</td>\n",
       "      <td>10+ years</td>\n",
       "      <td>Home Mortgage</td>\n",
       "      <td>105473</td>\n",
       "      <td>Debt Consolidation</td>\n",
       "      <td>1627.15</td>\n",
       "      <td>23.3</td>\n",
       "      <td>17</td>\n",
       "      <td>13</td>\n",
       "      <td>10</td>\n",
       "      <td>15037</td>\n",
       "      <td>19812</td>\n",
       "      <td>0</td>\n",
       "      <td>10</td>\n",
       "    </tr>\n",
       "    <tr>\n",
       "      <th>187144</th>\n",
       "      <td>ba2d59dc-a15e-49e9-b4d2-d9960af79501</td>\n",
       "      <td>da21ff8e-f4c3-4703-b81c-189dbd9abe0f</td>\n",
       "      <td>Fully Paid</td>\n",
       "      <td>22595</td>\n",
       "      <td>Short Term</td>\n",
       "      <td>712</td>\n",
       "      <td>No job info</td>\n",
       "      <td>Rent</td>\n",
       "      <td>125763</td>\n",
       "      <td>Debt Consolidation</td>\n",
       "      <td>2389.49</td>\n",
       "      <td>18.3</td>\n",
       "      <td>1</td>\n",
       "      <td>15</td>\n",
       "      <td>11</td>\n",
       "      <td>32943</td>\n",
       "      <td>60668</td>\n",
       "      <td>0</td>\n",
       "      <td>11</td>\n",
       "    </tr>\n",
       "    <tr>\n",
       "      <th>188241</th>\n",
       "      <td>bb39147e-5ae2-40c7-9ae4-e25a36f6f660</td>\n",
       "      <td>56de546f-b58e-4d96-b6a0-a775881e6e18</td>\n",
       "      <td>Fully Paid</td>\n",
       "      <td>14718</td>\n",
       "      <td>Short Term</td>\n",
       "      <td>721</td>\n",
       "      <td>10+ years</td>\n",
       "      <td>Rent</td>\n",
       "      <td>49843</td>\n",
       "      <td>Other</td>\n",
       "      <td>401.48</td>\n",
       "      <td>15.7</td>\n",
       "      <td>0</td>\n",
       "      <td>7</td>\n",
       "      <td>11</td>\n",
       "      <td>8537</td>\n",
       "      <td>22467</td>\n",
       "      <td>0</td>\n",
       "      <td>11</td>\n",
       "    </tr>\n",
       "    <tr>\n",
       "      <th>213675</th>\n",
       "      <td>d4987781-e1e9-4d6b-aedd-20a3a1a63742</td>\n",
       "      <td>eceff4f8-e213-4b69-9a43-e022b45c8438</td>\n",
       "      <td>Fully Paid</td>\n",
       "      <td>12478</td>\n",
       "      <td>Short Term</td>\n",
       "      <td>744</td>\n",
       "      <td>10+ years</td>\n",
       "      <td>Home Mortgage</td>\n",
       "      <td>48733</td>\n",
       "      <td>Debt Consolidation</td>\n",
       "      <td>257.88</td>\n",
       "      <td>12.5</td>\n",
       "      <td>0</td>\n",
       "      <td>6</td>\n",
       "      <td>10</td>\n",
       "      <td>2878</td>\n",
       "      <td>9165</td>\n",
       "      <td>0</td>\n",
       "      <td>10</td>\n",
       "    </tr>\n",
       "  </tbody>\n",
       "</table>\n",
       "</div>"
      ],
      "text/plain": [
       "                                     Loan ID  \\\n",
       "34698   228ad2c8-58ce-40ea-9045-a78d56b52599   \n",
       "48127   2fd08273-b85a-4fd5-82d8-599219c15705   \n",
       "60359   3c0cd075-74d4-491d-841c-9974e4347339   \n",
       "168693  a7c1978d-5bac-41e5-a259-83cc8e450cca   \n",
       "168963  a8063b53-1097-4d52-86e1-6a65dc8cd151   \n",
       "187144  ba2d59dc-a15e-49e9-b4d2-d9960af79501   \n",
       "188241  bb39147e-5ae2-40c7-9ae4-e25a36f6f660   \n",
       "213675  d4987781-e1e9-4d6b-aedd-20a3a1a63742   \n",
       "\n",
       "                                 Customer ID Loan Status  Current Loan Amount  \\\n",
       "34698   324ac617-9e43-44c0-9a3b-04ab819005bc  Fully Paid                 5593   \n",
       "48127   d6597681-08f8-46c7-a341-2fd0b3a6cccd  Fully Paid                 4789   \n",
       "60359   3bac0231-b309-4e57-a28b-e11af138c341  Fully Paid                25088   \n",
       "168693  2ca65a71-5385-4acb-9e79-eabe42d4d6eb  Fully Paid                14526   \n",
       "168963  25fe3810-6b6e-46ac-a57d-ac0be538f103  Fully Paid                11773   \n",
       "187144  da21ff8e-f4c3-4703-b81c-189dbd9abe0f  Fully Paid                22595   \n",
       "188241  56de546f-b58e-4d96-b6a0-a775881e6e18  Fully Paid                14718   \n",
       "213675  eceff4f8-e213-4b69-9a43-e022b45c8438  Fully Paid                12478   \n",
       "\n",
       "              Term  Credit Score Years in current job Home Ownership  \\\n",
       "34698   Short Term           743              3 years           Rent   \n",
       "48127   Short Term           732              8 years  Home Mortgage   \n",
       "60359   Short Term           740             < 1 year  Home Mortgage   \n",
       "168693   Long Term           671              4 years  Home Mortgage   \n",
       "168963  Short Term           721            10+ years  Home Mortgage   \n",
       "187144  Short Term           712          No job info           Rent   \n",
       "188241  Short Term           721            10+ years           Rent   \n",
       "213675  Short Term           744            10+ years  Home Mortgage   \n",
       "\n",
       "        Annual Income             Purpose  Monthly Debt  \\\n",
       "34698           34955  Debt Consolidation        317.51   \n",
       "48127           57275  Debt Consolidation       1446.19   \n",
       "60359          250876  Debt Consolidation       1271.10   \n",
       "168693          59610               Other       1246.84   \n",
       "168963         105473  Debt Consolidation       1627.15   \n",
       "187144         125763  Debt Consolidation       2389.49   \n",
       "188241          49843               Other        401.48   \n",
       "213675          48733  Debt Consolidation        257.88   \n",
       "\n",
       "        Years of Credit History  Months since last delinquent  \\\n",
       "34698                      14.0                            72   \n",
       "48127                      15.4                             9   \n",
       "60359                      18.9                            49   \n",
       "168693                     13.4                            41   \n",
       "168963                     23.3                            17   \n",
       "187144                     18.3                             1   \n",
       "188241                     15.7                             0   \n",
       "213675                     12.5                             0   \n",
       "\n",
       "        Number of Open Accounts  Number of Credit Problems  \\\n",
       "34698                         7                         10   \n",
       "48127                        10                         10   \n",
       "60359                        13                         10   \n",
       "168693                        7                         10   \n",
       "168963                       13                         10   \n",
       "187144                       15                         11   \n",
       "188241                        7                         11   \n",
       "213675                        6                         10   \n",
       "\n",
       "        Current Credit Balance  Maximum Open Credit  Bankruptcies  Tax Liens  \n",
       "34698                     5456                14786             1          9  \n",
       "48127                     8418                21809             0         10  \n",
       "60359                    14635                16207             2          8  \n",
       "168693                    4286                 8437             1          8  \n",
       "168963                   15037                19812             0         10  \n",
       "187144                   32943                60668             0         11  \n",
       "188241                    8537                22467             0         11  \n",
       "213675                    2878                 9165             0         10  "
      ]
     },
     "execution_count": 163,
     "metadata": {},
     "output_type": "execute_result"
    }
   ],
   "source": [
    "df[df['Number of Credit Problems']>=10]\n",
    "#outliers"
   ]
  },
  {
   "cell_type": "code",
   "execution_count": 164,
   "metadata": {},
   "outputs": [
    {
     "data": {
      "text/plain": [
       "0"
      ]
     },
     "execution_count": 164,
     "metadata": {},
     "output_type": "execute_result"
    }
   ],
   "source": [
    "df['Number of Credit Problems'].isnull().sum()"
   ]
  },
  {
   "cell_type": "markdown",
   "metadata": {},
   "source": [
    "## Current Credit Balance"
   ]
  },
  {
   "cell_type": "code",
   "execution_count": 165,
   "metadata": {},
   "outputs": [
    {
     "data": {
      "text/plain": [
       "count    2.569840e+05\n",
       "mean     1.540656e+04\n",
       "std      1.966506e+04\n",
       "min      0.000000e+00\n",
       "25%      5.974000e+03\n",
       "50%      1.107800e+04\n",
       "75%      1.931900e+04\n",
       "max      1.731412e+06\n",
       "Name: Current Credit Balance, dtype: float64"
      ]
     },
     "execution_count": 165,
     "metadata": {},
     "output_type": "execute_result"
    }
   ],
   "source": [
    "df['Current Credit Balance'].describe()"
   ]
  },
  {
   "cell_type": "code",
   "execution_count": 166,
   "metadata": {},
   "outputs": [
    {
     "data": {
      "image/png": "[encoded data removed]",
      "text/plain": [
       "<Figure size 640x480 with 1 Axes>"
      ]
     },
     "metadata": {},
     "output_type": "display_data"
    }
   ],
   "source": [
    "plt.hist(df['Current Credit Balance'],50);"
   ]
  },
  {
   "cell_type": "code",
   "execution_count": 167,
   "metadata": {},
   "outputs": [
    {
     "data": {
      "text/plain": [
       "1731412"
      ]
     },
     "execution_count": 167,
     "metadata": {},
     "output_type": "execute_result"
    }
   ],
   "source": [
    "df['Current Credit Balance'].max()"
   ]
  },
  {
   "cell_type": "code",
   "execution_count": 168,
   "metadata": {},
   "outputs": [
    {
     "data": {
      "text/html": [
       "<div>\n",
       "<style scoped>\n",
       "    .dataframe tbody tr th:only-of-type {\n",
       "        vertical-align: middle;\n",
       "    }\n",
       "\n",
       "    .dataframe tbody tr th {\n",
       "        vertical-align: top;\n",
       "    }\n",
       "\n",
       "    .dataframe thead th {\n",
       "        text-align: right;\n",
       "    }\n",
       "</style>\n",
       "<table border=\"1\" class=\"dataframe\">\n",
       "  <thead>\n",
       "    <tr style=\"text-align: right;\">\n",
       "      <th></th>\n",
       "      <th>Loan ID</th>\n",
       "      <th>Customer ID</th>\n",
       "      <th>Loan Status</th>\n",
       "      <th>Current Loan Amount</th>\n",
       "      <th>Term</th>\n",
       "      <th>Credit Score</th>\n",
       "      <th>Years in current job</th>\n",
       "      <th>Home Ownership</th>\n",
       "      <th>Annual Income</th>\n",
       "      <th>Purpose</th>\n",
       "      <th>Monthly Debt</th>\n",
       "      <th>Years of Credit History</th>\n",
       "      <th>Months since last delinquent</th>\n",
       "      <th>Number of Open Accounts</th>\n",
       "      <th>Number of Credit Problems</th>\n",
       "      <th>Current Credit Balance</th>\n",
       "      <th>Maximum Open Credit</th>\n",
       "      <th>Bankruptcies</th>\n",
       "      <th>Tax Liens</th>\n",
       "    </tr>\n",
       "  </thead>\n",
       "  <tbody>\n",
       "    <tr>\n",
       "      <th>64449</th>\n",
       "      <td>401c650d-daa0-41dd-ab52-9a5926f70715</td>\n",
       "      <td>255619a3-96ca-4521-95ed-37f2bc4d2791</td>\n",
       "      <td>Fully Paid</td>\n",
       "      <td>34762</td>\n",
       "      <td>Short Term</td>\n",
       "      <td>721</td>\n",
       "      <td>10+ years</td>\n",
       "      <td>Home Mortgage</td>\n",
       "      <td>77456</td>\n",
       "      <td>Debt Consolidation</td>\n",
       "      <td>11090.74</td>\n",
       "      <td>32.0</td>\n",
       "      <td>0</td>\n",
       "      <td>28</td>\n",
       "      <td>0</td>\n",
       "      <td>1731412</td>\n",
       "      <td>5869192</td>\n",
       "      <td>0</td>\n",
       "      <td>0</td>\n",
       "    </tr>\n",
       "    <tr>\n",
       "      <th>194645</th>\n",
       "      <td>c194cb68-1c4d-4bba-8433-98cf4e0f357d</td>\n",
       "      <td>3e4ec65d-94de-4309-afaa-d5f5055c4053</td>\n",
       "      <td>Charged Off</td>\n",
       "      <td>34675</td>\n",
       "      <td>Short Term</td>\n",
       "      <td>732</td>\n",
       "      <td>10+ years</td>\n",
       "      <td>Home Mortgage</td>\n",
       "      <td>396280</td>\n",
       "      <td>Other</td>\n",
       "      <td>10831.65</td>\n",
       "      <td>32.5</td>\n",
       "      <td>0</td>\n",
       "      <td>28</td>\n",
       "      <td>0</td>\n",
       "      <td>1730472</td>\n",
       "      <td>4483087</td>\n",
       "      <td>0</td>\n",
       "      <td>0</td>\n",
       "    </tr>\n",
       "    <tr>\n",
       "      <th>194646</th>\n",
       "      <td>c194cb68-1c4d-4bba-8433-98cf4e0f357d</td>\n",
       "      <td>3e4ec65d-94de-4309-afaa-d5f5055c4053</td>\n",
       "      <td>Charged Off</td>\n",
       "      <td>34675</td>\n",
       "      <td>Short Term</td>\n",
       "      <td>721</td>\n",
       "      <td>10+ years</td>\n",
       "      <td>Home Mortgage</td>\n",
       "      <td>396280</td>\n",
       "      <td>Other</td>\n",
       "      <td>10831.65</td>\n",
       "      <td>32.5</td>\n",
       "      <td>0</td>\n",
       "      <td>28</td>\n",
       "      <td>0</td>\n",
       "      <td>1730472</td>\n",
       "      <td>4483087</td>\n",
       "      <td>0</td>\n",
       "      <td>0</td>\n",
       "    </tr>\n",
       "  </tbody>\n",
       "</table>\n",
       "</div>"
      ],
      "text/plain": [
       "                                     Loan ID  \\\n",
       "64449   401c650d-daa0-41dd-ab52-9a5926f70715   \n",
       "194645  c194cb68-1c4d-4bba-8433-98cf4e0f357d   \n",
       "194646  c194cb68-1c4d-4bba-8433-98cf4e0f357d   \n",
       "\n",
       "                                 Customer ID  Loan Status  \\\n",
       "64449   255619a3-96ca-4521-95ed-37f2bc4d2791   Fully Paid   \n",
       "194645  3e4ec65d-94de-4309-afaa-d5f5055c4053  Charged Off   \n",
       "194646  3e4ec65d-94de-4309-afaa-d5f5055c4053  Charged Off   \n",
       "\n",
       "        Current Loan Amount        Term  Credit Score Years in current job  \\\n",
       "64449                 34762  Short Term           721            10+ years   \n",
       "194645                34675  Short Term           732            10+ years   \n",
       "194646                34675  Short Term           721            10+ years   \n",
       "\n",
       "       Home Ownership  Annual Income             Purpose  Monthly Debt  \\\n",
       "64449   Home Mortgage          77456  Debt Consolidation      11090.74   \n",
       "194645  Home Mortgage         396280               Other      10831.65   \n",
       "194646  Home Mortgage         396280               Other      10831.65   \n",
       "\n",
       "        Years of Credit History  Months since last delinquent  \\\n",
       "64449                      32.0                             0   \n",
       "194645                     32.5                             0   \n",
       "194646                     32.5                             0   \n",
       "\n",
       "        Number of Open Accounts  Number of Credit Problems  \\\n",
       "64449                        28                          0   \n",
       "194645                       28                          0   \n",
       "194646                       28                          0   \n",
       "\n",
       "        Current Credit Balance  Maximum Open Credit  Bankruptcies  Tax Liens  \n",
       "64449                  1731412              5869192             0          0  \n",
       "194645                 1730472              4483087             0          0  \n",
       "194646                 1730472              4483087             0          0  "
      ]
     },
     "execution_count": 168,
     "metadata": {},
     "output_type": "execute_result"
    }
   ],
   "source": [
    "df[df['Current Credit Balance'] > 1700000]\n",
    "#outliers"
   ]
  },
  {
   "cell_type": "code",
   "execution_count": 169,
   "metadata": {},
   "outputs": [
    {
     "data": {
      "text/plain": [
       "0"
      ]
     },
     "execution_count": 169,
     "metadata": {},
     "output_type": "execute_result"
    }
   ],
   "source": [
    "df['Current Credit Balance'].isnull().sum()"
   ]
  },
  {
   "cell_type": "markdown",
   "metadata": {},
   "source": [
    "## Loan Status"
   ]
  },
  {
   "cell_type": "code",
   "execution_count": 170,
   "metadata": {},
   "outputs": [
    {
     "data": {
      "text/plain": [
       "array(['Fully Paid', 'Charged Off'], dtype=object)"
      ]
     },
     "execution_count": 170,
     "metadata": {},
     "output_type": "execute_result"
    }
   ],
   "source": [
    "df['Loan Status'].unique()"
   ]
  },
  {
   "cell_type": "code",
   "execution_count": 171,
   "metadata": {},
   "outputs": [
    {
     "data": {
      "text/plain": [
       "0"
      ]
     },
     "execution_count": 171,
     "metadata": {},
     "output_type": "execute_result"
    }
   ],
   "source": [
    "df['Loan Status'].isnull().sum()"
   ]
  },
  {
   "cell_type": "markdown",
   "metadata": {},
   "source": [
    "# Encoding Categoricals"
   ]
  },
  {
   "cell_type": "markdown",
   "metadata": {},
   "source": [
    "## One Hot Encode Terms"
   ]
  },
  {
   "cell_type": "code",
   "execution_count": 172,
   "metadata": {},
   "outputs": [],
   "source": [
    "import category_encoders as ce"
   ]
  },
  {
   "cell_type": "code",
   "execution_count": 173,
   "metadata": {},
   "outputs": [
    {
     "name": "stdout",
     "output_type": "stream",
     "text": [
      "<class 'pandas.core.frame.DataFrame'>\n",
      "RangeIndex: 256984 entries, 0 to 256983\n",
      "Data columns (total 19 columns):\n",
      " #   Column                        Non-Null Count   Dtype  \n",
      "---  ------                        --------------   -----  \n",
      " 0   Loan ID                       256984 non-null  object \n",
      " 1   Customer ID                   256984 non-null  object \n",
      " 2   Loan Status                   256984 non-null  object \n",
      " 3   Current Loan Amount           256984 non-null  int32  \n",
      " 4   Term                          256984 non-null  object \n",
      " 5   Credit Score                  256984 non-null  int32  \n",
      " 6   Years in current job          256984 non-null  object \n",
      " 7   Home Ownership                256984 non-null  object \n",
      " 8   Annual Income                 256984 non-null  int32  \n",
      " 9   Purpose                       256984 non-null  object \n",
      " 10  Monthly Debt                  256984 non-null  float64\n",
      " 11  Years of Credit History       256984 non-null  float64\n",
      " 12  Months since last delinquent  256984 non-null  int32  \n",
      " 13  Number of Open Accounts       256984 non-null  int32  \n",
      " 14  Number of Credit Problems     256984 non-null  int64  \n",
      " 15  Current Credit Balance        256984 non-null  int64  \n",
      " 16  Maximum Open Credit           256984 non-null  int32  \n",
      " 17  Bankruptcies                  256984 non-null  int32  \n",
      " 18  Tax Liens                     256984 non-null  int32  \n",
      "dtypes: float64(2), int32(8), int64(2), object(7)\n",
      "memory usage: 29.4+ MB\n"
     ]
    }
   ],
   "source": [
    "df.info()"
   ]
  },
  {
   "cell_type": "code",
   "execution_count": 174,
   "metadata": {},
   "outputs": [],
   "source": [
    "one = ce.OneHotEncoder(use_cat_names=True)\n",
    "one.fit(df['Term'])\n",
    "one.transform(df['Term'])\n",
    "df = pd.concat([df,one.transform(df['Term'])], axis = 1)\n",
    "df.drop('Term', axis=1, inplace=True)"
   ]
  },
  {
   "cell_type": "code",
   "execution_count": 175,
   "metadata": {},
   "outputs": [],
   "source": [
    "one = ce.OneHotEncoder(use_cat_names=True)\n",
    "one.fit(df['Years in current job'])\n",
    "one.transform(df['Years in current job'])\n",
    "df = pd.concat([df,one.transform(df['Years in current job'])], axis = 1)\n",
    "df.drop('Years in current job', axis=1, inplace=True)"
   ]
  },
  {
   "cell_type": "code",
   "execution_count": 176,
   "metadata": {},
   "outputs": [],
   "source": [
    "one.fit(df['Home Ownership'])\n",
    "one.transform(df['Home Ownership'])\n",
    "df = pd.concat([df,one.transform(df['Home Ownership'])], axis = 1)\n",
    "df.drop('Home Ownership', axis=1, inplace=True)"
   ]
  },
  {
   "cell_type": "code",
   "execution_count": 177,
   "metadata": {},
   "outputs": [],
   "source": [
    "one.fit(df['Purpose'])\n",
    "one.transform(df['Purpose'])\n",
    "df = pd.concat([df,one.transform(df['Purpose'])], axis = 1)\n",
    "df.drop('Purpose', axis=1, inplace=True)"
   ]
  },
  {
   "cell_type": "code",
   "execution_count": 178,
   "metadata": {},
   "outputs": [
    {
     "name": "stdout",
     "output_type": "stream",
     "text": [
      "<class 'pandas.core.frame.DataFrame'>\n",
      "RangeIndex: 256984 entries, 0 to 256983\n",
      "Data columns (total 41 columns):\n",
      " #   Column                            Non-Null Count   Dtype  \n",
      "---  ------                            --------------   -----  \n",
      " 0   Loan ID                           256984 non-null  object \n",
      " 1   Customer ID                       256984 non-null  object \n",
      " 2   Loan Status                       256984 non-null  object \n",
      " 3   Current Loan Amount               256984 non-null  int32  \n",
      " 4   Credit Score                      256984 non-null  int32  \n",
      " 5   Annual Income                     256984 non-null  int32  \n",
      " 6   Monthly Debt                      256984 non-null  float64\n",
      " 7   Years of Credit History           256984 non-null  float64\n",
      " 8   Months since last delinquent      256984 non-null  int32  \n",
      " 9   Number of Open Accounts           256984 non-null  int32  \n",
      " 10  Number of Credit Problems         256984 non-null  int64  \n",
      " 11  Current Credit Balance            256984 non-null  int64  \n",
      " 12  Maximum Open Credit               256984 non-null  int32  \n",
      " 13  Bankruptcies                      256984 non-null  int32  \n",
      " 14  Tax Liens                         256984 non-null  int32  \n",
      " 15  Term_Short Term                   256984 non-null  int64  \n",
      " 16  Term_Long Term                    256984 non-null  int64  \n",
      " 17  Years in current job_10+ years    256984 non-null  int64  \n",
      " 18  Years in current job_4 years      256984 non-null  int64  \n",
      " 19  Years in current job_6 years      256984 non-null  int64  \n",
      " 20  Years in current job_5 years      256984 non-null  int64  \n",
      " 21  Years in current job_No job info  256984 non-null  int64  \n",
      " 22  Years in current job_3 years      256984 non-null  int64  \n",
      " 23  Years in current job_2 years      256984 non-null  int64  \n",
      " 24  Years in current job_< 1 year     256984 non-null  int64  \n",
      " 25  Years in current job_1 year       256984 non-null  int64  \n",
      " 26  Years in current job_7 years      256984 non-null  int64  \n",
      " 27  Years in current job_9 years      256984 non-null  int64  \n",
      " 28  Years in current job_8 years      256984 non-null  int64  \n",
      " 29  Home Ownership_Home Mortgage      256984 non-null  int64  \n",
      " 30  Home Ownership_Own                256984 non-null  int64  \n",
      " 31  Home Ownership_Rent               256984 non-null  int64  \n",
      " 32  Purpose_Debt Consolidation        256984 non-null  int64  \n",
      " 33  Purpose_Other                     256984 non-null  int64  \n",
      " 34  Purpose_Business Loan             256984 non-null  int64  \n",
      " 35  Purpose_Home Improvements         256984 non-null  int64  \n",
      " 36  Purpose_Buy House                 256984 non-null  int64  \n",
      " 37  Purpose_Buy a Car                 256984 non-null  int64  \n",
      " 38  Purpose_Medical Bills             256984 non-null  int64  \n",
      " 39  Purpose_Take a Trip               256984 non-null  int64  \n",
      " 40  Purpose_Educational Expenses      256984 non-null  int64  \n",
      "dtypes: float64(2), int32(8), int64(28), object(3)\n",
      "memory usage: 72.5+ MB\n"
     ]
    }
   ],
   "source": [
    "df.info()"
   ]
  },
  {
   "cell_type": "markdown",
   "metadata": {},
   "source": [
    "## Ordinal Encoding Loan Status"
   ]
  },
  {
   "cell_type": "code",
   "execution_count": 179,
   "metadata": {},
   "outputs": [],
   "source": [
    "ord = ce.OrdinalEncoder(mapping = [{'col':'Loan Status', 'mapping' :{'Fully Paid':0,'Charged Off':1}}])\n",
    "ord.fit(df['Loan Status'])\n",
    "df['Loan Status Encoded'] = ord.fit_transform(df['Loan Status'])\n",
    "df.drop('Loan Status', axis=1, inplace=True)"
   ]
  },
  {
   "cell_type": "code",
   "execution_count": 183,
   "metadata": {},
   "outputs": [
    {
     "name": "stdout",
     "output_type": "stream",
     "text": [
      "<class 'pandas.core.frame.DataFrame'>\n",
      "RangeIndex: 256984 entries, 0 to 256983\n",
      "Data columns (total 41 columns):\n",
      " #   Column                            Non-Null Count   Dtype  \n",
      "---  ------                            --------------   -----  \n",
      " 0   Loan ID                           256984 non-null  object \n",
      " 1   Customer ID                       256984 non-null  object \n",
      " 2   Current Loan Amount               256984 non-null  int32  \n",
      " 3   Credit Score                      256984 non-null  int32  \n",
      " 4   Annual Income                     256984 non-null  int32  \n",
      " 5   Monthly Debt                      256984 non-null  float64\n",
      " 6   Years of Credit History           256984 non-null  float64\n",
      " 7   Months since last delinquent      256984 non-null  int32  \n",
      " 8   Number of Open Accounts           256984 non-null  int32  \n",
      " 9   Number of Credit Problems         256984 non-null  int64  \n",
      " 10  Current Credit Balance            256984 non-null  int64  \n",
      " 11  Maximum Open Credit               256984 non-null  int32  \n",
      " 12  Bankruptcies                      256984 non-null  int32  \n",
      " 13  Tax Liens                         256984 non-null  int32  \n",
      " 14  Term_Short Term                   256984 non-null  int64  \n",
      " 15  Term_Long Term                    256984 non-null  int64  \n",
      " 16  Years in current job_10+ years    256984 non-null  int64  \n",
      " 17  Years in current job_4 years      256984 non-null  int64  \n",
      " 18  Years in current job_6 years      256984 non-null  int64  \n",
      " 19  Years in current job_5 years      256984 non-null  int64  \n",
      " 20  Years in current job_No job info  256984 non-null  int64  \n",
      " 21  Years in current job_3 years      256984 non-null  int64  \n",
      " 22  Years in current job_2 years      256984 non-null  int64  \n",
      " 23  Years in current job_< 1 year     256984 non-null  int64  \n",
      " 24  Years in current job_1 year       256984 non-null  int64  \n",
      " 25  Years in current job_7 years      256984 non-null  int64  \n",
      " 26  Years in current job_9 years      256984 non-null  int64  \n",
      " 27  Years in current job_8 years      256984 non-null  int64  \n",
      " 28  Home Ownership_Home Mortgage      256984 non-null  int64  \n",
      " 29  Home Ownership_Own                256984 non-null  int64  \n",
      " 30  Home Ownership_Rent               256984 non-null  int64  \n",
      " 31  Purpose_Debt Consolidation        256984 non-null  int64  \n",
      " 32  Purpose_Other                     256984 non-null  int64  \n",
      " 33  Purpose_Business Loan             256984 non-null  int64  \n",
      " 34  Purpose_Home Improvements         256984 non-null  int64  \n",
      " 35  Purpose_Buy House                 256984 non-null  int64  \n",
      " 36  Purpose_Buy a Car                 256984 non-null  int64  \n",
      " 37  Purpose_Medical Bills             256984 non-null  int64  \n",
      " 38  Purpose_Take a Trip               256984 non-null  int64  \n",
      " 39  Purpose_Educational Expenses      256984 non-null  int64  \n",
      " 40  Loan Status Encoded               256984 non-null  int32  \n",
      "dtypes: float64(2), int32(9), int64(28), object(2)\n",
      "memory usage: 71.6+ MB\n"
     ]
    }
   ],
   "source": [
    "df.info()"
   ]
  },
  {
   "cell_type": "code",
   "execution_count": 193,
   "metadata": {},
   "outputs": [
    {
     "name": "stdout",
     "output_type": "stream",
     "text": [
      "Loan Status Encoded             1.000000\n",
      "Credit Score                    0.233691\n",
      "Current Loan Amount             0.070298\n",
      "Annual Income                   0.057011\n",
      "Years of Credit History         0.035548\n",
      "Number of Open Accounts         0.020787\n",
      "Monthly Debt                    0.016609\n",
      "Tax Liens                       0.012590\n",
      "Number of Credit Problems       0.010179\n",
      "Current Credit Balance          0.008838\n",
      "Maximum Open Credit             0.007923\n",
      "Months since last delinquent    0.001600\n",
      "Bankruptcies                    0.001107\n",
      "Name: Loan Status Encoded, dtype: float64\n"
     ]
    }
   ],
   "source": [
    "no_repay = df[df['Loan Status Encoded'] == 1]\n",
    "numerical_features = df[['Current Loan Amount','Credit Score','Annual Income','Monthly Debt','Years of Credit History','Months since last delinquent','Number of Open Accounts','Number of Credit Problems', 'Current Credit Balance','Maximum Open Credit','Bankruptcies','Tax Liens','Loan Status Encoded']]\n",
    "correlation_matrix = numerical_features.corr()\n",
    "correlation_matrix\n",
    "loan_status_correlation = correlation_matrix['Loan Status Encoded'].abs().sort_values(ascending=False)\n",
    "print(loan_status_correlation)"
   ]
  },
  {
   "cell_type": "markdown",
   "metadata": {},
   "source": [
    "# Transformation"
   ]
  },
  {
   "cell_type": "code",
   "execution_count": 162,
   "metadata": {},
   "outputs": [],
   "source": [
    "from sklearn.preprocessing import StandardScaler, MaxAbsScaler, RobustScaler, MinMaxScaler, Normalizer\n",
    "import matplotlib.pyplot as plt\n",
    "import numpy as np\n",
    "from scipy.stats import boxcox"
   ]
  },
  {
   "cell_type": "code",
   "execution_count": 163,
   "metadata": {},
   "outputs": [
    {
     "name": "stdout",
     "output_type": "stream",
     "text": [
      "<class 'pandas.core.frame.DataFrame'>\n",
      "Index: 215700 entries, 0 to 256983\n",
      "Data columns (total 41 columns):\n",
      " #   Column                            Non-Null Count   Dtype  \n",
      "---  ------                            --------------   -----  \n",
      " 0   Loan ID                           215700 non-null  object \n",
      " 1   Customer ID                       215700 non-null  object \n",
      " 2   Current Loan Amount               215700 non-null  int32  \n",
      " 3   Credit Score                      215700 non-null  int32  \n",
      " 4   Annual Income                     215700 non-null  int32  \n",
      " 5   Monthly Debt                      215700 non-null  float64\n",
      " 6   Years of Credit History           215700 non-null  float64\n",
      " 7   Months since last delinquent      215700 non-null  int32  \n",
      " 8   Number of Open Accounts           215700 non-null  int32  \n",
      " 9   Number of Credit Problems         215700 non-null  int64  \n",
      " 10  Current Credit Balance            215700 non-null  int64  \n",
      " 11  Maximum Open Credit               215700 non-null  int32  \n",
      " 12  Bankruptcies                      215700 non-null  int32  \n",
      " 13  Tax Liens                         215700 non-null  int32  \n",
      " 14  Term_Short Term                   215700 non-null  int64  \n",
      " 15  Term_Long Term                    215700 non-null  int64  \n",
      " 16  Years in current job_10+ years    215700 non-null  int64  \n",
      " 17  Years in current job_4 years      215700 non-null  int64  \n",
      " 18  Years in current job_6 years      215700 non-null  int64  \n",
      " 19  Years in current job_5 years      215700 non-null  int64  \n",
      " 20  Years in current job_No job info  215700 non-null  int64  \n",
      " 21  Years in current job_3 years      215700 non-null  int64  \n",
      " 22  Years in current job_2 years      215700 non-null  int64  \n",
      " 23  Years in current job_< 1 year     215700 non-null  int64  \n",
      " 24  Years in current job_1 year       215700 non-null  int64  \n",
      " 25  Years in current job_7 years      215700 non-null  int64  \n",
      " 26  Years in current job_9 years      215700 non-null  int64  \n",
      " 27  Years in current job_8 years      215700 non-null  int64  \n",
      " 28  Home Ownership_Home Mortgage      215700 non-null  int64  \n",
      " 29  Home Ownership_Own                215700 non-null  int64  \n",
      " 30  Home Ownership_Rent               215700 non-null  int64  \n",
      " 31  Purpose_Debt Consolidation        215700 non-null  int64  \n",
      " 32  Purpose_Other                     215700 non-null  int64  \n",
      " 33  Purpose_Business Loan             215700 non-null  int64  \n",
      " 34  Purpose_Home Improvements         215700 non-null  int64  \n",
      " 35  Purpose_Buy House                 215700 non-null  int64  \n",
      " 36  Purpose_Buy a Car                 215700 non-null  int64  \n",
      " 37  Purpose_Medical Bills             215700 non-null  int64  \n",
      " 38  Purpose_Take a Trip               215700 non-null  int64  \n",
      " 39  Purpose_Educational Expenses      215700 non-null  int64  \n",
      " 40  Loan Status Encoded               215700 non-null  int32  \n",
      "dtypes: float64(2), int32(9), int64(28), object(2)\n",
      "memory usage: 69.8+ MB\n"
     ]
    }
   ],
   "source": [
    "df.info()"
   ]
  },
  {
   "cell_type": "code",
   "execution_count": 164,
   "metadata": {},
   "outputs": [
    {
     "data": {
      "text/plain": [
       "0         0\n",
       "1         0\n",
       "2         0\n",
       "3         0\n",
       "4         0\n",
       "         ..\n",
       "256977    1\n",
       "256979    0\n",
       "256980    0\n",
       "256981    0\n",
       "256983    0\n",
       "Name: Bankruptcies, Length: 215700, dtype: int32"
      ]
     },
     "execution_count": 164,
     "metadata": {},
     "output_type": "execute_result"
    }
   ],
   "source": [
    "df['Bankruptcies']"
   ]
  },
  {
   "cell_type": "markdown",
   "metadata": {},
   "source": [
    "## Current Loan Amount"
   ]
  },
  {
   "cell_type": "code",
   "execution_count": 165,
   "metadata": {},
   "outputs": [
    {
     "data": {
      "image/png": "[encoded data removed]",
      "text/plain": [
       "<Figure size 640x480 with 1 Axes>"
      ]
     },
     "metadata": {},
     "output_type": "display_data"
    }
   ],
   "source": [
    "# Transform\n",
    "bc_cla, l = boxcox(df['Current Loan Amount'])\n",
    "pd.Series(bc_cla).hist(bins = 50);"
   ]
  },
  {
   "cell_type": "markdown",
   "metadata": {},
   "source": [
    "## Credit Score"
   ]
  },
  {
   "cell_type": "code",
   "execution_count": 166,
   "metadata": {},
   "outputs": [
    {
     "data": {
      "image/png": "[encoded data removed]",
      "text/plain": [
       "<Figure size 640x480 with 1 Axes>"
      ]
     },
     "metadata": {},
     "output_type": "display_data"
    }
   ],
   "source": [
    "bc_cs, l = boxcox(df['Credit Score'])\n",
    "pd.Series(bc_cs).hist(bins = 50);"
   ]
  },
  {
   "cell_type": "markdown",
   "metadata": {},
   "source": [
    "## Annual Income"
   ]
  },
  {
   "cell_type": "code",
   "execution_count": 167,
   "metadata": {},
   "outputs": [
    {
     "data": {
      "image/png": "[encoded data removed]",
      "text/plain": [
       "<Figure size 640x480 with 1 Axes>"
      ]
     },
     "metadata": {},
     "output_type": "display_data"
    }
   ],
   "source": [
    "np.log1p(df['Annual Income']).hist(bins = 50);"
   ]
  },
  {
   "cell_type": "code",
   "execution_count": 168,
   "metadata": {},
   "outputs": [
    {
     "data": {
      "text/plain": [
       "0.17743958970950213"
      ]
     },
     "execution_count": 168,
     "metadata": {},
     "output_type": "execute_result"
    }
   ],
   "source": [
    "np.log1p(df['Annual Income']).skew()"
   ]
  },
  {
   "cell_type": "code",
   "execution_count": 169,
   "metadata": {},
   "outputs": [
    {
     "data": {
      "image/png": "[encoded data removed]",
      "text/plain": [
       "<Figure size 640x480 with 1 Axes>"
      ]
     },
     "metadata": {},
     "output_type": "display_data"
    }
   ],
   "source": [
    "bc_annual_income, l = boxcox(df['Annual Income'])\n",
    "pd.Series(bc_annual_income).hist(bins = 50);"
   ]
  },
  {
   "cell_type": "code",
   "execution_count": 170,
   "metadata": {},
   "outputs": [
    {
     "data": {
      "text/plain": [
       "-0.018167161430006473"
      ]
     },
     "execution_count": 170,
     "metadata": {},
     "output_type": "execute_result"
    }
   ],
   "source": [
    "pd.Series(bc_annual_income).skew()"
   ]
  },
  {
   "cell_type": "markdown",
   "metadata": {},
   "source": [
    "## Monthly Debt"
   ]
  },
  {
   "cell_type": "code",
   "execution_count": 171,
   "metadata": {},
   "outputs": [
    {
     "data": {
      "image/png": "[encoded data removed]",
      "text/plain": [
       "<Figure size 640x480 with 1 Axes>"
      ]
     },
     "metadata": {},
     "output_type": "display_data"
    }
   ],
   "source": [
    "plt.hist(df['Monthly Debt'],50);"
   ]
  },
  {
   "cell_type": "code",
   "execution_count": 172,
   "metadata": {},
   "outputs": [
    {
     "data": {
      "image/png": "[encoded data removed]",
      "text/plain": [
       "<Figure size 640x480 with 1 Axes>"
      ]
     },
     "metadata": {},
     "output_type": "display_data"
    }
   ],
   "source": [
    "np.sqrt(df['Monthly Debt']).hist(bins = 50);"
   ]
  },
  {
   "cell_type": "code",
   "execution_count": 173,
   "metadata": {},
   "outputs": [
    {
     "name": "stdout",
     "output_type": "stream",
     "text": [
      "0.3862283217870943\n"
     ]
    }
   ],
   "source": [
    "print(np.sqrt(df['Monthly Debt']).skew())"
   ]
  },
  {
   "cell_type": "code",
   "execution_count": 174,
   "metadata": {},
   "outputs": [],
   "source": [
    "sqrt_monthly_debt = np.sqrt(df['Monthly Debt'])"
   ]
  },
  {
   "cell_type": "markdown",
   "metadata": {},
   "source": [
    "## Years of Credit History"
   ]
  },
  {
   "cell_type": "code",
   "execution_count": 175,
   "metadata": {},
   "outputs": [
    {
     "data": {
      "image/png": "[encoded data removed]",
      "text/plain": [
       "<Figure size 640x480 with 1 Axes>"
      ]
     },
     "metadata": {},
     "output_type": "display_data"
    }
   ],
   "source": [
    "plt.hist(df['Years of Credit History'],50);"
   ]
  },
  {
   "cell_type": "code",
   "execution_count": 176,
   "metadata": {},
   "outputs": [
    {
     "data": {
      "image/png": "[encoded data removed]",
      "text/plain": [
       "<Figure size 640x480 with 1 Axes>"
      ]
     },
     "metadata": {},
     "output_type": "display_data"
    }
   ],
   "source": [
    "np.log1p(df['Years of Credit History']).hist(bins = 50);"
   ]
  },
  {
   "cell_type": "code",
   "execution_count": 177,
   "metadata": {},
   "outputs": [],
   "source": [
    "log_ych = np.log1p(df['Years of Credit History'])"
   ]
  },
  {
   "cell_type": "markdown",
   "metadata": {},
   "source": [
    "## Months Since Last Delinquent"
   ]
  },
  {
   "cell_type": "code",
   "execution_count": 178,
   "metadata": {},
   "outputs": [
    {
     "data": {
      "image/png": "[encoded data removed]",
      "text/plain": [
       "<Figure size 640x480 with 1 Axes>"
      ]
     },
     "metadata": {},
     "output_type": "display_data"
    }
   ],
   "source": [
    "np.log1p(df['Months since last delinquent']).hist(bins = 50);"
   ]
  },
  {
   "cell_type": "code",
   "execution_count": 179,
   "metadata": {},
   "outputs": [],
   "source": [
    "log_delinquent = np.log1p(df['Months since last delinquent'])"
   ]
  },
  {
   "cell_type": "markdown",
   "metadata": {},
   "source": [
    "## Number of Open Accounts"
   ]
  },
  {
   "cell_type": "code",
   "execution_count": 180,
   "metadata": {},
   "outputs": [
    {
     "data": {
      "image/png": "[encoded data removed]",
      "text/plain": [
       "<Figure size 640x480 with 1 Axes>"
      ]
     },
     "metadata": {},
     "output_type": "display_data"
    }
   ],
   "source": [
    "plt.hist(df['Number of Open Accounts'],50);"
   ]
  },
  {
   "cell_type": "code",
   "execution_count": 181,
   "metadata": {},
   "outputs": [
    {
     "data": {
      "image/png": "[encoded data removed]",
      "text/plain": [
       "<Figure size 640x480 with 1 Axes>"
      ]
     },
     "metadata": {},
     "output_type": "display_data"
    }
   ],
   "source": [
    "np.sqrt(df['Number of Open Accounts']).hist(bins = 50);"
   ]
  },
  {
   "cell_type": "code",
   "execution_count": 182,
   "metadata": {},
   "outputs": [],
   "source": [
    "sqrt_open_account = np.sqrt(df['Number of Open Accounts'])"
   ]
  },
  {
   "cell_type": "markdown",
   "metadata": {},
   "source": [
    "## Current Credit Balance"
   ]
  },
  {
   "cell_type": "code",
   "execution_count": 183,
   "metadata": {},
   "outputs": [
    {
     "data": {
      "image/png": "[encoded data removed]",
      "text/plain": [
       "<Figure size 640x480 with 1 Axes>"
      ]
     },
     "metadata": {},
     "output_type": "display_data"
    }
   ],
   "source": [
    "plt.hist(df['Current Credit Balance'],50);"
   ]
  },
  {
   "cell_type": "code",
   "execution_count": 184,
   "metadata": {},
   "outputs": [
    {
     "data": {
      "image/png": "[encoded data removed]",
      "text/plain": [
       "<Figure size 640x480 with 1 Axes>"
      ]
     },
     "metadata": {},
     "output_type": "display_data"
    }
   ],
   "source": [
    "np.sqrt(df['Current Credit Balance']).hist(bins = 50);"
   ]
  },
  {
   "cell_type": "code",
   "execution_count": 185,
   "metadata": {},
   "outputs": [],
   "source": [
    "sqrt_current_credit_balance = np.sqrt(df['Current Credit Balance'])"
   ]
  },
  {
   "cell_type": "markdown",
   "metadata": {},
   "source": [
    "## Maximum Open Credit"
   ]
  },
  {
   "cell_type": "code",
   "execution_count": 186,
   "metadata": {},
   "outputs": [
    {
     "data": {
      "image/png": "[encoded data removed]",
      "text/plain": [
       "<Figure size 640x480 with 1 Axes>"
      ]
     },
     "metadata": {},
     "output_type": "display_data"
    }
   ],
   "source": [
    "np.log1p(df['Maximum Open Credit']).hist(bins = 50);"
   ]
  },
  {
   "cell_type": "code",
   "execution_count": 187,
   "metadata": {},
   "outputs": [],
   "source": [
    "log_maximum_open_credit = np.log1p(df['Maximum Open Credit'])"
   ]
  },
  {
   "cell_type": "markdown",
   "metadata": {},
   "source": [
    "## Bankruptcies"
   ]
  },
  {
   "cell_type": "code",
   "execution_count": 188,
   "metadata": {},
   "outputs": [
    {
     "data": {
      "image/png": "[encoded data removed]",
      "text/plain": [
       "<Figure size 640x480 with 1 Axes>"
      ]
     },
     "metadata": {},
     "output_type": "display_data"
    }
   ],
   "source": [
    "np.log1p(df['Bankruptcies']).hist(bins = 50);"
   ]
  },
  {
   "cell_type": "markdown",
   "metadata": {},
   "source": [
    "## Tax Liens"
   ]
  },
  {
   "cell_type": "code",
   "execution_count": 189,
   "metadata": {},
   "outputs": [
    {
     "data": {
      "image/png": "[encoded data removed]",
      "text/plain": [
       "<Figure size 640x480 with 1 Axes>"
      ]
     },
     "metadata": {},
     "output_type": "display_data"
    }
   ],
   "source": [
    "np.log1p(df['Tax Liens']).hist(bins = 50);"
   ]
  },
  {
   "cell_type": "code",
   "execution_count": 190,
   "metadata": {},
   "outputs": [],
   "source": [
    "df['log_Bankruptcies'] = np.log1p(df['Bankruptcies'])\n",
    "df['log_Tax Liens'] = np.log1p(df['Tax Liens'])"
   ]
  },
  {
   "cell_type": "code",
   "execution_count": 191,
   "metadata": {},
   "outputs": [
    {
     "data": {
      "text/html": [
       "<div>\n",
       "<style scoped>\n",
       "    .dataframe tbody tr th:only-of-type {\n",
       "        vertical-align: middle;\n",
       "    }\n",
       "\n",
       "    .dataframe tbody tr th {\n",
       "        vertical-align: top;\n",
       "    }\n",
       "\n",
       "    .dataframe thead th {\n",
       "        text-align: right;\n",
       "    }\n",
       "</style>\n",
       "<table border=\"1\" class=\"dataframe\">\n",
       "  <thead>\n",
       "    <tr style=\"text-align: right;\">\n",
       "      <th></th>\n",
       "      <th>Loan ID</th>\n",
       "      <th>Customer ID</th>\n",
       "      <th>Current Loan Amount</th>\n",
       "      <th>Credit Score</th>\n",
       "      <th>Annual Income</th>\n",
       "      <th>Monthly Debt</th>\n",
       "      <th>Years of Credit History</th>\n",
       "      <th>Months since last delinquent</th>\n",
       "      <th>Number of Open Accounts</th>\n",
       "      <th>Number of Credit Problems</th>\n",
       "      <th>...</th>\n",
       "      <th>Purpose_Business Loan</th>\n",
       "      <th>Purpose_Home Improvements</th>\n",
       "      <th>Purpose_Buy House</th>\n",
       "      <th>Purpose_Buy a Car</th>\n",
       "      <th>Purpose_Medical Bills</th>\n",
       "      <th>Purpose_Take a Trip</th>\n",
       "      <th>Purpose_Educational Expenses</th>\n",
       "      <th>Loan Status Encoded</th>\n",
       "      <th>log_Bankruptcies</th>\n",
       "      <th>log_Tax Liens</th>\n",
       "    </tr>\n",
       "  </thead>\n",
       "  <tbody>\n",
       "    <tr>\n",
       "      <th>0</th>\n",
       "      <td>000025bb-5694-4cff-b17d-192b1a98ba44</td>\n",
       "      <td>5ebc8bb1-5eb9-4404-b11b-a6eebc401a19</td>\n",
       "      <td>11520</td>\n",
       "      <td>741</td>\n",
       "      <td>33694</td>\n",
       "      <td>584.03</td>\n",
       "      <td>12.3</td>\n",
       "      <td>41</td>\n",
       "      <td>10</td>\n",
       "      <td>0</td>\n",
       "      <td>...</td>\n",
       "      <td>0</td>\n",
       "      <td>0</td>\n",
       "      <td>0</td>\n",
       "      <td>0</td>\n",
       "      <td>0</td>\n",
       "      <td>0</td>\n",
       "      <td>0</td>\n",
       "      <td>0</td>\n",
       "      <td>0.000000</td>\n",
       "      <td>0.0</td>\n",
       "    </tr>\n",
       "    <tr>\n",
       "      <th>1</th>\n",
       "      <td>00002c49-3a29-4bd4-8f67-c8f8fbc1048c</td>\n",
       "      <td>927b388d-2e01-423f-a8dc-f7e42d668f46</td>\n",
       "      <td>3441</td>\n",
       "      <td>734</td>\n",
       "      <td>42269</td>\n",
       "      <td>1106.04</td>\n",
       "      <td>26.3</td>\n",
       "      <td>0</td>\n",
       "      <td>17</td>\n",
       "      <td>0</td>\n",
       "      <td>...</td>\n",
       "      <td>0</td>\n",
       "      <td>0</td>\n",
       "      <td>0</td>\n",
       "      <td>0</td>\n",
       "      <td>0</td>\n",
       "      <td>0</td>\n",
       "      <td>0</td>\n",
       "      <td>0</td>\n",
       "      <td>0.000000</td>\n",
       "      <td>0.0</td>\n",
       "    </tr>\n",
       "    <tr>\n",
       "      <th>2</th>\n",
       "      <td>00002d89-27f3-409b-aa76-90834f359a65</td>\n",
       "      <td>defce609-c631-447d-aad6-1270615e89c4</td>\n",
       "      <td>21029</td>\n",
       "      <td>747</td>\n",
       "      <td>90126</td>\n",
       "      <td>1321.85</td>\n",
       "      <td>28.8</td>\n",
       "      <td>0</td>\n",
       "      <td>5</td>\n",
       "      <td>0</td>\n",
       "      <td>...</td>\n",
       "      <td>0</td>\n",
       "      <td>0</td>\n",
       "      <td>0</td>\n",
       "      <td>0</td>\n",
       "      <td>0</td>\n",
       "      <td>0</td>\n",
       "      <td>0</td>\n",
       "      <td>0</td>\n",
       "      <td>0.000000</td>\n",
       "      <td>0.0</td>\n",
       "    </tr>\n",
       "    <tr>\n",
       "      <th>3</th>\n",
       "      <td>00005222-b4d8-45a4-ad8c-186057e24233</td>\n",
       "      <td>070bcecb-aae7-4485-a26a-e0403e7bb6c5</td>\n",
       "      <td>18743</td>\n",
       "      <td>747</td>\n",
       "      <td>38072</td>\n",
       "      <td>751.92</td>\n",
       "      <td>26.2</td>\n",
       "      <td>0</td>\n",
       "      <td>9</td>\n",
       "      <td>0</td>\n",
       "      <td>...</td>\n",
       "      <td>0</td>\n",
       "      <td>0</td>\n",
       "      <td>0</td>\n",
       "      <td>0</td>\n",
       "      <td>0</td>\n",
       "      <td>0</td>\n",
       "      <td>0</td>\n",
       "      <td>0</td>\n",
       "      <td>0.000000</td>\n",
       "      <td>0.0</td>\n",
       "    </tr>\n",
       "    <tr>\n",
       "      <th>4</th>\n",
       "      <td>0000757f-a121-41ed-b17b-162e76647c1f</td>\n",
       "      <td>dde79588-12f0-4811-bab0-e2b07f633fcd</td>\n",
       "      <td>11731</td>\n",
       "      <td>746</td>\n",
       "      <td>50025</td>\n",
       "      <td>355.18</td>\n",
       "      <td>11.5</td>\n",
       "      <td>0</td>\n",
       "      <td>12</td>\n",
       "      <td>0</td>\n",
       "      <td>...</td>\n",
       "      <td>0</td>\n",
       "      <td>0</td>\n",
       "      <td>0</td>\n",
       "      <td>0</td>\n",
       "      <td>0</td>\n",
       "      <td>0</td>\n",
       "      <td>0</td>\n",
       "      <td>0</td>\n",
       "      <td>0.000000</td>\n",
       "      <td>0.0</td>\n",
       "    </tr>\n",
       "    <tr>\n",
       "      <th>...</th>\n",
       "      <td>...</td>\n",
       "      <td>...</td>\n",
       "      <td>...</td>\n",
       "      <td>...</td>\n",
       "      <td>...</td>\n",
       "      <td>...</td>\n",
       "      <td>...</td>\n",
       "      <td>...</td>\n",
       "      <td>...</td>\n",
       "      <td>...</td>\n",
       "      <td>...</td>\n",
       "      <td>...</td>\n",
       "      <td>...</td>\n",
       "      <td>...</td>\n",
       "      <td>...</td>\n",
       "      <td>...</td>\n",
       "      <td>...</td>\n",
       "      <td>...</td>\n",
       "      <td>...</td>\n",
       "      <td>...</td>\n",
       "      <td>...</td>\n",
       "    </tr>\n",
       "    <tr>\n",
       "      <th>256977</th>\n",
       "      <td>fffe84cf-67a1-468d-ab7b-cf06a9c4ee14</td>\n",
       "      <td>460c6cf5-4d12-4e3c-a3d0-46dd67c78cce</td>\n",
       "      <td>11953</td>\n",
       "      <td>717</td>\n",
       "      <td>39844</td>\n",
       "      <td>982.82</td>\n",
       "      <td>11.7</td>\n",
       "      <td>41</td>\n",
       "      <td>9</td>\n",
       "      <td>1</td>\n",
       "      <td>...</td>\n",
       "      <td>0</td>\n",
       "      <td>0</td>\n",
       "      <td>0</td>\n",
       "      <td>0</td>\n",
       "      <td>0</td>\n",
       "      <td>0</td>\n",
       "      <td>0</td>\n",
       "      <td>1</td>\n",
       "      <td>0.693147</td>\n",
       "      <td>0.0</td>\n",
       "    </tr>\n",
       "    <tr>\n",
       "      <th>256979</th>\n",
       "      <td>fffef5b7-be99-4666-ac70-2a397d2ee435</td>\n",
       "      <td>7211a8e3-cba4-4132-b939-222eed8a662c</td>\n",
       "      <td>3911</td>\n",
       "      <td>723</td>\n",
       "      <td>64864</td>\n",
       "      <td>1706.58</td>\n",
       "      <td>19.9</td>\n",
       "      <td>0</td>\n",
       "      <td>16</td>\n",
       "      <td>0</td>\n",
       "      <td>...</td>\n",
       "      <td>0</td>\n",
       "      <td>0</td>\n",
       "      <td>0</td>\n",
       "      <td>0</td>\n",
       "      <td>0</td>\n",
       "      <td>0</td>\n",
       "      <td>0</td>\n",
       "      <td>0</td>\n",
       "      <td>0.000000</td>\n",
       "      <td>0.0</td>\n",
       "    </tr>\n",
       "    <tr>\n",
       "      <th>256980</th>\n",
       "      <td>ffffca93-aa8c-4123-b8ff-7852f6df889a</td>\n",
       "      <td>616fef0c-8f09-4327-9b5c-48fcfaa52934</td>\n",
       "      <td>5078</td>\n",
       "      <td>737</td>\n",
       "      <td>77186</td>\n",
       "      <td>1376.47</td>\n",
       "      <td>19.1</td>\n",
       "      <td>47</td>\n",
       "      <td>9</td>\n",
       "      <td>0</td>\n",
       "      <td>...</td>\n",
       "      <td>0</td>\n",
       "      <td>0</td>\n",
       "      <td>0</td>\n",
       "      <td>0</td>\n",
       "      <td>0</td>\n",
       "      <td>0</td>\n",
       "      <td>0</td>\n",
       "      <td>0</td>\n",
       "      <td>0.000000</td>\n",
       "      <td>0.0</td>\n",
       "    </tr>\n",
       "    <tr>\n",
       "      <th>256981</th>\n",
       "      <td>ffffcb2e-e48e-4d2c-a0d6-ed6bce5bfdbe</td>\n",
       "      <td>971a6682-183b-4a52-8bce-1d3429ade295</td>\n",
       "      <td>12116</td>\n",
       "      <td>746</td>\n",
       "      <td>52504</td>\n",
       "      <td>297.96</td>\n",
       "      <td>15.1</td>\n",
       "      <td>82</td>\n",
       "      <td>8</td>\n",
       "      <td>0</td>\n",
       "      <td>...</td>\n",
       "      <td>0</td>\n",
       "      <td>0</td>\n",
       "      <td>0</td>\n",
       "      <td>0</td>\n",
       "      <td>0</td>\n",
       "      <td>0</td>\n",
       "      <td>0</td>\n",
       "      <td>1</td>\n",
       "      <td>0.000000</td>\n",
       "      <td>0.0</td>\n",
       "    </tr>\n",
       "    <tr>\n",
       "      <th>256983</th>\n",
       "      <td>ffffe32e-ed17-459f-9cfd-7b9ee7972933</td>\n",
       "      <td>97281336-1e45-41d2-acb2-263ce56a590e</td>\n",
       "      <td>27902</td>\n",
       "      <td>678</td>\n",
       "      <td>117480</td>\n",
       "      <td>2525.82</td>\n",
       "      <td>18.0</td>\n",
       "      <td>11</td>\n",
       "      <td>10</td>\n",
       "      <td>0</td>\n",
       "      <td>...</td>\n",
       "      <td>0</td>\n",
       "      <td>0</td>\n",
       "      <td>0</td>\n",
       "      <td>0</td>\n",
       "      <td>0</td>\n",
       "      <td>0</td>\n",
       "      <td>0</td>\n",
       "      <td>0</td>\n",
       "      <td>0.000000</td>\n",
       "      <td>0.0</td>\n",
       "    </tr>\n",
       "  </tbody>\n",
       "</table>\n",
       "<p>215700 rows × 43 columns</p>\n",
       "</div>"
      ],
      "text/plain": [
       "                                     Loan ID  \\\n",
       "0       000025bb-5694-4cff-b17d-192b1a98ba44   \n",
       "1       00002c49-3a29-4bd4-8f67-c8f8fbc1048c   \n",
       "2       00002d89-27f3-409b-aa76-90834f359a65   \n",
       "3       00005222-b4d8-45a4-ad8c-186057e24233   \n",
       "4       0000757f-a121-41ed-b17b-162e76647c1f   \n",
       "...                                      ...   \n",
       "256977  fffe84cf-67a1-468d-ab7b-cf06a9c4ee14   \n",
       "256979  fffef5b7-be99-4666-ac70-2a397d2ee435   \n",
       "256980  ffffca93-aa8c-4123-b8ff-7852f6df889a   \n",
       "256981  ffffcb2e-e48e-4d2c-a0d6-ed6bce5bfdbe   \n",
       "256983  ffffe32e-ed17-459f-9cfd-7b9ee7972933   \n",
       "\n",
       "                                 Customer ID  Current Loan Amount  \\\n",
       "0       5ebc8bb1-5eb9-4404-b11b-a6eebc401a19                11520   \n",
       "1       927b388d-2e01-423f-a8dc-f7e42d668f46                 3441   \n",
       "2       defce609-c631-447d-aad6-1270615e89c4                21029   \n",
       "3       070bcecb-aae7-4485-a26a-e0403e7bb6c5                18743   \n",
       "4       dde79588-12f0-4811-bab0-e2b07f633fcd                11731   \n",
       "...                                      ...                  ...   \n",
       "256977  460c6cf5-4d12-4e3c-a3d0-46dd67c78cce                11953   \n",
       "256979  7211a8e3-cba4-4132-b939-222eed8a662c                 3911   \n",
       "256980  616fef0c-8f09-4327-9b5c-48fcfaa52934                 5078   \n",
       "256981  971a6682-183b-4a52-8bce-1d3429ade295                12116   \n",
       "256983  97281336-1e45-41d2-acb2-263ce56a590e                27902   \n",
       "\n",
       "        Credit Score  Annual Income  Monthly Debt  Years of Credit History  \\\n",
       "0                741          33694        584.03                     12.3   \n",
       "1                734          42269       1106.04                     26.3   \n",
       "2                747          90126       1321.85                     28.8   \n",
       "3                747          38072        751.92                     26.2   \n",
       "4                746          50025        355.18                     11.5   \n",
       "...              ...            ...           ...                      ...   \n",
       "256977           717          39844        982.82                     11.7   \n",
       "256979           723          64864       1706.58                     19.9   \n",
       "256980           737          77186       1376.47                     19.1   \n",
       "256981           746          52504        297.96                     15.1   \n",
       "256983           678         117480       2525.82                     18.0   \n",
       "\n",
       "        Months since last delinquent  Number of Open Accounts  \\\n",
       "0                                 41                       10   \n",
       "1                                  0                       17   \n",
       "2                                  0                        5   \n",
       "3                                  0                        9   \n",
       "4                                  0                       12   \n",
       "...                              ...                      ...   \n",
       "256977                            41                        9   \n",
       "256979                             0                       16   \n",
       "256980                            47                        9   \n",
       "256981                            82                        8   \n",
       "256983                            11                       10   \n",
       "\n",
       "        Number of Credit Problems  ...  Purpose_Business Loan  \\\n",
       "0                               0  ...                      0   \n",
       "1                               0  ...                      0   \n",
       "2                               0  ...                      0   \n",
       "3                               0  ...                      0   \n",
       "4                               0  ...                      0   \n",
       "...                           ...  ...                    ...   \n",
       "256977                          1  ...                      0   \n",
       "256979                          0  ...                      0   \n",
       "256980                          0  ...                      0   \n",
       "256981                          0  ...                      0   \n",
       "256983                          0  ...                      0   \n",
       "\n",
       "        Purpose_Home Improvements  Purpose_Buy House  Purpose_Buy a Car  \\\n",
       "0                               0                  0                  0   \n",
       "1                               0                  0                  0   \n",
       "2                               0                  0                  0   \n",
       "3                               0                  0                  0   \n",
       "4                               0                  0                  0   \n",
       "...                           ...                ...                ...   \n",
       "256977                          0                  0                  0   \n",
       "256979                          0                  0                  0   \n",
       "256980                          0                  0                  0   \n",
       "256981                          0                  0                  0   \n",
       "256983                          0                  0                  0   \n",
       "\n",
       "        Purpose_Medical Bills  Purpose_Take a Trip  \\\n",
       "0                           0                    0   \n",
       "1                           0                    0   \n",
       "2                           0                    0   \n",
       "3                           0                    0   \n",
       "4                           0                    0   \n",
       "...                       ...                  ...   \n",
       "256977                      0                    0   \n",
       "256979                      0                    0   \n",
       "256980                      0                    0   \n",
       "256981                      0                    0   \n",
       "256983                      0                    0   \n",
       "\n",
       "        Purpose_Educational Expenses  Loan Status Encoded  log_Bankruptcies  \\\n",
       "0                                  0                    0          0.000000   \n",
       "1                                  0                    0          0.000000   \n",
       "2                                  0                    0          0.000000   \n",
       "3                                  0                    0          0.000000   \n",
       "4                                  0                    0          0.000000   \n",
       "...                              ...                  ...               ...   \n",
       "256977                             0                    1          0.693147   \n",
       "256979                             0                    0          0.000000   \n",
       "256980                             0                    0          0.000000   \n",
       "256981                             0                    1          0.000000   \n",
       "256983                             0                    0          0.000000   \n",
       "\n",
       "        log_Tax Liens  \n",
       "0                 0.0  \n",
       "1                 0.0  \n",
       "2                 0.0  \n",
       "3                 0.0  \n",
       "4                 0.0  \n",
       "...               ...  \n",
       "256977            0.0  \n",
       "256979            0.0  \n",
       "256980            0.0  \n",
       "256981            0.0  \n",
       "256983            0.0  \n",
       "\n",
       "[215700 rows x 43 columns]"
      ]
     },
     "execution_count": 191,
     "metadata": {},
     "output_type": "execute_result"
    }
   ],
   "source": [
    "df"
   ]
  },
  {
   "cell_type": "markdown",
   "metadata": {},
   "source": [
    "# Scaling"
   ]
  },
  {
   "cell_type": "code",
   "execution_count": 192,
   "metadata": {},
   "outputs": [
    {
     "data": {
      "text/html": [
       "<div>\n",
       "<style scoped>\n",
       "    .dataframe tbody tr th:only-of-type {\n",
       "        vertical-align: middle;\n",
       "    }\n",
       "\n",
       "    .dataframe tbody tr th {\n",
       "        vertical-align: top;\n",
       "    }\n",
       "\n",
       "    .dataframe thead th {\n",
       "        text-align: right;\n",
       "    }\n",
       "</style>\n",
       "<table border=\"1\" class=\"dataframe\">\n",
       "  <thead>\n",
       "    <tr style=\"text-align: right;\">\n",
       "      <th></th>\n",
       "      <th>bc Current Loan Amount</th>\n",
       "      <th>bc_Credit Score</th>\n",
       "      <th>bc_Annual Income</th>\n",
       "      <th>sqrt_Monthly Debt</th>\n",
       "      <th>log_Years of Credit History</th>\n",
       "      <th>log_Months Since Last Delinquent</th>\n",
       "      <th>sqrt_Number of Open Accounts</th>\n",
       "      <th>sqrt_Current Credit Balance</th>\n",
       "      <th>log_Maximum Open Credit</th>\n",
       "    </tr>\n",
       "  </thead>\n",
       "  <tbody>\n",
       "    <tr>\n",
       "      <th>0</th>\n",
       "      <td>78.342224</td>\n",
       "      <td>1.575547e+51</td>\n",
       "      <td>7.145626</td>\n",
       "      <td>24.166713</td>\n",
       "      <td>2.587764</td>\n",
       "      <td>3.737670</td>\n",
       "      <td>3.162278</td>\n",
       "      <td>82.219219</td>\n",
       "      <td>9.683900</td>\n",
       "    </tr>\n",
       "    <tr>\n",
       "      <th>1</th>\n",
       "      <td>49.659285</td>\n",
       "      <td>1.324585e+51</td>\n",
       "      <td>7.245629</td>\n",
       "      <td>33.257180</td>\n",
       "      <td>3.306887</td>\n",
       "      <td>0.000000</td>\n",
       "      <td>4.123106</td>\n",
       "      <td>79.132800</td>\n",
       "      <td>9.860058</td>\n",
       "    </tr>\n",
       "    <tr>\n",
       "      <th>2</th>\n",
       "      <td>98.033441</td>\n",
       "      <td>1.825804e+51</td>\n",
       "      <td>7.567104</td>\n",
       "      <td>36.357255</td>\n",
       "      <td>3.394508</td>\n",
       "      <td>0.000000</td>\n",
       "      <td>2.236068</td>\n",
       "      <td>144.799862</td>\n",
       "      <td>10.251888</td>\n",
       "    </tr>\n",
       "    <tr>\n",
       "      <th>3</th>\n",
       "      <td>93.929867</td>\n",
       "      <td>1.825804e+51</td>\n",
       "      <td>7.199724</td>\n",
       "      <td>27.421160</td>\n",
       "      <td>3.303217</td>\n",
       "      <td>0.000000</td>\n",
       "      <td>3.000000</td>\n",
       "      <td>150.096636</td>\n",
       "      <td>10.690034</td>\n",
       "    </tr>\n",
       "    <tr>\n",
       "      <th>4</th>\n",
       "      <td>78.875638</td>\n",
       "      <td>1.781638e+51</td>\n",
       "      <td>7.318802</td>\n",
       "      <td>18.846220</td>\n",
       "      <td>2.525729</td>\n",
       "      <td>0.000000</td>\n",
       "      <td>3.464102</td>\n",
       "      <td>131.874941</td>\n",
       "      <td>10.520887</td>\n",
       "    </tr>\n",
       "    <tr>\n",
       "      <th>...</th>\n",
       "      <td>...</td>\n",
       "      <td>...</td>\n",
       "      <td>...</td>\n",
       "      <td>...</td>\n",
       "      <td>...</td>\n",
       "      <td>...</td>\n",
       "      <td>...</td>\n",
       "      <td>...</td>\n",
       "      <td>...</td>\n",
       "    </tr>\n",
       "    <tr>\n",
       "      <th>256977</th>\n",
       "      <td>79.430285</td>\n",
       "      <td>8.630762e+50</td>\n",
       "      <td>7.219740</td>\n",
       "      <td>31.349960</td>\n",
       "      <td>2.541602</td>\n",
       "      <td>3.737670</td>\n",
       "      <td>3.000000</td>\n",
       "      <td>64.621978</td>\n",
       "      <td>8.473032</td>\n",
       "    </tr>\n",
       "    <tr>\n",
       "      <th>256979</th>\n",
       "      <td>52.140342</td>\n",
       "      <td>1.005092e+51</td>\n",
       "      <td>7.429771</td>\n",
       "      <td>41.310773</td>\n",
       "      <td>3.039749</td>\n",
       "      <td>0.000000</td>\n",
       "      <td>4.000000</td>\n",
       "      <td>209.742700</td>\n",
       "      <td>10.693784</td>\n",
       "    </tr>\n",
       "    <tr>\n",
       "      <th>256980</th>\n",
       "      <td>57.570460</td>\n",
       "      <td>1.427122e+51</td>\n",
       "      <td>7.502827</td>\n",
       "      <td>37.100809</td>\n",
       "      <td>3.000720</td>\n",
       "      <td>3.871201</td>\n",
       "      <td>3.000000</td>\n",
       "      <td>41.436699</td>\n",
       "      <td>9.185945</td>\n",
       "    </tr>\n",
       "    <tr>\n",
       "      <th>256981</th>\n",
       "      <td>79.833349</td>\n",
       "      <td>1.781638e+51</td>\n",
       "      <td>7.339634</td>\n",
       "      <td>17.261518</td>\n",
       "      <td>2.778819</td>\n",
       "      <td>4.418841</td>\n",
       "      <td>2.828427</td>\n",
       "      <td>57.576037</td>\n",
       "      <td>9.908027</td>\n",
       "    </tr>\n",
       "    <tr>\n",
       "      <th>256983</th>\n",
       "      <td>108.872389</td>\n",
       "      <td>3.104883e+50</td>\n",
       "      <td>7.675249</td>\n",
       "      <td>50.257537</td>\n",
       "      <td>2.944439</td>\n",
       "      <td>2.484907</td>\n",
       "      <td>3.162278</td>\n",
       "      <td>168.276558</td>\n",
       "      <td>11.040872</td>\n",
       "    </tr>\n",
       "  </tbody>\n",
       "</table>\n",
       "<p>215700 rows × 9 columns</p>\n",
       "</div>"
      ],
      "text/plain": [
       "        bc Current Loan Amount  bc_Credit Score  bc_Annual Income  \\\n",
       "0                    78.342224     1.575547e+51          7.145626   \n",
       "1                    49.659285     1.324585e+51          7.245629   \n",
       "2                    98.033441     1.825804e+51          7.567104   \n",
       "3                    93.929867     1.825804e+51          7.199724   \n",
       "4                    78.875638     1.781638e+51          7.318802   \n",
       "...                        ...              ...               ...   \n",
       "256977               79.430285     8.630762e+50          7.219740   \n",
       "256979               52.140342     1.005092e+51          7.429771   \n",
       "256980               57.570460     1.427122e+51          7.502827   \n",
       "256981               79.833349     1.781638e+51          7.339634   \n",
       "256983              108.872389     3.104883e+50          7.675249   \n",
       "\n",
       "        sqrt_Monthly Debt  log_Years of Credit History  \\\n",
       "0               24.166713                     2.587764   \n",
       "1               33.257180                     3.306887   \n",
       "2               36.357255                     3.394508   \n",
       "3               27.421160                     3.303217   \n",
       "4               18.846220                     2.525729   \n",
       "...                   ...                          ...   \n",
       "256977          31.349960                     2.541602   \n",
       "256979          41.310773                     3.039749   \n",
       "256980          37.100809                     3.000720   \n",
       "256981          17.261518                     2.778819   \n",
       "256983          50.257537                     2.944439   \n",
       "\n",
       "        log_Months Since Last Delinquent  sqrt_Number of Open Accounts  \\\n",
       "0                               3.737670                      3.162278   \n",
       "1                               0.000000                      4.123106   \n",
       "2                               0.000000                      2.236068   \n",
       "3                               0.000000                      3.000000   \n",
       "4                               0.000000                      3.464102   \n",
       "...                                  ...                           ...   \n",
       "256977                          3.737670                      3.000000   \n",
       "256979                          0.000000                      4.000000   \n",
       "256980                          3.871201                      3.000000   \n",
       "256981                          4.418841                      2.828427   \n",
       "256983                          2.484907                      3.162278   \n",
       "\n",
       "        sqrt_Current Credit Balance  log_Maximum Open Credit  \n",
       "0                         82.219219                 9.683900  \n",
       "1                         79.132800                 9.860058  \n",
       "2                        144.799862                10.251888  \n",
       "3                        150.096636                10.690034  \n",
       "4                        131.874941                10.520887  \n",
       "...                             ...                      ...  \n",
       "256977                    64.621978                 8.473032  \n",
       "256979                   209.742700                10.693784  \n",
       "256980                    41.436699                 9.185945  \n",
       "256981                    57.576037                 9.908027  \n",
       "256983                   168.276558                11.040872  \n",
       "\n",
       "[215700 rows x 9 columns]"
      ]
     },
     "execution_count": 192,
     "metadata": {},
     "output_type": "execute_result"
    }
   ],
   "source": [
    "#only scale continuous variables\n",
    "scaled_df = pd.DataFrame({\n",
    "    'bc Current Loan Amount': bc_cla,\n",
    "    'bc_Credit Score': bc_cs, \n",
    "    'bc_Annual Income': bc_annual_income, \n",
    "    'sqrt_Monthly Debt': sqrt_monthly_debt, \n",
    "    'log_Years of Credit History': log_ych, \n",
    "    'log_Months Since Last Delinquent': log_delinquent, \n",
    "    'sqrt_Number of Open Accounts': sqrt_open_account, \n",
    "    'sqrt_Current Credit Balance': sqrt_current_credit_balance, \n",
    "    'log_Maximum Open Credit': log_maximum_open_credit})\n",
    "scaled_df"
   ]
  },
  {
   "cell_type": "code",
   "execution_count": 193,
   "metadata": {},
   "outputs": [],
   "source": [
    "rs = RobustScaler()\n",
    "rs.fit_transform(scaled_df)\n",
    "scaled_df = pd.DataFrame(rs.transform(scaled_df), columns = scaled_df.columns)"
   ]
  },
  {
   "cell_type": "code",
   "execution_count": 194,
   "metadata": {},
   "outputs": [
    {
     "name": "stdout",
     "output_type": "stream",
     "text": [
      "<class 'pandas.core.frame.DataFrame'>\n",
      "RangeIndex: 215700 entries, 0 to 215699\n",
      "Data columns (total 9 columns):\n",
      " #   Column                            Non-Null Count   Dtype  \n",
      "---  ------                            --------------   -----  \n",
      " 0   bc Current Loan Amount            215700 non-null  float64\n",
      " 1   bc_Credit Score                   215700 non-null  float64\n",
      " 2   bc_Annual Income                  215700 non-null  float64\n",
      " 3   sqrt_Monthly Debt                 215700 non-null  float64\n",
      " 4   log_Years of Credit History       215700 non-null  float64\n",
      " 5   log_Months Since Last Delinquent  215700 non-null  float64\n",
      " 6   sqrt_Number of Open Accounts      215700 non-null  float64\n",
      " 7   sqrt_Current Credit Balance       215700 non-null  float64\n",
      " 8   log_Maximum Open Credit           215700 non-null  float64\n",
      "dtypes: float64(9)\n",
      "memory usage: 14.8 MB\n"
     ]
    }
   ],
   "source": [
    "scaled_df.info()"
   ]
  },
  {
   "cell_type": "code",
   "execution_count": null,
   "metadata": {},
   "outputs": [
    {
     "data": {
      "text/plain": [
       "Index(['bc Current Loan Amount', 'bc_Credit Score', 'bc_Annual Income',\n",
       "       'sqrt_Monthly Debt', 'log_Years of Credit History',\n",
       "       'log_Months Since Last Delinquent', 'sqrt_Number of Open Accounts',\n",
       "       'sqrt_Current Credit Balance', 'log_Maximum Open Credit'],\n",
       "      dtype='object')"
      ]
     },
     "execution_count": 913,
     "metadata": {},
     "output_type": "execute_result"
    }
   ],
   "source": [
    "scaled_df.columns"
   ]
  },
  {
   "cell_type": "code",
   "execution_count": 195,
   "metadata": {},
   "outputs": [
    {
     "name": "stdout",
     "output_type": "stream",
     "text": [
      "<class 'pandas.core.frame.DataFrame'>\n",
      "Index: 215700 entries, 0 to 256983\n",
      "Data columns (total 43 columns):\n",
      " #   Column                            Non-Null Count   Dtype  \n",
      "---  ------                            --------------   -----  \n",
      " 0   Loan ID                           215700 non-null  object \n",
      " 1   Customer ID                       215700 non-null  object \n",
      " 2   Current Loan Amount               215700 non-null  int32  \n",
      " 3   Credit Score                      215700 non-null  int32  \n",
      " 4   Annual Income                     215700 non-null  int32  \n",
      " 5   Monthly Debt                      215700 non-null  float64\n",
      " 6   Years of Credit History           215700 non-null  float64\n",
      " 7   Months since last delinquent      215700 non-null  int32  \n",
      " 8   Number of Open Accounts           215700 non-null  int32  \n",
      " 9   Number of Credit Problems         215700 non-null  int64  \n",
      " 10  Current Credit Balance            215700 non-null  int64  \n",
      " 11  Maximum Open Credit               215700 non-null  int32  \n",
      " 12  Bankruptcies                      215700 non-null  int32  \n",
      " 13  Tax Liens                         215700 non-null  int32  \n",
      " 14  Term_Short Term                   215700 non-null  int64  \n",
      " 15  Term_Long Term                    215700 non-null  int64  \n",
      " 16  Years in current job_10+ years    215700 non-null  int64  \n",
      " 17  Years in current job_4 years      215700 non-null  int64  \n",
      " 18  Years in current job_6 years      215700 non-null  int64  \n",
      " 19  Years in current job_5 years      215700 non-null  int64  \n",
      " 20  Years in current job_No job info  215700 non-null  int64  \n",
      " 21  Years in current job_3 years      215700 non-null  int64  \n",
      " 22  Years in current job_2 years      215700 non-null  int64  \n",
      " 23  Years in current job_< 1 year     215700 non-null  int64  \n",
      " 24  Years in current job_1 year       215700 non-null  int64  \n",
      " 25  Years in current job_7 years      215700 non-null  int64  \n",
      " 26  Years in current job_9 years      215700 non-null  int64  \n",
      " 27  Years in current job_8 years      215700 non-null  int64  \n",
      " 28  Home Ownership_Home Mortgage      215700 non-null  int64  \n",
      " 29  Home Ownership_Own                215700 non-null  int64  \n",
      " 30  Home Ownership_Rent               215700 non-null  int64  \n",
      " 31  Purpose_Debt Consolidation        215700 non-null  int64  \n",
      " 32  Purpose_Other                     215700 non-null  int64  \n",
      " 33  Purpose_Business Loan             215700 non-null  int64  \n",
      " 34  Purpose_Home Improvements         215700 non-null  int64  \n",
      " 35  Purpose_Buy House                 215700 non-null  int64  \n",
      " 36  Purpose_Buy a Car                 215700 non-null  int64  \n",
      " 37  Purpose_Medical Bills             215700 non-null  int64  \n",
      " 38  Purpose_Take a Trip               215700 non-null  int64  \n",
      " 39  Purpose_Educational Expenses      215700 non-null  int64  \n",
      " 40  Loan Status Encoded               215700 non-null  int32  \n",
      " 41  log_Bankruptcies                  215700 non-null  float64\n",
      " 42  log_Tax Liens                     215700 non-null  float64\n",
      "dtypes: float64(4), int32(9), int64(28), object(2)\n",
      "memory usage: 73.1+ MB\n"
     ]
    }
   ],
   "source": [
    "df.info()"
   ]
  },
  {
   "cell_type": "code",
   "execution_count": null,
   "metadata": {},
   "outputs": [
    {
     "data": {
      "text/plain": [
       "Index(['Loan ID', 'Customer ID', 'Current Loan Amount', 'Credit Score',\n",
       "       'Annual Income', 'Monthly Debt', 'Years of Credit History',\n",
       "       'Months since last delinquent', 'Number of Open Accounts',\n",
       "       'Number of Credit Problems', 'Current Credit Balance',\n",
       "       'Maximum Open Credit', 'Bankruptcies', 'Tax Liens', 'Term_Short Term',\n",
       "       'Term_Long Term', 'Years in current job_10+ years',\n",
       "       'Years in current job_4 years', 'Years in current job_6 years',\n",
       "       'Years in current job_5 years', 'Years in current job_No job info',\n",
       "       'Years in current job_3 years', 'Years in current job_2 years',\n",
       "       'Years in current job_< 1 year', 'Years in current job_1 year',\n",
       "       'Years in current job_7 years', 'Years in current job_9 years',\n",
       "       'Years in current job_8 years', 'Home Ownership_Home Mortgage',\n",
       "       'Home Ownership_Own', 'Home Ownership_Rent',\n",
       "       'Purpose_Debt Consolidation', 'Purpose_Other', 'Purpose_Business Loan',\n",
       "       'Purpose_Home Improvements', 'Purpose_Buy House', 'Purpose_Buy a Car',\n",
       "       'Purpose_Medical Bills', 'Purpose_Take a Trip',\n",
       "       'Purpose_Educational Expenses', 'Loan Status Encoded',\n",
       "       'log_Bankruptcies', 'log_Tax Liens'],\n",
       "      dtype='object')"
      ]
     },
     "execution_count": 914,
     "metadata": {},
     "output_type": "execute_result"
    }
   ],
   "source": [
    "df.columns"
   ]
  },
  {
   "cell_type": "code",
   "execution_count": 198,
   "metadata": {},
   "outputs": [],
   "source": [
    "df.reset_index(drop=True, inplace = True)\n",
    "scaled_df.reset_index(drop=True, inplace = True)\n",
    "df_combined = pd.concat([df,scaled_df], axis = 1)"
   ]
  },
  {
   "cell_type": "code",
   "execution_count": 199,
   "metadata": {},
   "outputs": [
    {
     "data": {
      "text/html": [
       "<div>\n",
       "<style scoped>\n",
       "    .dataframe tbody tr th:only-of-type {\n",
       "        vertical-align: middle;\n",
       "    }\n",
       "\n",
       "    .dataframe tbody tr th {\n",
       "        vertical-align: top;\n",
       "    }\n",
       "\n",
       "    .dataframe thead th {\n",
       "        text-align: right;\n",
       "    }\n",
       "</style>\n",
       "<table border=\"1\" class=\"dataframe\">\n",
       "  <thead>\n",
       "    <tr style=\"text-align: right;\">\n",
       "      <th></th>\n",
       "      <th>Loan ID</th>\n",
       "      <th>Customer ID</th>\n",
       "      <th>Current Loan Amount</th>\n",
       "      <th>Credit Score</th>\n",
       "      <th>Annual Income</th>\n",
       "      <th>Monthly Debt</th>\n",
       "      <th>Years of Credit History</th>\n",
       "      <th>Months since last delinquent</th>\n",
       "      <th>Number of Open Accounts</th>\n",
       "      <th>Number of Credit Problems</th>\n",
       "      <th>...</th>\n",
       "      <th>log_Tax Liens</th>\n",
       "      <th>bc Current Loan Amount</th>\n",
       "      <th>bc_Credit Score</th>\n",
       "      <th>bc_Annual Income</th>\n",
       "      <th>sqrt_Monthly Debt</th>\n",
       "      <th>log_Years of Credit History</th>\n",
       "      <th>log_Months Since Last Delinquent</th>\n",
       "      <th>sqrt_Number of Open Accounts</th>\n",
       "      <th>sqrt_Current Credit Balance</th>\n",
       "      <th>log_Maximum Open Credit</th>\n",
       "    </tr>\n",
       "  </thead>\n",
       "  <tbody>\n",
       "    <tr>\n",
       "      <th>0</th>\n",
       "      <td>000025bb-5694-4cff-b17d-192b1a98ba44</td>\n",
       "      <td>5ebc8bb1-5eb9-4404-b11b-a6eebc401a19</td>\n",
       "      <td>11520</td>\n",
       "      <td>741</td>\n",
       "      <td>33694</td>\n",
       "      <td>584.03</td>\n",
       "      <td>12.3</td>\n",
       "      <td>41</td>\n",
       "      <td>10</td>\n",
       "      <td>0</td>\n",
       "      <td>...</td>\n",
       "      <td>0.0</td>\n",
       "      <td>-0.049798</td>\n",
       "      <td>0.769075</td>\n",
       "      <td>-1.210995</td>\n",
       "      <td>-0.389651</td>\n",
       "      <td>-0.678890</td>\n",
       "      <td>0.646411</td>\n",
       "      <td>0.000000</td>\n",
       "      <td>-0.368827</td>\n",
       "      <td>-0.304344</td>\n",
       "    </tr>\n",
       "    <tr>\n",
       "      <th>1</th>\n",
       "      <td>00002c49-3a29-4bd4-8f67-c8f8fbc1048c</td>\n",
       "      <td>927b388d-2e01-423f-a8dc-f7e42d668f46</td>\n",
       "      <td>3441</td>\n",
       "      <td>734</td>\n",
       "      <td>42269</td>\n",
       "      <td>1106.04</td>\n",
       "      <td>26.3</td>\n",
       "      <td>0</td>\n",
       "      <td>17</td>\n",
       "      <td>0</td>\n",
       "      <td>...</td>\n",
       "      <td>0.0</td>\n",
       "      <td>-1.195482</td>\n",
       "      <td>0.396757</td>\n",
       "      <td>-0.777167</td>\n",
       "      <td>0.344385</td>\n",
       "      <td>0.934437</td>\n",
       "      <td>-0.381103</td>\n",
       "      <td>1.052120</td>\n",
       "      <td>-0.418621</td>\n",
       "      <td>-0.135574</td>\n",
       "    </tr>\n",
       "    <tr>\n",
       "      <th>2</th>\n",
       "      <td>00002d89-27f3-409b-aa76-90834f359a65</td>\n",
       "      <td>defce609-c631-447d-aad6-1270615e89c4</td>\n",
       "      <td>21029</td>\n",
       "      <td>747</td>\n",
       "      <td>90126</td>\n",
       "      <td>1321.85</td>\n",
       "      <td>28.8</td>\n",
       "      <td>0</td>\n",
       "      <td>5</td>\n",
       "      <td>0</td>\n",
       "      <td>...</td>\n",
       "      <td>0.0</td>\n",
       "      <td>0.736729</td>\n",
       "      <td>1.140346</td>\n",
       "      <td>0.617422</td>\n",
       "      <td>0.594709</td>\n",
       "      <td>1.131013</td>\n",
       "      <td>-0.381103</td>\n",
       "      <td>-1.014213</td>\n",
       "      <td>0.640785</td>\n",
       "      <td>0.239824</td>\n",
       "    </tr>\n",
       "    <tr>\n",
       "      <th>3</th>\n",
       "      <td>00005222-b4d8-45a4-ad8c-186057e24233</td>\n",
       "      <td>070bcecb-aae7-4485-a26a-e0403e7bb6c5</td>\n",
       "      <td>18743</td>\n",
       "      <td>747</td>\n",
       "      <td>38072</td>\n",
       "      <td>751.92</td>\n",
       "      <td>26.2</td>\n",
       "      <td>0</td>\n",
       "      <td>9</td>\n",
       "      <td>0</td>\n",
       "      <td>...</td>\n",
       "      <td>0.0</td>\n",
       "      <td>0.572819</td>\n",
       "      <td>1.140346</td>\n",
       "      <td>-0.976309</td>\n",
       "      <td>-0.126861</td>\n",
       "      <td>0.926204</td>\n",
       "      <td>-0.381103</td>\n",
       "      <td>-0.177696</td>\n",
       "      <td>0.726238</td>\n",
       "      <td>0.659594</td>\n",
       "    </tr>\n",
       "    <tr>\n",
       "      <th>4</th>\n",
       "      <td>0000757f-a121-41ed-b17b-162e76647c1f</td>\n",
       "      <td>dde79588-12f0-4811-bab0-e2b07f633fcd</td>\n",
       "      <td>11731</td>\n",
       "      <td>746</td>\n",
       "      <td>50025</td>\n",
       "      <td>355.18</td>\n",
       "      <td>11.5</td>\n",
       "      <td>0</td>\n",
       "      <td>12</td>\n",
       "      <td>0</td>\n",
       "      <td>...</td>\n",
       "      <td>0.0</td>\n",
       "      <td>-0.028492</td>\n",
       "      <td>1.074823</td>\n",
       "      <td>-0.459735</td>\n",
       "      <td>-0.819269</td>\n",
       "      <td>-0.818064</td>\n",
       "      <td>-0.381103</td>\n",
       "      <td>0.330501</td>\n",
       "      <td>0.432267</td>\n",
       "      <td>0.497541</td>\n",
       "    </tr>\n",
       "    <tr>\n",
       "      <th>...</th>\n",
       "      <td>...</td>\n",
       "      <td>...</td>\n",
       "      <td>...</td>\n",
       "      <td>...</td>\n",
       "      <td>...</td>\n",
       "      <td>...</td>\n",
       "      <td>...</td>\n",
       "      <td>...</td>\n",
       "      <td>...</td>\n",
       "      <td>...</td>\n",
       "      <td>...</td>\n",
       "      <td>...</td>\n",
       "      <td>...</td>\n",
       "      <td>...</td>\n",
       "      <td>...</td>\n",
       "      <td>...</td>\n",
       "      <td>...</td>\n",
       "      <td>...</td>\n",
       "      <td>...</td>\n",
       "      <td>...</td>\n",
       "      <td>...</td>\n",
       "    </tr>\n",
       "    <tr>\n",
       "      <th>215695</th>\n",
       "      <td>fffe84cf-67a1-468d-ab7b-cf06a9c4ee14</td>\n",
       "      <td>460c6cf5-4d12-4e3c-a3d0-46dd67c78cce</td>\n",
       "      <td>11953</td>\n",
       "      <td>717</td>\n",
       "      <td>39844</td>\n",
       "      <td>982.82</td>\n",
       "      <td>11.7</td>\n",
       "      <td>41</td>\n",
       "      <td>9</td>\n",
       "      <td>1</td>\n",
       "      <td>...</td>\n",
       "      <td>0.0</td>\n",
       "      <td>-0.006338</td>\n",
       "      <td>-0.287919</td>\n",
       "      <td>-0.889479</td>\n",
       "      <td>0.190381</td>\n",
       "      <td>-0.782453</td>\n",
       "      <td>0.646411</td>\n",
       "      <td>-0.177696</td>\n",
       "      <td>-0.652723</td>\n",
       "      <td>-1.464429</td>\n",
       "    </tr>\n",
       "    <tr>\n",
       "      <th>215696</th>\n",
       "      <td>fffef5b7-be99-4666-ac70-2a397d2ee435</td>\n",
       "      <td>7211a8e3-cba4-4132-b939-222eed8a662c</td>\n",
       "      <td>3911</td>\n",
       "      <td>723</td>\n",
       "      <td>64864</td>\n",
       "      <td>1706.58</td>\n",
       "      <td>19.9</td>\n",
       "      <td>0</td>\n",
       "      <td>16</td>\n",
       "      <td>0</td>\n",
       "      <td>...</td>\n",
       "      <td>0.0</td>\n",
       "      <td>-1.096381</td>\n",
       "      <td>-0.077230</td>\n",
       "      <td>0.021660</td>\n",
       "      <td>0.994695</td>\n",
       "      <td>0.335123</td>\n",
       "      <td>-0.381103</td>\n",
       "      <td>0.917318</td>\n",
       "      <td>1.688507</td>\n",
       "      <td>0.663187</td>\n",
       "    </tr>\n",
       "    <tr>\n",
       "      <th>215697</th>\n",
       "      <td>ffffca93-aa8c-4123-b8ff-7852f6df889a</td>\n",
       "      <td>616fef0c-8f09-4327-9b5c-48fcfaa52934</td>\n",
       "      <td>5078</td>\n",
       "      <td>737</td>\n",
       "      <td>77186</td>\n",
       "      <td>1376.47</td>\n",
       "      <td>19.1</td>\n",
       "      <td>47</td>\n",
       "      <td>9</td>\n",
       "      <td>0</td>\n",
       "      <td>...</td>\n",
       "      <td>0.0</td>\n",
       "      <td>-0.879486</td>\n",
       "      <td>0.548877</td>\n",
       "      <td>0.338585</td>\n",
       "      <td>0.654750</td>\n",
       "      <td>0.247562</td>\n",
       "      <td>0.683120</td>\n",
       "      <td>-0.177696</td>\n",
       "      <td>-1.026771</td>\n",
       "      <td>-0.781415</td>\n",
       "    </tr>\n",
       "    <tr>\n",
       "      <th>215698</th>\n",
       "      <td>ffffcb2e-e48e-4d2c-a0d6-ed6bce5bfdbe</td>\n",
       "      <td>971a6682-183b-4a52-8bce-1d3429ade295</td>\n",
       "      <td>12116</td>\n",
       "      <td>746</td>\n",
       "      <td>52504</td>\n",
       "      <td>297.96</td>\n",
       "      <td>15.1</td>\n",
       "      <td>82</td>\n",
       "      <td>8</td>\n",
       "      <td>0</td>\n",
       "      <td>...</td>\n",
       "      <td>0.0</td>\n",
       "      <td>0.009762</td>\n",
       "      <td>1.074823</td>\n",
       "      <td>-0.369367</td>\n",
       "      <td>-0.947231</td>\n",
       "      <td>-0.250264</td>\n",
       "      <td>0.833670</td>\n",
       "      <td>-0.365571</td>\n",
       "      <td>-0.766395</td>\n",
       "      <td>-0.089616</td>\n",
       "    </tr>\n",
       "    <tr>\n",
       "      <th>215699</th>\n",
       "      <td>ffffe32e-ed17-459f-9cfd-7b9ee7972933</td>\n",
       "      <td>97281336-1e45-41d2-acb2-263ce56a590e</td>\n",
       "      <td>27902</td>\n",
       "      <td>678</td>\n",
       "      <td>117480</td>\n",
       "      <td>2525.82</td>\n",
       "      <td>18.0</td>\n",
       "      <td>11</td>\n",
       "      <td>10</td>\n",
       "      <td>0</td>\n",
       "      <td>...</td>\n",
       "      <td>0.0</td>\n",
       "      <td>1.169669</td>\n",
       "      <td>-1.107717</td>\n",
       "      <td>1.086569</td>\n",
       "      <td>1.717127</td>\n",
       "      <td>0.121298</td>\n",
       "      <td>0.302017</td>\n",
       "      <td>0.000000</td>\n",
       "      <td>1.019534</td>\n",
       "      <td>0.995718</td>\n",
       "    </tr>\n",
       "  </tbody>\n",
       "</table>\n",
       "<p>215700 rows × 52 columns</p>\n",
       "</div>"
      ],
      "text/plain": [
       "                                     Loan ID  \\\n",
       "0       000025bb-5694-4cff-b17d-192b1a98ba44   \n",
       "1       00002c49-3a29-4bd4-8f67-c8f8fbc1048c   \n",
       "2       00002d89-27f3-409b-aa76-90834f359a65   \n",
       "3       00005222-b4d8-45a4-ad8c-186057e24233   \n",
       "4       0000757f-a121-41ed-b17b-162e76647c1f   \n",
       "...                                      ...   \n",
       "215695  fffe84cf-67a1-468d-ab7b-cf06a9c4ee14   \n",
       "215696  fffef5b7-be99-4666-ac70-2a397d2ee435   \n",
       "215697  ffffca93-aa8c-4123-b8ff-7852f6df889a   \n",
       "215698  ffffcb2e-e48e-4d2c-a0d6-ed6bce5bfdbe   \n",
       "215699  ffffe32e-ed17-459f-9cfd-7b9ee7972933   \n",
       "\n",
       "                                 Customer ID  Current Loan Amount  \\\n",
       "0       5ebc8bb1-5eb9-4404-b11b-a6eebc401a19                11520   \n",
       "1       927b388d-2e01-423f-a8dc-f7e42d668f46                 3441   \n",
       "2       defce609-c631-447d-aad6-1270615e89c4                21029   \n",
       "3       070bcecb-aae7-4485-a26a-e0403e7bb6c5                18743   \n",
       "4       dde79588-12f0-4811-bab0-e2b07f633fcd                11731   \n",
       "...                                      ...                  ...   \n",
       "215695  460c6cf5-4d12-4e3c-a3d0-46dd67c78cce                11953   \n",
       "215696  7211a8e3-cba4-4132-b939-222eed8a662c                 3911   \n",
       "215697  616fef0c-8f09-4327-9b5c-48fcfaa52934                 5078   \n",
       "215698  971a6682-183b-4a52-8bce-1d3429ade295                12116   \n",
       "215699  97281336-1e45-41d2-acb2-263ce56a590e                27902   \n",
       "\n",
       "        Credit Score  Annual Income  Monthly Debt  Years of Credit History  \\\n",
       "0                741          33694        584.03                     12.3   \n",
       "1                734          42269       1106.04                     26.3   \n",
       "2                747          90126       1321.85                     28.8   \n",
       "3                747          38072        751.92                     26.2   \n",
       "4                746          50025        355.18                     11.5   \n",
       "...              ...            ...           ...                      ...   \n",
       "215695           717          39844        982.82                     11.7   \n",
       "215696           723          64864       1706.58                     19.9   \n",
       "215697           737          77186       1376.47                     19.1   \n",
       "215698           746          52504        297.96                     15.1   \n",
       "215699           678         117480       2525.82                     18.0   \n",
       "\n",
       "        Months since last delinquent  Number of Open Accounts  \\\n",
       "0                                 41                       10   \n",
       "1                                  0                       17   \n",
       "2                                  0                        5   \n",
       "3                                  0                        9   \n",
       "4                                  0                       12   \n",
       "...                              ...                      ...   \n",
       "215695                            41                        9   \n",
       "215696                             0                       16   \n",
       "215697                            47                        9   \n",
       "215698                            82                        8   \n",
       "215699                            11                       10   \n",
       "\n",
       "        Number of Credit Problems  ...  log_Tax Liens  bc Current Loan Amount  \\\n",
       "0                               0  ...            0.0               -0.049798   \n",
       "1                               0  ...            0.0               -1.195482   \n",
       "2                               0  ...            0.0                0.736729   \n",
       "3                               0  ...            0.0                0.572819   \n",
       "4                               0  ...            0.0               -0.028492   \n",
       "...                           ...  ...            ...                     ...   \n",
       "215695                          1  ...            0.0               -0.006338   \n",
       "215696                          0  ...            0.0               -1.096381   \n",
       "215697                          0  ...            0.0               -0.879486   \n",
       "215698                          0  ...            0.0                0.009762   \n",
       "215699                          0  ...            0.0                1.169669   \n",
       "\n",
       "        bc_Credit Score  bc_Annual Income  sqrt_Monthly Debt  \\\n",
       "0              0.769075         -1.210995          -0.389651   \n",
       "1              0.396757         -0.777167           0.344385   \n",
       "2              1.140346          0.617422           0.594709   \n",
       "3              1.140346         -0.976309          -0.126861   \n",
       "4              1.074823         -0.459735          -0.819269   \n",
       "...                 ...               ...                ...   \n",
       "215695        -0.287919         -0.889479           0.190381   \n",
       "215696        -0.077230          0.021660           0.994695   \n",
       "215697         0.548877          0.338585           0.654750   \n",
       "215698         1.074823         -0.369367          -0.947231   \n",
       "215699        -1.107717          1.086569           1.717127   \n",
       "\n",
       "        log_Years of Credit History  log_Months Since Last Delinquent  \\\n",
       "0                         -0.678890                          0.646411   \n",
       "1                          0.934437                         -0.381103   \n",
       "2                          1.131013                         -0.381103   \n",
       "3                          0.926204                         -0.381103   \n",
       "4                         -0.818064                         -0.381103   \n",
       "...                             ...                               ...   \n",
       "215695                    -0.782453                          0.646411   \n",
       "215696                     0.335123                         -0.381103   \n",
       "215697                     0.247562                          0.683120   \n",
       "215698                    -0.250264                          0.833670   \n",
       "215699                     0.121298                          0.302017   \n",
       "\n",
       "        sqrt_Number of Open Accounts  sqrt_Current Credit Balance  \\\n",
       "0                           0.000000                    -0.368827   \n",
       "1                           1.052120                    -0.418621   \n",
       "2                          -1.014213                     0.640785   \n",
       "3                          -0.177696                     0.726238   \n",
       "4                           0.330501                     0.432267   \n",
       "...                              ...                          ...   \n",
       "215695                     -0.177696                    -0.652723   \n",
       "215696                      0.917318                     1.688507   \n",
       "215697                     -0.177696                    -1.026771   \n",
       "215698                     -0.365571                    -0.766395   \n",
       "215699                      0.000000                     1.019534   \n",
       "\n",
       "        log_Maximum Open Credit  \n",
       "0                     -0.304344  \n",
       "1                     -0.135574  \n",
       "2                      0.239824  \n",
       "3                      0.659594  \n",
       "4                      0.497541  \n",
       "...                         ...  \n",
       "215695                -1.464429  \n",
       "215696                 0.663187  \n",
       "215697                -0.781415  \n",
       "215698                -0.089616  \n",
       "215699                 0.995718  \n",
       "\n",
       "[215700 rows x 52 columns]"
      ]
     },
     "execution_count": 199,
     "metadata": {},
     "output_type": "execute_result"
    }
   ],
   "source": [
    "df_combined"
   ]
  },
  {
   "cell_type": "code",
   "execution_count": 200,
   "metadata": {},
   "outputs": [],
   "source": [
    "drop_columns = ['Current Loan Amount', 'Credit Score',\n",
    "       'Annual Income', 'Monthly Debt', 'Years of Credit History',\n",
    "       'Months since last delinquent', 'Number of Open Accounts',\n",
    "       'Number of Credit Problems', 'Current Credit Balance',\n",
    "       'Maximum Open Credit', 'Bankruptcies', 'Tax Liens']\n",
    "df_combined = df_combined.drop(columns = drop_columns)"
   ]
  },
  {
   "cell_type": "code",
   "execution_count": 201,
   "metadata": {},
   "outputs": [
    {
     "data": {
      "text/html": [
       "<div>\n",
       "<style scoped>\n",
       "    .dataframe tbody tr th:only-of-type {\n",
       "        vertical-align: middle;\n",
       "    }\n",
       "\n",
       "    .dataframe tbody tr th {\n",
       "        vertical-align: top;\n",
       "    }\n",
       "\n",
       "    .dataframe thead th {\n",
       "        text-align: right;\n",
       "    }\n",
       "</style>\n",
       "<table border=\"1\" class=\"dataframe\">\n",
       "  <thead>\n",
       "    <tr style=\"text-align: right;\">\n",
       "      <th></th>\n",
       "      <th>Loan ID</th>\n",
       "      <th>Customer ID</th>\n",
       "      <th>Term_Short Term</th>\n",
       "      <th>Term_Long Term</th>\n",
       "      <th>Years in current job_10+ years</th>\n",
       "      <th>Years in current job_4 years</th>\n",
       "      <th>Years in current job_6 years</th>\n",
       "      <th>Years in current job_5 years</th>\n",
       "      <th>Years in current job_No job info</th>\n",
       "      <th>Years in current job_3 years</th>\n",
       "      <th>...</th>\n",
       "      <th>log_Tax Liens</th>\n",
       "      <th>bc Current Loan Amount</th>\n",
       "      <th>bc_Credit Score</th>\n",
       "      <th>bc_Annual Income</th>\n",
       "      <th>sqrt_Monthly Debt</th>\n",
       "      <th>log_Years of Credit History</th>\n",
       "      <th>log_Months Since Last Delinquent</th>\n",
       "      <th>sqrt_Number of Open Accounts</th>\n",
       "      <th>sqrt_Current Credit Balance</th>\n",
       "      <th>log_Maximum Open Credit</th>\n",
       "    </tr>\n",
       "  </thead>\n",
       "  <tbody>\n",
       "    <tr>\n",
       "      <th>0</th>\n",
       "      <td>000025bb-5694-4cff-b17d-192b1a98ba44</td>\n",
       "      <td>5ebc8bb1-5eb9-4404-b11b-a6eebc401a19</td>\n",
       "      <td>1</td>\n",
       "      <td>0</td>\n",
       "      <td>1</td>\n",
       "      <td>0</td>\n",
       "      <td>0</td>\n",
       "      <td>0</td>\n",
       "      <td>0</td>\n",
       "      <td>0</td>\n",
       "      <td>...</td>\n",
       "      <td>0.0</td>\n",
       "      <td>-0.049798</td>\n",
       "      <td>0.769075</td>\n",
       "      <td>-1.210995</td>\n",
       "      <td>-0.389651</td>\n",
       "      <td>-0.678890</td>\n",
       "      <td>0.646411</td>\n",
       "      <td>0.000000</td>\n",
       "      <td>-0.368827</td>\n",
       "      <td>-0.304344</td>\n",
       "    </tr>\n",
       "    <tr>\n",
       "      <th>1</th>\n",
       "      <td>00002c49-3a29-4bd4-8f67-c8f8fbc1048c</td>\n",
       "      <td>927b388d-2e01-423f-a8dc-f7e42d668f46</td>\n",
       "      <td>1</td>\n",
       "      <td>0</td>\n",
       "      <td>0</td>\n",
       "      <td>1</td>\n",
       "      <td>0</td>\n",
       "      <td>0</td>\n",
       "      <td>0</td>\n",
       "      <td>0</td>\n",
       "      <td>...</td>\n",
       "      <td>0.0</td>\n",
       "      <td>-1.195482</td>\n",
       "      <td>0.396757</td>\n",
       "      <td>-0.777167</td>\n",
       "      <td>0.344385</td>\n",
       "      <td>0.934437</td>\n",
       "      <td>-0.381103</td>\n",
       "      <td>1.052120</td>\n",
       "      <td>-0.418621</td>\n",
       "      <td>-0.135574</td>\n",
       "    </tr>\n",
       "    <tr>\n",
       "      <th>2</th>\n",
       "      <td>00002d89-27f3-409b-aa76-90834f359a65</td>\n",
       "      <td>defce609-c631-447d-aad6-1270615e89c4</td>\n",
       "      <td>1</td>\n",
       "      <td>0</td>\n",
       "      <td>1</td>\n",
       "      <td>0</td>\n",
       "      <td>0</td>\n",
       "      <td>0</td>\n",
       "      <td>0</td>\n",
       "      <td>0</td>\n",
       "      <td>...</td>\n",
       "      <td>0.0</td>\n",
       "      <td>0.736729</td>\n",
       "      <td>1.140346</td>\n",
       "      <td>0.617422</td>\n",
       "      <td>0.594709</td>\n",
       "      <td>1.131013</td>\n",
       "      <td>-0.381103</td>\n",
       "      <td>-1.014213</td>\n",
       "      <td>0.640785</td>\n",
       "      <td>0.239824</td>\n",
       "    </tr>\n",
       "    <tr>\n",
       "      <th>3</th>\n",
       "      <td>00005222-b4d8-45a4-ad8c-186057e24233</td>\n",
       "      <td>070bcecb-aae7-4485-a26a-e0403e7bb6c5</td>\n",
       "      <td>1</td>\n",
       "      <td>0</td>\n",
       "      <td>1</td>\n",
       "      <td>0</td>\n",
       "      <td>0</td>\n",
       "      <td>0</td>\n",
       "      <td>0</td>\n",
       "      <td>0</td>\n",
       "      <td>...</td>\n",
       "      <td>0.0</td>\n",
       "      <td>0.572819</td>\n",
       "      <td>1.140346</td>\n",
       "      <td>-0.976309</td>\n",
       "      <td>-0.126861</td>\n",
       "      <td>0.926204</td>\n",
       "      <td>-0.381103</td>\n",
       "      <td>-0.177696</td>\n",
       "      <td>0.726238</td>\n",
       "      <td>0.659594</td>\n",
       "    </tr>\n",
       "    <tr>\n",
       "      <th>4</th>\n",
       "      <td>0000757f-a121-41ed-b17b-162e76647c1f</td>\n",
       "      <td>dde79588-12f0-4811-bab0-e2b07f633fcd</td>\n",
       "      <td>1</td>\n",
       "      <td>0</td>\n",
       "      <td>0</td>\n",
       "      <td>1</td>\n",
       "      <td>0</td>\n",
       "      <td>0</td>\n",
       "      <td>0</td>\n",
       "      <td>0</td>\n",
       "      <td>...</td>\n",
       "      <td>0.0</td>\n",
       "      <td>-0.028492</td>\n",
       "      <td>1.074823</td>\n",
       "      <td>-0.459735</td>\n",
       "      <td>-0.819269</td>\n",
       "      <td>-0.818064</td>\n",
       "      <td>-0.381103</td>\n",
       "      <td>0.330501</td>\n",
       "      <td>0.432267</td>\n",
       "      <td>0.497541</td>\n",
       "    </tr>\n",
       "    <tr>\n",
       "      <th>...</th>\n",
       "      <td>...</td>\n",
       "      <td>...</td>\n",
       "      <td>...</td>\n",
       "      <td>...</td>\n",
       "      <td>...</td>\n",
       "      <td>...</td>\n",
       "      <td>...</td>\n",
       "      <td>...</td>\n",
       "      <td>...</td>\n",
       "      <td>...</td>\n",
       "      <td>...</td>\n",
       "      <td>...</td>\n",
       "      <td>...</td>\n",
       "      <td>...</td>\n",
       "      <td>...</td>\n",
       "      <td>...</td>\n",
       "      <td>...</td>\n",
       "      <td>...</td>\n",
       "      <td>...</td>\n",
       "      <td>...</td>\n",
       "      <td>...</td>\n",
       "    </tr>\n",
       "    <tr>\n",
       "      <th>215695</th>\n",
       "      <td>fffe84cf-67a1-468d-ab7b-cf06a9c4ee14</td>\n",
       "      <td>460c6cf5-4d12-4e3c-a3d0-46dd67c78cce</td>\n",
       "      <td>1</td>\n",
       "      <td>0</td>\n",
       "      <td>1</td>\n",
       "      <td>0</td>\n",
       "      <td>0</td>\n",
       "      <td>0</td>\n",
       "      <td>0</td>\n",
       "      <td>0</td>\n",
       "      <td>...</td>\n",
       "      <td>0.0</td>\n",
       "      <td>-0.006338</td>\n",
       "      <td>-0.287919</td>\n",
       "      <td>-0.889479</td>\n",
       "      <td>0.190381</td>\n",
       "      <td>-0.782453</td>\n",
       "      <td>0.646411</td>\n",
       "      <td>-0.177696</td>\n",
       "      <td>-0.652723</td>\n",
       "      <td>-1.464429</td>\n",
       "    </tr>\n",
       "    <tr>\n",
       "      <th>215696</th>\n",
       "      <td>fffef5b7-be99-4666-ac70-2a397d2ee435</td>\n",
       "      <td>7211a8e3-cba4-4132-b939-222eed8a662c</td>\n",
       "      <td>1</td>\n",
       "      <td>0</td>\n",
       "      <td>0</td>\n",
       "      <td>0</td>\n",
       "      <td>0</td>\n",
       "      <td>0</td>\n",
       "      <td>0</td>\n",
       "      <td>0</td>\n",
       "      <td>...</td>\n",
       "      <td>0.0</td>\n",
       "      <td>-1.096381</td>\n",
       "      <td>-0.077230</td>\n",
       "      <td>0.021660</td>\n",
       "      <td>0.994695</td>\n",
       "      <td>0.335123</td>\n",
       "      <td>-0.381103</td>\n",
       "      <td>0.917318</td>\n",
       "      <td>1.688507</td>\n",
       "      <td>0.663187</td>\n",
       "    </tr>\n",
       "    <tr>\n",
       "      <th>215697</th>\n",
       "      <td>ffffca93-aa8c-4123-b8ff-7852f6df889a</td>\n",
       "      <td>616fef0c-8f09-4327-9b5c-48fcfaa52934</td>\n",
       "      <td>1</td>\n",
       "      <td>0</td>\n",
       "      <td>1</td>\n",
       "      <td>0</td>\n",
       "      <td>0</td>\n",
       "      <td>0</td>\n",
       "      <td>0</td>\n",
       "      <td>0</td>\n",
       "      <td>...</td>\n",
       "      <td>0.0</td>\n",
       "      <td>-0.879486</td>\n",
       "      <td>0.548877</td>\n",
       "      <td>0.338585</td>\n",
       "      <td>0.654750</td>\n",
       "      <td>0.247562</td>\n",
       "      <td>0.683120</td>\n",
       "      <td>-0.177696</td>\n",
       "      <td>-1.026771</td>\n",
       "      <td>-0.781415</td>\n",
       "    </tr>\n",
       "    <tr>\n",
       "      <th>215698</th>\n",
       "      <td>ffffcb2e-e48e-4d2c-a0d6-ed6bce5bfdbe</td>\n",
       "      <td>971a6682-183b-4a52-8bce-1d3429ade295</td>\n",
       "      <td>1</td>\n",
       "      <td>0</td>\n",
       "      <td>0</td>\n",
       "      <td>0</td>\n",
       "      <td>0</td>\n",
       "      <td>0</td>\n",
       "      <td>0</td>\n",
       "      <td>0</td>\n",
       "      <td>...</td>\n",
       "      <td>0.0</td>\n",
       "      <td>0.009762</td>\n",
       "      <td>1.074823</td>\n",
       "      <td>-0.369367</td>\n",
       "      <td>-0.947231</td>\n",
       "      <td>-0.250264</td>\n",
       "      <td>0.833670</td>\n",
       "      <td>-0.365571</td>\n",
       "      <td>-0.766395</td>\n",
       "      <td>-0.089616</td>\n",
       "    </tr>\n",
       "    <tr>\n",
       "      <th>215699</th>\n",
       "      <td>ffffe32e-ed17-459f-9cfd-7b9ee7972933</td>\n",
       "      <td>97281336-1e45-41d2-acb2-263ce56a590e</td>\n",
       "      <td>0</td>\n",
       "      <td>1</td>\n",
       "      <td>1</td>\n",
       "      <td>0</td>\n",
       "      <td>0</td>\n",
       "      <td>0</td>\n",
       "      <td>0</td>\n",
       "      <td>0</td>\n",
       "      <td>...</td>\n",
       "      <td>0.0</td>\n",
       "      <td>1.169669</td>\n",
       "      <td>-1.107717</td>\n",
       "      <td>1.086569</td>\n",
       "      <td>1.717127</td>\n",
       "      <td>0.121298</td>\n",
       "      <td>0.302017</td>\n",
       "      <td>0.000000</td>\n",
       "      <td>1.019534</td>\n",
       "      <td>0.995718</td>\n",
       "    </tr>\n",
       "  </tbody>\n",
       "</table>\n",
       "<p>215700 rows × 40 columns</p>\n",
       "</div>"
      ],
      "text/plain": [
       "                                     Loan ID  \\\n",
       "0       000025bb-5694-4cff-b17d-192b1a98ba44   \n",
       "1       00002c49-3a29-4bd4-8f67-c8f8fbc1048c   \n",
       "2       00002d89-27f3-409b-aa76-90834f359a65   \n",
       "3       00005222-b4d8-45a4-ad8c-186057e24233   \n",
       "4       0000757f-a121-41ed-b17b-162e76647c1f   \n",
       "...                                      ...   \n",
       "215695  fffe84cf-67a1-468d-ab7b-cf06a9c4ee14   \n",
       "215696  fffef5b7-be99-4666-ac70-2a397d2ee435   \n",
       "215697  ffffca93-aa8c-4123-b8ff-7852f6df889a   \n",
       "215698  ffffcb2e-e48e-4d2c-a0d6-ed6bce5bfdbe   \n",
       "215699  ffffe32e-ed17-459f-9cfd-7b9ee7972933   \n",
       "\n",
       "                                 Customer ID  Term_Short Term  Term_Long Term  \\\n",
       "0       5ebc8bb1-5eb9-4404-b11b-a6eebc401a19                1               0   \n",
       "1       927b388d-2e01-423f-a8dc-f7e42d668f46                1               0   \n",
       "2       defce609-c631-447d-aad6-1270615e89c4                1               0   \n",
       "3       070bcecb-aae7-4485-a26a-e0403e7bb6c5                1               0   \n",
       "4       dde79588-12f0-4811-bab0-e2b07f633fcd                1               0   \n",
       "...                                      ...              ...             ...   \n",
       "215695  460c6cf5-4d12-4e3c-a3d0-46dd67c78cce                1               0   \n",
       "215696  7211a8e3-cba4-4132-b939-222eed8a662c                1               0   \n",
       "215697  616fef0c-8f09-4327-9b5c-48fcfaa52934                1               0   \n",
       "215698  971a6682-183b-4a52-8bce-1d3429ade295                1               0   \n",
       "215699  97281336-1e45-41d2-acb2-263ce56a590e                0               1   \n",
       "\n",
       "        Years in current job_10+ years  Years in current job_4 years  \\\n",
       "0                                    1                             0   \n",
       "1                                    0                             1   \n",
       "2                                    1                             0   \n",
       "3                                    1                             0   \n",
       "4                                    0                             1   \n",
       "...                                ...                           ...   \n",
       "215695                               1                             0   \n",
       "215696                               0                             0   \n",
       "215697                               1                             0   \n",
       "215698                               0                             0   \n",
       "215699                               1                             0   \n",
       "\n",
       "        Years in current job_6 years  Years in current job_5 years  \\\n",
       "0                                  0                             0   \n",
       "1                                  0                             0   \n",
       "2                                  0                             0   \n",
       "3                                  0                             0   \n",
       "4                                  0                             0   \n",
       "...                              ...                           ...   \n",
       "215695                             0                             0   \n",
       "215696                             0                             0   \n",
       "215697                             0                             0   \n",
       "215698                             0                             0   \n",
       "215699                             0                             0   \n",
       "\n",
       "        Years in current job_No job info  Years in current job_3 years  ...  \\\n",
       "0                                      0                             0  ...   \n",
       "1                                      0                             0  ...   \n",
       "2                                      0                             0  ...   \n",
       "3                                      0                             0  ...   \n",
       "4                                      0                             0  ...   \n",
       "...                                  ...                           ...  ...   \n",
       "215695                                 0                             0  ...   \n",
       "215696                                 0                             0  ...   \n",
       "215697                                 0                             0  ...   \n",
       "215698                                 0                             0  ...   \n",
       "215699                                 0                             0  ...   \n",
       "\n",
       "        log_Tax Liens  bc Current Loan Amount  bc_Credit Score  \\\n",
       "0                 0.0               -0.049798         0.769075   \n",
       "1                 0.0               -1.195482         0.396757   \n",
       "2                 0.0                0.736729         1.140346   \n",
       "3                 0.0                0.572819         1.140346   \n",
       "4                 0.0               -0.028492         1.074823   \n",
       "...               ...                     ...              ...   \n",
       "215695            0.0               -0.006338        -0.287919   \n",
       "215696            0.0               -1.096381        -0.077230   \n",
       "215697            0.0               -0.879486         0.548877   \n",
       "215698            0.0                0.009762         1.074823   \n",
       "215699            0.0                1.169669        -1.107717   \n",
       "\n",
       "        bc_Annual Income  sqrt_Monthly Debt  log_Years of Credit History  \\\n",
       "0              -1.210995          -0.389651                    -0.678890   \n",
       "1              -0.777167           0.344385                     0.934437   \n",
       "2               0.617422           0.594709                     1.131013   \n",
       "3              -0.976309          -0.126861                     0.926204   \n",
       "4              -0.459735          -0.819269                    -0.818064   \n",
       "...                  ...                ...                          ...   \n",
       "215695         -0.889479           0.190381                    -0.782453   \n",
       "215696          0.021660           0.994695                     0.335123   \n",
       "215697          0.338585           0.654750                     0.247562   \n",
       "215698         -0.369367          -0.947231                    -0.250264   \n",
       "215699          1.086569           1.717127                     0.121298   \n",
       "\n",
       "        log_Months Since Last Delinquent  sqrt_Number of Open Accounts  \\\n",
       "0                               0.646411                      0.000000   \n",
       "1                              -0.381103                      1.052120   \n",
       "2                              -0.381103                     -1.014213   \n",
       "3                              -0.381103                     -0.177696   \n",
       "4                              -0.381103                      0.330501   \n",
       "...                                  ...                           ...   \n",
       "215695                          0.646411                     -0.177696   \n",
       "215696                         -0.381103                      0.917318   \n",
       "215697                          0.683120                     -0.177696   \n",
       "215698                          0.833670                     -0.365571   \n",
       "215699                          0.302017                      0.000000   \n",
       "\n",
       "        sqrt_Current Credit Balance  log_Maximum Open Credit  \n",
       "0                         -0.368827                -0.304344  \n",
       "1                         -0.418621                -0.135574  \n",
       "2                          0.640785                 0.239824  \n",
       "3                          0.726238                 0.659594  \n",
       "4                          0.432267                 0.497541  \n",
       "...                             ...                      ...  \n",
       "215695                    -0.652723                -1.464429  \n",
       "215696                     1.688507                 0.663187  \n",
       "215697                    -1.026771                -0.781415  \n",
       "215698                    -0.766395                -0.089616  \n",
       "215699                     1.019534                 0.995718  \n",
       "\n",
       "[215700 rows x 40 columns]"
      ]
     },
     "execution_count": 201,
     "metadata": {},
     "output_type": "execute_result"
    }
   ],
   "source": [
    "df_combined"
   ]
  },
  {
   "cell_type": "code",
   "execution_count": 202,
   "metadata": {},
   "outputs": [
    {
     "name": "stdout",
     "output_type": "stream",
     "text": [
      "<class 'pandas.core.frame.DataFrame'>\n",
      "RangeIndex: 215700 entries, 0 to 215699\n",
      "Data columns (total 40 columns):\n",
      " #   Column                            Non-Null Count   Dtype  \n",
      "---  ------                            --------------   -----  \n",
      " 0   Loan ID                           215700 non-null  object \n",
      " 1   Customer ID                       215700 non-null  object \n",
      " 2   Term_Short Term                   215700 non-null  int64  \n",
      " 3   Term_Long Term                    215700 non-null  int64  \n",
      " 4   Years in current job_10+ years    215700 non-null  int64  \n",
      " 5   Years in current job_4 years      215700 non-null  int64  \n",
      " 6   Years in current job_6 years      215700 non-null  int64  \n",
      " 7   Years in current job_5 years      215700 non-null  int64  \n",
      " 8   Years in current job_No job info  215700 non-null  int64  \n",
      " 9   Years in current job_3 years      215700 non-null  int64  \n",
      " 10  Years in current job_2 years      215700 non-null  int64  \n",
      " 11  Years in current job_< 1 year     215700 non-null  int64  \n",
      " 12  Years in current job_1 year       215700 non-null  int64  \n",
      " 13  Years in current job_7 years      215700 non-null  int64  \n",
      " 14  Years in current job_9 years      215700 non-null  int64  \n",
      " 15  Years in current job_8 years      215700 non-null  int64  \n",
      " 16  Home Ownership_Home Mortgage      215700 non-null  int64  \n",
      " 17  Home Ownership_Own                215700 non-null  int64  \n",
      " 18  Home Ownership_Rent               215700 non-null  int64  \n",
      " 19  Purpose_Debt Consolidation        215700 non-null  int64  \n",
      " 20  Purpose_Other                     215700 non-null  int64  \n",
      " 21  Purpose_Business Loan             215700 non-null  int64  \n",
      " 22  Purpose_Home Improvements         215700 non-null  int64  \n",
      " 23  Purpose_Buy House                 215700 non-null  int64  \n",
      " 24  Purpose_Buy a Car                 215700 non-null  int64  \n",
      " 25  Purpose_Medical Bills             215700 non-null  int64  \n",
      " 26  Purpose_Take a Trip               215700 non-null  int64  \n",
      " 27  Purpose_Educational Expenses      215700 non-null  int64  \n",
      " 28  Loan Status Encoded               215700 non-null  int32  \n",
      " 29  log_Bankruptcies                  215700 non-null  float64\n",
      " 30  log_Tax Liens                     215700 non-null  float64\n",
      " 31  bc Current Loan Amount            215700 non-null  float64\n",
      " 32  bc_Credit Score                   215700 non-null  float64\n",
      " 33  bc_Annual Income                  215700 non-null  float64\n",
      " 34  sqrt_Monthly Debt                 215700 non-null  float64\n",
      " 35  log_Years of Credit History       215700 non-null  float64\n",
      " 36  log_Months Since Last Delinquent  215700 non-null  float64\n",
      " 37  sqrt_Number of Open Accounts      215700 non-null  float64\n",
      " 38  sqrt_Current Credit Balance       215700 non-null  float64\n",
      " 39  log_Maximum Open Credit           215700 non-null  float64\n",
      "dtypes: float64(11), int32(1), int64(26), object(2)\n",
      "memory usage: 65.0+ MB\n"
     ]
    }
   ],
   "source": [
    "df_combined.info()"
   ]
  },
  {
   "cell_type": "markdown",
   "metadata": {},
   "source": [
    "# Training Data"
   ]
  },
  {
   "cell_type": "code",
   "execution_count": 920,
   "metadata": {},
   "outputs": [
    {
     "name": "stdout",
     "output_type": "stream",
     "text": [
      "Collecting imbalanced-learn\n",
      "  Downloading imbalanced_learn-0.12.0-py3-none-any.whl.metadata (8.2 kB)\n",
      "Requirement already satisfied: numpy>=1.17.3 in c:\\users\\tifanie\\appdata\\local\\programs\\python\\python312\\lib\\site-packages (from imbalanced-learn) (1.26.4)\n",
      "Requirement already satisfied: scipy>=1.5.0 in c:\\users\\tifanie\\appdata\\local\\programs\\python\\python312\\lib\\site-packages (from imbalanced-learn) (1.12.0)\n",
      "Requirement already satisfied: scikit-learn>=1.0.2 in c:\\users\\tifanie\\appdata\\local\\programs\\python\\python312\\lib\\site-packages (from imbalanced-learn) (1.4.1.post1)\n",
      "Requirement already satisfied: joblib>=1.1.1 in c:\\users\\tifanie\\appdata\\local\\programs\\python\\python312\\lib\\site-packages (from imbalanced-learn) (1.3.2)\n",
      "Requirement already satisfied: threadpoolctl>=2.0.0 in c:\\users\\tifanie\\appdata\\local\\programs\\python\\python312\\lib\\site-packages (from imbalanced-learn) (3.3.0)\n",
      "Downloading imbalanced_learn-0.12.0-py3-none-any.whl (257 kB)\n",
      "   ---------------------------------------- 0.0/257.7 kB ? eta -:--:--\n",
      "   - -------------------------------------- 10.2/257.7 kB ? eta -:--:--\n",
      "   ------------------- -------------------- 122.9/257.7 kB 1.8 MB/s eta 0:00:01\n",
      "   ---------------------------------------- 257.7/257.7 kB 2.6 MB/s eta 0:00:00\n",
      "Installing collected packages: imbalanced-learn\n",
      "Successfully installed imbalanced-learn-0.12.0\n"
     ]
    }
   ],
   "source": [
    "!pip install imbalanced-learn"
   ]
  },
  {
   "cell_type": "code",
   "execution_count": 204,
   "metadata": {},
   "outputs": [],
   "source": [
    "from sklearn.model_selection import train_test_split\n",
    "from sklearn.datasets import make_classification \n",
    "from imblearn.over_sampling import RandomOverSampler, SMOTE \n",
    "from imblearn.under_sampling import RandomUnderSampler"
   ]
  },
  {
   "cell_type": "code",
   "execution_count": 210,
   "metadata": {},
   "outputs": [],
   "source": [
    "X = df_combined.drop(['Loan Status Encoded', 'Loan ID', 'Customer ID'], axis = 1)\n",
    "y = df_combined[['Loan Status Encoded']] #double square brackets makes it a df\n",
    "X_train, X_test, y_train, y_test = train_test_split(X, y, stratify = y, random_state=1,test_size=0.3, shuffle=True)"
   ]
  },
  {
   "cell_type": "code",
   "execution_count": 211,
   "metadata": {},
   "outputs": [
    {
     "name": "stdout",
     "output_type": "stream",
     "text": [
      "150990\n",
      "150990\n",
      "(150990, 37)\n",
      "(150990, 1)\n"
     ]
    }
   ],
   "source": [
    "print(len(X_train))\n",
    "print(len(y_train))\n",
    "print(X_train.shape)\n",
    "print(y_train.shape)"
   ]
  },
  {
   "cell_type": "markdown",
   "metadata": {},
   "source": [
    "## Undersample"
   ]
  },
  {
   "cell_type": "code",
   "execution_count": 212,
   "metadata": {},
   "outputs": [
    {
     "name": "stdout",
     "output_type": "stream",
     "text": [
      "(55312, 37)\n",
      "(55312, 1)\n"
     ]
    }
   ],
   "source": [
    "undersample = RandomUnderSampler(random_state = 1)\n",
    "X_under, y_under = undersample.fit_resample(X_train,y_train)\n",
    "print(X_under.shape)\n",
    "print(y_under.shape)"
   ]
  },
  {
   "cell_type": "markdown",
   "metadata": {},
   "source": [
    "## Oversample"
   ]
  },
  {
   "cell_type": "code",
   "execution_count": 213,
   "metadata": {},
   "outputs": [
    {
     "name": "stdout",
     "output_type": "stream",
     "text": [
      "(246668, 37)\n",
      "(246668, 1)\n"
     ]
    }
   ],
   "source": [
    "oversample = RandomOverSampler(random_state=1)\n",
    "X_over, y_over = oversample.fit_resample(X_train,y_train)\n",
    "print(X_over.shape)\n",
    "print(y_over.shape)"
   ]
  },
  {
   "cell_type": "markdown",
   "metadata": {},
   "source": [
    "## SMOTE"
   ]
  },
  {
   "cell_type": "code",
   "execution_count": 214,
   "metadata": {},
   "outputs": [
    {
     "name": "stdout",
     "output_type": "stream",
     "text": [
      "(246668, 37)\n",
      "(246668, 1)\n"
     ]
    }
   ],
   "source": [
    "smote = SMOTE(random_state=1)\n",
    "X_smote, y_smote = smote.fit_resample(X_train, y_train)\n",
    "print(X_smote.shape)\n",
    "print(y_smote.shape)"
   ]
  }
 ],
 "metadata": {
  "kernelspec": {
   "display_name": "Python 3",
   "language": "python",
   "name": "python3"
  },
  "language_info": {
   "codemirror_mode": {
    "name": "ipython",
    "version": 3
   },
   "file_extension": ".py",
   "mimetype": "text/x-python",
   "name": "python",
   "nbconvert_exporter": "python",
   "pygments_lexer": "ipython3",
   "version": "3.12.1"
  }
 },
 "nbformat": 4,
 "nbformat_minor": 2
}
